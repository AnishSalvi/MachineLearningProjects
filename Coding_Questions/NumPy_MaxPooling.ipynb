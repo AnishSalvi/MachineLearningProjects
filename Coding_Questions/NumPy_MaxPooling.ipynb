{
  "nbformat": 4,
  "nbformat_minor": 0,
  "metadata": {
    "colab": {
      "provenance": []
    },
    "kernelspec": {
      "name": "python3",
      "display_name": "Python 3"
    },
    "language_info": {
      "name": "python"
    }
  },
  "cells": [
    {
      "cell_type": "code",
      "execution_count": 38,
      "metadata": {
        "colab": {
          "base_uri": "https://localhost:8080/"
        },
        "id": "uDDY_9Bhiq3J",
        "outputId": "1a7a1e05-d0f5-4876-914a-eaea4c3b8327"
      },
      "outputs": [
        {
          "output_type": "stream",
          "name": "stdout",
          "text": [
            "[[9. 9. 7. 9. 9. 9.]\n",
            " [9. 9. 8. 9. 9. 8.]\n",
            " [5. 8. 8. 8. 4. 4.]]\n"
          ]
        }
      ],
      "source": [
        "#import\n",
        "import numpy as np\n",
        "\n",
        "#maxpool with padding\n",
        "def maxpool_2d(input_matrix, kernel_size, stride, padding):\n",
        "  #init\n",
        "  out_row = int(((input_matrix.shape[0] - kernel_size[0] + 2 * padding[0]) / stride[0]) + 1)\n",
        "  out_col = int(((input_matrix.shape[1] - kernel_size[1] + 2 * padding[1]) / stride[1]) + 1)\n",
        "  input_matrix = np.pad(input_matrix, ((padding[0], padding[1]), (padding[0], padding[1])))\n",
        "  outputs = np.zeros((out_row, out_col))\n",
        "  #iterate\n",
        "  for i in range(outputs.shape[0]):\n",
        "    i_init = i * stride[0]\n",
        "    i_delta = i_init + kernel_size[0]\n",
        "    #iterate\n",
        "    for j in range(outputs.shape[1]):\n",
        "      j_init = j * stride[1]\n",
        "      j_delta = j_init + kernel_size[1]\n",
        "      #maxpool\n",
        "      small_matrix = input_matrix[i_init:i_delta, j_init:j_delta]\n",
        "      outputs[i, j] = small_matrix.max()\n",
        "  #return\n",
        "  return outputs\n",
        "\n",
        "#main\n",
        "input_matrix = np.random.randint(1, 10, (5, 5))\n",
        "kernel_size = (3, 2)\n",
        "stride = (2, 1)\n",
        "padding = (1, 1)\n",
        "\n",
        "#maxpool\n",
        "maxpool = maxpool_2d(input_matrix, kernel_size, stride, padding)\n",
        "\n",
        "#print\n",
        "print(maxpool)"
      ]
    },
    {
      "cell_type": "code",
      "source": [
        "#import\n",
        "import torch\n",
        "\n",
        "#main\n",
        "pooler = torch.nn.MaxPool2d(kernel_size, stride, padding=padding)\n",
        "#init\n",
        "input_tensor = torch.Tensor(np.expand_dims(input_matrix, axis = (0, 1)))\n",
        "#apply\n",
        "torch_maxpool = pooler(input_tensor)\n",
        "#print\n",
        "print(torch_maxpool)"
      ],
      "metadata": {
        "colab": {
          "base_uri": "https://localhost:8080/"
        },
        "id": "wQdkwmOplDAj",
        "outputId": "48081dd6-9b31-46ce-b1c9-08772019efa3"
      },
      "execution_count": 39,
      "outputs": [
        {
          "output_type": "stream",
          "name": "stdout",
          "text": [
            "tensor([[[[9., 9., 7., 9., 9., 9.],\n",
            "          [9., 9., 8., 9., 9., 8.],\n",
            "          [5., 8., 8., 8., 4., 4.]]]])\n"
          ]
        }
      ]
    }
  ]
}