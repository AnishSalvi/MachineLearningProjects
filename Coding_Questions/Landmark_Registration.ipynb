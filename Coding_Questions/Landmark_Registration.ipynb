{
  "cells": [
    {
      "cell_type": "markdown",
      "metadata": {
        "id": "vh8g8DUf_roQ"
      },
      "source": [
        "#### Lee Lab Interview Notebook"
      ]
    },
    {
      "cell_type": "markdown",
      "metadata": {
        "id": "YcIJhqc7_roX"
      },
      "source": [
        "In this notebook, we briefly explore several different methods of performing 2D image registration, in increasing order of difficulty"
      ]
    },
    {
      "cell_type": "markdown",
      "metadata": {
        "id": "52snxn2B_roY"
      },
      "source": [
        "##### Setup"
      ]
    },
    {
      "cell_type": "code",
      "execution_count": null,
      "metadata": {
        "id": "stpBIHVA_roZ",
        "colab": {
          "base_uri": "https://localhost:8080/"
        },
        "outputId": "c6c13240-7503-4964-c0b5-3de167f699ca"
      },
      "outputs": [
        {
          "output_type": "stream",
          "name": "stdout",
          "text": [
            "\u001b[2K     \u001b[90m━━━━━━━━━━━━━━━━━━━━━━━━━━━━━━━━━━━━━━━━\u001b[0m \u001b[32m52.7/52.7 MB\u001b[0m \u001b[31m9.9 MB/s\u001b[0m eta \u001b[36m0:00:00\u001b[0m\n",
            "\u001b[?25h"
          ]
        }
      ],
      "source": [
        "import os\n",
        "import numpy\n",
        "import numpy as np\n",
        "import scipy.ndimage\n",
        "import matplotlib.pyplot as plt\n",
        "from matplotlib.patches import ConnectionPatch\n",
        "\n",
        "# TODO: please only use NumPy and SciPy packages for the following exercises, but feel free to import any missing NumPy or SciPy subpackages here\n",
        "!pip install --quiet SimpleITK #used for image transformation // not gradient descent\n",
        "import SimpleITK as sitk"
      ]
    },
    {
      "cell_type": "code",
      "execution_count": null,
      "metadata": {
        "id": "y8_GW-P-_roc",
        "colab": {
          "base_uri": "https://localhost:8080/",
          "height": 412
        },
        "outputId": "b7f8604e-d26a-4dba-ceb3-58e0e1342c37"
      },
      "outputs": [
        {
          "output_type": "display_data",
          "data": {
            "text/plain": [
              "<Figure size 1000x500 with 2 Axes>"
            ],
            "image/png": "[encoded data removed]"
          },
          "metadata": {}
        }
      ],
      "source": [
        "## Construct two binary images\n",
        "source_img = np.array([[0,0,0,0,0,0,0],[0,1,1,0,0,0,0],[0,1,1,1,0,0,0],[0,1,0,1,1,0,0],[0,1,1,1,1,0,0],[0,0,0,0,0,0,0],[0,0,0,0,0,0,0]])\n",
        "source_img = scipy.ndimage.zoom(source_img, 5)\n",
        "target_img = scipy.ndimage.rotate(source_img, 72, reshape = False)\n",
        "\n",
        "def check_results(img1, img2, points1 = [], points2 = []):\n",
        "    fig, (ax1, ax2) = plt.subplots(1, 2, figsize = (10, 5))\n",
        "    ax1.imshow(img1); ax1.xaxis.tick_top()\n",
        "    ax2.imshow(img2); ax2.xaxis.tick_top()\n",
        "    for p1, p2 in zip(points1, points2):\n",
        "        fig.add_artist(ConnectionPatch(p1, p2, 'data', 'data', axesA=ax1, axesB=ax2, mutation_scale = 20, color = 'green', arrowstyle='-|>'));\n",
        "\n",
        "check_results(source_img, target_img)"
      ]
    },
    {
      "cell_type": "markdown",
      "metadata": {
        "id": "cWmpyC9v_roc"
      },
      "source": [
        "##### Method 1: Brute force alignment\n",
        "This brute force method should iterate through all angles and computes the mean squared error between the transformed source image and the target image. We simply pick the angle with the minimum mean-squared error."
      ]
    },
    {
      "cell_type": "code",
      "execution_count": null,
      "metadata": {
        "id": "SPcyLAda_rod",
        "colab": {
          "base_uri": "https://localhost:8080/",
          "height": 412
        },
        "outputId": "a7b33ce1-88c4-44e3-885d-aa983f1116bb"
      },
      "outputs": [
        {
          "output_type": "display_data",
          "data": {
            "text/plain": [
              "<Figure size 1000x500 with 2 Axes>"
            ],
            "image/png": "[encoded data removed]"
          },
          "metadata": {}
        }
      ],
      "source": [
        "def apply_angle(img, angle):\n",
        "    return scipy.ndimage.rotate(img, angle, reshape = False)\n",
        "\n",
        "def calc_mse(img1, img2):\n",
        "    #############################################################\n",
        "    # TODO: implement mean-squared error between the two images #\n",
        "    #############################################################\n",
        "\n",
        "    #difference between ytrue and ypred\n",
        "    diff_img = img1 - img2\n",
        "    #squared differences\n",
        "    square_img = np.square(diff_img)\n",
        "    #average of squares\n",
        "    error = np.mean(square_img)\n",
        "\n",
        "    #return\n",
        "    return error #0\n",
        "    #############################################################\n",
        "\n",
        "angles = np.linspace(0, 360, num = 200)\n",
        "mse_vals = np.zeros(angles.shape)\n",
        "for idx, angle in enumerate(angles):\n",
        "    # TODO: rotate `source_img`, compute mean-squared error, and save result\n",
        "\n",
        "    #rotate the image by angle\n",
        "    rot_image = apply_angle(source_img, angle)\n",
        "    #compute\n",
        "    mse_vals[idx] = calc_mse(target_img, rot_image)\n",
        "\n",
        "    #pass\n",
        "\n",
        "\n",
        "## for plotting mse vs. angle\n",
        "# plt.figure(figsize=(5,5))\n",
        "# plt.plot(angles, mse_vals);\n",
        "# plt.xlabel('angle');\n",
        "# plt.ylabel('mse');\n",
        "\n",
        "###################################################################\n",
        "# TODO: pick angle corresponding to the lowest mean squared error #\n",
        "###################################################################\n",
        "\n",
        "#determine the lowest mse val\n",
        "idx = np.argmin(mse_vals)\n",
        "\n",
        "#set the optimal angle\n",
        "optim_angle = angles[idx]\n",
        "###################################################################\n",
        "source_img_tx1 = apply_angle(source_img, optim_angle)\n",
        "check_results(source_img_tx1, target_img)"
      ]
    },
    {
      "cell_type": "markdown",
      "metadata": {
        "id": "P1i0oMs0_roe"
      },
      "source": [
        "##### Method 2: Least squares\n",
        "\n",
        "Although the brute force approach works, it is obviously not the optimal approach, especially if the images are more deformed/translated/scaled than this toy example. Instead, if we manually define a few pairs of points that match between the two images, we can use a least squares approach to compute a linear transformation matrix that transforms points from the source to the target image. **Make the solutions generalizable to any transformation (scaling,rotation,translation). Print out your tranformation matrix. Display an image subtraction between target and source.**"
      ]
    },
    {
      "cell_type": "code",
      "execution_count": null,
      "metadata": {
        "id": "uSnGtuaL_rog",
        "colab": {
          "base_uri": "https://localhost:8080/",
          "height": 412
        },
        "outputId": "aa088198-cfaf-461a-f0fd-62b9ba32fd96"
      },
      "outputs": [
        {
          "output_type": "display_data",
          "data": {
            "text/plain": [
              "<Figure size 1000x500 with 2 Axes>"
            ],
            "image/png": "[encoded data removed]"
          },
          "metadata": {}
        }
      ],
      "source": [
        "## Show the mapping between the 3 source points and the 3 target points\n",
        "source_points = [(12,16),(7,4),(25,20)]\n",
        "target_points = [(15,22),(1,22),(25,10)]\n",
        "check_results(source_img, target_img, points1 = source_points, points2 = target_points)"
      ]
    },
    {
      "cell_type": "markdown",
      "source": [
        "Given A is the source, b is the target, x is the transformation matrix.\n",
        "\n",
        "1. Ax = b\n",
        "2. At * Ax = At * b\n",
        "3. x = (At * A)^-1 * At * b\n",
        "\n",
        "Using the given source & target points, solve for x and then apply matrix multiplication to all points in source image."
      ],
      "metadata": {
        "id": "sPSUQqiP5spr"
      }
    },
    {
      "cell_type": "code",
      "source": [
        "#implement lease squares\n",
        "class LeastSquares:\n",
        "  #init (fitting)\n",
        "  def __init__(self, source_matrix, target_matrix):\n",
        "    #ones\n",
        "    source_matrix = np.append(source_matrix, np.expand_dims(np.ones(source_matrix.shape[0]), 1), 1)\n",
        "    #zeros\n",
        "    target_matrix = np.append(target_matrix, np.expand_dims(np.zeros(target_matrix.shape[0]), 1), 1)\n",
        "    #source transpose multiplied by self\n",
        "    temp0 = np.matmul(np.transpose(source_matrix), source_matrix)\n",
        "    #invert\n",
        "    temp1 = np.linalg.inv(temp0)\n",
        "    #multiply by source transpose\n",
        "    temp2 = np.matmul(temp1, np.transpose(source_matrix))\n",
        "    #multiply by target\n",
        "    self.trans_matrix = np.matmul(temp2, target_matrix)\n",
        "  #predict points\n",
        "  def predict_image(self, source_img):\n",
        "    #where\n",
        "    x, y = numpy.where(source_img == 1)\n",
        "    #concat\n",
        "    source_matrix2 = np.concatenate((np.expand_dims(y, axis = 1), np.expand_dims(x, axis = 1)), axis = 1)\n",
        "    #ones\n",
        "    source_matrix2 = np.append(source_matrix2, np.expand_dims(np.ones(len(y)), 1), 1)\n",
        "    #check\n",
        "    y_pred2 = np.matmul(source_matrix2, self.trans_matrix)\n",
        "    #init empty\n",
        "    transformed_img = np.zeros(source_img.shape)\n",
        "    #iterate\n",
        "    for arr in y_pred2:\n",
        "      x = int(arr[0])\n",
        "      y = int(arr[1])\n",
        "      #set (notice y and then x)\n",
        "      transformed_img[y, x] = 1\n",
        "    #return\n",
        "    return transformed_img\n",
        "\n",
        "#plotting\n",
        "def plotter(source_img, trans_img):\n",
        "  plt.figure(figsize = (20, 20))\n",
        "  plt.subplot(1, 3, 1)\n",
        "  plt.imshow(source_img)\n",
        "  plt.title('Target Transformation')\n",
        "  plt.subplot(1, 3, 2)\n",
        "  plt.imshow(trans_img)\n",
        "  plt.title('Model Transformation')\n",
        "  plt.subplot(1, 3, 3)\n",
        "  plt.imshow(source_img - trans_img)\n",
        "  plt.title('Mask Difference')\n",
        "  plt.show()\n",
        "\n",
        "#def transform points\n",
        "def transform_points(points_matrix, trans_matrix):\n",
        "  #get points\n",
        "  points_matrix = np.append(points_matrix, np.expand_dims(np.ones(points_matrix.shape[0]), 1), 1)\n",
        "  points_matrix = np.matmul(points_matrix, trans_matrix)\n",
        "  #return\n",
        "  return points_matrix[:, 0:2]\n",
        "\n",
        "#transform image\n",
        "def transform_image(image, trans_matrix):\n",
        "  #get new target image\n",
        "  x, y = numpy.where(image == 1)\n",
        "  #concat\n",
        "  source_matrix2 = np.concatenate((np.expand_dims(y, axis = 1), np.expand_dims(x, axis = 1)), axis = 1)\n",
        "  #apply transform\n",
        "  source_matrix2 = transform_points(source_matrix2, trans_matrix)\n",
        "  #init empty\n",
        "  transformed_img = np.zeros(source_img.shape)\n",
        "  #iterate\n",
        "  for arr in source_matrix2:\n",
        "    x = int(arr[0])\n",
        "    y = int(arr[1])\n",
        "    #set (notice y and then x)\n",
        "    transformed_img[y, x] = 1\n",
        "  #return\n",
        "  return transformed_img\n",
        "\n",
        "#transform\n",
        "def transform(source_matrix, source_img, trans_matrix):\n",
        "  target_matrix = transform_points(source_matrix, trans_matrix)\n",
        "  target_img = transform_image(source_img, trans_matrix)\n",
        "  #return\n",
        "  return target_matrix, target_img\n",
        "\n",
        "#convert from list to array\n",
        "source_matrix = np.array(source_points)\n",
        "target_matrix = np.array(target_points)"
      ],
      "metadata": {
        "id": "cs1o7OCBDRFC"
      },
      "execution_count": null,
      "outputs": []
    },
    {
      "cell_type": "code",
      "source": [
        "#Simple Transform\n",
        "\n",
        "#fit\n",
        "lsq_model = LeastSquares(source_matrix, target_matrix)\n",
        "#infer\n",
        "trans_img = lsq_model.predict_image(source_img)\n",
        "#plot\n",
        "plotter(target_img, trans_img)\n",
        "#print\n",
        "print(lsq_model.trans_matrix)"
      ],
      "metadata": {
        "colab": {
          "base_uri": "https://localhost:8080/",
          "height": 415
        },
        "id": "_Q_LVIxkGtS9",
        "outputId": "ee8e7dbe-932c-4e29-e956-82659355a1bb"
      },
      "execution_count": null,
      "outputs": [
        {
          "output_type": "display_data",
          "data": {
            "text/plain": [
              "<Figure size 2000x2000 with 3 Axes>"
            ],
            "image/png": "[encoded data removed]"
          },
          "metadata": {}
        },
        {
          "output_type": "stream",
          "name": "stdout",
          "text": [
            "[[ 0.47058824 -1.05882353  0.        ]\n",
            " [ 0.97058824  0.44117647  0.        ]\n",
            " [-6.17647059 27.64705882  0.        ]]\n"
          ]
        }
      ]
    },
    {
      "cell_type": "code",
      "source": [
        "#Scaling Transform\n",
        "\n",
        "#scaling transform\n",
        "scale = 0.5\n",
        "scaling_matrix = np.array([[scale, 0, 0], [0, scale, 0], [0, 0, 1]])\n",
        "#apply to input data\n",
        "scaled_target_matrix, scaled_target_img = transform(source_matrix, source_img, scaling_matrix)\n",
        "#plot\n",
        "check_results(source_img, scaled_target_img, points1 = source_matrix.tolist(), points2 = scaled_target_matrix.tolist())\n",
        "\n",
        "#fit\n",
        "lsq_model = LeastSquares(source_matrix, scaled_target_matrix)\n",
        "#infer\n",
        "trans_img = lsq_model.predict_image(source_img)\n",
        "#plot\n",
        "plotter(scaled_target_img, trans_img)\n",
        "#print\n",
        "print(lsq_model.trans_matrix)"
      ],
      "metadata": {
        "colab": {
          "base_uri": "https://localhost:8080/",
          "height": 810
        },
        "id": "RhU1IrraIce2",
        "outputId": "1415b7e8-2f6c-43e0-f060-dc38a563562e"
      },
      "execution_count": null,
      "outputs": [
        {
          "output_type": "display_data",
          "data": {
            "text/plain": [
              "<Figure size 1000x500 with 2 Axes>"
            ],
            "image/png": "[encoded data removed]"
          },
          "metadata": {}
        },
        {
          "output_type": "display_data",
          "data": {
            "text/plain": [
              "<Figure size 2000x2000 with 3 Axes>"
            ],
            "image/png": "[encoded data removed]"
          },
          "metadata": {}
        },
        {
          "output_type": "stream",
          "name": "stdout",
          "text": [
            "[[5.0000000e-01 4.4408921e-16 0.0000000e+00]\n",
            " [8.8817842e-16 5.0000000e-01 0.0000000e+00]\n",
            " [0.0000000e+00 8.8817842e-16 0.0000000e+00]]\n"
          ]
        }
      ]
    },
    {
      "cell_type": "code",
      "source": [
        "#Rotation Transform\n",
        "\n",
        "#scaling transform\n",
        "theta = -np.pi / 2\n",
        "rot_matrix = np.array([[np.cos(theta), -np.sin(theta), 0], [np.sin(theta), np.cos(theta), 0], [0, 0, 1]])\n",
        "#apply to input data\n",
        "rot_target_matrix, rot_target_img = transform(source_matrix, source_img, rot_matrix)\n",
        "#hardcoded for visual purposes // no impact on results // rectifies frame of reference\n",
        "#rot_target_matrix[:, 0] = rot_target_matrix[:, 0] + source_img.shape[0]\n",
        "mod_rot_target_matrix = np.copy(rot_target_matrix)\n",
        "mod_rot_target_matrix[:, 0] = mod_rot_target_matrix[:, 0] + source_img.shape[0]\n",
        "#plot\n",
        "check_results(source_img, rot_target_img, points1 = source_matrix.tolist(), points2 = mod_rot_target_matrix.tolist())\n",
        "\n",
        "#fit\n",
        "lsq_model = LeastSquares(source_matrix, rot_target_matrix)\n",
        "#infer\n",
        "trans_img = lsq_model.predict_image(source_img)\n",
        "#plot\n",
        "plotter(rot_target_img, trans_img)\n",
        "#print\n",
        "print(lsq_model.trans_matrix)"
      ],
      "metadata": {
        "colab": {
          "base_uri": "https://localhost:8080/",
          "height": 810
        },
        "id": "doPvpBF0ZXYZ",
        "outputId": "49502ef1-af39-481c-9a2e-5a6ab70564d7"
      },
      "execution_count": null,
      "outputs": [
        {
          "output_type": "display_data",
          "data": {
            "text/plain": [
              "<Figure size 1000x500 with 2 Axes>"
            ],
            "image/png": "[encoded data removed]"
          },
          "metadata": {}
        },
        {
          "output_type": "display_data",
          "data": {
            "text/plain": [
              "<Figure size 2000x2000 with 3 Axes>"
            ],
            "image/png": "[encoded data removed]"
          },
          "metadata": {}
        },
        {
          "output_type": "stream",
          "name": "stdout",
          "text": [
            "[[-8.88178420e-16  1.00000000e+00  0.00000000e+00]\n",
            " [-1.00000000e+00  1.99840144e-15  0.00000000e+00]\n",
            " [-1.77635684e-15  0.00000000e+00  0.00000000e+00]]\n"
          ]
        }
      ]
    },
    {
      "cell_type": "code",
      "source": [
        "#Translation Transform\n",
        "\n",
        "#translation transform\n",
        "dx = 7\n",
        "dy = 7\n",
        "translation_matrix = np.array([[1, 0, 0], [0, 1, 0], [dx, dy, 1]])\n",
        "#apply to input data\n",
        "translation_target_matrix, translation_target_img = transform(source_matrix, source_img, translation_matrix)\n",
        "#plot\n",
        "check_results(source_img, translation_target_img, points1 = source_matrix.tolist(), points2 = translation_target_matrix.tolist())\n",
        "\n",
        "#fit\n",
        "lsq_model = LeastSquares(source_matrix, translation_target_matrix)\n",
        "#infer\n",
        "trans_img = lsq_model.predict_image(source_img)\n",
        "#plot\n",
        "plotter(translation_target_img, trans_img)\n",
        "#print\n",
        "print(lsq_model.trans_matrix)"
      ],
      "metadata": {
        "colab": {
          "base_uri": "https://localhost:8080/",
          "height": 810
        },
        "id": "6_niskTEXT3R",
        "outputId": "51376e71-aeb1-4639-f2b7-a02e9596c9f1"
      },
      "execution_count": null,
      "outputs": [
        {
          "output_type": "display_data",
          "data": {
            "text/plain": [
              "<Figure size 1000x500 with 2 Axes>"
            ],
            "image/png": "[encoded data removed]"
          },
          "metadata": {}
        },
        {
          "output_type": "display_data",
          "data": {
            "text/plain": [
              "<Figure size 2000x2000 with 3 Axes>"
            ],
            "image/png": "[encoded data removed]"
          },
          "metadata": {}
        },
        {
          "output_type": "stream",
          "name": "stdout",
          "text": [
            "[[1.00000000e+00 1.11022302e-15 0.00000000e+00]\n",
            " [2.22044605e-15 1.00000000e+00 0.00000000e+00]\n",
            " [7.00000000e+00 7.00000000e+00 0.00000000e+00]]\n"
          ]
        }
      ]
    },
    {
      "cell_type": "code",
      "source": [
        "#All Transform\n",
        "\n",
        "#translation\n",
        "dx = 10\n",
        "dy = 5\n",
        "translation_matrix = np.array([[1, 0, 0], [0, 1, 0], [dx, dy, 1]])\n",
        "#rotation\n",
        "theta = -np.pi / 2\n",
        "rot_matrix = np.array([[np.cos(theta), -np.sin(theta), 0], [np.sin(theta), np.cos(theta), 0], [0, 0, 1]])\n",
        "#scaling\n",
        "scale = 0.5\n",
        "scaling_matrix = np.array([[scale, 0, 0], [0, scale, 0], [0, 0, 1]])\n",
        "#combine\n",
        "all_matrix = translation_matrix @ rot_matrix @ scaling_matrix\n",
        "#apply to input data\n",
        "all_target_matrix, all_target_img = transform(source_matrix, source_img, all_matrix)\n",
        "#hardcoded for visual purposes // no impact on results // rectifies frame of reference\n",
        "#all_target_matrix[:, 0] = all_target_matrix[:, 0] + source_img.shape[0]\n",
        "mod_all_target_matrix = np.copy(all_target_matrix)\n",
        "mod_all_target_matrix[:, 0] = mod_all_target_matrix[:, 0] + source_img.shape[0]\n",
        "#plot\n",
        "check_results(source_img, all_target_img, points1 = source_matrix.tolist(), points2 = mod_all_target_matrix.tolist())\n",
        "\n",
        "#fit\n",
        "lsq_model = LeastSquares(source_matrix, all_target_matrix)\n",
        "#infer\n",
        "trans_img = lsq_model.predict_image(source_img)\n",
        "#plot\n",
        "plotter(all_target_img, trans_img)\n",
        "#print\n",
        "print(lsq_model.trans_matrix)"
      ],
      "metadata": {
        "id": "7ey6IHlnkyj8",
        "colab": {
          "base_uri": "https://localhost:8080/",
          "height": 810
        },
        "outputId": "9d35c426-0408-468e-fa69-ccabc0bfa4ec"
      },
      "execution_count": null,
      "outputs": [
        {
          "output_type": "display_data",
          "data": {
            "text/plain": [
              "<Figure size 1000x500 with 2 Axes>"
            ],
            "image/png": "[encoded data removed]"
          },
          "metadata": {}
        },
        {
          "output_type": "display_data",
          "data": {
            "text/plain": [
              "<Figure size 2000x2000 with 3 Axes>"
            ],
            "image/png": "[encoded data removed]"
          },
          "metadata": {}
        },
        {
          "output_type": "stream",
          "name": "stdout",
          "text": [
            "[[-5.55111512e-16  5.00000000e-01  0.00000000e+00]\n",
            " [-5.00000000e-01  1.22124533e-15  0.00000000e+00]\n",
            " [-2.50000000e+00  5.00000000e+00  0.00000000e+00]]\n"
          ]
        }
      ]
    },
    {
      "cell_type": "markdown",
      "metadata": {
        "id": "8rqvN12z_roi"
      },
      "source": [
        "##### Method 3: Optimization\n",
        "\n",
        "If we don't have a list of points but still want a transformation matrix, an alternative is an optimization approach, such as gradient descent.\n",
        "We need to first define a similarity metric to minimize between the two images (for example: mean-squared error), and then we compute the gradient of this metric with respect to each of our transformation matrix elements. In each iteration of this algorithm, we apply an update to each matrix element based on the gradient value. **Make the solutions generalizable to any transformation (scaling,rotation,translation). Print out your tranformation matrix. Display an image subtraction between target and source.**\n",
        "\n",
        "You can read more about SciPy's built-in optimizers here\n",
        "https://docs.scipy.org/doc/scipy/tutorial/optimize.html"
      ]
    },
    {
      "cell_type": "code",
      "execution_count": null,
      "metadata": {
        "id": "-jZEtTTI_roj",
        "colab": {
          "base_uri": "https://localhost:8080/",
          "height": 412
        },
        "outputId": "cbfe693b-63b1-46a6-b635-291c7ae41963"
      },
      "outputs": [
        {
          "output_type": "display_data",
          "data": {
            "text/plain": [
              "<Figure size 1000x500 with 2 Axes>"
            ],
            "image/png": "[encoded data removed]"
          },
          "metadata": {}
        }
      ],
      "source": [
        "###################################################################################################################################\n",
        "# TODO: this exercise is more open-ended. Feel free to use any built-in gradient-based optimizer available through NumPy or SciPy #\n",
        "###################################################################################################################################\n",
        "trans_matrix = None\n",
        "source_img_tx3 = source_img\n",
        "###################################################################################################################################\n",
        "\n",
        "check_results(source_img_tx3, target_img) # the images should (almost) look the same"
      ]
    },
    {
      "cell_type": "code",
      "source": [
        "#translation transform my way\n",
        "#reference: https://github.com/MedicalImageAnalysisTutorials/ImageRegistrationTutorial/blob/master/m2p_image_registration_example_mse_translation_GradientDescent.ipynb\n",
        "def init_t(num):\n",
        "  return np.random.normal(size = (num, 1))\n",
        "\n",
        "def translate_img(img, t):\n",
        "  return scipy.ndimage.shift(img, t)\n",
        "\n",
        "def img_grad(img):\n",
        "    SbX2D = np.array([[1,0,-1],[2,0,-2],[1,0,-1]])\n",
        "    SbY2D = np.array([[1,2,1 ],[0,0,0 ],[-1,-2,-1]])\n",
        "    dX = scipy.ndimage.convolve(img, SbX2D, mode='constant', cval=0.0)\n",
        "    dY = scipy.ndimage.convolve(img, SbY2D, mode='constant', cval=0.0)\n",
        "    g = np.dstack((dX,dY))\n",
        "    return g\n",
        "\n",
        "def get_trans_jac():\n",
        "  return np.array([[1, 0], [0, 1]])\n",
        "\n",
        "def compute_grad(u, v):\n",
        "  #compute grad\n",
        "  dv = img_grad(v)\n",
        "  #diff term\n",
        "  n = 1\n",
        "  for i in range(len(u.shape)):\n",
        "    n =  n * u.shape[i]\n",
        "  dmse = (2/float(n))* (v-u)\n",
        "  #iterate\n",
        "  dmdt = np.array([0.0,0.0])\n",
        "  #iterate\n",
        "  for i in range(dv.shape[0]):\n",
        "    for j in range(dv.shape[1]):\n",
        "      dx = dv[i,j,0]\n",
        "      dy = dv[i,j,1]\n",
        "      dp = get_trans_jac()\n",
        "      dxy0 = np.dot([dx,dy],dp[:,0])\n",
        "      dxy1 = np.dot([dx,dy],dp[:,1])\n",
        "      dmdt[0] = dmdt[0] + dmse[i,j]*dxy0\n",
        "      dmdt[1] = dmdt[1] + dmse[i,j]*dxy1\n",
        "  #return\n",
        "  return np.expand_dims(np.array([dmdt[0], dmdt[1]]), axis = 1)\n",
        "\n",
        "def imTransform(imgA,tPars):\n",
        "  img = sitk.GetImageFromArray(imgA)\n",
        "  origin = img.GetOrigin()\n",
        "  img.SetOrigin((0,0,0))\n",
        "  transform = sitk.TranslationTransform(2)\n",
        "  transform.SetParameters(tPars)\n",
        "  outimage=sitk.Resample(img,img.GetSize(),transform,sitk.sitkLinear,[0,0,0], img.GetSpacing(), img.GetDirection())\n",
        "  outimage.SetOrigin(origin)\n",
        "  resultImage = sitk.GetArrayFromImage(outimage)\n",
        "  return resultImage\n",
        "\n",
        "def prep(t):\n",
        "  eles = []\n",
        "  for ele in t.tolist():\n",
        "    eles.append(ele[0])\n",
        "  return eles\n",
        "\n",
        "#define optimizer\n",
        "class TranslationOptimizer:\n",
        "  #init\n",
        "  def __init__(self, u, v, lr = 10, iter = 10):\n",
        "    #train\n",
        "    self.t = init_t(2)\n",
        "    #lr\n",
        "    lr = 10\n",
        "    #iter\n",
        "    iter = 15\n",
        "    #iterate\n",
        "    for i in range(iter):\n",
        "      #transform moving image\n",
        "      v_t = imTransform(v, prep(self.t))\n",
        "      #v_t = scipy.ndimage.shift(v, self.t) #with scipy the mse increases // scipy[10, 10] == simpleitk[-10, -10] reverse coordinates\n",
        "      #compute mse\n",
        "      mse = calc_mse(v_t, u)\n",
        "      #compute grad\n",
        "      grad = compute_grad(u, v_t)\n",
        "      #update\n",
        "      self.t = self.t - lr * grad\n",
        "      #print\n",
        "      print('Iteration {0} of {1}: MSE {2:.2g}'.format(i + 1, iter, mse))\n",
        "  #predict\n",
        "  def infer(self, v):\n",
        "    #transform moving image\n",
        "    return imTransform(v, prep(self.t))\n",
        "\n",
        "#train\n",
        "opt = TranslationOptimizer(target_img, source_img)\n",
        "#plot\n",
        "plotter(target_img, opt.infer(source_img))\n"
      ],
      "metadata": {
        "colab": {
          "base_uri": "https://localhost:8080/",
          "height": 623
        },
        "id": "dtnVuKUMO1ga",
        "outputId": "859d3a71-92fa-47ae-8a3b-530f2e9a04a4"
      },
      "execution_count": null,
      "outputs": [
        {
          "output_type": "stream",
          "name": "stdout",
          "text": [
            "Iteration 1 of 15: MSE 0.24\n",
            "Iteration 2 of 15: MSE 0.2\n",
            "Iteration 3 of 15: MSE 0.19\n",
            "Iteration 4 of 15: MSE 0.18\n",
            "Iteration 5 of 15: MSE 0.18\n",
            "Iteration 6 of 15: MSE 0.18\n",
            "Iteration 7 of 15: MSE 0.18\n",
            "Iteration 8 of 15: MSE 0.18\n",
            "Iteration 9 of 15: MSE 0.18\n",
            "Iteration 10 of 15: MSE 0.18\n",
            "Iteration 11 of 15: MSE 0.18\n",
            "Iteration 12 of 15: MSE 0.18\n",
            "Iteration 13 of 15: MSE 0.18\n",
            "Iteration 14 of 15: MSE 0.18\n",
            "Iteration 15 of 15: MSE 0.18\n"
          ]
        },
        {
          "output_type": "display_data",
          "data": {
            "text/plain": [
              "<Figure size 2000x2000 with 3 Axes>"
            ],
            "image/png": "[encoded data removed]"
          },
          "metadata": {}
        }
      ]
    },
    {
      "cell_type": "code",
      "source": [
        "#affine transform custom\n",
        "#refer: https://maelfabien.github.io/computervision/cv_5/#2-affine-transformation\n",
        "\n",
        "def init_ident(num):\n",
        "  t = np.zeros((num, 1))\n",
        "  t[0] = 1\n",
        "  t[4] = 1\n",
        "  return t\n",
        "\n",
        "def itk_affine_transform(img, t):\n",
        "  affine_mat = t.squeeze().tolist() + [0, 0, 1]\n",
        "  affine_mat = (0.5, 0, 5, 0, 0.5, 5, 0, 0, 1)\n",
        "  img = np.expand_dims(img, axis = 2)\n",
        "  img = sitk.GetImageFromArray(img)\n",
        "  img.SetOrigin((0,0,0))\n",
        "  transform = sitk.AffineTransform(3)\n",
        "  transform.SetMatrix(affine_mat)\n",
        "  transform.SetCenter((0, 0, 0))\n",
        "  outimage=sitk.Resample(img,img.GetSize(),transform,sitk.sitkLinear,[0,0,0], img.GetSpacing(), img.GetDirection())\n",
        "  outimage.SetOrigin((0, 0, 0))\n",
        "  resultImage = sitk.GetArrayFromImage(outimage)\n",
        "  return resultImage.squeeze(2)\n",
        "\n",
        "#affine jacobian\n",
        "def get_aff_jac(x, y):\n",
        "  return np.array([[1, 0, x, y, 0, 0],[0, 1, 0, 0, x, y]])\n",
        "  #return np.array([[1, 0, x, y, 0, 0],[0, 1, 0, 0, x, y]])\n",
        "\n",
        "#compute grad\n",
        "def compute_grad_aff(u, v):\n",
        "  #im grad\n",
        "  dv = img_grad(v)\n",
        "  #diff term\n",
        "  n = 1\n",
        "  for i in range(len(u.shape)):\n",
        "    n =  n * u.shape[i]\n",
        "  dmse = (2/float(n))* (v-u)\n",
        "\n",
        "  #init\n",
        "  dmdt = np.array([0.0, 0.0, 0.0, 0.0, 0.0, 0.0])\n",
        "  #iterate\n",
        "  for i in range(dv.shape[0]):\n",
        "    for j in range(dv.shape[1]):\n",
        "      dx = dv[i,j,0]\n",
        "      dy = dv[i,j,1]\n",
        "      dp = get_aff_jac(i, j)\n",
        "      #dxy\n",
        "      dxy0 = np.dot([dx,dy],dp[:,0])\n",
        "      dxy1 = np.dot([dx,dy],dp[:,1])\n",
        "      dxy2 = np.dot([dx,dy],dp[:,2])\n",
        "      dxy3 = np.dot([dx,dy],dp[:,3])\n",
        "      dxy4 = np.dot([dx,dy],dp[:,4])\n",
        "      dxy5 = np.dot([dx,dy],dp[:,5])\n",
        "      #sum\n",
        "      dmdt[0] = dmdt[0] + dmse[i,j]*dxy0\n",
        "      dmdt[1] = dmdt[1] + dmse[i,j]*dxy1\n",
        "      dmdt[2] = dmdt[2] + dmse[i,j]*dxy2\n",
        "      dmdt[3] = dmdt[3] + dmse[i,j]*dxy3\n",
        "      dmdt[4] = dmdt[4] + dmse[i,j]*dxy4\n",
        "      dmdt[5] = dmdt[5] + dmse[i,j]*dxy5\n",
        "  #return\n",
        "  return np.expand_dims(np.array([dmdt[0], dmdt[1], dmdt[2], dmdt[3], dmdt[4], dmdt[5]]), axis = 1)\n",
        "\n",
        "def scipy_affine_transform(img, t):\n",
        "  mat = np.concatenate([t.reshape(2, 3), np.expand_dims(np.array([0, 0, 1]), axis = 0)])\n",
        "  return scipy.ndimage.affine_transform(source_img, mat)\n",
        "\n",
        "class AffineOptimizer:\n",
        "  #init\n",
        "  def __init__(self, u, v, lr = 1, iter = 10):\n",
        "    #init\n",
        "    self.t = init_ident(6)\n",
        "    #iterate\n",
        "    for i in range(iter):\n",
        "      #transform\n",
        "      #v_t = itk_affine_transform(v, t)\n",
        "      v_t = scipy_affine_transform(v, self.t)\n",
        "      #calculate mse\n",
        "      mse = calc_mse(v_t, u)\n",
        "      #compute grad for affine\n",
        "      grad = compute_grad_aff(u, v_t)\n",
        "      #update\n",
        "      self.t = self.t - lr * grad\n",
        "      #print\n",
        "      print('Iteration {0} of {1}: MSE {2:.2g}'.format(i + 1, iter, mse))\n",
        "  #infer\n",
        "  def infer(self, v):\n",
        "    return scipy_affine_transform(v, self.t)\n",
        "\n",
        "#train\n",
        "opt = AffineOptimizer(target_img, source_img)\n",
        "#plot\n",
        "plotter(target_img, opt.infer(source_img))\n"
      ],
      "metadata": {
        "id": "mhF5Q2-NImpl",
        "colab": {
          "base_uri": "https://localhost:8080/",
          "height": 536
        },
        "outputId": "0194e6e7-3636-4727-fa09-bb06f896940e"
      },
      "execution_count": null,
      "outputs": [
        {
          "output_type": "stream",
          "name": "stdout",
          "text": [
            "Iteration 1 of 10: MSE 0.27\n",
            "Iteration 2 of 10: MSE 0.3\n",
            "Iteration 3 of 10: MSE 0.3\n",
            "Iteration 4 of 10: MSE 0.3\n",
            "Iteration 5 of 10: MSE 0.3\n",
            "Iteration 6 of 10: MSE 0.3\n",
            "Iteration 7 of 10: MSE 0.3\n",
            "Iteration 8 of 10: MSE 0.3\n",
            "Iteration 9 of 10: MSE 0.3\n",
            "Iteration 10 of 10: MSE 0.3\n"
          ]
        },
        {
          "output_type": "display_data",
          "data": {
            "text/plain": [
              "<Figure size 2000x2000 with 3 Axes>"
            ],
            "image/png": "[encoded data removed]"
          },
          "metadata": {}
        }
      ]
    },
    {
      "cell_type": "code",
      "source": [
        "stop\n",
        "#init\n",
        "t = init_ident(6)\n",
        "#lr\n",
        "lr = 1e1\n",
        "#iter\n",
        "iter = 10\n",
        "\n",
        "#set\n",
        "u = target_img\n",
        "v = source_img\n",
        "\n",
        "#iterate\n",
        "for i in range(iter):\n",
        "  #transform\n",
        "  #v_t = itk_affine_transform(v, t)\n",
        "  v_t = scipy_affine_transform(v, t)\n",
        "\n",
        "  #calculate mse\n",
        "  mse = calc_mse(v_t, u)\n",
        "  #compute grad for affine\n",
        "  grad = compute_grad_aff(u, v_t)\n",
        "  #update\n",
        "  t = t - lr * grad\n",
        "  #print\n",
        "  print('Iteration {0} of {1}: MSE {2:.2g}'.format(i + 1, iter, mse))\n"
      ],
      "metadata": {
        "colab": {
          "base_uri": "https://localhost:8080/",
          "height": 245
        },
        "id": "SGQhib1lIVJs",
        "outputId": "bc09d631-0b83-45a6-fa0d-042496b8cd62"
      },
      "execution_count": null,
      "outputs": [
        {
          "output_type": "error",
          "ename": "NameError",
          "evalue": "ignored",
          "traceback": [
            "\u001b[0;31m---------------------------------------------------------------------------\u001b[0m",
            "\u001b[0;31mNameError\u001b[0m                                 Traceback (most recent call last)",
            "\u001b[0;32m<ipython-input-20-32e29ce928e5>\u001b[0m in \u001b[0;36m<cell line: 1>\u001b[0;34m()\u001b[0m\n\u001b[0;32m----> 1\u001b[0;31m \u001b[0mstop\u001b[0m\u001b[0;34m\u001b[0m\u001b[0;34m\u001b[0m\u001b[0m\n\u001b[0m\u001b[1;32m      2\u001b[0m \u001b[0;31m#init\u001b[0m\u001b[0;34m\u001b[0m\u001b[0;34m\u001b[0m\u001b[0m\n\u001b[1;32m      3\u001b[0m \u001b[0mt\u001b[0m \u001b[0;34m=\u001b[0m \u001b[0minit_ident\u001b[0m\u001b[0;34m(\u001b[0m\u001b[0;36m6\u001b[0m\u001b[0;34m)\u001b[0m\u001b[0;34m\u001b[0m\u001b[0;34m\u001b[0m\u001b[0m\n\u001b[1;32m      4\u001b[0m \u001b[0;31m#lr\u001b[0m\u001b[0;34m\u001b[0m\u001b[0;34m\u001b[0m\u001b[0m\n\u001b[1;32m      5\u001b[0m \u001b[0mlr\u001b[0m \u001b[0;34m=\u001b[0m \u001b[0;36m1e1\u001b[0m\u001b[0;34m\u001b[0m\u001b[0;34m\u001b[0m\u001b[0m\n",
            "\u001b[0;31mNameError\u001b[0m: name 'stop' is not defined"
          ]
        }
      ]
    },
    {
      "cell_type": "code",
      "source": [
        "plt.imshow(v_t)"
      ],
      "metadata": {
        "colab": {
          "base_uri": "https://localhost:8080/",
          "height": 447
        },
        "id": "xpkmZd7grzpq",
        "outputId": "edb4ae14-cfe2-4813-8bb2-a11d8556926e"
      },
      "execution_count": null,
      "outputs": [
        {
          "output_type": "execute_result",
          "data": {
            "text/plain": [
              "<matplotlib.image.AxesImage at 0x7c2eccae6170>"
            ]
          },
          "metadata": {},
          "execution_count": 15
        },
        {
          "output_type": "display_data",
          "data": {
            "text/plain": [
              "<Figure size 640x480 with 1 Axes>"
            ],
            "image/png": "[encoded data removed]"
          },
          "metadata": {}
        }
      ]
    },
    {
      "cell_type": "code",
      "source": [],
      "metadata": {
        "id": "M-T-A4CZsFFR"
      },
      "execution_count": null,
      "outputs": []
    },
    {
      "cell_type": "code",
      "source": [
        "plt.imshow(scipy_affine_transform(v, t))"
      ],
      "metadata": {
        "colab": {
          "base_uri": "https://localhost:8080/",
          "height": 447
        },
        "id": "CPA9IiB3rnm5",
        "outputId": "766a1f17-16ab-4ef9-92ea-d2cafab01e2f"
      },
      "execution_count": null,
      "outputs": [
        {
          "output_type": "execute_result",
          "data": {
            "text/plain": [
              "<matplotlib.image.AxesImage at 0x7c2eb3845f60>"
            ]
          },
          "metadata": {},
          "execution_count": 16
        },
        {
          "output_type": "display_data",
          "data": {
            "text/plain": [
              "<Figure size 640x480 with 1 Axes>"
            ],
            "image/png": "[encoded data removed]"
          },
          "metadata": {}
        }
      ]
    },
    {
      "cell_type": "code",
      "source": [],
      "metadata": {
        "id": "adTfTWfkq6dc"
      },
      "execution_count": null,
      "outputs": []
    },
    {
      "cell_type": "code",
      "source": [
        "mat = np.array([[5, 0, -5], [0, 5, -5], [0, 0, 1]])"
      ],
      "metadata": {
        "id": "Oka7DJymq_5Q"
      },
      "execution_count": null,
      "outputs": []
    },
    {
      "cell_type": "code",
      "source": [
        "plt.imshow(itk_affine_transform(v, t))"
      ],
      "metadata": {
        "colab": {
          "base_uri": "https://localhost:8080/",
          "height": 447
        },
        "id": "5-a6Q7EhXlts",
        "outputId": "d1af5919-6765-4e29-ea8a-f80a38a9aab3"
      },
      "execution_count": null,
      "outputs": [
        {
          "output_type": "execute_result",
          "data": {
            "text/plain": [
              "<matplotlib.image.AxesImage at 0x7c2eb35a20b0>"
            ]
          },
          "metadata": {},
          "execution_count": 18
        },
        {
          "output_type": "display_data",
          "data": {
            "text/plain": [
              "<Figure size 640x480 with 1 Axes>"
            ],
            "image/png": "[encoded data removed]"
          },
          "metadata": {}
        }
      ]
    },
    {
      "cell_type": "code",
      "source": [
        "out = np.expand_dims(dv[15, 15], axis = 0) @ dp"
      ],
      "metadata": {
        "colab": {
          "base_uri": "https://localhost:8080/",
          "height": 175
        },
        "id": "1Uy-nE7-X3lV",
        "outputId": "5155ed90-9c98-4f1c-f65c-7668db5fb597"
      },
      "execution_count": null,
      "outputs": [
        {
          "output_type": "error",
          "ename": "NameError",
          "evalue": "ignored",
          "traceback": [
            "\u001b[0;31m---------------------------------------------------------------------------\u001b[0m",
            "\u001b[0;31mNameError\u001b[0m                                 Traceback (most recent call last)",
            "\u001b[0;32m<ipython-input-19-7e8290ab6a56>\u001b[0m in \u001b[0;36m<cell line: 1>\u001b[0;34m()\u001b[0m\n\u001b[0;32m----> 1\u001b[0;31m \u001b[0mout\u001b[0m \u001b[0;34m=\u001b[0m \u001b[0mnp\u001b[0m\u001b[0;34m.\u001b[0m\u001b[0mexpand_dims\u001b[0m\u001b[0;34m(\u001b[0m\u001b[0mdv\u001b[0m\u001b[0;34m[\u001b[0m\u001b[0;36m15\u001b[0m\u001b[0;34m,\u001b[0m \u001b[0;36m15\u001b[0m\u001b[0;34m]\u001b[0m\u001b[0;34m,\u001b[0m \u001b[0maxis\u001b[0m \u001b[0;34m=\u001b[0m \u001b[0;36m0\u001b[0m\u001b[0;34m)\u001b[0m \u001b[0;34m@\u001b[0m \u001b[0mdp\u001b[0m\u001b[0;34m\u001b[0m\u001b[0;34m\u001b[0m\u001b[0m\n\u001b[0m",
            "\u001b[0;31mNameError\u001b[0m: name 'dv' is not defined"
          ]
        }
      ]
    },
    {
      "cell_type": "code",
      "source": [
        "out"
      ],
      "metadata": {
        "id": "4xFSpWRaYirg"
      },
      "execution_count": null,
      "outputs": []
    },
    {
      "cell_type": "code",
      "source": [
        "dx = dv[15,15,0]\n",
        "dy = dv[15,15,1]\n",
        "dp = get_aff_jac(i, j)\n",
        "\n",
        "dxy0 = np.dot([dx,dy],dp[:,0])\n",
        "dxy1 = np.dot([dx,dy],dp[:,1])\n",
        "dxy2 = np.dot([dx,dy],dp[:,2])\n",
        "dxy3 = np.dot([dx,dy],dp[:,3])\n",
        "dxy4 = np.dot([dx,dy],dp[:,4])\n",
        "dxy5 = np.dot([dx,dy],dp[:,5])\n"
      ],
      "metadata": {
        "id": "yWSx2AR_Ykz2"
      },
      "execution_count": null,
      "outputs": []
    },
    {
      "cell_type": "code",
      "source": [
        "t.shape"
      ],
      "metadata": {
        "id": "Ygturm2pYezN"
      },
      "execution_count": null,
      "outputs": []
    },
    {
      "cell_type": "code",
      "source": [
        "dp.shape"
      ],
      "metadata": {
        "id": "A84JMAW2b0MK"
      },
      "execution_count": null,
      "outputs": []
    },
    {
      "cell_type": "code",
      "source": [
        "def compute_masked_grad(u, v):\n",
        "  dv = img_grad(v)\n",
        "  dmdt = np.array([0.0, 0.0, 0.0, 0.0, 0.0, 0.0])\n",
        "\n",
        "  for i in range(dv.shape[0]):\n",
        "    for j in range(dv.shape[1]):\n",
        "      if u[i, j] == 1:\n",
        "        diff = v[i, j] - u[i, j]\n",
        "        dx = dv[i,j,0]\n",
        "        dy = dv[i,j,1]\n",
        "        #dxy\n",
        "        dxy0 = np.dot([dx,dy],dp[:,0])\n",
        "        dxy1 = np.dot([dx,dy],dp[:,1])\n",
        "        dxy2 = np.dot([dx,dy],dp[:,2])\n",
        "        dxy3 = np.dot([dx,dy],dp[:,3])\n",
        "        dxy4 = np.dot([dx,dy],dp[:,4])\n",
        "        dxy5 = np.dot([dx,dy],dp[:,5])\n",
        "        #sum\n",
        "        dmdt[0] = dmdt[0] + diff*dxy0\n",
        "        dmdt[1] = dmdt[1] + diff*dxy1\n",
        "        dmdt[2] = dmdt[2] + diff*dxy2\n",
        "        dmdt[3] = dmdt[3] + diff*dxy3\n",
        "        dmdt[4] = dmdt[4] + diff*dxy4\n",
        "        dmdt[5] = dmdt[5] + diff*dxy5\n",
        "\n",
        "  _, counts = np.unique(u, return_counts = True)\n",
        "  dmdt = dmdt * 2 / counts[1]\n",
        "  return np.expand_dims(np.array([dmdt[0], dmdt[1], dmdt[2], dmdt[3], dmdt[4], dmdt[5]]), axis = 1)"
      ],
      "metadata": {
        "id": "uQ4JBqBPb3Ai"
      },
      "execution_count": null,
      "outputs": []
    },
    {
      "cell_type": "code",
      "source": [],
      "metadata": {
        "id": "j9t2Ay4t3T86"
      },
      "execution_count": null,
      "outputs": []
    },
    {
      "cell_type": "code",
      "source": [],
      "metadata": {
        "id": "mNhyPKQ93eNQ"
      },
      "execution_count": null,
      "outputs": []
    },
    {
      "cell_type": "code",
      "source": [],
      "metadata": {
        "id": "5Jv7lmrjzWhy"
      },
      "execution_count": null,
      "outputs": []
    },
    {
      "cell_type": "code",
      "source": [
        "\n",
        "#im grad\n",
        "dv = img_grad(v)\n",
        "#diff term\n",
        "n = 1\n",
        "for i in range(len(u.shape)):\n",
        "  n =  n * u.shape[i]\n",
        "dmse = (2/float(n))* (v-u)\n",
        "\n",
        "#init\n",
        "dmdt = np.array([0.0, 0.0, 0.0, 0.0, 0.0, 0.0])\n",
        "#iterate\n",
        "for i in range(dv.shape[0]):\n",
        "  for j in range(dv.shape[1]):\n",
        "    dx = dv[i,j,0]\n",
        "    dy = dv[i,j,1]\n",
        "    dp = get_aff_jac(i, j)\n",
        "    #dxy\n",
        "    dxy0 = np.dot([dx,dy],dp[:,0])\n",
        "    dxy1 = np.dot([dx,dy],dp[:,1])\n",
        "    dxy2 = np.dot([dx,dy],dp[:,2])\n",
        "    dxy3 = np.dot([dx,dy],dp[:,3])\n",
        "    dxy4 = np.dot([dx,dy],dp[:,4])\n",
        "    dxy5 = np.dot([dx,dy],dp[:,5])\n",
        "    #sum\n",
        "    dmdt[0] = dmdt[0] + dmse[i,j]*dxy0\n",
        "    dmdt[1] = dmdt[1] + dmse[i,j]*dxy1\n",
        "    dmdt[2] = dmdt[2] + dmse[i,j]*dxy2\n",
        "    dmdt[3] = dmdt[3] + dmse[i,j]*dxy3\n",
        "    dmdt[4] = dmdt[4] + dmse[i,j]*dxy4\n",
        "    dmdt[5] = dmdt[5] + dmse[i,j]*dxy5\n",
        "#return\n",
        "#return np.expand_dims(np.array([dmdt[0], dmdt[1], dmdt[2], dmdt[3], dmdt[4], dmdt[5]]), axis = 1)"
      ],
      "metadata": {
        "id": "H4yCAdF0EBWg"
      },
      "execution_count": null,
      "outputs": []
    },
    {
      "cell_type": "code",
      "source": [
        "def get_img_points(source_img):\n",
        "  k = 0\n",
        "  h, w = source_img.shape\n",
        "  points = np.zeros((int(h * w), 3))\n",
        "  for i in range(source_img.shape[0]):\n",
        "    for j in range(source_img.shape[1]):\n",
        "      val = source_img[i, j]\n",
        "      points[k, :] = np.array([i, j, val])\n",
        "      k = k + 1\n",
        "  return points\n",
        "\n",
        "def get_b_points(b, source_matrix):\n",
        "  #init\n",
        "  target_matrix = np.zeros(source_matrix.shape)\n",
        "  #z\n",
        "  z = 0\n",
        "  #iterate\n",
        "  for i in range(0, b.shape[0], 2):\n",
        "    #subset\n",
        "    f = b[i:i+2]\n",
        "    #insert\n",
        "    target_matrix[z, 0:2] = f.T.squeeze(0)\n",
        "    #add\n",
        "    z = z + 1\n",
        "  #insert the actual image volumes\n",
        "  target_matrix[:, 2] = source_matrix[:, 2]\n",
        "  #return\n",
        "  return target_matrix"
      ],
      "metadata": {
        "id": "m1VhJ47U3NSe"
      },
      "execution_count": null,
      "outputs": []
    },
    {
      "cell_type": "code",
      "source": [
        "#new mwethod\n",
        "t = init_t(6)\n",
        "#get source points\n",
        "source_points = get_img_points(source_img)\n",
        "#set source matrix\n",
        "A = get_A(source_points)\n",
        "#compute\n",
        "b = A @ t\n",
        "#get b points\n",
        "pred_points = get_b_points(b, source_points)\n",
        "#get image this way?\n",
        "v_t = itk_affine_transform(source_img, t)\n",
        "#get grad\n",
        "grad = compute_grad(t, v_t, source_points, target_img, pred_points)\n",
        "\n",
        "\n"
      ],
      "metadata": {
        "id": "OVK5Hl4S2UWV"
      },
      "execution_count": null,
      "outputs": []
    },
    {
      "cell_type": "code",
      "source": [
        "grad"
      ],
      "metadata": {
        "id": "tAX0Tnox5aad"
      },
      "execution_count": null,
      "outputs": []
    },
    {
      "cell_type": "code",
      "source": [
        "A.shape"
      ],
      "metadata": {
        "id": "Q0wHCwCq4Vkx"
      },
      "execution_count": null,
      "outputs": []
    },
    {
      "cell_type": "code",
      "source": [
        "pred_points"
      ],
      "metadata": {
        "id": "E4C18Pnq3pAJ"
      },
      "execution_count": null,
      "outputs": []
    },
    {
      "cell_type": "code",
      "source": [
        "#new method with jacobian\n",
        "def init_t(num):\n",
        "  return np.random.random((num, 1))\n",
        "\n",
        "def get_points(source_img):\n",
        "  k = 0\n",
        "  h, w = source_img.shape\n",
        "  points = np.zeros((int(h * w), 3))\n",
        "  for i in range(source_img.shape[0]):\n",
        "    for j in range(source_img.shape[1]):\n",
        "      val = source_img[i, j]\n",
        "      points[k, :] = np.array([i, j, val])\n",
        "      k = k + 1\n",
        "  return points\n",
        "\n",
        "def interleave(a, b):\n",
        "  c = np.empty((a.shape[0] + b.shape[0], a.shape[1]), dtype=a.dtype)\n",
        "  c[0::2] = a\n",
        "  c[1::2] = b\n",
        "  return c\n",
        "\n",
        "def get_A(source_matrix):\n",
        "  #prepare source points\n",
        "  source_matrix2 = np.concatenate([source_matrix[:, 0:2], np.ones((source_matrix.shape[0], 1))], axis = 1)\n",
        "  #prepare zeros\n",
        "  zero_matrix = np.zeros(source_matrix2.shape)\n",
        "  #interleave1\n",
        "  in1 = interleave(source_matrix2, zero_matrix)\n",
        "  #interleave 2\n",
        "  in2 = interleave(zero_matrix, source_matrix2)\n",
        "  #concat\n",
        "  return np.concatenate([in1, in2], axis = 1)\n",
        "\n",
        "def get_target_points(b, source_matrix):\n",
        "  #init\n",
        "  target_matrix = np.zeros(source_matrix.shape)\n",
        "  #z\n",
        "  z = 0\n",
        "  #iterate\n",
        "  for i in range(0, b.shape[0], 2):\n",
        "    #subset\n",
        "    f = b[i:i+2]\n",
        "    #insert\n",
        "    target_matrix[z, 0:2] = f.T.squeeze(0)\n",
        "    #add\n",
        "    z = z + 1\n",
        "  #insert the actual image volumes\n",
        "  target_matrix[:, 2] = source_matrix[:, 2]\n",
        "  #return\n",
        "  return target_matrix\n",
        "\n",
        "\n",
        "def get_target_img(source_img, target_matrix):\n",
        "  #convert the target matrix to image\n",
        "  target_img = np.zeros(source_img.shape)\n",
        "  #iterate\n",
        "  for target in target_matrix:\n",
        "    x = int(target[0])\n",
        "    y = int(target[1])\n",
        "    #bounds\n",
        "    if x > 34:\n",
        "      x = 34\n",
        "    if x < 0:\n",
        "      x = 0\n",
        "    if y > 34:\n",
        "      y = 34\n",
        "    if y < 0:\n",
        "      y = 34\n",
        "    #set (notice x and then y)\n",
        "    target_img[x, y] = target[2]\n",
        "  #return\n",
        "  return target_img\n",
        "\n",
        "def img_grad(img):\n",
        "    SbX2D = np.array([[1,0,-1],[2,0,-2],[1,0,-1]])\n",
        "    SbY2D = np.array([[1,2,1 ],[0,0,0 ],[-1,-2,-1]])\n",
        "    dX = scipy.ndimage.convolve(img, SbX2D, mode='constant', cval=0.0)\n",
        "    dY = scipy.ndimage.convolve(img, SbY2D, mode='constant', cval=0.0)\n",
        "    g = np.dstack((dX,dY))\n",
        "    return g\n",
        "\n",
        "def get_jac(x, y):\n",
        "  return np.array([[1, 0, x, y, 0, 0], [0, 1, 0, 0, x, y]])\n",
        "\n",
        "\n",
        "def compute_grad(t, pred_img, source_matrix, target_img, pred_points):\n",
        "  #init\n",
        "  all_grad = np.zeros(t.shape)\n",
        "  #pred grad\n",
        "  pred_grad = img_grad(pred_img)\n",
        "  #iterate\n",
        "  for point, pred_point in zip(source_matrix, pred_points):\n",
        "    #target point\n",
        "    target_val = target_img[int(point[0]), int(point[1])]\n",
        "    #pred point\n",
        "    pred_val = pred_img[int(point[0]), int(point[1])]\n",
        "    #subtract\n",
        "    s0 = pred_val - target_val\n",
        "    #get grad\n",
        "    s1 = pred_grad[int(point[0]), int(point[1])]\n",
        "    #get jac\n",
        "    s2 = get_jac(int(pred_point[0]), int(pred_point[1]))\n",
        "    #compute grad\n",
        "    grad = s0 * (np.expand_dims(s1, axis = 0) @ s2).T\n",
        "    #add\n",
        "    all_grad = all_grad + grad\n",
        "  #multiply by 2 and divide\n",
        "  return 2 * all_grad / source_matrix.shape[0]\n",
        "\n",
        "def convert(n):\n",
        "  v = np.concatenate([n.reshape(2, 3), np.zeros((1, 3))], axis = 0)\n",
        "  v[2, 2] = 1\n",
        "  return v\n",
        "\n",
        "def alternate_compute(t, source_matrix, source_img):\n",
        "  t0 = convert(t)\n",
        "  f = t0 @ source_matrix.T\n",
        "  pred_img = get_target_img(source_img, f.T)\n",
        "  return pred_img\n",
        "\n",
        "def get_jac2(x, y):\n",
        "  return np.array([[0, 0, 0, x, y, 1], [x, y, 1, 0, 0, 0]])"
      ],
      "metadata": {
        "id": "FfEJ3rst2Sel"
      },
      "execution_count": null,
      "outputs": []
    },
    {
      "cell_type": "code",
      "source": [
        "#other format of getting\n",
        "def transform_img_scipy(img, t):\n",
        "  temp = np.concatenate([t.reshape(2, 3), np.zeros((1, 3))])\n",
        "  temp[2, 2] = 1\n",
        "  return scipy.ndimage.affine_transform(img, temp)\n",
        "\n"
      ],
      "metadata": {
        "id": "7apPwSkTx9zN"
      },
      "execution_count": null,
      "outputs": []
    },
    {
      "cell_type": "code",
      "source": [
        "#init\n",
        "t = init_t(6)\n",
        "#lr\n",
        "lr = 1\n",
        "#iter\n",
        "iter = 100\n",
        "\n",
        "#set\n",
        "u = target_img\n",
        "v = source_img\n",
        "\n",
        "#iterate\n",
        "for i in range(iter):\n",
        "  #transform\n",
        "  v_t = transform_img_scipy(v, t)\n",
        "  #calculate mse\n",
        "  mse = calc_mse(v_t, u)\n",
        "  #compute grad for affine\n",
        "  grad = compute_grad_aff(u, v_t)\n",
        "  #update\n",
        "  t = t - lr * grad"
      ],
      "metadata": {
        "id": "9Bqkzi_Tx_85"
      },
      "execution_count": null,
      "outputs": []
    },
    {
      "cell_type": "code",
      "source": [
        "scipy.ndimage.geometric_transform(input, affine_mat)"
      ],
      "metadata": {
        "id": "pdUNK3JAyGUI"
      },
      "execution_count": null,
      "outputs": []
    },
    {
      "cell_type": "code",
      "source": [
        "input = np.array([[2, 3, 5, 6],[2, 3, 5, 6],[1, 1, 1, 1]])"
      ],
      "metadata": {
        "id": "uUUkBx3kzL3u"
      },
      "execution_count": null,
      "outputs": []
    },
    {
      "cell_type": "code",
      "source": [
        "input"
      ],
      "metadata": {
        "id": "Uje88K7-yJhE"
      },
      "execution_count": null,
      "outputs": []
    },
    {
      "cell_type": "code",
      "source": [
        "affine_mat @ input"
      ],
      "metadata": {
        "id": "65Pn8KY704US"
      },
      "execution_count": null,
      "outputs": []
    },
    {
      "cell_type": "code",
      "source": [],
      "metadata": {
        "id": "t4c7_E4f04V-"
      },
      "execution_count": null,
      "outputs": []
    },
    {
      "cell_type": "code",
      "source": [
        "temp"
      ],
      "metadata": {
        "id": "xZoWcmdIy7za"
      },
      "execution_count": null,
      "outputs": []
    },
    {
      "cell_type": "code",
      "source": [
        "affine_mat"
      ],
      "metadata": {
        "id": "rsg1wUDgzbmg"
      },
      "execution_count": null,
      "outputs": []
    },
    {
      "cell_type": "code",
      "source": [
        "temp = np.concatenate([t.reshape(2, 3), np.zeros((1, 3))])\n",
        "temp[2, 2] = 1"
      ],
      "metadata": {
        "id": "XzAbK_5FzDbe"
      },
      "execution_count": null,
      "outputs": []
    },
    {
      "cell_type": "code",
      "source": [
        "temp.shape"
      ],
      "metadata": {
        "id": "kGl2ua4ezFJi"
      },
      "execution_count": null,
      "outputs": []
    },
    {
      "cell_type": "code",
      "source": [
        "#is the affine any different? yes\n",
        "affine_mat = np.array([[0.5, -0.5, 0.5], [0.5, 0.5, 0.6], [0, 0, 1]])\n",
        "#scipy\n",
        "plt.imshow(scipy.ndimage.affine_transform(source_img, temp))"
      ],
      "metadata": {
        "id": "8-o-kqNVx4Cs"
      },
      "execution_count": null,
      "outputs": []
    },
    {
      "cell_type": "code",
      "source": [
        "def itk_affine_transform(img, t):\n",
        "  affine_mat = t.squeeze().tolist() + [0, 0, 1]\n",
        "  #affine_mat = (0.5, -0.5, 0.5, 0.5, 0.5, 0.6, 0, 0, 1)\n",
        "  img = np.expand_dims(img, axis = 2)\n",
        "  img = sitk.GetImageFromArray(img)\n",
        "  img.SetOrigin((0,0,0))\n",
        "  transform = sitk.AffineTransform(3)\n",
        "  transform.SetMatrix(affine_mat)\n",
        "  transform.SetCenter((0, 0, 0))\n",
        "  outimage=sitk.Resample(img,img.GetSize(),transform,sitk.sitkLinear,[0,0,0], img.GetSpacing(), img.GetDirection())\n",
        "  outimage.SetOrigin((0, 0, 0))\n",
        "  resultImage = sitk.GetArrayFromImage(outimage)\n",
        "  return resultImage.squeeze(2)\n",
        "\n",
        "def get_aff_jac(x, y):\n",
        "  return np.array([[1, 0, x, y, 0, 0],[0, 1, 0, 0, x, y]])"
      ],
      "metadata": {
        "id": "VHU-8SlSjnRX"
      },
      "execution_count": null,
      "outputs": []
    },
    {
      "cell_type": "code",
      "source": [],
      "metadata": {
        "id": "N74yO_z4_601"
      },
      "execution_count": null,
      "outputs": []
    },
    {
      "cell_type": "code",
      "source": [
        "#init\n",
        "t = init_t(6)\n",
        "#t = np.array([[0.05, -0.5, 0, -0.5, 0.01, 0]]).T\n",
        "#lr\n",
        "lr = 10\n",
        "#iter\n",
        "iter = 0\n",
        "\n",
        "#set\n",
        "u = target_img\n",
        "v = source_img\n",
        "\n",
        "#iterate\n",
        "for i in range(iter):\n",
        "  #transform\n",
        "  v_t = itk_affine_transform(v, t)\n",
        "  #calculate mse\n",
        "  mse = calc_mse(v_t, u)\n",
        "  #compute grad for affine\n",
        "  grad = compute_grad_aff(u, v_t)\n",
        "  #update\n",
        "  t = t - lr * grad"
      ],
      "metadata": {
        "id": "3nhP8NP0nZsg"
      },
      "execution_count": null,
      "outputs": []
    },
    {
      "cell_type": "code",
      "source": [
        "grad[0]"
      ],
      "metadata": {
        "id": "YKPt_dtz_PO8"
      },
      "execution_count": null,
      "outputs": []
    },
    {
      "cell_type": "code",
      "source": [
        "#compute grad\n",
        "t = init_t(6)\n",
        "#set\n",
        "u = target_img\n",
        "v = source_img\n",
        "\n",
        "v_t = itk_affine_transform(v, t)\n",
        "\n",
        "v = v_t\n",
        "#im grad\n",
        "dv = img_grad(v)\n",
        "#diff term\n",
        "n = 1\n",
        "for i in range(len(u.shape)):\n",
        "  n =  n * u.shape[i]\n",
        "dmse = (2/float(n))* (v-u)\n",
        "\n",
        "#init\n",
        "dmdt = np.array([0.0, 0.0, 0.0, 0.0, 0.0, 0.0])\n",
        "#iterate\n",
        "for i in range(dv.shape[0]):\n",
        "  for j in range(dv.shape[1]):\n",
        "    dx = dv[i,j,0]\n",
        "    dy = dv[i,j,1]\n",
        "    dp = get_aff_jac(dx, dy)\n",
        "    #dxy\n",
        "    dxy0 = np.dot([dx,dy],dp[:,0])\n",
        "    dxy1 = np.dot([dx,dy],dp[:,1])\n",
        "    dxy2 = np.dot([dx,dy],dp[:,2])\n",
        "    dxy3 = np.dot([dx,dy],dp[:,3])\n",
        "    dxy4 = np.dot([dx,dy],dp[:,4])\n",
        "    dxy5 = np.dot([dx,dy],dp[:,5])\n",
        "    #sum\n",
        "    dmdt[0] = dmdt[0] + dmse[i,j]*dxy0\n",
        "    dmdt[1] = dmdt[1] + dmse[i,j]*dxy1\n",
        "    dmdt[2] = dmdt[2] + dmse[i,j]*dxy2\n",
        "    dmdt[3] = dmdt[3] + dmse[i,j]*dxy3\n",
        "    dmdt[4] = dmdt[4] + dmse[i,j]*dxy4\n",
        "    dmdt[5] = dmdt[5] + dmse[i,j]*dxy5\n",
        "\n",
        "np.expand_dims(np.array([dmdt[0], dmdt[1], dmdt[2], dmdt[3], dmdt[4], dmdt[5]]), axis = 1)"
      ],
      "metadata": {
        "id": "s3yMJSRM9mMX"
      },
      "execution_count": null,
      "outputs": []
    },
    {
      "cell_type": "code",
      "source": [
        "#compute grad\n",
        "def compute_grad_aff(u, v):\n",
        "  #im grad\n",
        "  dv = img_grad(v)\n",
        "  #diff term\n",
        "  n = 1\n",
        "  for i in range(len(u.shape)):\n",
        "    n =  n * u.shape[i]\n",
        "  dmse = (2/float(n))* (v-u)\n",
        "\n",
        "  #init\n",
        "  dmdt = np.array([0.0, 0.0, 0.0, 0.0, 0.0, 0.0])\n",
        "  #iterate\n",
        "  for i in range(dv.shape[0]):\n",
        "    for j in range(dv.shape[1]):\n",
        "      dx = dv[i,j,0]\n",
        "      dy = dv[i,j,1]\n",
        "      dp = get_aff_jac(dx, dy)\n",
        "      #dxy\n",
        "      dxy0 = np.dot([dx,dy],dp[:,0])\n",
        "      dxy1 = np.dot([dx,dy],dp[:,1])\n",
        "      dxy2 = np.dot([dx,dy],dp[:,2])\n",
        "      dxy3 = np.dot([dx,dy],dp[:,3])\n",
        "      dxy4 = np.dot([dx,dy],dp[:,4])\n",
        "      dxy5 = np.dot([dx,dy],dp[:,5])\n",
        "      #sum\n",
        "      dmdt[0] = dmdt[0] + dmse[i,j]*dxy0\n",
        "      dmdt[1] = dmdt[1] + dmse[i,j]*dxy1\n",
        "      dmdt[2] = dmdt[2] + dmse[i,j]*dxy2\n",
        "      dmdt[3] = dmdt[3] + dmse[i,j]*dxy3\n",
        "      dmdt[4] = dmdt[4] + dmse[i,j]*dxy4\n",
        "      dmdt[5] = dmdt[5] + dmse[i,j]*dxy5\n",
        "  #return\n",
        "  return np.expand_dims(np.array([dmdt[0], dmdt[1], dmdt[2], dmdt[3], dmdt[4], dmdt[5]]), axis = 1)"
      ],
      "metadata": {
        "id": "x0TFyNaAoNKI"
      },
      "execution_count": null,
      "outputs": []
    },
    {
      "cell_type": "code",
      "source": [
        "#im grad\n",
        "dv = img_grad(v_t)\n",
        "#diff term\n",
        "n = 1\n",
        "for i in range(len(u.shape)):\n",
        "  n =  n * u.shape[i]\n",
        "dmse = (2/float(n))* (v_t-u)"
      ],
      "metadata": {
        "id": "P7l2eCdBtG2n"
      },
      "execution_count": null,
      "outputs": []
    },
    {
      "cell_type": "code",
      "source": [
        "#t = np.array([[0.8, -0.5, 0.5, 0.1, 0.5, 0.8]]).T\n",
        "t = np.array([[0.05, -0.5, 0, -0.5, 0.01, 0]]).T\n",
        "\n",
        "v_t = itk_affine_transform(v, t)\n",
        "\n",
        "\n",
        "plt.imshow(v_t)"
      ],
      "metadata": {
        "id": "dAkL4SZqwDkE"
      },
      "execution_count": null,
      "outputs": []
    },
    {
      "cell_type": "code",
      "source": [
        "dmdt"
      ],
      "metadata": {
        "id": "qiSap1JkwMYg"
      },
      "execution_count": null,
      "outputs": []
    },
    {
      "cell_type": "code",
      "source": [
        "dmdt[0]"
      ],
      "metadata": {
        "id": "Y5MSbO5Re2ID"
      },
      "execution_count": null,
      "outputs": []
    },
    {
      "cell_type": "code",
      "source": [
        "#is the affine any different? yes\n",
        "#affine_mat = np.array([[0.5, -0.5, 0.5], [0.5, 0.5, 0.6], [0, 0, 1]])\n",
        "#scipy\n",
        "#plt.imshow(scipy.ndimage.affine_transform(source_img, affine_mat))"
      ],
      "metadata": {
        "id": "zGeYOWQxe8L3"
      },
      "execution_count": null,
      "outputs": []
    },
    {
      "cell_type": "code",
      "source": [
        "plt.imshow(itk_affine_transform(source_img, t))"
      ],
      "metadata": {
        "id": "EimiKngdhUNL"
      },
      "execution_count": null,
      "outputs": []
    },
    {
      "cell_type": "code",
      "source": [
        "outimage"
      ],
      "metadata": {
        "id": "YIDe3JCyi8LG"
      },
      "execution_count": null,
      "outputs": []
    },
    {
      "cell_type": "code",
      "source": [
        "rotation_center = (100, 100, 100)\n",
        "axis = (0,0,1)\n",
        "angle = np.pi/2.0\n",
        "translation = (1,2,3)\n",
        "scale_factor = 2.0\n",
        "similarity = sitk.Similarity3DTransform(scale_factor, axis, angle, translation, rotation_center)"
      ],
      "metadata": {
        "id": "9FmaxgFNgy_x"
      },
      "execution_count": null,
      "outputs": []
    },
    {
      "cell_type": "code",
      "source": [
        "similarity.GetMatrix()"
      ],
      "metadata": {
        "id": "S6GZ6eUTg-a6"
      },
      "execution_count": null,
      "outputs": []
    },
    {
      "cell_type": "code",
      "source": [],
      "metadata": {
        "id": "EiiX6CswQCnU"
      },
      "execution_count": null,
      "outputs": []
    },
    {
      "cell_type": "code",
      "source": [],
      "metadata": {
        "id": "l3T_ZJkudvbC"
      },
      "execution_count": null,
      "outputs": []
    },
    {
      "cell_type": "code",
      "source": [],
      "metadata": {
        "id": "PJt499nvdcRX"
      },
      "execution_count": null,
      "outputs": []
    },
    {
      "cell_type": "code",
      "source": [],
      "metadata": {
        "id": "cltNAkzCdEbF"
      },
      "execution_count": null,
      "outputs": []
    },
    {
      "cell_type": "code",
      "source": [
        "eles"
      ],
      "metadata": {
        "id": "kcDwDl8BdZOr"
      },
      "execution_count": null,
      "outputs": []
    },
    {
      "cell_type": "code",
      "source": [
        "def init_t():\n",
        "  return np.ones((2, 1)) * 10\n",
        "\n",
        "u = target_img\n",
        "v = source_img\n",
        "t = init_t()\n",
        "nMu = [10,10]\n",
        "v_t0 = imTransform(v,nMu)\n",
        "v_t = translate_img(v, t)\n",
        "\n",
        "plt.imshow(v_t0)\n",
        "plt.show()\n",
        "\n",
        "plt.imshow(v_t)\n",
        "plt.show()"
      ],
      "metadata": {
        "id": "cTJ0qG8lYgvY"
      },
      "execution_count": null,
      "outputs": []
    },
    {
      "cell_type": "code",
      "source": [
        "# Note, we will use the same preprocessed input images as in ITK\n",
        "# TODO: use our implemnetation of:\n",
        "# image gradient\n",
        "# image interpolation\n",
        "\n",
        "def imTransform(imgA,tPars):\n",
        "    #input image array and a transformation matrix, return transformed image array\n",
        "    img = sitk.GetImageFromArray(imgA)\n",
        "    origin = img.GetOrigin()\n",
        "    img.SetOrigin((0,0,0))\n",
        "    transform = sitk.TranslationTransform(2)\n",
        "    transform.SetParameters(tPars)\n",
        "    outimage=sitk.Resample(img,img.GetSize(),transform,sitk.sitkLinear,[0,0,0], img.GetSpacing(), img.GetDirection())\n",
        "    outimage.SetOrigin(origin)\n",
        "    resultImage = sitk.GetArrayFromImage(outimage)\n",
        "    return resultImage\n",
        "\n",
        "def mbNormalize(x):\n",
        "   # normalize: nx will have a mean = 0 and std = 1\n",
        "    nx = ( x - np.mean(x) ) /  np.std(x)\n",
        "    return nx\n",
        "\n",
        "#mse metric\n",
        "def mseMetric(u,v):\n",
        "    mbMSE  = 0.0\n",
        "    n = 1\n",
        "    for i in range(len(u.shape)):\n",
        "        n =  n * u.shape[i]\n",
        "    mbMSE  = np.sum([pow(x-y,2) for x,y in zip(u,v) ]) / float(n)\n",
        "    #mbSMSE = math.sqrt(mbMSE)\n",
        "    return mbMSE\n",
        "\n",
        "def mbConvolution(F,g):\n",
        "    #Todo: add implementation\n",
        "    #convolution of  function F with a filter g\n",
        "    cF = 0\n",
        "    return cF\n",
        "def mbImageGradient(F):\n",
        "    # retrun:\n",
        "    # image gradient for each dimension: [dF/dx,dF/dy,...]\n",
        "    # image magnitude dFmag= math.sqrt(dx^2+dy^2)\n",
        "    # image direction: theta = math.atan(dy/dx)\n",
        "\n",
        "    # using Sobel kernel\n",
        "    SbX2D = np.array([[1,0,-1],[2,0,-2],[1,0,-1]])\n",
        "    SbY2D = np.array([[1,2,1 ],[0,0,0 ],[-1,-2,-1]])\n",
        "    dX = scipy.ndimage.convolve(F, SbX2D, mode='constant', cval=0.0)\n",
        "    dY = scipy.ndimage.convolve(F, SbY2D, mode='constant', cval=0.0)\n",
        "    g = np.dstack((dX,dY))\n",
        "    return g\n",
        "\n",
        "#mse derivative\n",
        "def mbdMSE(u,v,dT):\n",
        "    # dMSE the derivative of mse with repect to the transform parameters mu\n",
        "    # dM   =  d M(y)/ dy    # gradient of the transformed moving image\n",
        "    # dT   =  D T(x,mu) / dmu # gradient of the transformation with respect to its parameters mu\n",
        "    # dMdT = d M(y)/ dy * D T(x,mu) / dmu\n",
        "\n",
        "    dMSE  = 0.0\n",
        "    # compute the gradient of the transformed image\n",
        "    #dM = imGradient(v)\n",
        "    dM = mbImageGradient(v)\n",
        "\n",
        "    # the first term in eq.4, a scalar\n",
        "    n = 1\n",
        "    for i in range(len(u.shape)):\n",
        "        n =  n * u.shape[i]\n",
        "    dmse = (2/float(n))* (v-u)\n",
        "\n",
        "    # second and third terms in eq.4\n",
        "    dMdT = np.array([0.0,0.0])\n",
        "    for i in range(dM.shape[0]):\n",
        "        for j in range(dM.shape[1]):\n",
        "            dx = dM[i,j,0]\n",
        "            dy = dM[i,j,1]\n",
        "            dxy0 = np.dot([dx,dy],dT[:,0])\n",
        "            dxy1 = np.dot([dx,dy],dT[:,1])\n",
        "            dMdT[0] = dMdT[0] + dmse[i,j]*dxy0\n",
        "            dMdT[1] = dMdT[1] + dmse[i,j]*dxy1\n",
        "            # we can also use the gradient directly as dT is just identity matrix\n",
        "            # dMdT[0] = dMdT[0] + dmse[i,j]*dx\n",
        "            # dMdT[1] = dMdT[1] + dmse[i,j]*dy\n",
        "\n",
        "    dMSE = np.array([dMdT[0], dMdT[1]])\n",
        "    return     dMSE  # this should be a vector of length d dimension\n",
        "\n",
        "\n",
        "# image registration using gradient descent\n",
        "def gdOptimiser(u,v,numIterations,stepSize):\n",
        "    # initial parameters\n",
        "    nMu = [0,0]\n",
        "    dT = np.array([[1,0],[0,1]])\n",
        "    # start the optimisation\n",
        "    for i in range(numIterations):\n",
        "        # transform the moving image using nMu\n",
        "        v_t = imTransform(v,nMu)\n",
        "        tMshow = 0\n",
        "        if tMshow:\n",
        "            f = plt.figure();f.set_figheight(15);f.set_figwidth(15)\n",
        "            f.add_subplot(1,2, 1)\n",
        "            plt.imshow(v_t)\n",
        "        #compute the metric value\n",
        "        mv = mseMetric(u,v_t)\n",
        "        # compute the metric derivative\n",
        "        dMu = mbdMSE(u,v_t,dT)\n",
        "        # update the parameters\n",
        "        nMu = np.array(nMu) - ( stepSize * np.array(dMu ))\n",
        "        print(i,\": \",mv,\" , \", nMu)\n",
        "    return nMu\n",
        "\n",
        "numIterations = 119\n",
        "stepSize      = 15\n",
        "u = target_img\n",
        "v = source_img\n",
        "\n",
        "print(\"numIterations : \", numIterations)\n",
        "print(\"stepSize      : \", stepSize)\n",
        "\n",
        "\n",
        "\n",
        "fMu =  gdOptimiser(u,v,numIterations,stepSize)\n",
        "\n",
        "r0=imTransform(v,fMu)\n",
        "f,axs = plt.subplots(1, 4);\n",
        "f.set_figheight(15);f.set_figwidth(15)\n",
        "axs[0].set_title('fixed image')\n",
        "axs[0].imshow(u)\n",
        "axs[1].set_title('moving image')\n",
        "axs[1].imshow(v)\n",
        "axs[2].set_title('difference before: fixed - moving')\n",
        "axs[2].imshow(u-v)\n",
        "axs[3].set_title('difference after: fixed - registered')\n",
        "axs[3].imshow(u-r0)"
      ],
      "metadata": {
        "id": "RUelI0-RWSjP"
      },
      "execution_count": null,
      "outputs": []
    },
    {
      "cell_type": "code",
      "source": [
        "!pip install SimpleITK\n",
        "\n",
        "import SimpleITK as sitk"
      ],
      "metadata": {
        "id": "f0y9Lwa8VLUR"
      },
      "execution_count": null,
      "outputs": []
    },
    {
      "cell_type": "code",
      "source": [
        "t"
      ],
      "metadata": {
        "id": "ptYR9TIeRGdg"
      },
      "execution_count": null,
      "outputs": []
    },
    {
      "cell_type": "code",
      "source": [],
      "metadata": {
        "id": "g9iu8H-lRkBk"
      },
      "execution_count": null,
      "outputs": []
    },
    {
      "cell_type": "code",
      "source": [
        "\n",
        "\n",
        "dmse =\n",
        "\n"
      ],
      "metadata": {
        "id": "t2kNqpYwRm0v"
      },
      "execution_count": null,
      "outputs": []
    },
    {
      "cell_type": "code",
      "source": [
        "dmse"
      ],
      "metadata": {
        "id": "douZyokOUXJi"
      },
      "execution_count": null,
      "outputs": []
    },
    {
      "cell_type": "code",
      "source": [
        "np.dot(dxy, dp[:, 0])"
      ],
      "metadata": {
        "id": "xINLRDQ4UTGZ"
      },
      "execution_count": null,
      "outputs": []
    },
    {
      "cell_type": "code",
      "source": [
        "dxy = np.expand_dims(np.array([dx, dy]), axis = 0)"
      ],
      "metadata": {
        "id": "1zDiZAB-UC6O"
      },
      "execution_count": null,
      "outputs": []
    },
    {
      "cell_type": "code",
      "source": [
        "dxy"
      ],
      "metadata": {
        "id": "djLJ_J2hUEQO"
      },
      "execution_count": null,
      "outputs": []
    },
    {
      "cell_type": "code",
      "source": [],
      "metadata": {
        "id": "6Sw5EimWSOL6"
      },
      "execution_count": null,
      "outputs": []
    },
    {
      "cell_type": "code",
      "source": [
        "dp = get_trans_jac()"
      ],
      "metadata": {
        "id": "RRGsuHwpSPOf"
      },
      "execution_count": null,
      "outputs": []
    },
    {
      "cell_type": "code",
      "source": [
        "dp"
      ],
      "metadata": {
        "id": "gMY_DmwTS9D_"
      },
      "execution_count": null,
      "outputs": []
    },
    {
      "cell_type": "code",
      "source": [
        "dxy.shape"
      ],
      "metadata": {
        "id": "79AU_5k0S_pn"
      },
      "execution_count": null,
      "outputs": []
    },
    {
      "cell_type": "code",
      "source": [],
      "metadata": {
        "id": "E9quyN-yTTYm"
      },
      "execution_count": null,
      "outputs": []
    },
    {
      "cell_type": "code",
      "source": [],
      "metadata": {
        "id": "pO8f3-jXSMkq"
      },
      "execution_count": null,
      "outputs": []
    },
    {
      "cell_type": "code",
      "source": [
        "#mse derivative\n",
        "def mbdMSE(u,v,dT):\n",
        "    # dMSE the derivative of mse with repect to the transform parameters mu\n",
        "    # dM   =  d M(y)/ dy    # gradient of the transformed moving image\n",
        "    # dT   =  D T(x,mu) / dmu # gradient of the transformation with respect to its parameters mu\n",
        "    # dMdT = d M(y)/ dy * D T(x,mu) / dmu\n",
        "\n",
        "    dMSE  = 0.0\n",
        "    # compute the gradient of the transformed image\n",
        "    #dM = imGradient(v)\n",
        "    dM = mbImageGradient(v)\n",
        "\n",
        "    # the first term in eq.4, a scalar\n",
        "    n = 1\n",
        "    for i in range(len(u.shape)):\n",
        "        n =  n * u.shape[i]\n",
        "    dmse = (2/float(n))* (v-u)\n",
        "\n",
        "    # second and third terms in eq.4\n",
        "    dMdT = np.array([0.0,0.0])\n",
        "    for i in range(dM.shape[0]):\n",
        "        for j in range(dM.shape[1]):\n",
        "            dx = dM[i,j,0]\n",
        "            dy = dM[i,j,1]\n",
        "            dxy0 = np.dot([dx,dy],dT[:,0])\n",
        "            dxy1 = np.dot([dx,dy],dT[:,1])\n",
        "            dMdT[0] = dMdT[0] + dmse[i,j]*dxy0\n",
        "            dMdT[1] = dMdT[1] + dmse[i,j]*dxy1\n",
        "            # we can also use the gradient directly as dT is just identity matrix\n",
        "            # dMdT[0] = dMdT[0] + dmse[i,j]*dx\n",
        "            # dMdT[1] = dMdT[1] + dmse[i,j]*dy\n",
        "\n",
        "    dMSE = np.array([dMdT[0], dMdT[1]])\n",
        "    return     dMSE  # this should be a vector of length d dimension"
      ],
      "metadata": {
        "id": "TAmzS041RFb2"
      },
      "execution_count": null,
      "outputs": []
    },
    {
      "cell_type": "code",
      "source": [
        "#new method with jacobian\n",
        "def init_t():\n",
        "  return np.random.random((6, 1))\n",
        "\n",
        "def get_points(source_img):\n",
        "  k = 0\n",
        "  h, w = source_img.shape\n",
        "  points = np.zeros((int(h * w), 3))\n",
        "  for i in range(source_img.shape[0]):\n",
        "    for j in range(source_img.shape[1]):\n",
        "      val = source_img[i, j]\n",
        "      points[k, :] = np.array([i, j, val])\n",
        "      k = k + 1\n",
        "  return points\n",
        "\n",
        "def interleave(a, b):\n",
        "  c = np.empty((a.shape[0] + b.shape[0], a.shape[1]), dtype=a.dtype)\n",
        "  c[0::2] = a\n",
        "  c[1::2] = b\n",
        "  return c\n",
        "\n",
        "def get_A(source_matrix):\n",
        "  #prepare source points\n",
        "  source_matrix2 = np.concatenate([source_matrix[:, 0:2], np.ones((source_matrix.shape[0], 1))], axis = 1)\n",
        "  #prepare zeros\n",
        "  zero_matrix = np.zeros(source_matrix2.shape)\n",
        "  #interleave1\n",
        "  in1 = interleave(source_matrix2, zero_matrix)\n",
        "  #interleave 2\n",
        "  in2 = interleave(zero_matrix, source_matrix2)\n",
        "  #concat\n",
        "  return np.concatenate([in1, in2], axis = 1)\n",
        "\n",
        "def get_target_points(b, source_matrix):\n",
        "  #init\n",
        "  target_matrix = np.zeros(source_matrix.shape)\n",
        "  #z\n",
        "  z = 0\n",
        "  #iterate\n",
        "  for i in range(0, b.shape[0], 2):\n",
        "    #subset\n",
        "    f = b[i:i+2]\n",
        "    #insert\n",
        "    target_matrix[z, 0:2] = f.T.squeeze(0)\n",
        "    #add\n",
        "    z = z + 1\n",
        "  #insert the actual image volumes\n",
        "  target_matrix[:, 2] = source_matrix[:, 2]\n",
        "  #return\n",
        "  return target_matrix\n",
        "\n",
        "\n",
        "def get_target_img(source_img, target_matrix):\n",
        "  #convert the target matrix to image\n",
        "  target_img = np.zeros(source_img.shape)\n",
        "  #iterate\n",
        "  for target in target_matrix:\n",
        "    x = int(target[0])\n",
        "    y = int(target[1])\n",
        "    #bounds\n",
        "    if x > 34:\n",
        "      x = 34\n",
        "    if x < 0:\n",
        "      x = 0\n",
        "    if y > 34:\n",
        "      y = 34\n",
        "    if y < 0:\n",
        "      y = 34\n",
        "    #set (notice x and then y)\n",
        "    target_img[x, y] = target[2]\n",
        "  #return\n",
        "  return target_img\n",
        "\n",
        "def img_grad(img):\n",
        "    SbX2D = np.array([[1,0,-1],[2,0,-2],[1,0,-1]])\n",
        "    SbY2D = np.array([[1,2,1 ],[0,0,0 ],[-1,-2,-1]])\n",
        "    dX = scipy.ndimage.convolve(img, SbX2D, mode='constant', cval=0.0)\n",
        "    dY = scipy.ndimage.convolve(img, SbY2D, mode='constant', cval=0.0)\n",
        "    g = np.dstack((dX,dY))\n",
        "    return g\n",
        "\n",
        "def get_jac(x, y):\n",
        "  return np.array([[1, 0, x, y, 0, 0], [0, 1, 0, 0, x, y]])\n",
        "\n",
        "\n",
        "def compute_grad(t, pred_img, source_matrix, target_img):\n",
        "  #init\n",
        "  all_grad = np.zeros(t.shape)\n",
        "  #pred grad\n",
        "  pred_grad = img_grad(pred_img)\n",
        "  #iterate\n",
        "  for point in source_matrix:\n",
        "    #target point\n",
        "    target_val = target_img[int(point[0]), int(point[1])]\n",
        "    #pred point\n",
        "    pred_val = pred_img[int(point[0]), int(point[1])]\n",
        "    #subtract\n",
        "    s0 = pred_val - target_val\n",
        "    #get grad\n",
        "    s1 = pred_grad[int(point[0]), int(point[1])]\n",
        "    #get jac\n",
        "    s2 = get_jac2(int(point[0]), int(point[1]))\n",
        "    #compute grad\n",
        "    grad = s0 * (np.expand_dims(s1, axis = 0) @ s2).T\n",
        "    #add\n",
        "    all_grad = all_grad + grad\n",
        "  #multiply by 2 and divide\n",
        "  return 2 * all_grad / source_matrix.shape[0]\n",
        "\n",
        "def convert(n):\n",
        "  v = np.concatenate([n.reshape(2, 3), np.zeros((1, 3))], axis = 0)\n",
        "  v[2, 2] = 1\n",
        "  return v\n",
        "\n",
        "def alternate_compute(t, source_matrix, source_img):\n",
        "  t0 = convert(t)\n",
        "  f = t0 @ source_matrix.T\n",
        "  pred_img = get_target_img(source_img, f.T)\n",
        "  return pred_img\n",
        "\n",
        "def get_jac2(x, y):\n",
        "  return np.array([[0, 0, 0, x, y, 1], [x, y, 1, 0, 0, 0]])"
      ],
      "metadata": {
        "id": "Rs_3Z3WQcdNA"
      },
      "execution_count": null,
      "outputs": []
    },
    {
      "cell_type": "code",
      "source": [
        "get_jac2(1, 2)"
      ],
      "metadata": {
        "id": "uTdYV1z3ti3L"
      },
      "execution_count": null,
      "outputs": []
    },
    {
      "cell_type": "code",
      "source": [
        "#mse metric\n",
        "def mseMetric(u,v):\n",
        "    mbMSE  = 0.0\n",
        "    n = 1\n",
        "    for i in range(len(u.shape)):\n",
        "        n =  n * u.shape[i]\n",
        "    mbMSE  = np.sum([pow(x-y,2) for x,y in zip(u,v) ]) / float(n)\n",
        "    #mbSMSE = math.sqrt(mbMSE)\n",
        "    return mbMSE"
      ],
      "metadata": {
        "id": "XKOLRj5tf2Gv"
      },
      "execution_count": null,
      "outputs": []
    },
    {
      "cell_type": "code",
      "source": [
        "def mbNormalize(x):\n",
        "   # normalize: nx will have a mean = 0 and std = 1\n",
        "    nx = ( x - np.mean(x) ) /  np.std(x)\n",
        "    return nx"
      ],
      "metadata": {
        "id": "5A_xucwmiDYI"
      },
      "execution_count": null,
      "outputs": []
    },
    {
      "cell_type": "code",
      "source": [
        "#main\n",
        "t = init_t()\n",
        "f = scipy.ndimage.affine_transform(source_img, convert(t))"
      ],
      "metadata": {
        "id": "w2-tfPAcjTC8"
      },
      "execution_count": null,
      "outputs": []
    },
    {
      "cell_type": "code",
      "source": [
        "A"
      ],
      "metadata": {
        "id": "L-wMhdpN64wW"
      },
      "execution_count": null,
      "outputs": []
    },
    {
      "cell_type": "code",
      "source": [
        "## Construct two binary images\n",
        "source_img = np.array([[0,0,0,0,0,0,0],[0,1,1,0,0,0,0],[0,1,1,1,0,0,0],[0,1,0,1,1,0,0],[0,1,1,1,1,0,0],[0,0,0,0,0,0,0],[0,0,0,0,0,0,0]])\n",
        "source_img = scipy.ndimage.zoom(source_img, 5)\n",
        "target_img = scipy.ndimage.rotate(source_img, 72, reshape = False)\n",
        "\n",
        "f = []\n",
        "#main\n",
        "t = init_t()\n",
        "#set lr\n",
        "lr = 1e-1\n",
        "#iters\n",
        "max_iters = 1000\n",
        "#get points[x, y, val] from source img\n",
        "#source_matrix = get_points(source_img)\n",
        "init_t0 = t.copy()\n",
        "\n",
        "#get points\n",
        "source_matrix = get_points(source_img)\n",
        "#get A\n",
        "A = get_A(source_matrix)\n",
        "\n",
        "for i in range(max_iters):\n",
        "  #get A\n",
        "  A = get_A(source_matrix)\n",
        "  #apply b = A * t\n",
        "  b = np.matmul(A, t)\n",
        "  #get target points\n",
        "  pred_matrix = get_target_points(b, source_matrix)"
      ],
      "metadata": {
        "id": "RV8jxQR_7eHD"
      },
      "execution_count": null,
      "outputs": []
    },
    {
      "cell_type": "code",
      "source": [
        "def get_target_img2(pred_matrix):\n",
        "  #convert the target matrix to image\n",
        "  target_img = np.zeros((int(pred_matrix[:, 0].max() + 1), int(pred_matrix[:, 1].max() + 1)))\n",
        "  #iterate\n",
        "  for target in pred_matrix:\n",
        "    x = int(target[0])\n",
        "    y = int(target[1])\n",
        "    #set (notice x and then y)\n",
        "    target_img[x, y] = target[2]\n",
        "  #return\n",
        "  return resize(target_img, (35, 35))\n",
        "from skimage.transform import resize"
      ],
      "metadata": {
        "id": "vprf0i_7846o"
      },
      "execution_count": null,
      "outputs": []
    },
    {
      "cell_type": "code",
      "source": [
        "## Construct two binary images\n",
        "source_img = np.array([[0,0,0,0,0,0,0],[0,1,1,0,0,0,0],[0,1,1,1,0,0,0],[0,1,0,1,1,0,0],[0,1,1,1,1,0,0],[0,0,0,0,0,0,0],[0,0,0,0,0,0,0]])\n",
        "source_img = scipy.ndimage.zoom(source_img, 5)\n",
        "target_img = scipy.ndimage.rotate(source_img, 72, reshape = False)\n",
        "\n",
        "f = []\n",
        "#main\n",
        "t = init_t()\n",
        "#set lr\n",
        "lr = 1e-1\n",
        "#iters\n",
        "max_iters = 1000\n",
        "#get points[x, y, val] from source img\n",
        "#source_matrix = get_points(source_img)\n",
        "init_t0 = t.copy()\n",
        "\n",
        "for i in range(max_iters):\n",
        "  #get A\n",
        "  A = get_A(source_matrix)\n",
        "  #apply b = A * t\n",
        "  b = np.matmul(A, t)\n",
        "  #get target points\n",
        "  pred_matrix = get_target_points(b, source_matrix)\n",
        "  #get target image\n",
        "  #pred_img = alternate_compute(t, source_matrix, source_img)\n",
        "  pred_img = get_target_img2(pred_matrix)\n",
        "  #compute df\n",
        "  #pred_img = scipy.ndimage.affine_transform(source_img, convert(t))\n",
        "  #grad = compute_grad2(target_img, pred_img)\n",
        "  grad = compute_grad(t, pred_img, source_matrix, target_img)\n",
        "  #update\n",
        "  t = t - lr * grad\n",
        "\n",
        "  f.append(mseMetric(target_img, pred_img))\n",
        "\n",
        "plt.plot(f)"
      ],
      "metadata": {
        "id": "OlFZAqSpZdJ9"
      },
      "execution_count": null,
      "outputs": []
    },
    {
      "cell_type": "code",
      "source": [
        "#do translate and then affine"
      ],
      "metadata": {
        "id": "Isf95QvY_91P"
      },
      "execution_count": null,
      "outputs": []
    },
    {
      "cell_type": "code",
      "source": [
        "plt.imshow(pred_img)"
      ],
      "metadata": {
        "id": "eA4W-ZMT_p37"
      },
      "execution_count": null,
      "outputs": []
    },
    {
      "cell_type": "code",
      "source": [
        "def compute_grad2(u, v):\n",
        "  #pred grad\n",
        "  pred_grad = img_grad(v) #transformed img\n",
        "\n",
        "  n = 1\n",
        "  for i in range(len(u.shape)):\n",
        "    n =  n * u.shape[i]\n",
        "    dmse = (2/float(n))* (v-u)\n",
        "\n",
        "  dMdT = np.zeros((6, 1))\n",
        "\n",
        "  for i in range(pred_grad.shape[0]):\n",
        "    for j in range(pred_grad.shape[1]):\n",
        "      dx = pred_grad[i,j,0]\n",
        "      dy = pred_grad[i,j,1]\n",
        "      jac = get_jac(i, j)\n",
        "      #get jac\n",
        "      dxy0 = np.dot([dx,dy], jac[:,0])\n",
        "      dxy1 = np.dot([dx,dy], jac[:,1])\n",
        "      dxy2 = np.dot([dx,dy], jac[:,2])\n",
        "      dxy3 = np.dot([dx,dy], jac[:,3])\n",
        "      dxy4 = np.dot([dx,dy], jac[:,4])\n",
        "      dxy5 = np.dot([dx,dy], jac[:,5])\n",
        "      #update\n",
        "      dMdT[0] = dMdT[0] + dmse[i, j] * dxy0\n",
        "      dMdT[1] = dMdT[1] + dmse[i, j] * dxy1\n",
        "      dMdT[2] = dMdT[2] + dmse[i, j] * dxy2\n",
        "      dMdT[3] = dMdT[3] + dmse[i, j] * dxy3\n",
        "      dMdT[4] = dMdT[4] + dmse[i, j] * dxy4\n",
        "      dMdT[5] = dMdT[5] + dmse[i, j] * dxy5\n",
        "      #dxdy = np.expand_dims(np.array([dx, dy]), axis = 0)\n",
        "      #djac = dxdy @ jac\n",
        "  #return\n",
        "  return dMdT\n",
        "\n",
        "\n"
      ],
      "metadata": {
        "id": "7HBmhPi3erJR"
      },
      "execution_count": null,
      "outputs": []
    },
    {
      "cell_type": "code",
      "source": [
        "def affine_transform(input, matrix, offset=0.0, output_shape=None,\n",
        "                     output=None, order=3,\n",
        "                     mode='constant', cval=0.0, prefilter=True):\n",
        "    \"\"\"\n",
        "    Apply an affine transformation.\n",
        "\n",
        "    Given an output image pixel index vector ``o``, the pixel value\n",
        "    is determined from the input image at position\n",
        "    ``np.dot(matrix, o) + offset``.\n",
        "\n",
        "    This does 'pull' (or 'backward') resampling, transforming the output space\n",
        "    to the input to locate data. Affine transformations are often described in\n",
        "    the 'push' (or 'forward') direction, transforming input to output. If you\n",
        "    have a matrix for the 'push' transformation, use its inverse\n",
        "    (:func:`numpy.linalg.inv`) in this function.\n",
        "\n",
        "    Parameters\n",
        "    ----------\n",
        "    %(input)s\n",
        "    matrix : ndarray\n",
        "        The inverse coordinate transformation matrix, mapping output\n",
        "        coordinates to input coordinates. If ``ndim`` is the number of\n",
        "        dimensions of ``input``, the given matrix must have one of the\n",
        "        following shapes:\n",
        "\n",
        "            - ``(ndim, ndim)``: the linear transformation matrix for each\n",
        "              output coordinate.\n",
        "            - ``(ndim,)``: assume that the 2-D transformation matrix is\n",
        "              diagonal, with the diagonal specified by the given value. A more\n",
        "              efficient algorithm is then used that exploits the separability\n",
        "              of the problem.\n",
        "            - ``(ndim + 1, ndim + 1)``: assume that the transformation is\n",
        "              specified using homogeneous coordinates [1]_. In this case, any\n",
        "              value passed to ``offset`` is ignored.\n",
        "            - ``(ndim, ndim + 1)``: as above, but the bottom row of a\n",
        "              homogeneous transformation matrix is always ``[0, 0, ..., 1]``,\n",
        "              and may be omitted.\n",
        "\n",
        "    offset : float or sequence, optional\n",
        "        The offset into the array where the transform is applied. If a float,\n",
        "        `offset` is the same for each axis. If a sequence, `offset` should\n",
        "        contain one value for each axis.\n",
        "    output_shape : tuple of ints, optional\n",
        "        Shape tuple.\n",
        "    %(output)s\n",
        "    order : int, optional\n",
        "        The order of the spline interpolation, default is 3.\n",
        "        The order has to be in the range 0-5.\n",
        "    %(mode_interp_constant)s\n",
        "    %(cval)s\n",
        "    %(prefilter)s\n",
        "\n",
        "    Returns\n",
        "    -------\n",
        "    affine_transform : ndarray\n",
        "        The transformed input.\n",
        "\n",
        "    Notes\n",
        "    -----\n",
        "    The given matrix and offset are used to find for each point in the\n",
        "    output the corresponding coordinates in the input by an affine\n",
        "    transformation. The value of the input at those coordinates is\n",
        "    determined by spline interpolation of the requested order. Points\n",
        "    outside the boundaries of the input are filled according to the given\n",
        "    mode.\n",
        "\n",
        "    .. versionchanged:: 0.18.0\n",
        "        Previously, the exact interpretation of the affine transformation\n",
        "        depended on whether the matrix was supplied as a 1-D or a\n",
        "        2-D array. If a 1-D array was supplied\n",
        "        to the matrix parameter, the output pixel value at index ``o``\n",
        "        was determined from the input image at position\n",
        "        ``matrix * (o + offset)``.\n",
        "\n",
        "    For complex-valued `input`, this function transforms the real and imaginary\n",
        "    components independently.\n",
        "\n",
        "    .. versionadded:: 1.6.0\n",
        "        Complex-valued support added.\n",
        "\n",
        "    References\n",
        "    ----------\n",
        "    .. [1] https://en.wikipedia.org/wiki/Homogeneous_coordinates\n",
        "    \"\"\"\n",
        "    if order < 0 or order > 5:\n",
        "        raise RuntimeError('spline order not supported')\n",
        "    input = numpy.asarray(input)\n",
        "    if output_shape is None:\n",
        "        if isinstance(output, numpy.ndarray):\n",
        "            output_shape = output.shape\n",
        "        else:\n",
        "            output_shape = input.shape\n",
        "    if input.ndim < 1 or len(output_shape) < 1:\n",
        "        raise RuntimeError('input and output rank must be > 0')\n",
        "    complex_output = numpy.iscomplexobj(input)\n",
        "    output = _ni_support._get_output(output, input, shape=output_shape,\n",
        "                                     complex_output=complex_output)\n",
        "    if complex_output:\n",
        "        kwargs = dict(offset=offset, output_shape=output_shape, order=order,\n",
        "                      mode=mode, prefilter=prefilter)\n",
        "        affine_transform(input.real, matrix, output=output.real,\n",
        "                         cval=numpy.real(cval), **kwargs)\n",
        "        affine_transform(input.imag, matrix, output=output.imag,\n",
        "                         cval=numpy.imag(cval), **kwargs)\n",
        "        return output\n",
        "    if prefilter and order > 1:\n",
        "        padded, npad = _prepad_for_spline_filter(input, mode, cval)\n",
        "        filtered = spline_filter(padded, order, output=numpy.float64,\n",
        "                                 mode=mode)\n",
        "    else:\n",
        "        npad = 0\n",
        "        filtered = input\n",
        "    mode = _ni_support._extend_mode_to_code(mode)\n",
        "    matrix = numpy.asarray(matrix, dtype=numpy.float64)\n",
        "    if matrix.ndim not in [1, 2] or matrix.shape[0] < 1:\n",
        "        raise RuntimeError('no proper affine matrix provided')\n",
        "    if (matrix.ndim == 2 and matrix.shape[1] == input.ndim + 1 and\n",
        "            (matrix.shape[0] in [input.ndim, input.ndim + 1])):\n",
        "        if matrix.shape[0] == input.ndim + 1:\n",
        "            exptd = [0] * input.ndim + [1]\n",
        "            if not numpy.all(matrix[input.ndim] == exptd):\n",
        "                msg = ('Expected homogeneous transformation matrix with '\n",
        "                       'shape {} for image shape {}, but bottom row was '\n",
        "                       'not equal to {}'.format(matrix.shape, input.shape, exptd))\n",
        "                raise ValueError(msg)\n",
        "        # assume input is homogeneous coordinate transformation matrix\n",
        "        offset = matrix[:input.ndim, input.ndim]\n",
        "        matrix = matrix[:input.ndim, :input.ndim]\n",
        "    if matrix.shape[0] != input.ndim:\n",
        "        raise RuntimeError('affine matrix has wrong number of rows')\n",
        "    if matrix.ndim == 2 and matrix.shape[1] != output.ndim:\n",
        "        raise RuntimeError('affine matrix has wrong number of columns')\n",
        "    if not matrix.flags.contiguous:\n",
        "        matrix = matrix.copy()\n",
        "    offset = _ni_support._normalize_sequence(offset, input.ndim)\n",
        "    offset = numpy.asarray(offset, dtype=numpy.float64)\n",
        "    if offset.ndim != 1 or offset.shape[0] < 1:\n",
        "        raise RuntimeError('no proper offset provided')\n",
        "    if not offset.flags.contiguous:\n",
        "        offset = offset.copy()\n",
        "    if matrix.ndim == 1:\n",
        "        warnings.warn(\n",
        "            \"The behavior of affine_transform with a 1-D \"\n",
        "            \"array supplied for the matrix parameter has changed in \"\n",
        "            \"SciPy 0.18.0.\"\n",
        "        )\n",
        "        _nd_image.zoom_shift(filtered, matrix, offset/matrix, output, order,\n",
        "                             mode, cval, npad, False)\n",
        "    else:\n",
        "        _nd_image.geometric_transform(filtered, None, None, matrix, offset,\n",
        "                                      output, order, mode, cval, npad, None,\n",
        "                                      None)\n",
        "    return output"
      ],
      "metadata": {
        "id": "e2fg1eDizAWs"
      },
      "execution_count": null,
      "outputs": []
    },
    {
      "cell_type": "code",
      "source": [
        "# the first term in eq.4, a scalar\n",
        "u = target_img\n",
        "v = pred_img\n",
        "#pred grad\n",
        "pred_grad = img_grad(v) #transformed img\n",
        "\n",
        "n = 1\n",
        "for i in range(len(u.shape)):\n",
        "  n =  n * u.shape[i]\n",
        "  dmse = (2/float(n))* (v-u)\n",
        "\n",
        "dMdT = np.zeros((6, 1))\n",
        "\n",
        "for i in range(pred_grad.shape[0]):\n",
        "  for j in range(pred_grad.shape[1]):\n",
        "    dx = pred_grad[i,j,0]\n",
        "    dy = pred_grad[i,j,1]\n",
        "    jac = get_jac(i, j)\n",
        "    #get jac\n",
        "    dxy0 = np.dot([dx,dy], jac[:,0])\n",
        "    dxy1 = np.dot([dx,dy], jac[:,1])\n",
        "    dxy2 = np.dot([dx,dy], jac[:,2])\n",
        "    dxy3 = np.dot([dx,dy], jac[:,3])\n",
        "    dxy4 = np.dot([dx,dy], jac[:,4])\n",
        "    dxy5 = np.dot([dx,dy], jac[:,5])\n",
        "    #update\n",
        "    dMdT[0] = dMdT[0] + dmse[i, j] * dxy0\n",
        "    dMdT[1] = dMdT[1] + dmse[i, j] * dxy1\n",
        "    dMdT[2] = dMdT[2] + dmse[i, j] * dxy2\n",
        "    dMdT[3] = dMdT[3] + dmse[i, j] * dxy3\n",
        "    dMdT[4] = dMdT[4] + dmse[i, j] * dxy4\n",
        "    dMdT[5] = dMdT[5] + dmse[i, j] * dxy5\n",
        "    #dxdy = np.expand_dims(np.array([dx, dy]), axis = 0)\n",
        "    #djac = dxdy @ jac\n",
        "    #return\n"
      ],
      "metadata": {
        "id": "siEeMuHaaHcy"
      },
      "execution_count": null,
      "outputs": []
    },
    {
      "cell_type": "code",
      "source": [],
      "metadata": {
        "id": "8SKzLjmCeUqd"
      },
      "execution_count": null,
      "outputs": []
    },
    {
      "cell_type": "code",
      "source": [
        "dMdT.shape"
      ],
      "metadata": {
        "id": "3V1Kj5xfeM-D"
      },
      "execution_count": null,
      "outputs": []
    },
    {
      "cell_type": "code",
      "source": [
        "dMdT[0]"
      ],
      "metadata": {
        "id": "lvHpmbIFbNt_"
      },
      "execution_count": null,
      "outputs": []
    },
    {
      "cell_type": "code",
      "source": [
        "\n",
        "\n",
        "#dxy1 = np.dot([dx,dy],dT[:,1])"
      ],
      "metadata": {
        "id": "PLlby53Aa5wF"
      },
      "execution_count": null,
      "outputs": []
    },
    {
      "cell_type": "code",
      "source": [
        "dxy0"
      ],
      "metadata": {
        "id": "ht_jJmj1c8ee"
      },
      "execution_count": null,
      "outputs": []
    },
    {
      "cell_type": "code",
      "source": [
        "np.dot(dxdy, jac[:,0])"
      ],
      "metadata": {
        "id": "DXNdXi3qbcGh"
      },
      "execution_count": null,
      "outputs": []
    },
    {
      "cell_type": "code",
      "source": [],
      "metadata": {
        "id": "y2tS95jmcDU0"
      },
      "execution_count": null,
      "outputs": []
    },
    {
      "cell_type": "code",
      "source": [],
      "metadata": {
        "id": "5ldzOJSkcB7O"
      },
      "execution_count": null,
      "outputs": []
    },
    {
      "cell_type": "code",
      "source": [],
      "metadata": {
        "id": "cfjcurKBbSrG"
      },
      "execution_count": null,
      "outputs": []
    },
    {
      "cell_type": "code",
      "source": [
        "#init\n",
        "all_grad = np.zeros(t.shape)\n",
        "#pred grad\n",
        "pred_grad = img_grad(pred_img)\n",
        "\n",
        "\n",
        "\n",
        "#iterate\n",
        "for point, target_point in zip(source_matrix):\n",
        "  #target point\n",
        "  target_val = target_img[int(point[0]), int(point[1])]\n",
        "  #pred point\n",
        "  pred_val = pred_img[int(point[0]), int(point[1])]\n",
        "  #subtract\n",
        "  s0 = pred_val - target_val\n",
        "  #get grad\n",
        "  s1 = pred_grad[int(point[0]), int(point[1])]\n",
        "  #get jac\n",
        "  s2 = get_jac(int(point[0]), int(point[1]))\n",
        "  #compute grad\n",
        "  grad = s0 * (np.expand_dims(s1, axis = 0) @ s2).T\n",
        "  #add\n",
        "  all_grad = all_grad + grad"
      ],
      "metadata": {
        "id": "SoPwkLYRZvK2"
      },
      "execution_count": null,
      "outputs": []
    },
    {
      "cell_type": "code",
      "source": [
        "plt.imshow(pred_img)"
      ],
      "metadata": {
        "id": "hcQPTiSBZjcZ"
      },
      "execution_count": null,
      "outputs": []
    },
    {
      "cell_type": "code",
      "source": [
        "## Construct two binary images\n",
        "source_img = np.array([[0,0,0,0,0,0,0],[0,1,1,0,0,0,0],[0,1,1,1,0,0,0],[0,1,0,1,1,0,0],[0,1,1,1,1,0,0],[0,0,0,0,0,0,0],[0,0,0,0,0,0,0]])\n",
        "source_img = scipy.ndimage.zoom(source_img, 5)\n",
        "target_img = scipy.ndimage.rotate(source_img, 72, reshape = False)\n",
        "\n",
        "\n",
        "#main\n",
        "t = init_t()\n",
        "#set lr\n",
        "lr = 100\n",
        "#iters\n",
        "max_iters = 100\n",
        "#get points[x, y, val] from source img\n",
        "source_matrix = get_points(source_img)\n",
        "#get A\n",
        "A = get_A(source_matrix)\n",
        "\n",
        "\n",
        "#iterate\n",
        "for i in range(max_iters):\n",
        "  #apply b = A * t\n",
        "  b = np.matmul(A, t)\n",
        "  #get target points\n",
        "  pred_matrix = get_target_points(b, source_matrix)\n",
        "  #get target image\n",
        "  #pred_img = alternate_compute(t, source_matrix, source_img)\n",
        "\n",
        "  pred_img = get_target_img(source_img, pred_matrix)\n",
        "  #compute grad\n",
        "  grad_t = compute_grad(t, pred_img, source_matrix, target_img)\n",
        "  #update\n",
        "  t = t + lr * grad_t\n",
        "\n",
        "  print(calc_mse(pred_img, target_img))\n",
        "\n",
        "#compute derivative\n",
        "plt.imshow(target_img)\n",
        "plt.show()\n",
        "plt.imshow(pred_img)\n",
        "plt.show()"
      ],
      "metadata": {
        "id": "2w8UTwc7wjFp"
      },
      "execution_count": null,
      "outputs": []
    },
    {
      "cell_type": "code",
      "source": [
        "#mse metric\n",
        "def mseMetric(u,v):\n",
        "  mbMSE  = 0.0\n",
        "  n = 1\n",
        "  for i in range(len(u.shape)):\n",
        "      n =  n * u.shape[i]\n",
        "  mbMSE  = np.sum([pow(x-y,2) for x,y in zip(u,v) ]) / float(n)\n",
        "  #mbSMSE = math.sqrt(mbMSE)\n",
        "  return mbMSE\n",
        "\n",
        "#mse derivative\n",
        "def mbdMSE(u,v,dT = None):\n",
        "    # dMSE the derivative of mse with repect to the transform parameters mu\n",
        "    # dM   =  d M(y)/ dy    # gradient of the transformed moving image\n",
        "    # dT   =  D T(x,mu) / dmu # gradient of the transformation with respect to its parameters mu\n",
        "    # dMdT = d M(y)/ dy * D T(x,mu) / dmu\n",
        "\n",
        "    dMSE  = 0.0\n",
        "    # compute the gradient of the transformed image\n",
        "    #dM = imGradient(v)\n",
        "    dM = mbImageGradient(v)\n",
        "\n",
        "    # the first term in eq.4, a scalar\n",
        "    n = 1\n",
        "    for i in range(len(u.shape)):\n",
        "        n =  n * u.shape[i]\n",
        "    dmse = (2/float(n))* (v-u)\n",
        "\n",
        "    # second and third terms in eq.4\n",
        "    dMdT = np.array([0.0,0.0])\n",
        "    for i in range(dM.shape[0]):\n",
        "        for j in range(dM.shape[1]):\n",
        "            dx = dM[i,j,0]\n",
        "            dy = dM[i,j,1]\n",
        "            #dT = trans_mat(i, j)\n",
        "            dxy0 = np.dot([dx,dy],dT[:,0])\n",
        "            dxy1 = np.dot([dx,dy],dT[:,1])\n",
        "            dMdT[0] = dMdT[0] + dmse[i,j]*dxy0\n",
        "            dMdT[1] = dMdT[1] + dmse[i,j]*dxy1\n",
        "            # we can also use the gradient directly as dT is just identity matrix\n",
        "            # dMdT[0] = dMdT[0] + dmse[i,j]*dx\n",
        "            # dMdT[1] = dMdT[1] + dmse[i,j]*dy\n",
        "\n",
        "    dMSE = np.array([dMdT[0], dMdT[1]])\n",
        "    return     dMSE  # this should be a vector of length d dimension\n",
        "\n",
        "def mbImageGradient(F):\n",
        "    # retrun:\n",
        "    # image gradient for each dimension: [dF/dx,dF/dy,...]\n",
        "    # image magnitude dFmag= math.sqrt(dx^2+dy^2)\n",
        "    # image direction: theta = math.atan(dy/dx)\n",
        "\n",
        "    # using Sobel kernel\n",
        "    SbX2D = np.array([[1,0,-1],[2,0,-2],[1,0,-1]])\n",
        "    SbY2D = np.array([[1,2,1 ],[0,0,0 ],[-1,-2,-1]])\n",
        "    dX = ndimage.convolve(F, SbX2D, mode='constant', cval=0.0)\n",
        "    dY = ndimage.convolve(F, SbY2D, mode='constant', cval=0.0)\n",
        "    g = np.dstack((dX,dY))\n",
        "    return g\n",
        "\n",
        "def imTransform(imgA,tPars):\n",
        "    #input image array and a transformation matrix, return transformed image array\n",
        "    img = sitk.GetImageFromArray(imgA)\n",
        "    origin = img.GetOrigin()\n",
        "    img.SetOrigin((0,0,0))\n",
        "    transform = sitk.AffineTransform(2)\n",
        "    transform.SetMatrix(tPars)\n",
        "    outimage=sitk.Resample(img,img.GetSize(),transform,sitk.sitkLinear,[0,0,0], img.GetSpacing(), img.GetDirection())\n",
        "    outimage.SetOrigin(origin)\n",
        "    resultImage = sitk.GetArrayFromImage(outimage)\n",
        "    return resultImage\n",
        "\n",
        "# image registration using gradient descent\n",
        "def gdOptimiser(u,v,numIterations,stepSize):\n",
        "    # initial parameters\n",
        "    nMu = [0,0]\n",
        "    dT = np.array([[1,0],[0,1]])\n",
        "    # start the optimisation\n",
        "    for i in range(numIterations):\n",
        "        # transform the moving image using nMu\n",
        "        v_t = imTransform(v,nMu)\n",
        "        #compute the metric value\n",
        "        mv = mseMetric(u,v_t)\n",
        "        # compute the metric derivative\n",
        "        dMu = mbdMSE(u,v_t,dT)\n",
        "        # update the parameters\n",
        "        nMu = np.array(nMu) - ( stepSize * np.array(dMu ))\n",
        "        print(i,\": \",mv,\" , \", nMu)\n",
        "    return nMu"
      ],
      "metadata": {
        "id": "KO5ccegxVivM"
      },
      "execution_count": null,
      "outputs": []
    },
    {
      "cell_type": "code",
      "source": [
        "nMu = init_t()\n",
        "#nMu = convert(nMu)\n",
        "\n",
        "v = source_img\n",
        "\n",
        "v_t = imTransform(v,nMu.tolist)"
      ],
      "metadata": {
        "id": "r1ySME1L8gx7"
      },
      "execution_count": null,
      "outputs": []
    },
    {
      "cell_type": "code",
      "source": [],
      "metadata": {
        "id": "t2OtntY5NvI_"
      },
      "execution_count": null,
      "outputs": []
    },
    {
      "cell_type": "code",
      "source": [
        "grad_t"
      ],
      "metadata": {
        "id": "KPpjvb00_5L1"
      },
      "execution_count": null,
      "outputs": []
    },
    {
      "cell_type": "code",
      "source": [
        "plt.imshow(pred_grad[:,:, 1])"
      ],
      "metadata": {
        "id": "7eB8spwR91_P"
      },
      "execution_count": null,
      "outputs": []
    },
    {
      "cell_type": "code",
      "source": [
        "s2.shape"
      ],
      "metadata": {
        "id": "BVdl7sVr-BWR"
      },
      "execution_count": null,
      "outputs": []
    },
    {
      "cell_type": "code",
      "source": [],
      "metadata": {
        "id": "klvWhf4s95t4"
      },
      "execution_count": null,
      "outputs": []
    },
    {
      "cell_type": "code",
      "source": [
        "plt.imshow(pred_img)"
      ],
      "metadata": {
        "id": "UNgjNST_7k6M"
      },
      "execution_count": null,
      "outputs": []
    },
    {
      "cell_type": "code",
      "source": [
        "\n",
        "\n"
      ],
      "metadata": {
        "id": "nhM1Jgyq12GA"
      },
      "execution_count": null,
      "outputs": []
    },
    {
      "cell_type": "code",
      "source": [
        "plt.imshow(target_img)"
      ],
      "metadata": {
        "id": "h5t7SjH-zYIQ"
      },
      "execution_count": null,
      "outputs": []
    },
    {
      "cell_type": "code",
      "source": [
        "source_img.shape"
      ],
      "metadata": {
        "id": "_zK6Q5ro5kMe"
      },
      "execution_count": null,
      "outputs": []
    },
    {
      "cell_type": "code",
      "source": [
        "source_matrix[:, 2].shape"
      ],
      "metadata": {
        "id": "VxCr-jbqzf8-"
      },
      "execution_count": null,
      "outputs": []
    },
    {
      "cell_type": "code",
      "source": [],
      "metadata": {
        "id": "nPFY4OGS3D1n"
      },
      "execution_count": null,
      "outputs": []
    },
    {
      "cell_type": "code",
      "source": [
        "source_matrix.shape"
      ],
      "metadata": {
        "id": "s77qva8Qw0hs"
      },
      "execution_count": null,
      "outputs": []
    },
    {
      "cell_type": "code",
      "source": [
        "Paul(a, z)"
      ],
      "metadata": {
        "id": "dnjz-ypPyXag"
      },
      "execution_count": null,
      "outputs": []
    },
    {
      "cell_type": "code",
      "source": [],
      "metadata": {
        "id": "wWdBbvDXybFt"
      },
      "execution_count": null,
      "outputs": []
    },
    {
      "cell_type": "code",
      "source": [],
      "metadata": {
        "id": "AUz3r_b_0be4"
      },
      "execution_count": null,
      "outputs": []
    },
    {
      "cell_type": "code",
      "source": [],
      "metadata": {
        "id": "28sdwBimye6c"
      },
      "execution_count": null,
      "outputs": []
    },
    {
      "cell_type": "code",
      "source": [],
      "metadata": {
        "id": "Q1kBjr6Fynff"
      },
      "execution_count": null,
      "outputs": []
    },
    {
      "cell_type": "code",
      "source": [
        "c"
      ],
      "metadata": {
        "id": "mTAtFrceyqYJ"
      },
      "execution_count": null,
      "outputs": []
    },
    {
      "cell_type": "code",
      "source": [
        "def Paul(a, b):\n",
        "    c = np.empty((a.size + b.size,), dtype=a.dtype)\n",
        "    c[0::2] = a\n",
        "    c[1::2] = b\n",
        "    return c"
      ],
      "metadata": {
        "id": "J9uziFa3w4Sq"
      },
      "execution_count": null,
      "outputs": []
    },
    {
      "cell_type": "code",
      "source": [
        "a = array([1, 3, 5])\n",
        "b = array([2, 4, 6])"
      ],
      "metadata": {
        "id": "pNJtNgvRxM4f"
      },
      "execution_count": null,
      "outputs": []
    },
    {
      "cell_type": "code",
      "source": [
        "#init transform\n",
        "x0 = init_x()\n",
        "#get the target transform\n",
        "#target_img =  transform_image(source_img, x0)\n",
        "#get the points from source\n",
        "\n",
        "#transform the points\n",
        "\n",
        "target_matrix = transform_points\n"
      ],
      "metadata": {
        "id": "14eRylX2I3nL"
      },
      "execution_count": null,
      "outputs": []
    },
    {
      "cell_type": "code",
      "source": [
        "\n",
        "\n",
        "def transform_points_v2(points, x0):\n",
        "  return np.matmul(points, x0)\n",
        "\n",
        "def create_image(target_points, source_img):\n",
        "  #init empty\n",
        "  transformed_img = np.zeros(source_img.shape)\n",
        "  #iterate\n",
        "  for arr in target_points:\n",
        "    x = int(arr[0])\n",
        "    y = int(arr[1])\n",
        "    #set (notice y and then x)\n",
        "    transformed_img[y, x] = arr[2]\n",
        "  return transformed_img\n"
      ],
      "metadata": {
        "id": "OV6KaU8xkExR"
      },
      "execution_count": null,
      "outputs": []
    },
    {
      "cell_type": "code",
      "source": [
        "import math\n",
        "\n",
        "def sigmoid(x):\n",
        "  return 1 / (1 + math.exp(-x))"
      ],
      "metadata": {
        "id": "z9ir8MjduvNp"
      },
      "execution_count": null,
      "outputs": []
    },
    {
      "cell_type": "code",
      "source": [
        "a = np.array([[1, 0], [0, 1]])\n",
        "b = np.array([[2, 3], [-3, 2]])\n",
        "c = np.array([[4, 4], [4, 4]])"
      ],
      "metadata": {
        "id": "2F-8uoiPDKOx"
      },
      "execution_count": null,
      "outputs": []
    },
    {
      "cell_type": "code",
      "source": [
        "a"
      ],
      "metadata": {
        "id": "a52UcUgcKWtd"
      },
      "execution_count": null,
      "outputs": []
    },
    {
      "cell_type": "code",
      "source": [
        "b"
      ],
      "metadata": {
        "id": "IUZHuyssKYZc"
      },
      "execution_count": null,
      "outputs": []
    },
    {
      "cell_type": "code",
      "source": [
        "c"
      ],
      "metadata": {
        "id": "2k-_RZmYKZjh"
      },
      "execution_count": null,
      "outputs": []
    },
    {
      "cell_type": "code",
      "source": [
        "a @ b @ c"
      ],
      "metadata": {
        "id": "i8AurUuVJsEk"
      },
      "execution_count": null,
      "outputs": []
    },
    {
      "cell_type": "code",
      "source": [
        "x0 = init_x()\n",
        "xi = x0.copy()\n",
        "lr = 1e-1\n",
        "source_points = get_points(source_img)\n",
        "\n",
        "for i in range(500):\n",
        "  print(i)\n",
        "\n",
        "  target_points = transform_points_v2(source_points, x0)\n",
        "  target_image = create_image(target_points, source_img)\n",
        "  grad = compute_grad(x0, target_image, source_points)\n",
        "  x0 = x0 - lr * grad\n",
        "\n",
        "\n",
        "x_final = x0"
      ],
      "metadata": {
        "id": "G-N48nGTgnic"
      },
      "execution_count": null,
      "outputs": []
    },
    {
      "cell_type": "code",
      "source": [
        "xi"
      ],
      "metadata": {
        "id": "7gBrx7tUwvN7"
      },
      "execution_count": null,
      "outputs": []
    },
    {
      "cell_type": "code",
      "source": [
        "x_final"
      ],
      "metadata": {
        "id": "3XEnupLbxVD5"
      },
      "execution_count": null,
      "outputs": []
    },
    {
      "cell_type": "code",
      "source": [
        "plt.imshow(target_image)"
      ],
      "metadata": {
        "id": "KshR9JjBxlFI"
      },
      "execution_count": null,
      "outputs": []
    },
    {
      "cell_type": "code",
      "source": [
        "target_image = sigmoid(target_image)"
      ],
      "metadata": {
        "id": "Z2YU1Ofqu6eU"
      },
      "execution_count": null,
      "outputs": []
    },
    {
      "cell_type": "code",
      "source": [
        "def compute_grad(x0, target_image, source_points):\n",
        "  #init\n",
        "  all_grad = np.zeros(x0.shape)\n",
        "  #compute gradient\n",
        "  grad_target_img = mbImageGradient(target_image)\n",
        "  #iterate\n",
        "  for i, x in enumerate(source_points):\n",
        "    s1 = target_image[int(x[0]), int(x[1])] - source_img[int(x[0]), int(x[1])]\n",
        "    #for a single point get gradients\n",
        "    s2 = np.expand_dims(grad_target_img[int(x[0]), int(x[1])], axis = 1)\n",
        "    #other\n",
        "    s3 = np.expand_dims(source_points[i, ], axis = 0)\n",
        "    #point_grad\n",
        "    point_grad = s2 @ s3\n",
        "    #add\n",
        "    all_grad += s1 * point_grad\n",
        "  #divide\n",
        "  final_grad = 2 * all_grad / (i + 1)\n",
        "  #return\n",
        "  return final_grad\n"
      ],
      "metadata": {
        "id": "DlvVnaLWv3XV"
      },
      "execution_count": null,
      "outputs": []
    },
    {
      "cell_type": "code",
      "source": [],
      "metadata": {
        "id": "i4yTW7UQsVTn"
      },
      "execution_count": null,
      "outputs": []
    },
    {
      "cell_type": "code",
      "source": [
        "final_grad"
      ],
      "metadata": {
        "id": "Yncn-bX7ulsq"
      },
      "execution_count": null,
      "outputs": []
    },
    {
      "cell_type": "code",
      "source": [
        "s3"
      ],
      "metadata": {
        "id": "8fFzIhbVjAK1"
      },
      "execution_count": null,
      "outputs": []
    },
    {
      "cell_type": "code",
      "source": [
        "final_grad"
      ],
      "metadata": {
        "id": "3bbyPHC4pBrp"
      },
      "execution_count": null,
      "outputs": []
    },
    {
      "cell_type": "code",
      "source": [
        "def mbImageGradient(F):\n",
        "    # retrun:\n",
        "    # image gradient for each dimension: [dF/dx,dF/dy,...]\n",
        "    # image magnitude dFmag= math.sqrt(dx^2+dy^2)\n",
        "    # image direction: theta = math.atan(dy/dx)\n",
        "\n",
        "    # using Sobel kernel\n",
        "    SbX2D = np.array([[1,0,-1],[2,0,-2],[1,0,-1]])\n",
        "    SbY2D = np.array([[1,2,1 ],[0,0,0 ],[-1,-2,-1]])\n",
        "    dX = ndimage.convolve(F, SbX2D, mode='constant', cval=0.0)\n",
        "    dY = ndimage.convolve(F, SbY2D, mode='constant', cval=0.0)\n",
        "\n",
        "    dZ = np.zeros(dX.shape)\n",
        "    g = np.dstack((dX,dY,dZ))\n",
        "    return g"
      ],
      "metadata": {
        "id": "Jw-SR4v3pGdr"
      },
      "execution_count": null,
      "outputs": []
    },
    {
      "cell_type": "code",
      "source": [],
      "metadata": {
        "id": "0yngOdB7gsZW"
      },
      "execution_count": null,
      "outputs": []
    },
    {
      "cell_type": "code",
      "source": [],
      "metadata": {
        "id": "aMsSR-YXq66H"
      },
      "execution_count": null,
      "outputs": []
    },
    {
      "cell_type": "code",
      "source": [],
      "metadata": {
        "id": "-y0979HSjRwy"
      },
      "execution_count": null,
      "outputs": []
    },
    {
      "cell_type": "code",
      "source": [
        "grad_target_img.shape"
      ],
      "metadata": {
        "id": "OIzMZq2Ye2RG"
      },
      "execution_count": null,
      "outputs": []
    },
    {
      "cell_type": "code",
      "source": [
        "temp_img()"
      ],
      "metadata": {
        "id": "1bn8rmwPgI7v"
      },
      "execution_count": null,
      "outputs": []
    },
    {
      "cell_type": "code",
      "source": [
        "#first part\n",
        "target_img[0, 0] - source_img[0, 0]"
      ],
      "metadata": {
        "id": "F4VG2RxEMfGI"
      },
      "execution_count": null,
      "outputs": []
    },
    {
      "cell_type": "code",
      "source": [
        "#second part\n",
        "grad_img = mbImageGradient(target_img)"
      ],
      "metadata": {
        "id": "DxMuvQYWNj30"
      },
      "execution_count": null,
      "outputs": []
    },
    {
      "cell_type": "code",
      "source": [
        "v = np.array([dx, dy])"
      ],
      "metadata": {
        "id": "T-tTWqrNQNKB"
      },
      "execution_count": null,
      "outputs": []
    },
    {
      "cell_type": "code",
      "source": [
        "v.shape"
      ],
      "metadata": {
        "id": "ql-ore3ubQNP"
      },
      "execution_count": null,
      "outputs": []
    },
    {
      "cell_type": "code",
      "source": [],
      "metadata": {
        "id": "U7fSjIlEbTJj"
      },
      "execution_count": null,
      "outputs": []
    },
    {
      "cell_type": "code",
      "source": [
        "dx = grad_img[0, 0, 0]\n",
        "dy = grad_img[0, 0, 1]"
      ],
      "metadata": {
        "id": "xt1PfYUHOcR7"
      },
      "execution_count": null,
      "outputs": []
    },
    {
      "cell_type": "code",
      "source": [
        "# Get x-gradient in \"sx\"\n",
        "sx = ndimage.sobel(target_img,axis=0,mode='constant')\n",
        "# Get y-gradient in \"sy\"\n",
        "sy = ndimage.sobel(target_img,axis=1,mode='constant')\n",
        "# Get square root of sum of squares\n",
        "sobel=np.hypot(sx,sy)"
      ],
      "metadata": {
        "id": "GIkr_SobNO5W"
      },
      "execution_count": null,
      "outputs": []
    },
    {
      "cell_type": "code",
      "source": [
        "plt.imshow(sobel)"
      ],
      "metadata": {
        "id": "2_PBXiWJK-fs"
      },
      "execution_count": null,
      "outputs": []
    },
    {
      "cell_type": "code",
      "source": [
        "#mse metric\n",
        "def mseMetric(u,v):\n",
        "  mbMSE  = 0.0\n",
        "  n = 1\n",
        "  for i in range(len(u.shape)):\n",
        "      n =  n * u.shape[i]\n",
        "  mbMSE  = np.sum([pow(x-y,2) for x,y in zip(u,v) ]) / float(n)\n",
        "  #mbSMSE = math.sqrt(mbMSE)\n",
        "  return mbMSE\n",
        "\n",
        "#mse derivative\n",
        "def mbdMSE(u,v,dT = None):\n",
        "    # dMSE the derivative of mse with repect to the transform parameters mu\n",
        "    # dM   =  d M(y)/ dy    # gradient of the transformed moving image\n",
        "    # dT   =  D T(x,mu) / dmu # gradient of the transformation with respect to its parameters mu\n",
        "    # dMdT = d M(y)/ dy * D T(x,mu) / dmu\n",
        "\n",
        "    dMSE  = 0.0\n",
        "    # compute the gradient of the transformed image\n",
        "    #dM = imGradient(v)\n",
        "    dM = mbImageGradient(v)\n",
        "\n",
        "    # the first term in eq.4, a scalar\n",
        "    n = 1\n",
        "    for i in range(len(u.shape)):\n",
        "        n =  n * u.shape[i]\n",
        "    dmse = (2/float(n))* (v-u)\n",
        "\n",
        "    # second and third terms in eq.4\n",
        "    dMdT = np.array([0.0,0.0])\n",
        "    for i in range(dM.shape[0]):\n",
        "        for j in range(dM.shape[1]):\n",
        "            dx = dM[i,j,0]\n",
        "            dy = dM[i,j,1]\n",
        "            dT = trans_mat(i, j)\n",
        "            dxy0 = np.dot([dx,dy],dT[:,0])\n",
        "            dxy1 = np.dot([dx,dy],dT[:,1])\n",
        "            dMdT[0] = dMdT[0] + dmse[i,j]*dxy0\n",
        "            dMdT[1] = dMdT[1] + dmse[i,j]*dxy1\n",
        "            # we can also use the gradient directly as dT is just identity matrix\n",
        "            # dMdT[0] = dMdT[0] + dmse[i,j]*dx\n",
        "            # dMdT[1] = dMdT[1] + dmse[i,j]*dy\n",
        "\n",
        "    dMSE = np.array([dMdT[0], dMdT[1]])\n",
        "    return     dMSE  # this should be a vector of length d dimension\n",
        "\n",
        "def mbImageGradient(F):\n",
        "    # retrun:\n",
        "    # image gradient for each dimension: [dF/dx,dF/dy,...]\n",
        "    # image magnitude dFmag= math.sqrt(dx^2+dy^2)\n",
        "    # image direction: theta = math.atan(dy/dx)\n",
        "\n",
        "    # using Sobel kernel\n",
        "    SbX2D = np.array([[1,0,-1],[2,0,-2],[1,0,-1]])\n",
        "    SbY2D = np.array([[1,2,1 ],[0,0,0 ],[-1,-2,-1]])\n",
        "    dX = ndimage.convolve(F, SbX2D, mode='constant', cval=0.0)\n",
        "    dY = ndimage.convolve(F, SbY2D, mode='constant', cval=0.0)\n",
        "    g = np.dstack((dX,dY))\n",
        "    return g"
      ],
      "metadata": {
        "id": "RN6ObtmgcaP-"
      },
      "execution_count": null,
      "outputs": []
    },
    {
      "cell_type": "code",
      "source": [
        "def trans_mat(x, y):\n",
        "  r = np.sqrt((x ** 2 + y ** 2)) + 1e-6\n",
        "  return np.array([[(x ** 2) / r, -(y ** 2) / r], [(x * y) / r, (x * y) / r]])"
      ],
      "metadata": {
        "id": "qqY0G0SGTDOb"
      },
      "execution_count": null,
      "outputs": []
    },
    {
      "cell_type": "code",
      "source": [
        "def trans_mat(x, y):\n",
        "  return np.array([[x, 0, y, 0, 1, 0], [0, x, 0, y, 0, 1]])"
      ],
      "metadata": {
        "id": "OtgCpT-WUIVe"
      },
      "execution_count": null,
      "outputs": []
    },
    {
      "cell_type": "code",
      "source": [
        "from scipy import ndimage, misc, signal, stats"
      ],
      "metadata": {
        "id": "xlwA2NNUGIMr"
      },
      "execution_count": null,
      "outputs": []
    },
    {
      "cell_type": "code",
      "source": [
        "!pip install SimpleITK\n",
        "\n",
        "import SimpleITK as sitk"
      ],
      "metadata": {
        "id": "t5ELl7s-GJka"
      },
      "execution_count": null,
      "outputs": []
    },
    {
      "cell_type": "code",
      "source": [
        "#mse metric\n",
        "def mseMetric(u,v):\n",
        "  mbMSE  = 0.0\n",
        "  n = 1\n",
        "  for i in range(len(u.shape)):\n",
        "      n =  n * u.shape[i]\n",
        "  mbMSE  = np.sum([pow(x-y,2) for x,y in zip(u,v) ]) / float(n)\n",
        "  #mbSMSE = math.sqrt(mbMSE)\n",
        "  return mbMSE\n",
        "\n",
        "#mse derivative\n",
        "def mbdMSE(u,v,dT = None):\n",
        "    # dMSE the derivative of mse with repect to the transform parameters mu\n",
        "    # dM   =  d M(y)/ dy    # gradient of the transformed moving image\n",
        "    # dT   =  D T(x,mu) / dmu # gradient of the transformation with respect to its parameters mu\n",
        "    # dMdT = d M(y)/ dy * D T(x,mu) / dmu\n",
        "\n",
        "    dMSE  = 0.0\n",
        "    # compute the gradient of the transformed image\n",
        "    #dM = imGradient(v)\n",
        "    dM = mbImageGradient(v)\n",
        "\n",
        "    # the first term in eq.4, a scalar\n",
        "    n = 1\n",
        "    for i in range(len(u.shape)):\n",
        "        n =  n * u.shape[i]\n",
        "    dmse = (2/float(n))* (v-u)\n",
        "\n",
        "    # second and third terms in eq.4\n",
        "    dMdT = np.array([0.0,0.0])\n",
        "    for i in range(dM.shape[0]):\n",
        "        for j in range(dM.shape[1]):\n",
        "            dx = dM[i,j,0]\n",
        "            dy = dM[i,j,1]\n",
        "            #dT = trans_mat(i, j)\n",
        "            dxy0 = np.dot([dx,dy],dT[:,0])\n",
        "            dxy1 = np.dot([dx,dy],dT[:,1])\n",
        "            dMdT[0] = dMdT[0] + dmse[i,j]*dxy0\n",
        "            dMdT[1] = dMdT[1] + dmse[i,j]*dxy1\n",
        "            # we can also use the gradient directly as dT is just identity matrix\n",
        "            # dMdT[0] = dMdT[0] + dmse[i,j]*dx\n",
        "            # dMdT[1] = dMdT[1] + dmse[i,j]*dy\n",
        "\n",
        "    dMSE = np.array([dMdT[0], dMdT[1]])\n",
        "    return     dMSE  # this should be a vector of length d dimension\n",
        "\n",
        "def mbImageGradient(F):\n",
        "    # retrun:\n",
        "    # image gradient for each dimension: [dF/dx,dF/dy,...]\n",
        "    # image magnitude dFmag= math.sqrt(dx^2+dy^2)\n",
        "    # image direction: theta = math.atan(dy/dx)\n",
        "\n",
        "    # using Sobel kernel\n",
        "    SbX2D = np.array([[1,0,-1],[2,0,-2],[1,0,-1]])\n",
        "    SbY2D = np.array([[1,2,1 ],[0,0,0 ],[-1,-2,-1]])\n",
        "    dX = ndimage.convolve(F, SbX2D, mode='constant', cval=0.0)\n",
        "    dY = ndimage.convolve(F, SbY2D, mode='constant', cval=0.0)\n",
        "    g = np.dstack((dX,dY))\n",
        "    return g"
      ],
      "metadata": {
        "id": "8duVRKR6Rs0q"
      },
      "execution_count": null,
      "outputs": []
    },
    {
      "cell_type": "code",
      "source": [],
      "metadata": {
        "id": "5PxhIIpfGA64"
      },
      "execution_count": null,
      "outputs": []
    },
    {
      "cell_type": "code",
      "source": [
        "def imTransform(imgA,tPars):\n",
        "    #input image array and a transformation matrix, return transformed image array\n",
        "    img = sitk.GetImageFromArray(imgA)\n",
        "    origin = img.GetOrigin()\n",
        "    img.SetOrigin((0,0,0))\n",
        "    transform = sitk.TranslationTransform(2)\n",
        "    transform.SetParameters(tPars)\n",
        "    outimage=sitk.Resample(img,img.GetSize(),transform,sitk.sitkLinear,[0,0,0], img.GetSpacing(), img.GetDirection())\n",
        "    outimage.SetOrigin(origin)\n",
        "    resultImage = sitk.GetArrayFromImage(outimage)\n",
        "    return resultImage\n",
        "\n",
        "# image registration using gradient descent\n",
        "def gdOptimiser(u,v,numIterations,stepSize):\n",
        "    # initial parameters\n",
        "    nMu = [0,0]\n",
        "    dT = np.array([[1,0],[0,1]])\n",
        "    # start the optimisation\n",
        "    for i in range(numIterations):\n",
        "        # transform the moving image using nMu\n",
        "        v_t = imTransform(v,nMu)\n",
        "        #compute the metric value\n",
        "        mv = mseMetric(u,v_t)\n",
        "        # compute the metric derivative\n",
        "        dMu = mbdMSE(u,v_t,dT)\n",
        "        # update the parameters\n",
        "        nMu = np.array(nMu) - ( stepSize * np.array(dMu ))\n",
        "        print(i,\": \",mv,\" , \", nMu)\n",
        "    return nMu"
      ],
      "metadata": {
        "id": "s8k8rTFccJzz"
      },
      "execution_count": null,
      "outputs": []
    },
    {
      "cell_type": "code",
      "source": [
        "transform"
      ],
      "metadata": {
        "id": "cO0cl1DDT1MZ"
      },
      "execution_count": null,
      "outputs": []
    },
    {
      "cell_type": "code",
      "source": [
        "transform = gdOptimiser(source_img, all_target_img, 1000, 1e-1)"
      ],
      "metadata": {
        "id": "R00hJsvVGPmY"
      },
      "execution_count": null,
      "outputs": []
    },
    {
      "cell_type": "code",
      "source": [
        "v_t = imTransform(source_img,transform)\n"
      ],
      "metadata": {
        "id": "ZceYZp_4GxZ_"
      },
      "execution_count": null,
      "outputs": []
    },
    {
      "cell_type": "code",
      "source": [
        "transform.shape"
      ],
      "metadata": {
        "id": "5L9655ZlNpTF"
      },
      "execution_count": null,
      "outputs": []
    },
    {
      "cell_type": "code",
      "source": [
        "plt.imshow(v_t)"
      ],
      "metadata": {
        "id": "3W49wNJUHWlg"
      },
      "execution_count": null,
      "outputs": []
    },
    {
      "cell_type": "code",
      "source": [
        "plt.imshow(target_img)\n",
        "#https://people.computing.clemson.edu/~dhouse/courses/401/notes/affines-matrices.pdf\n",
        "#http://16720.courses.cs.cmu.edu/lec/alignment_lec11.pdf\n",
        "#https://maelfabien.github.io/computervision/cv_5/#ii-computing-transformations\n",
        "#https://maelfabien.github.io/computervision/cv_5/#2-affine-transformation"
      ],
      "metadata": {
        "id": "NraGfC2QHawW"
      },
      "execution_count": null,
      "outputs": []
    },
    {
      "cell_type": "code",
      "source": [
        "\n",
        "\n",
        "#def loss_fn\n",
        "def loss_fn(trans_matrix, source_img, target_img):\n",
        "  #reshape\n",
        "  t_matrix = to_2d(trans_matrix)\n",
        "  #apply transform\n",
        "  predict_img = transform_image(source_img, t_matrix)\n",
        "  #compare\n",
        "  return dice_loss(predict_img, target_img)\n",
        "\n",
        "#dice score adapted from https://gist.github.com/JDWarner/6730747\n",
        "def dice_loss(im1, im2):\n",
        "\n",
        "    #astype\n",
        "    im1 = np.asarray(im1).astype(np.bool)\n",
        "    im2 = np.asarray(im2).astype(np.bool)\n",
        "\n",
        "    #incorrect shape\n",
        "    if im1.shape != im2.shape:\n",
        "        raise ValueError(\"Shape mismatch: im1 and im2 must have the same shape.\")\n",
        "\n",
        "    # Compute Dice coefficient\n",
        "    intersection = np.logical_and(im1, im2)\n",
        "\n",
        "    return 1 - (2. * intersection.sum() / (im1.sum() + im2.sum()))\n",
        "\n",
        "#flatten\n",
        "def to_1d(z):\n",
        "    return z.flatten()\n",
        "\n",
        "#unflatten\n",
        "def to_2d(z, size = (3, 3)):\n",
        "    return np.reshape(z, size)"
      ],
      "metadata": {
        "id": "CMhzEz9m5cIO"
      },
      "execution_count": null,
      "outputs": []
    },
    {
      "cell_type": "code",
      "source": [
        "norm(output)"
      ],
      "metadata": {
        "id": "KPDqgaktODJz"
      },
      "execution_count": null,
      "outputs": []
    },
    {
      "cell_type": "code",
      "source": [
        "#norm\n",
        "def norm(x, a = 0, b = 34):\n",
        "  return ((b - a) * (x - x.min()) / (x.max() - x.min())) + a\n",
        "#https://github.com/MedicalImageAnalysisTutorials/ImageRegistrationTutorial/blob/master/m2p_image_registration_example_mse_translation_GradientDescent.ipynb"
      ],
      "metadata": {
        "id": "yzO3FDzvOLtQ"
      },
      "execution_count": null,
      "outputs": []
    },
    {
      "cell_type": "code",
      "source": [
        "#function\n",
        "x0 = init_x()\n",
        "lr = 1e-6\n",
        "#get new target image\n",
        "x, y = numpy.where(source_img == 1)\n",
        "#concat\n",
        "source_matrix2 = np.concatenate((np.expand_dims(y, axis = 1), np.expand_dims(x, axis = 1)), axis = 1)\n",
        "points_matrix = np.append(source_matrix2, np.expand_dims(np.ones(source_matrix2.shape[0]), 1), 1)\n",
        "\n",
        "for iter in range(500):\n",
        "  output = np.dot(points_matrix, x0)\n",
        "  #init empty\n",
        "  transformed_img = np.zeros(source_img.shape)\n",
        "  #iterate\n",
        "  for arr in output:\n",
        "    x = int(arr[0])\n",
        "    y = int(arr[1])\n",
        "    #set (notice y and then x)\n",
        "    if x > 34:\n",
        "      x = 34\n",
        "    if x < 0:\n",
        "      x = 0\n",
        "    if y > 34:\n",
        "      y = 34\n",
        "    if y < 0:\n",
        "      y = 34\n",
        "    transformed_img[y, x] = 1\n",
        "    loss = dice_loss(transformed_img, target_img)\n",
        "\n",
        "    x0 += lr * loss * x0\n",
        "\n",
        "    print(loss)\n",
        "#https://stackoverflow.com/questions/9876290/how-do-i-compute-derivative-using-numpy"
      ],
      "metadata": {
        "id": "tC1F29SdKVrr"
      },
      "execution_count": null,
      "outputs": []
    },
    {
      "cell_type": "code",
      "source": [
        "x = numpy.linspace(0,10,1000)\n",
        "dx = x[1]-x[0]\n",
        "y = x**2 + 1\n",
        "dydx = numpy.gradient(y, dx)"
      ],
      "metadata": {
        "id": "3KNyESzAllql"
      },
      "execution_count": null,
      "outputs": []
    },
    {
      "cell_type": "code",
      "source": [
        "dydx.shape#https://www.google.com/search?sca_esv=556623883&sxsrf=AB5stBgVed4CjEEcnD1aX6FCHvLRG0zxIw:1691977730916&q=matrix+multiplication+derivative&tbm=isch&source=lnms&sa=X&ved=2ahUKEwil0vmchNuAAxW1AzQIHeFuDAQQ0pQJegQIChAB&biw=1482&bih=792&dpr=1.25#imgrc=Z7JNUkR5FzF4qM\n",
        "#https://en.wikipedia.org/wiki/Sobel_operator\n",
        "#https://www.google.com/search?q=scaling+rotation+translation+matrix&tbm=isch&ved=2ahUKEwi0zN6rgtuAAxUoH0QIHXJ1BIQQ2-cCegQIABAA&oq=scaling+rotation+translation+matrix&gs_lcp=CgNpbWcQAzoECCMQJzoGCAAQCBAeOgcIABAYEIAEULwFWKsOYM8PaABwAHgAgAFMiAGEBJIBATiYAQCgAQGqAQtnd3Mtd2l6LWltZ8ABAQ&sclient=img&ei=CYbZZPSjA6i-kPIP8uqRoAg&bih=792&biw=1482#imgrc=JXi-qqwo7lnYoM"
      ],
      "metadata": {
        "id": "iOYqxklpLN97"
      },
      "execution_count": null,
      "outputs": []
    },
    {
      "cell_type": "code",
      "source": [
        "#https://github.com/GFleishman/greedypy/blob/master/greedypy/greedypy_registration_method.py"
      ],
      "metadata": {
        "id": "InPkj2tQLHxj"
      },
      "execution_count": null,
      "outputs": []
    },
    {
      "cell_type": "code",
      "source": [
        "#https://math.stackexchange.com/questions/765275/matrix-partial-derivative"
      ],
      "metadata": {
        "id": "MWJZEJDFMTYF"
      },
      "execution_count": null,
      "outputs": []
    },
    {
      "cell_type": "code",
      "source": [
        "transformed_img"
      ],
      "metadata": {
        "id": "DpIem4FMMajo"
      },
      "execution_count": null,
      "outputs": []
    },
    {
      "cell_type": "code",
      "source": [
        "#init\n",
        "x = to_1d(init_x())\n",
        "#x = np.random.uniform(low=-20, high=20, size=(3,3))\n",
        "res = minimize(loss_fn, x0 = x, args = (source_img, target_img), method='BFGS',\n",
        "               options={'maxiter': 10000, 'disp': True, 'adaptive': True, 'xatol': 1e-10, 'fatol': 1e-10, 'return_all' : True}\n",
        "              )\n",
        "\n",
        "#2d\n",
        "new_trans_matrix = to_2d(res.x)\n",
        "#get new image from the transformation matrix and source image\n",
        "new_img = registered(new_trans_matrix, source_img)\n",
        "\n",
        "#visualize\n",
        "source_img_tx3 = new_img\n",
        "check_results(source_img_tx3, target_img) # the images should (almost) look the same"
      ],
      "metadata": {
        "id": "9ehYswUNw9ym"
      },
      "execution_count": null,
      "outputs": []
    },
    {
      "cell_type": "code",
      "source": [
        "def rosen(x):\n",
        "    \"\"\"The Rosenbrock function\"\"\"\n",
        "    return sum(100.0*(x[1:]-x[:-1]**2.0)**2.0 + (1-x[:-1])**2.0)"
      ],
      "metadata": {
        "id": "0NhoPrQe7-ao"
      },
      "execution_count": null,
      "outputs": []
    },
    {
      "cell_type": "code",
      "source": [
        "x0 = np.array([1.3, 10, 0.8, 1.9, 1.2])\n",
        "res = minimize(rosen, x0, method='nelder-mead',\n",
        "               options={'xatol': 1e-8, 'disp': True})"
      ],
      "metadata": {
        "id": "HOmP4dTu3jWN"
      },
      "execution_count": null,
      "outputs": []
    },
    {
      "cell_type": "code",
      "source": [
        "x"
      ],
      "metadata": {
        "id": "nyJRP-_B9Buk"
      },
      "execution_count": null,
      "outputs": []
    },
    {
      "cell_type": "code",
      "source": [
        "res"
      ],
      "metadata": {
        "id": "VgOofOoX9DjQ"
      },
      "execution_count": null,
      "outputs": []
    },
    {
      "cell_type": "code",
      "source": [
        "from scipy.optimize import minimize\n",
        "import numpy as np\n",
        "import math\n",
        "import matplotlib.pyplot as plt\n",
        "\n",
        "### objective function ###\n",
        "def Rlzd_Vol1(w1, S):\n",
        "    L = len(S) - 1\n",
        "    m = len(S[0])\n",
        "\n",
        "    # Compute log returns, size (L, m)\n",
        "    LR = np.array([np.diff(np.log(S[:,j])) for j in xrange(m)]).T\n",
        "\n",
        "    # Compute weighted returns\n",
        "    w = np.array([w1, 1.0 - w1])\n",
        "    R = np.array([np.sum(w*LR[i,:]) for i in xrange(L)])  # size L\n",
        "\n",
        "    # Compute Realized Vol.\n",
        "    vol = np.std(R) * math.sqrt(260)\n",
        "\n",
        "    return vol\n",
        "\n",
        "# stock prices\n",
        "S = np.exp(np.random.normal(size=(50,2)))\n",
        "\n",
        "### optimization ###\n",
        "obj_fun = lambda w1: Rlzd_Vol1(w1, S)\n",
        "w1_0 = 0.1\n",
        "\n",
        "res = minimize(obj_fun, w1_0)\n",
        "\n",
        "\n",
        "### Plot objective function ###\n",
        "fig_obj = plt.figure()\n",
        "ax_obj = fig_obj.add_subplot(111)\n",
        "n = 100\n",
        "w1 = np.linspace(0.0, 1.0, n)\n",
        "y_obj = np.zeros(n)\n",
        "for i in xrange(n):\n",
        "    y_obj[i] = obj_fun(w1[i])\n",
        "ax_obj.plot(w1, y_obj)\n",
        "plt.show()"
      ],
      "metadata": {
        "id": "9-y1wGur9fX0"
      },
      "execution_count": null,
      "outputs": []
    },
    {
      "cell_type": "code",
      "source": [
        "res.x"
      ],
      "metadata": {
        "id": "PuETt-RKD-vy"
      },
      "execution_count": null,
      "outputs": []
    },
    {
      "cell_type": "code",
      "source": [
        "x.shape"
      ],
      "metadata": {
        "id": "vroh1yaEEKNy"
      },
      "execution_count": null,
      "outputs": []
    }
  ],
  "metadata": {
    "interpreter": {
      "hash": "f2f7ec7f24822a77954a16386e6454899950191e95b6a4951530c082877018e3"
    },
    "kernelspec": {
      "display_name": "Python 3",
      "name": "python3"
    },
    "language_info": {
      "codemirror_mode": {
        "name": "ipython",
        "version": 3
      },
      "file_extension": ".py",
      "mimetype": "text/x-python",
      "name": "python",
      "nbconvert_exporter": "python",
      "pygments_lexer": "ipython3",
      "version": "3.7.6"
    },
    "orig_nbformat": 4,
    "colab": {
      "provenance": [],
      "toc_visible": true
    }
  },
  "nbformat": 4,
  "nbformat_minor": 0
}