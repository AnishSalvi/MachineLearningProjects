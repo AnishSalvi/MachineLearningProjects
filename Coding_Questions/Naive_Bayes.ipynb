{
  "nbformat": 4,
  "nbformat_minor": 0,
  "metadata": {
    "colab": {
      "provenance": []
    },
    "kernelspec": {
      "name": "python3",
      "display_name": "Python 3"
    },
    "language_info": {
      "name": "python"
    }
  },
  "cells": [
    {
      "cell_type": "code",
      "execution_count": 1,
      "metadata": {
        "colab": {
          "base_uri": "https://localhost:8080/"
        },
        "id": "OzihPis2-aDw",
        "outputId": "c874d905-0e0a-4812-eb9f-d0d54a38216c"
      },
      "outputs": [
        {
          "output_type": "stream",
          "name": "stdout",
          "text": [
            "1.0\n"
          ]
        }
      ],
      "source": [
        "#imports\n",
        "import sklearn\n",
        "from sklearn import datasets\n",
        "import numpy as np\n",
        "from sklearn.model_selection import train_test_split\n",
        "\n",
        "#class\n",
        "class NaiveBayes:\n",
        "  def fit(self, x_train, y_train):\n",
        "    ns, nf = x_train.shape\n",
        "    self.classes = np.unique(y_train)\n",
        "    n_class = len(self.classes)\n",
        "\n",
        "    self._mean = np.zeros((n_class, nf))\n",
        "    self._var = np.zeros((n_class, nf))\n",
        "    self._prior = np.zeros(n_class)\n",
        "\n",
        "    for idx, c in enumerate(self.classes):\n",
        "      x = x_train[y_train == c]\n",
        "      self._mean[idx, :] = x.mean(axis = 0)\n",
        "      self._var[idx, :] = x.var(axis = 0)\n",
        "      self._prior[idx] = x.shape[0] / ns\n",
        "\n",
        "  def predict(self, x):\n",
        "    posteriors = []\n",
        "\n",
        "    for idx, c in enumerate(self.classes):\n",
        "      prior = np.log(self._prior[idx])\n",
        "      posterior = np.sum(np.log(self.pdf(idx, x)))\n",
        "      posterior = posterior + prior\n",
        "      posteriors.append(posterior)\n",
        "\n",
        "    return self.classes[np.argmax(posteriors)]\n",
        "\n",
        "  def pdf(self, class_idx, x):\n",
        "    mean = self._mean[class_idx]\n",
        "    var = self._var[class_idx]\n",
        "    num = np.exp(-((x - mean) ** 2) / (2 * var))\n",
        "    den = np.sqrt(2 * np.pi * var)\n",
        "    return num/den\n",
        "\n",
        "  def infer(self, x_test):\n",
        "    ls = []\n",
        "    for x in x_test:\n",
        "      y_pred = self.predict(x)\n",
        "      ls.append(y_pred)\n",
        "    return ls\n",
        "\n",
        "#main\n",
        "iris = datasets.load_iris()\n",
        "#load data\n",
        "x = iris['data'][:100]\n",
        "#load target\n",
        "y = iris['target'][:100]\n",
        "#norm\n",
        "x = (x - x.mean(axis = 0)) / x.std(axis = 0)\n",
        "#x = (x - x.min(axis = 0)) / (x.max(axis = 0) - x.min(axis = 0))\n",
        "#get\n",
        "x_train, x_test, y_train, y_test = train_test_split(x, y, random_state = 42, shuffle = True, stratify = y)\n",
        "#model\n",
        "model = NaiveBayes()\n",
        "#fit\n",
        "model.fit(x_train, y_train)\n",
        "#predict\n",
        "y_pred = model.infer(x_test)\n",
        "#compute\n",
        "print((y_pred == y_test).sum() / len(y_test))"
      ]
    }
  ]
}