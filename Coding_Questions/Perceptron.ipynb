{
  "nbformat": 4,
  "nbformat_minor": 0,
  "metadata": {
    "colab": {
      "provenance": []
    },
    "kernelspec": {
      "name": "python3",
      "display_name": "Python 3"
    },
    "language_info": {
      "name": "python"
    }
  },
  "cells": [
    {
      "cell_type": "code",
      "execution_count": 4,
      "metadata": {
        "colab": {
          "base_uri": "https://localhost:8080/"
        },
        "id": "bRGaUqpF6-C-",
        "outputId": "97a70770-f5b5-4366-8008-1267275af069"
      },
      "outputs": [
        {
          "output_type": "stream",
          "name": "stdout",
          "text": [
            "1.0\n"
          ]
        }
      ],
      "source": [
        "#imports\n",
        "import sklearn\n",
        "from sklearn import datasets\n",
        "import numpy as np\n",
        "from sklearn.model_selection import train_test_split\n",
        "import matplotlib.pyplot as plt\n",
        "\n",
        "#class\n",
        "def unit_func(x):\n",
        "  return np.where(x > 0, 1, 0)\n",
        "\n",
        "class Perceptron:\n",
        "  def __init__(self, lr = 1e-6, max_iters = 100):\n",
        "    self.lr = lr\n",
        "    self.max_iters = max_iters\n",
        "    self.act_func = unit_func\n",
        "    self.weights = None\n",
        "    self.bias = None\n",
        "\n",
        "  def fit(self, x_train, y_train):\n",
        "    num_samples, num_features = x_train.shape\n",
        "    self.weights = np.zeros(num_features)\n",
        "    self.bias = np.zeros(1)\n",
        "\n",
        "    for iter in range(self.max_iters):\n",
        "      for idx, x in enumerate(x_train):\n",
        "        output = np.dot(x, self.weights) + self.bias\n",
        "        y_pred = self.act_func(output)\n",
        "\n",
        "        update = self.lr * (y_train[idx] - y_pred)\n",
        "        self.weights += update * x\n",
        "        self.bias += update\n",
        "\n",
        "  def predict(self, x_test):\n",
        "    output = np.dot(x_test, self.weights) + self.bias\n",
        "    y_pred = self.act_func(output)\n",
        "    return y_pred\n",
        "\n",
        "#main\n",
        "iris = datasets.load_iris()\n",
        "#load data\n",
        "x = iris['data'][:100]\n",
        "#load target\n",
        "y = iris['target'][:100]\n",
        "#norm\n",
        "x = (x - x.mean(axis = 0)) / x.std(axis = 0)\n",
        "#x = (x - x.min(axis = 0)) / (x.max(axis = 0) - x.min(axis = 0))\n",
        "#get\n",
        "x_train, x_test, y_train, y_test = train_test_split(x, y, random_state = 42, shuffle = True, stratify = y)\n",
        "#model\n",
        "model = Perceptron()\n",
        "#fit\n",
        "model.fit(x_train, y_train)\n",
        "#predict\n",
        "y_pred = model.predict(x_test)\n",
        "#compute\n",
        "print((y_pred == y_test).sum() / len(y_test))"
      ]
    }
  ]
}