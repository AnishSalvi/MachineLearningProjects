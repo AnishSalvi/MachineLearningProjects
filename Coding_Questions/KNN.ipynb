{
  "nbformat": 4,
  "nbformat_minor": 0,
  "metadata": {
    "colab": {
      "provenance": []
    },
    "kernelspec": {
      "name": "python3",
      "display_name": "Python 3"
    },
    "language_info": {
      "name": "python"
    }
  },
  "cells": [
    {
      "cell_type": "code",
      "execution_count": 1,
      "metadata": {
        "colab": {
          "base_uri": "https://localhost:8080/"
        },
        "id": "34Q16EOd4Iul",
        "outputId": "fb93e337-1d12-408f-914f-e80d1dacd63b"
      },
      "outputs": [
        {
          "output_type": "stream",
          "name": "stdout",
          "text": [
            "0.9736842105263158\n"
          ]
        }
      ],
      "source": [
        "#imports\n",
        "import sklearn\n",
        "from sklearn import datasets\n",
        "import numpy as np\n",
        "from sklearn.model_selection import train_test_split\n",
        "\n",
        "#functions\n",
        "class KNN:\n",
        "  def __init__(self, k, X_train, y_train):\n",
        "    self.k = k\n",
        "    self.X_train = X_train\n",
        "    self.y_train = y_train\n",
        "\n",
        "  def euc(self,p1, p2):\n",
        "    return np.square(np.sum((p1 - p2) **2))\n",
        "\n",
        "  def infer(self,X_test):\n",
        "    output = np.zeros(X_test.shape[0])\n",
        "    for i in range(X_test.shape[0]):\n",
        "      #init\n",
        "      dist = []\n",
        "      votes = []\n",
        "      #iterate for training\n",
        "      for j in range(self.X_train.shape[0]):\n",
        "        calc_dist = self.euc(self.X_train[j,:], X_test[i,:])\n",
        "        dist.append([calc_dist, j])\n",
        "      #sort\n",
        "      dist.sort()\n",
        "      #index to get topk\n",
        "      dist = dist[:self.k]\n",
        "      #iterate acorss indices\n",
        "      for _, j in dist:\n",
        "        votes.append([self.y_train[j]])\n",
        "      #get the unique classes and counts\n",
        "      classes, counts = np.unique(np.array(votes), return_counts = True)\n",
        "      #prediction\n",
        "      output[i] = classes[np.argmax(counts)]\n",
        "    #return\n",
        "    return output\n",
        "\n",
        "#main\n",
        "iris = datasets.load_iris()\n",
        "#load data\n",
        "x = iris['data']\n",
        "#load target\n",
        "y = iris['target']\n",
        "#get\n",
        "xtrain, xtest, ytrain, ytest = train_test_split(x, y, random_state = 42, shuffle = True, stratify = y)\n",
        "#init\n",
        "model = KNN(3, xtrain, ytrain)\n",
        "#infer\n",
        "predictions = model.infer(xtest)\n",
        "#prit\n",
        "print((predictions == ytest).sum() / len(ytest))"
      ]
    }
  ]
}