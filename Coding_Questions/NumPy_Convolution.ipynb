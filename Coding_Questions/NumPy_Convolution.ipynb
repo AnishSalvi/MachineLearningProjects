{
  "nbformat": 4,
  "nbformat_minor": 0,
  "metadata": {
    "colab": {
      "provenance": []
    },
    "kernelspec": {
      "name": "python3",
      "display_name": "Python 3"
    },
    "language_info": {
      "name": "python"
    }
  },
  "cells": [
    {
      "cell_type": "code",
      "execution_count": 24,
      "metadata": {
        "colab": {
          "base_uri": "https://localhost:8080/"
        },
        "id": "2kyNRcdJwqEJ",
        "outputId": "b4147cf4-561c-45bc-96bf-090d7460e4eb"
      },
      "outputs": [
        {
          "output_type": "stream",
          "name": "stdout",
          "text": [
            "[[ 84. 180. 260. 158.]\n",
            " [ 80. 234. 191. 131.]\n",
            " [ 82. 191. 215. 112.]\n",
            " [ 72. 149. 124.  37.]]\n"
          ]
        }
      ],
      "source": [
        "#import\n",
        "import numpy as np\n",
        "\n",
        "#maxpool with padding\n",
        "def conv_2d(input_matrix, kernel, stride, padding):\n",
        "  #init\n",
        "  out_row = int(((input_matrix.shape[0] - kernel.shape[0] + 2 * padding[0]) / stride[0]) + 1)\n",
        "  out_col = int(((input_matrix.shape[1] - kernel.shape[1] + 2 * padding[1]) / stride[1]) + 1)\n",
        "  input_matrix = np.pad(input_matrix, ((padding[0], padding[1]), (padding[0], padding[1])))\n",
        "  outputs = np.zeros((out_row, out_col))\n",
        "  #iterate\n",
        "  for i in range(outputs.shape[0]):\n",
        "    i_init = i * stride[0]\n",
        "    i_delta = i_init + kernel.shape[0]\n",
        "    #iterate\n",
        "    for j in range(outputs.shape[1]):\n",
        "      j_init = j * stride[1]\n",
        "      j_delta = j_init + kernel.shape[1]\n",
        "      #maxpool\n",
        "      small_matrix = input_matrix[i_init:i_delta, j_init:j_delta]\n",
        "      outputs[i, j] = np.sum(small_matrix * kernel)\n",
        "  #return\n",
        "  return outputs\n",
        "\n",
        "#main\n",
        "input_matrix = np.random.randint(1, 10, (7, 7))\n",
        "kernel = np.random.randint(1, 10, (3, 3))\n",
        "stride = (2, 2)\n",
        "padding = (1, 1)\n",
        "\n",
        "#maxpool\n",
        "conv_outputs = conv_2d(input_matrix, kernel, stride, padding)\n",
        "\n",
        "#print\n",
        "print(conv_outputs)"
      ]
    },
    {
      "cell_type": "code",
      "source": [
        "#import\n",
        "import torch\n",
        "#init\n",
        "input_tensor = torch.Tensor(np.expand_dims(input_matrix, axis = (0, 1)))\n",
        "#init\n",
        "input_kernel = torch.Tensor(np.expand_dims(kernel, axis = (0, 1)))\n",
        "#main\n",
        "conv_2d_torch = torch.nn.functional.conv2d(input_tensor, input_kernel, stride = stride, padding = padding)\n",
        "#print\n",
        "print(conv_2d_torch)"
      ],
      "metadata": {
        "colab": {
          "base_uri": "https://localhost:8080/"
        },
        "id": "QBWz7tB4xi-6",
        "outputId": "b0998ab8-097b-4f3b-a142-cbab7a5fdbb8"
      },
      "execution_count": 25,
      "outputs": [
        {
          "output_type": "stream",
          "name": "stdout",
          "text": [
            "tensor([[[[ 84., 180., 260., 158.],\n",
            "          [ 80., 234., 191., 131.],\n",
            "          [ 82., 191., 215., 112.],\n",
            "          [ 72., 149., 124.,  37.]]]])\n"
          ]
        }
      ]
    }
  ]
}