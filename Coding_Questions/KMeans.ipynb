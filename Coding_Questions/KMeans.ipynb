{
  "nbformat": 4,
  "nbformat_minor": 0,
  "metadata": {
    "colab": {
      "provenance": []
    },
    "kernelspec": {
      "name": "python3",
      "display_name": "Python 3"
    },
    "language_info": {
      "name": "python"
    }
  },
  "cells": [
    {
      "cell_type": "code",
      "execution_count": 5,
      "metadata": {
        "colab": {
          "base_uri": "https://localhost:8080/"
        },
        "id": "mW0dZWXU3Fzj",
        "outputId": "82c04efd-677c-48f3-c212-00eb53759536"
      },
      "outputs": [
        {
          "output_type": "stream",
          "name": "stdout",
          "text": [
            "Used 0 of 300\n",
            "Used 1 of 300\n",
            "Used 2 of 300\n",
            "Used 3 of 300\n",
            "Used 4 of 300\n",
            "Used 5 of 300\n",
            "Used 6 of 300\n",
            "Used 7 of 300\n",
            "Used 8 of 300\n",
            "Used 9 of 300\n",
            "Used 10 of 300\n",
            "Used 11 of 300\n",
            "Y_true (array([0, 1, 2]), array([50, 50, 50]))\n",
            "Y_pred (array([0., 1., 2.]), array([61, 50, 39]))\n"
          ]
        }
      ],
      "source": [
        "#imports\n",
        "import sklearn\n",
        "from sklearn import datasets\n",
        "import numpy as np\n",
        "import random\n",
        "\n",
        "#functions\n",
        "\n",
        "#init centroids\n",
        "def init(x_train, k):\n",
        "  centroids = np.zeros((k, x_train.shape[1]))\n",
        "  for i in range(k):\n",
        "    centroids[i,:] = x_train.min(axis = 0) + (x_train.max(axis = 0) - x_train.min(axis = 0)) * random.random()\n",
        "  return centroids\n",
        "\n",
        "#get labels\n",
        "def get_labels(centroids, x_train):\n",
        "  labels = np.zeros(x_train.shape[0])\n",
        "  for i, x in enumerate(x_train):\n",
        "    min_dist = np.inf\n",
        "    for j, centroid in enumerate(centroids):\n",
        "      dist = euc(centroid, x)\n",
        "      if dist < min_dist:\n",
        "        min_dist = dist\n",
        "        labels[i] = j\n",
        "  return labels\n",
        "\n",
        "#update centroids\n",
        "def update_centroids(x_train, labels, k):\n",
        "  new_centroids = np.zeros((k, x_train.shape[1]))\n",
        "  for i in range(k):\n",
        "    k_train = x_train[labels == i]\n",
        "    if k_train.shape[0] == 0:\n",
        "      new_centroids[i, :] = x_train.min(axis = 0) + (x_train.max(axis = 0) - x_train.min(axis = 0)) * random.random()\n",
        "    else:\n",
        "      new_centroids[i, :] = k_train.mean(axis = 0)\n",
        "  return new_centroids\n",
        "\n",
        "#euclidean\n",
        "def euc(p1, p2):\n",
        "  return np.sqrt(np.sum((p1 - p2) ** 2))\n",
        "\n",
        "#stopper\n",
        "def stopper(new_centroids, centroids, iter, max_iter, thresh = 1e-5):\n",
        "  if euc(new_centroids, centroids) > thresh and iter < max_iter:\n",
        "    return False\n",
        "  else:\n",
        "    return True\n",
        "\n",
        "#set\n",
        "k = 3\n",
        "max_iter = 300\n",
        "thresh = 1e-10\n",
        "\n",
        "#main\n",
        "iris = datasets.load_iris()\n",
        "#load data\n",
        "x_train = iris['data']\n",
        "#centroids\n",
        "centroids = init(x_train, k)\n",
        "#set\n",
        "stop = False\n",
        "iter = 0\n",
        "while stop == False:\n",
        "  #get labels\n",
        "  labels = get_labels(centroids, x_train)\n",
        "  #update\n",
        "  new_centroids = update_centroids(x_train, labels, k)\n",
        "  #stop\n",
        "  stop = stopper(new_centroids, centroids, iter, max_iter, thresh)\n",
        "  #update\n",
        "  centroids = new_centroids\n",
        "  #print\n",
        "  print('Used {0} of {1}'.format(iter, max_iter))\n",
        "  #update\n",
        "  iter += 1\n",
        "#nalayze\n",
        "print('Y_true', np.unique(iris['target'], return_counts = True))\n",
        "print('Y_pred', np.unique(labels, return_counts = True))"
      ]
    }
  ]
}