{
  "nbformat": 4,
  "nbformat_minor": 0,
  "metadata": {
    "colab": {
      "provenance": []
    },
    "kernelspec": {
      "name": "python3",
      "display_name": "Python 3"
    },
    "language_info": {
      "name": "python"
    }
  },
  "cells": [
    {
      "cell_type": "code",
      "execution_count": null,
      "metadata": {
        "id": "KYcoYhTtH3w5"
      },
      "outputs": [],
      "source": [
        "#installations\n",
        "#!pip install --quiet SimpleITK\n",
        "#Anaconda Powershell\n",
        "#:L\n",
        "#conda activate data_processing\n",
        "#jupyter serverextension enable -- py jupyter_http_over_ws\n",
        "#jupyter notebook --NotebookApp.allow_origin='https://colab.research.google.com' --port=8892 --NotebookApp.port_retries=0"
      ]
    },
    {
      "cell_type": "code",
      "source": [
        "#imports\n",
        "import pandas as pd\n",
        "import numpy as np\n",
        "import os\n",
        "import sklearn\n",
        "import datetime\n",
        "from datetime import datetime\n",
        "from sklearn.model_selection import StratifiedKFold\n",
        "\n",
        "#print(os.getcwd())"
      ],
      "metadata": {
        "id": "StumSH3_IUm_"
      },
      "execution_count": null,
      "outputs": []
    },
    {
      "cell_type": "code",
      "source": [
        "#functions\n",
        "\n",
        "#apply the labels to the model inputs dataset\n",
        "def label_patient(row, df_refer):\n",
        "  #get info on single patient\n",
        "  patient = row['Patient']\n",
        "  #get from annotations\n",
        "  label = df_refer[df_refer['PatientID'] == patient]['Rajs impression'].iloc[0]\n",
        "  #return\n",
        "  return label\n",
        "\n",
        "#encode into numerical annotations\n",
        "def encode_patient(row, enc_dict):\n",
        "  #return the label\n",
        "  try:\n",
        "    label = enc_dict[row['Annotation']]\n",
        "  except:\n",
        "    #if issue\n",
        "    label = pd.NA\n",
        "    print('Missing:', row['Patient'])\n",
        "    #return\n",
        "  return label\n",
        "\n",
        "#seperate into independent folds\n",
        "def get_folds(df, kfold, stratify):\n",
        "  #init\n",
        "  skf = StratifiedKFold(n_splits = kfold, shuffle = True, random_state = 42)\n",
        "  #set the target\n",
        "  target = df.loc[:, stratify].astype('category')\n",
        "  #init\n",
        "  df_ls = []\n",
        "  #iterate\n",
        "  for i, (_, fold_index) in enumerate(skf.split(df, target)):\n",
        "    #set\n",
        "    df_fold = df.loc[fold_index,:]\n",
        "    #insert\n",
        "    df_fold['KFold'] = i + 1\n",
        "    #append\n",
        "    df_ls.append(df_fold)\n",
        "  #return\n",
        "  return  pd.concat(df_ls).reset_index(drop = True)"
      ],
      "metadata": {
        "id": "dk996Z25I89I"
      },
      "execution_count": null,
      "outputs": []
    },
    {
      "cell_type": "code",
      "source": [
        "#params\n",
        "\n",
        "#kfolds\n",
        "kfolds = 5\n",
        "#stratification column\n",
        "stratify = 'Annotation_Label'\n",
        "#the annotations path\n",
        "ann_path = 'AnishSalvi/ImageRx/PAD-Net/ViT_classification/dataset/GroundTruthInterpretation--Raj&Luke.xlsx'\n",
        "#path to the model inputs\n",
        "data_path = 'AnishSalvi/ImageRx/PAD-Net/vRAD_Dataset_Inputs/Norm-256-256-256/vRAD_Dataset_Inputs.xlsx'\n",
        "#specify the encoding dictionary for clinical annotations\n",
        "ann_dict = {\n",
        "    'Control / Non-PAD': 0,\n",
        "    'Control/Non-PAD': 0,\n",
        "    'PAD, <50% stenosis': 1,\n",
        "    'PAD, >50% stenosis': 2,\n",
        "    'X Unable to Interpret X': pd.NA\n",
        "}\n",
        "#specify the encoding dictionary for PAD annotations\n",
        "pad_dict = {\n",
        "    'Control / Non-PAD': 0,\n",
        "    'Control/Non-PAD': 0,\n",
        "    'PAD, <50% stenosis': 1,\n",
        "    'PAD, >50% stenosis': 1,\n",
        "    'X Unable to Interpret X': pd.NA\n",
        "}\n",
        "#specify the encoding dictionary for severity annotations\n",
        "sev_dict = {\n",
        "    'Control / Non-PAD': 0,\n",
        "    'Control/Non-PAD': 0,\n",
        "    'PAD, <50% stenosis': 0,\n",
        "    'PAD, >50% stenosis': 1,\n",
        "    'X Unable to Interpret X': pd.NA\n",
        "}\n",
        "save_folder = 'AnishSalvi/ImageRx/PAD-Net/ViT_classification/dataset/'"
      ],
      "metadata": {
        "id": "PqipOWR0PnEx"
      },
      "execution_count": null,
      "outputs": []
    },
    {
      "cell_type": "code",
      "source": [
        "#main script\n",
        "\n",
        "#specify the annotations file (ignore first few rows)\n",
        "df_refer = pd.read_excel(ann_path, skiprows = 2)\n",
        "#specify the path to the model inputs\n",
        "df = pd.read_excel(data_path)\n",
        "#need to append the annotations to df\n",
        "df['Annotation'] = df.apply(label_patient, axis = 1, args = (df_refer, ))\n",
        "#print\n",
        "print(df['Annotation'].value_counts(dropna = False))\n",
        "#convert the annotations into model labels\n",
        "df['Annotation_Label'] = df.apply(encode_patient, axis = 1, args = (ann_dict, ))\n",
        "#can now encode the labels for PAD\n",
        "df['PAD_Label'] = df.apply(encode_patient, axis = 1, args = (pad_dict, ))\n",
        "#now encode for severity\n",
        "df['Severity_Label'] = df.apply(encode_patient, axis = 1, args = (sev_dict, ))\n",
        "#now remove the annotations without a label\n",
        "df = df[df['Annotation_Label'].notna()].reset_index(drop = True)\n",
        "#now get each independent fold // can also create an independent test set later!!!!\n",
        "df = get_folds(df, kfolds, stratify)\n",
        "#now save the results somewhere\n",
        "df.to_pickle(save_folder + 'dataset' + datetime.now().strftime(\"-%Y-%m-%d-%H-%M-%S\") + '.pkl')"
      ],
      "metadata": {
        "colab": {
          "base_uri": "https://localhost:8080/"
        },
        "id": "hxzNbA3-I-Je",
        "outputId": "6406018d-8761-40ba-cc5f-f44bdfcd97e3"
      },
      "execution_count": null,
      "outputs": [
        {
          "output_type": "stream",
          "name": "stdout",
          "text": [
            "PAD, >50% stenosis         84\n",
            "X Unable to Interpret X    47\n",
            "Control/Non-PAD            36\n",
            "PAD, <50% stenosis         21\n",
            "Control / Non-PAD           5\n",
            "NaN                         1\n",
            "Name: Annotation, dtype: int64\n",
            "Missing: 1331806000\n",
            "Missing: 1331806000\n",
            "Missing: 1331806000\n"
          ]
        }
      ]
    }
  ]
}
