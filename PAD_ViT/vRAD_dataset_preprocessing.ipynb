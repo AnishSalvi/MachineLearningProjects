{
  "nbformat": 4,
  "nbformat_minor": 0,
  "metadata": {
    "colab": {
      "provenance": [],
      "collapsed_sections": [
        "dnxPkiDL17dN",
        "8vAZZuxR2CNN"
      ]
    },
    "kernelspec": {
      "name": "python3",
      "display_name": "Python 3"
    },
    "language_info": {
      "name": "python"
    },
    "gpuClass": "standard"
  },
  "cells": [
    {
      "cell_type": "markdown",
      "source": [
        "# Main Script"
      ],
      "metadata": {
        "id": "dnxPkiDL17dN"
      }
    },
    {
      "cell_type": "code",
      "source": [
        "#installations\n",
        "#!pip install --quiet SimpleITK\n",
        "#Anaconda Powershell\n",
        "#:L\n",
        "#conda activate data_processing\n",
        "#jupyter serverextension enable -- py jupyter_http_over_ws\n",
        "#jupyter notebook --NotebookApp.allow_origin='https://colab.research.google.com' --port=8892 --NotebookApp.port_retries=0"
      ],
      "metadata": {
        "id": "UBmXxYqRKEnV"
      },
      "execution_count": null,
      "outputs": []
    },
    {
      "cell_type": "code",
      "execution_count": null,
      "metadata": {
        "id": "g0vA2KyDJVAd"
      },
      "outputs": [],
      "source": [
        "#imports\n",
        "import SimpleITK as sitk\n",
        "import os\n",
        "import zipfile\n",
        "import shutil\n",
        "from zipfile import ZipFile\n",
        "import pandas as pd\n",
        "import numpy as np\n",
        "import datetime\n",
        "from datetime import datetime\n",
        "import glob"
      ]
    },
    {
      "cell_type": "code",
      "source": [
        "#functions\n",
        "\n",
        "#get duplicates\n",
        "def get_dupes(ls):\n",
        "  return list(keep_dupes(ls))\n",
        "\n",
        "#keep duplicates\n",
        "def keep_dupes(iterable):\n",
        "    seen = set()\n",
        "    dupes = set()\n",
        "    for x in iterable:\n",
        "        if x in seen and x not in dupes:\n",
        "            yield x\n",
        "            dupes.add(x)\n",
        "        else:\n",
        "            seen.add(x)\n",
        "\n",
        "#unzip\n",
        "def unzip(zipped_folder, unzipped_folder):\n",
        "  with ZipFile(zipped_folder, 'r') as zObject:\n",
        "    zObject.extractall(unzipped_folder)\n",
        "\n",
        "#get info\n",
        "def get_info(row, add_columns):\n",
        "\n",
        "  #the zipped dicom path\n",
        "  dcm_path = row['Medcave03_DCM']\n",
        "\n",
        "  #the report path\n",
        "  report_path = row['Medcave03_Report']\n",
        "\n",
        "  #save path MedCave03\n",
        "  #save_path = patient_folder + 'CTA_' + row['Patient'] + '.nii.gz'\n",
        "\n",
        "  #create temporary directroy (quick-fix)\n",
        "  unzipped_patient = row['Medcave03_DCM'].replace('.zip','/')\n",
        "\n",
        "  #only if the CTA does not already exist (should remove!)\n",
        "  #if os.path.isdir(unzipped_patient) == False:\n",
        "    #create\n",
        "    #os.mkdir(unzipped_patient)\n",
        "\n",
        "  #now unzip the images (temporary)\n",
        "  unzip(dcm_path, unzipped_patient)\n",
        "\n",
        "  #get the number of series and relate study description and number of slices in each patient's image series\n",
        "  reader = sitk.ImageSeriesReader()\n",
        "  #get the series ids\n",
        "  id_names = reader.GetGDCMSeriesIDs(unzipped_patient) #file subfolder\n",
        "\n",
        "  #data\n",
        "  data = []\n",
        "  #max dicom\n",
        "  max_dicom = True\n",
        "  #for each series id\n",
        "  for id_name in id_names:\n",
        "    #obtain one instance of the file\n",
        "    series_file_names = sitk.ImageSeriesReader.GetGDCMSeriesFileNames(\n",
        "        unzipped_patient,\n",
        "        id_name\n",
        "        )\n",
        "    #num dicom\n",
        "    num_dicom = len(series_file_names)\n",
        "    #specify\n",
        "    reader_file = sitk.ImageFileReader()\n",
        "    reader_file.SetFileName(series_file_names[0])\n",
        "    reader_file.LoadPrivateTagsOn()\n",
        "    reader_file.ReadImageInformation()\n",
        "    #study\n",
        "    try:\n",
        "      study_des = reader_file.GetMetaData('0008|1030')\n",
        "    except:\n",
        "      study_des = pd.NA\n",
        "    #scan des\n",
        "    try:\n",
        "      scan_des = reader_file.GetMetaData('0008|0070')\n",
        "    except:\n",
        "      scan_des = pd.NA\n",
        "    #series des\n",
        "    try:\n",
        "      series_des = reader_file.GetMetaData('0008|103e')\n",
        "    except:\n",
        "      series_des = pd.NA\n",
        "    #report\n",
        "    try:\n",
        "      with open(report_path, 'r') as f:\n",
        "        full_report = f.read()\n",
        "    except:\n",
        "      full_report = pd.NA\n",
        "    #collect all the relevant info\n",
        "    data.append([row['Patient'], row['Medcave03_DCM'], row['Medcave03_Report'], series_file_names, id_name, study_des, scan_des, series_des, num_dicom, full_report])\n",
        "\n",
        "  #delete the temporary folder\n",
        "  shutil.rmtree(unzipped_patient)\n",
        "  #prepare the individual pandas to later be concatenated (reorder)\n",
        "  patient_info = pd.DataFrame(data, columns = ['Patient', 'Medcave03_DCM', 'Medcave03_Report', 'Medcave03_Series_Files',\n",
        "                                               'Series_ID', 'Study', 'Scan', 'Series', 'Num_DICOM', 'Full_Report'])\n",
        "  #maximize\n",
        "  patient_info['Max_Patient_DICOM'] = np.where(patient_info['Num_DICOM'] == patient_info['Num_DICOM'].max(), True, False)\n",
        "  #add the annotation columns\n",
        "  patient_info = patient_info.reindex(columns = patient_info.columns.tolist() + add_columns)\n",
        "  #print\n",
        "  print('Info On:', row['Patient'])\n",
        "  #return\n",
        "  return patient_info\n",
        "\n",
        "#get series info\n",
        "def get_series_info(row, add_columns, df_refer):\n",
        "  #if df_refer exists check if that patient already exists in the df_refer\n",
        "  if df_refer is not None:\n",
        "    #check if patient is there\n",
        "    if row['Patient'] in df_refer['Patient'].to_list():\n",
        "      #if patient exists skip to here\n",
        "      patient_info = df_refer[df_refer['Patient'] == row['Patient']]\n",
        "    else:\n",
        "      #execute the same as df_refer not existing\n",
        "      patient_info = get_info(row, add_columns)\n",
        "  else:\n",
        "    #otherwise do all this\n",
        "    patient_info = get_info(row, add_columns)\n",
        "  #return\n",
        "  return patient_info\n",
        "\n",
        "#get CTAs\n",
        "def get_CTAs(row, save_loc, over_ride):\n",
        "  #save path MedCave03\n",
        "  save_path = save_loc + 'CTA_' + str(row['Patient']) + '.nii.gz'\n",
        "  #check if it already exists first (assumes consistent intilization location for base path!!!)\n",
        "  if (os.path.exists(save_path) == False) | (over_ride == True):\n",
        "    #get the MedCave03 path (can vary)\n",
        "    unzipped_patient = row['Medcave03_DCM'].replace('.zip','/')\n",
        "    #temp\n",
        "    if os.path.isdir(unzipped_patient) == False:\n",
        "      os.mkdir(unzipped_patient)\n",
        "    #now unzip the images (temporary)\n",
        "    unzip(row['Medcave03_DCM'], unzipped_patient)\n",
        "    #convert to nii.gz\n",
        "    series_file_names = sitk.ImageSeriesReader.GetGDCMSeriesFileNames(\n",
        "        unzipped_patient,\n",
        "        row['Series_ID']\n",
        "        )\n",
        "    #print(series_file_names)\n",
        "    #reader\n",
        "    reader = sitk.ImageSeriesReader()\n",
        "    #set\n",
        "    reader.SetFileNames(series_file_names)\n",
        "    #execute\n",
        "    output = reader.Execute()\n",
        "    #save\n",
        "    sitk.WriteImage(output, save_path)\n",
        "    #remove the temporary files\n",
        "    shutil.rmtree(unzipped_patient) #corrected later\n",
        "    #prepared\n",
        "    print('Prepared:', row['Patient'])\n",
        "  #return\n",
        "  return save_path"
      ],
      "metadata": {
        "id": "creJxBuoPBHW"
      },
      "execution_count": null,
      "outputs": []
    },
    {
      "cell_type": "code",
      "source": [
        "%%time\n",
        "#main script (initial run)\n",
        "\n",
        "#specify the basepath (this can be changed depending on which cd into at start)\n",
        "base = 'AnishSalvi/ImageRx/PAD-Net/vRAD_Dataset/'\n",
        "\n",
        "#glob\n",
        "base_dir = glob.glob(base + 'CTA_Lower*' + '/')\n",
        "\n",
        "#need to get all the patient folder names\n",
        "print('Patients with Missing Reports are Included. Patients with Missing Images should be Noted and Excluded.')\n",
        "#iterate\n",
        "patient_name = []\n",
        "for base_path in base_dir:\n",
        "  for name in sorted(os.listdir(base_path)):\n",
        "    dcm_path = os.path.join(base_path, name + '/images.zip')\n",
        "    report_path = os.path.join(base_path, name + '/report.txt')\n",
        "    if (os.path.isfile(dcm_path) == True) & (os.path.isfile(report_path) == True):\n",
        "      #append\n",
        "      patient_name.append([int(name), dcm_path, report_path])\n",
        "    elif (os.path.isfile(dcm_path) == False):\n",
        "      print('Missing DCM:', dcm_path) #identify any missing entries\n",
        "    elif (os.path.isfile(report_path) == False):\n",
        "      print('Missing Report:', report_path)\n",
        "      #append\n",
        "      patient_name.append([int(name), dcm_path, pd.NA])\n",
        "    else:\n",
        "      print('Missing DCM & Report')\n",
        "\n",
        "#place inside the pandas dataframe\n",
        "df = pd.DataFrame(patient_name, columns = ['Patient', 'Medcave03_DCM', 'Medcave03_Report'])\n",
        "\n",
        "#specify the annotation columns (manual selection // needs to be specified if rerunning from previous) need to add here!!!!\n",
        "add_columns = ['Manual_DICOM_Selection'] #'PAD_50_Annotation', 'PAD_50_Annotation_Notes'] #add more column info here (first specify in the pandas being edited)\n",
        "\n",
        "#specify the reference csv if it exists\n",
        "#df_refer = pd.read_csv('')\n",
        "df_refer = None\n",
        "\n",
        "#can remove the repeats across the upload folders(for exact same case)\n",
        "# df = df.drop_duplicates(subset = ['Patient', 'Series_ID', 'Study', 'Scan', 'Series', 'Num_DICOM', 'Full_Report'])\n",
        "\n",
        "#get the meta info\n",
        "ls_df = df.apply(get_series_info, axis = 1, args = (add_columns, df_refer))\n",
        "#concat\n",
        "df_meta = pd.concat(tuple(ls_df), ignore_index = True)\n",
        "#save\n",
        "df_meta.to_excel(base + 'Dataset_Series/Dataset_Series' + datetime.now().strftime(\"-%Y-%m-%d-%H-%M-%S\") + '.xlsx', index = False)"
      ],
      "metadata": {
        "id": "a3NUf6CbR7gx"
      },
      "execution_count": null,
      "outputs": []
    },
    {
      "cell_type": "code",
      "source": [
        "%%time\n",
        "#main script (initial run)\n",
        "#add_columns = ['PAD_50_Annotation', 'PAD_50_Annotation_Notes']\n",
        "over_ride = True #controls whether all files are rewritten (True) or only the missing files will be processed (False)\n",
        "#base\n",
        "base_path = 'AnishSalvi/ImageRx/PAD-Net/vRAD_Dataset/'\n",
        "#save\n",
        "save_path = 'AnishSalvi/ImageRx/PAD-Net/vRAD_Dataset/Dataset_CTAs/'\n",
        "#read in the most up to date\n",
        "df = pd.read_excel(base_path + 'Dataset_Series/Dataset_Series-2023-01-20-01-55-35.xlsx')\n",
        "#filter based on selection criteria\n",
        "df = df[df['Max_Patient_DICOM'] == True]\n",
        "#create\n",
        "df['Medcave03_CTA'] = df.apply(get_CTAs, axis = 1, args = (save_path, over_ride))\n",
        "#add in annotation columns\n",
        "#df = df.reindex(columns = df.columns.tolist() + add_columns)\n",
        "#save the new csv\n",
        "df.to_excel(save_path + 'Data/vRAD_Dataset_CTA' + datetime.now().strftime(\"-%Y-%m-%d-%H-%M-%S\") + '.xlsx', index = False)"
      ],
      "metadata": {
        "colab": {
          "base_uri": "https://localhost:8080/"
        },
        "id": "oGFjrS38ZqNV",
        "outputId": "7075a5fd-95a8-4977-afd3-fbe0aaf61007"
      },
      "execution_count": null,
      "outputs": [
        {
          "output_type": "stream",
          "name": "stdout",
          "text": [
            "Prepared: 10261071\n",
            "Prepared: 1083212565\n",
            "Prepared: 1083388177\n",
            "Prepared: 1351791995\n",
            "Prepared: 1620136241\n",
            "Prepared: 1620462782\n",
            "Prepared: 278666760\n",
            "Prepared: 815136778\n",
            "Prepared: 815640931\n",
            "Prepared: 10385082\n",
            "Prepared: 1083181062\n",
            "Prepared: 1083289226\n",
            "Prepared: 1083651355\n",
            "Prepared: 1084009745\n",
            "Prepared: 1084034689\n",
            "Prepared: 1331806000\n",
            "Prepared: 1332457232\n",
            "Prepared: 1332482978\n",
            "Prepared: 1332482978\n",
            "Prepared: 1332667581\n",
            "Prepared: 1332709117\n",
            "Prepared: 1352419296\n",
            "Prepared: 1600761592\n",
            "Prepared: 1601017995\n",
            "Prepared: 1620120392\n",
            "Prepared: 1620121687\n",
            "Prepared: 1620259252\n",
            "Prepared: 1620542154\n",
            "Prepared: 1620772926\n",
            "Prepared: 1621034905\n",
            "Prepared: 1621046091\n",
            "Prepared: 1888763137\n",
            "Prepared: 277903873\n",
            "Prepared: 277951322\n",
            "Prepared: 278045217\n",
            "Prepared: 278185830\n",
            "Prepared: 278818864\n",
            "Prepared: 278877199\n",
            "Prepared: 546756428\n",
            "Prepared: 547045606\n",
            "Prepared: 814812480\n",
            "Prepared: 9615231\n",
            "Prepared: 10273970\n",
            "Prepared: 10280081\n",
            "Prepared: 10385082\n",
            "Prepared: 10439107\n",
            "Prepared: 1083181062\n",
            "Prepared: 1083289226\n",
            "Prepared: 1083574170\n",
            "Prepared: 1083651355\n",
            "Prepared: 1084009745\n",
            "Prepared: 1084034689\n",
            "Prepared: 1331727410\n",
            "Prepared: 1331785492\n",
            "Prepared: 1331806000\n",
            "Prepared: 1332457232\n",
            "Prepared: 1332482978\n",
            "Prepared: 1332482978\n",
            "Prepared: 1332600117\n",
            "Prepared: 1332645787\n",
            "Prepared: 1332667581\n",
            "Prepared: 1332709117\n",
            "Prepared: 1351643295\n",
            "Prepared: 1351643295\n",
            "Prepared: 1351697945\n",
            "Prepared: 1351751501\n",
            "Prepared: 1351831839\n",
            "Prepared: 1352388978\n",
            "Prepared: 1352419296\n",
            "Prepared: 1600238632\n",
            "Prepared: 1600761592\n",
            "Prepared: 1600981389\n",
            "Prepared: 1601017995\n",
            "Prepared: 1601022171\n",
            "Prepared: 1601022171\n",
            "Prepared: 1601040823\n",
            "Prepared: 1620120392\n",
            "Prepared: 1620121687\n",
            "Prepared: 1620143454\n",
            "Prepared: 1620259252\n",
            "Prepared: 1620479268\n",
            "Prepared: 1620542154\n",
            "Prepared: 1620573861\n",
            "Prepared: 1620686736\n",
            "Prepared: 1620772926\n",
            "Prepared: 1620986657\n",
            "Prepared: 1621034905\n",
            "Prepared: 1621046091\n",
            "Prepared: 1888507439\n",
            "Prepared: 1888719504\n",
            "Prepared: 1888763137\n",
            "Prepared: 1888893536\n",
            "Prepared: 1889079407\n",
            "Prepared: 1889229401\n",
            "Prepared: 1889296511\n",
            "Prepared: 277903873\n",
            "Prepared: 277951322\n",
            "Prepared: 277998082\n",
            "Prepared: 278045217\n",
            "Prepared: 278185830\n",
            "Prepared: 278309306\n",
            "Prepared: 278787301\n",
            "Prepared: 278818864\n",
            "Prepared: 278877199\n",
            "Prepared: 278884141\n",
            "Prepared: 546526889\n",
            "Prepared: 546714979\n",
            "Prepared: 546714979\n",
            "Prepared: 546756428\n",
            "Prepared: 546770742\n",
            "Prepared: 547045606\n",
            "Prepared: 547234627\n",
            "Prepared: 547291411\n",
            "Prepared: 814784787\n",
            "Prepared: 814812480\n",
            "Prepared: 814924293\n",
            "Prepared: 814945287\n",
            "Prepared: 814952201\n",
            "Prepared: 814961507\n",
            "Prepared: 815210263\n",
            "Prepared: 815531629\n",
            "Prepared: 815647013\n",
            "Prepared: 815683827\n",
            "Prepared: 9511168\n",
            "Prepared: 9567550\n",
            "Prepared: 9615231\n",
            "Prepared: 9627149\n",
            "Prepared: 9705485\n",
            "Prepared: 9971783\n",
            "Prepared: 1193579032\n",
            "Prepared: 1193777652\n",
            "Prepared: 1193797621\n",
            "Prepared: 1194280913\n",
            "Prepared: 1194338023\n",
            "Prepared: 1194349496\n",
            "Prepared: 1194904579\n",
            "Prepared: 119562276\n",
            "Prepared: 119595590\n",
            "Prepared: 119625642\n",
            "Prepared: 119628021\n",
            "Prepared: 120017360\n",
            "Prepared: 120541554\n",
            "Prepared: 120800270\n",
            "Prepared: 120917312\n",
            "Prepared: 121151710\n",
            "Prepared: 121208330\n",
            "Prepared: 121235107\n",
            "Prepared: 1220965625\n",
            "Prepared: 1221196884\n",
            "Prepared: 1221367437\n",
            "Prepared: 1221756041\n",
            "Prepared: 1221757787\n",
            "Prepared: 1222044573\n",
            "Prepared: 1222217214\n",
            "Prepared: 1222302382\n",
            "Prepared: 1222381689\n",
            "Prepared: 1222445945\n",
            "Prepared: 1222486634\n",
            "Prepared: 1461788451\n",
            "Prepared: 1461868231\n",
            "Prepared: 1462055692\n",
            "Prepared: 1462394180\n",
            "Prepared: 1462510866\n",
            "Prepared: 1462592444\n",
            "Prepared: 1462633036\n",
            "Prepared: 1462685953\n",
            "Prepared: 1462719651\n",
            "Prepared: 1462949200\n",
            "Prepared: 1463013926\n",
            "Prepared: 1463033411\n",
            "Prepared: 1463095671\n",
            "Prepared: 1489497805\n",
            "Prepared: 1489685696\n",
            "Prepared: 1489828265\n",
            "Prepared: 1489963600\n",
            "Prepared: 1489963600\n",
            "Prepared: 1490006355\n",
            "Prepared: 1490149277\n",
            "Prepared: 1490217182\n",
            "Prepared: 1490706003\n",
            "Prepared: 1490849050\n",
            "Prepared: 1490898672\n",
            "Prepared: 1490938325\n",
            "Prepared: 1491062886\n",
            "Prepared: 1730229748\n",
            "Prepared: 1730229748\n",
            "Prepared: 1730240591\n",
            "Prepared: 1730291609\n",
            "Prepared: 1730384242\n",
            "Prepared: 1730640392\n",
            "Prepared: 1730999974\n",
            "Prepared: 1731489960\n",
            "Prepared: 1731660050\n",
            "Prepared: 1998587672\n",
            "Prepared: 1998587672\n",
            "Prepared: 1999046402\n",
            "Prepared: 1999056914\n",
            "Prepared: 1999467154\n",
            "Prepared: 1999496276\n",
            "Prepared: 1999505296\n",
            "Prepared: 1999672119\n",
            "Prepared: 2000077341\n",
            "Prepared: 2000098558\n",
            "Prepared: 2000138179\n",
            "Prepared: 2000179230\n",
            "Prepared: 388040608\n",
            "Prepared: 388067409\n",
            "Prepared: 388106501\n",
            "Prepared: 388127763\n",
            "Prepared: 388214826\n",
            "Prepared: 388215335\n",
            "Prepared: 388216544\n",
            "Prepared: 388280897\n",
            "Prepared: 388315688\n",
            "Prepared: 388585029\n",
            "Prepared: 388827395\n",
            "Prepared: 388876294\n",
            "Prepared: 389178489\n",
            "Prepared: 389629489\n",
            "Prepared: 656418779\n",
            "Prepared: 656451539\n",
            "Prepared: 656573205\n",
            "Prepared: 656606800\n",
            "Prepared: 656727667\n",
            "Prepared: 656867602\n",
            "Prepared: 656903665\n",
            "Prepared: 657212081\n",
            "Prepared: 657269599\n",
            "Prepared: 657850600\n",
            "Prepared: 924844907\n",
            "Prepared: 924844907\n",
            "Prepared: 925299258\n",
            "Prepared: 925643890\n",
            "Prepared: 925906931\n",
            "Prepared: 926229147\n",
            "CPU times: total: 7h 31min 19s\n",
            "Wall time: 10h 38s\n"
          ]
        }
      ]
    },
    {
      "cell_type": "code",
      "source": [
        "#manual corrections\n",
        "#CTA\n",
        "df = pd.read_excel('AnishSalvi/ImageRx/PAD-Net/vRAD_Dataset/Dataset_CTAs/Data/vRAD_Dataset_CTA-2023-01-21-07-56-13.xlsx')\n",
        "#Series\n",
        "df_series = pd.read_excel('AnishSalvi/ImageRx/PAD-Net/vRAD_Dataset/Dataset_Series/Dataset_Series-2023-01-20-01-55-35.xlsx')\n",
        "#remove if patients and series are the same // will not affect file writing!\n",
        "#this patient has different reports across the upload folder dates (addenum)\n",
        "#print(df[df['Patient'] == 278185830]['Full_Report'].iloc[0]) #1\n",
        "#print(df[df['Patient'] == 278185830]['Medcave03_Report'].iloc[0]) #1\n",
        "\n",
        "#will not affect file writing\n",
        "df = df.drop_duplicates(subset = ['Patient', 'Series_ID', 'Study', 'Scan', 'Series', 'Num_DICOM', 'Max_Patient_DICOM', 'Medcave03_CTA'])\n",
        "\n",
        "#get the duplicates//this will affect file writing//max dicom has two or more series per patient!!!\n",
        "patients = get_dupes(df['Patient'].to_list())\n",
        "#print\n",
        "print(patients)"
      ],
      "metadata": {
        "id": "SFr0wM5bS0Xm"
      },
      "execution_count": null,
      "outputs": []
    },
    {
      "cell_type": "code",
      "source": [
        "#all patients to correct\n",
        "#select the patients to manually override // must be specified like this\n",
        "over_patient = [\n",
        "    [388127763, 'CTA THORACIC'],\n",
        "    [1222486634, 'DIAPHRAGM TO TOE-C+ '],\n",
        "    [1332482978, '1mm cta CTA 1.0 CE  CTA 1mm cta '],\n",
        "    [1351643295, 'RUNOFF 2.5'],\n",
        "    [1601022171, 'stnd 2.5'],\n",
        "    [546714979, '1mm cta CTA 1.0 CE  CTA 1mm cta '],\n",
        "    [1489963600, 'ARTERIAL AXIAL, iDose (4) '],\n",
        "    [1730229748, '1mm cta CTA 1.0 CE  CTA 1mm cta '],\n",
        "    [1998587672, 'abd/pelv mips '],\n",
        "    [924844907, 'CTA Lower ext ']\n",
        "]\n",
        "#over\n",
        "#all_patients = patients + over_patient\n",
        "#iterate\n",
        "all_patients = []\n",
        "for patient, _ in over_patient:\n",
        "  all_patients.append(patient)\n",
        "\n",
        "#correct CTAs\n",
        "df_correct = df[~df['Patient'].isin(all_patients)]\n",
        "\n",
        "#automatic//manual correction\n",
        "df_overlap = df_series[df_series['Patient'].isin(all_patients)]\n",
        "\n",
        "#post processing\n",
        "df_post = []\n",
        "for patient, series in over_patient:\n",
        "  temp = df_series[(df_series['Patient'] == patient) & (df_series['Series'] == series)]\n",
        "  temp = temp.drop_duplicates(subset = ['Patient', 'Series_ID', 'Study', 'Scan', 'Series', 'Num_DICOM', 'Max_Patient_DICOM'])\n",
        "  df_post.append(temp)\n",
        "df_post = pd.concat(df_post)"
      ],
      "metadata": {
        "id": "qj_7O5lrO74m"
      },
      "execution_count": null,
      "outputs": []
    },
    {
      "cell_type": "code",
      "source": [
        "%%time\n",
        "#apply to CTAs AnishSalvi/ImageRx/PAD-Net/vRAD_Dataset_Inputs/\n",
        "\n",
        "#add_columns = ['PAD_50_Annotation', 'PAD_50_Annotation_Notes']\n",
        "over_ride = True\n",
        "#save\n",
        "save_path = 'AnishSalvi/ImageRx/PAD-Net/vRAD_Dataset/Dataset_CTAs/'\n",
        "#create\n",
        "df_post['Medcave03_CTA'] = df_post.apply(get_CTAs, axis = 1, args = (save_path, over_ride))\n",
        "#append\n",
        "df_final = pd.concat([df_correct, df_post])\n",
        "#save\n",
        "df_final.to_excel(save_path + 'Data/vRAD_Dataset_CTA_Final' + datetime.now().strftime(\"-%Y-%m-%d-%H-%M-%S\") + '.xlsx', index = False)"
      ],
      "metadata": {
        "colab": {
          "base_uri": "https://localhost:8080/"
        },
        "id": "1qwBSXb_CRg2",
        "outputId": "dda634bf-e14b-4e44-cad8-003c08a0db6c"
      },
      "execution_count": null,
      "outputs": [
        {
          "output_type": "stream",
          "name": "stdout",
          "text": [
            "Prepared: 388127763\n",
            "Prepared: 1222486634\n",
            "Prepared: 1332482978\n",
            "Prepared: 1351643295\n",
            "Prepared: 1601022171\n",
            "Prepared: 546714979\n",
            "Prepared: 1489963600\n",
            "Prepared: 1730229748\n",
            "Prepared: 1998587672\n",
            "Prepared: 924844907\n",
            "CPU times: total: 15min 21s\n",
            "Wall time: 24min 28s\n"
          ]
        }
      ]
    },
    {
      "cell_type": "markdown",
      "source": [
        "# Debug"
      ],
      "metadata": {
        "id": "8vAZZuxR2CNN"
      }
    },
    {
      "cell_type": "code",
      "source": [
        "len(df_final['Patient'].to_list())"
      ],
      "metadata": {
        "colab": {
          "base_uri": "https://localhost:8080/"
        },
        "id": "4fLrH2WIZh4C",
        "outputId": "8dbb38dc-cd54-4331-b173-05804ca73ad2"
      },
      "execution_count": null,
      "outputs": [
        {
          "output_type": "execute_result",
          "data": {
            "text/plain": [
              "194"
            ]
          },
          "metadata": {},
          "execution_count": 10
        }
      ]
    },
    {
      "cell_type": "code",
      "source": [
        "len(set(df_series['Patient'].to_list()))"
      ],
      "metadata": {
        "colab": {
          "base_uri": "https://localhost:8080/"
        },
        "id": "ve0vsypPZqCf",
        "outputId": "b7281b55-ad90-4c10-feb1-4d898c240d26"
      },
      "execution_count": null,
      "outputs": [
        {
          "output_type": "execute_result",
          "data": {
            "text/plain": [
              "194"
            ]
          },
          "metadata": {},
          "execution_count": 11
        }
      ]
    },
    {
      "cell_type": "code",
      "source": [
        "#corrected (remove the unneccesary files)\n",
        "df = pd.read_excel('AnishSalvi/ImageRx/PAD-Net/vRAD_Dataset/Dataset_CTAs/Data/vRAD_Dataset_CTA-2023-01-21-07-56-13.xlsx')"
      ],
      "metadata": {
        "id": "NT6l-FhdFrC-"
      },
      "execution_count": null,
      "outputs": []
    },
    {
      "cell_type": "code",
      "source": [
        "#remove the CTAs\n",
        "def rm_CTAs(row):\n",
        "  unzipped_patient = row['Medcave03_DCM'].replace('.zip','/')\n",
        "  if os.path.isdir(unzipped_patient):\n",
        "    print(unzipped_patient)\n",
        "    shutil.rmtree(unzipped_patient)"
      ],
      "metadata": {
        "id": "h13QA-iKHcmk"
      },
      "execution_count": null,
      "outputs": []
    },
    {
      "cell_type": "code",
      "source": [
        "df = pd.read_excel('AnishSalvi/ImageRx/PAD-Net/vRAD_Dataset/Dataset_CTAs/Data/vRAD_Dataset_CTA_Final-2023-01-29-02-20-18.xlsx')"
      ],
      "metadata": {
        "id": "1-SX4iwzSbt1"
      },
      "execution_count": null,
      "outputs": []
    },
    {
      "cell_type": "code",
      "source": [
        "df.apply(rm_CTAs, axis = 1)"
      ],
      "metadata": {
        "colab": {
          "base_uri": "https://localhost:8080/"
        },
        "id": "l1EAj3GBS1Zg",
        "outputId": "1aab747f-4a1a-41ca-f09b-3a399692f2d3"
      },
      "execution_count": null,
      "outputs": [
        {
          "output_type": "execute_result",
          "data": {
            "text/plain": [
              "0      None\n",
              "1      None\n",
              "2      None\n",
              "3      None\n",
              "4      None\n",
              "       ... \n",
              "191    None\n",
              "192    None\n",
              "193    None\n",
              "194    None\n",
              "195    None\n",
              "Length: 196, dtype: object"
            ]
          },
          "metadata": {},
          "execution_count": 23
        }
      ]
    },
    {
      "cell_type": "code",
      "source": [],
      "metadata": {
        "id": "V-i6u70sGs0v"
      },
      "execution_count": null,
      "outputs": []
    },
    {
      "cell_type": "code",
      "source": [
        "unzipped_patient"
      ],
      "metadata": {
        "colab": {
          "base_uri": "https://localhost:8080/"
        },
        "id": "di0a83rGHAaI",
        "outputId": "5ed18f91-cf5d-4fb4-c37f-6a347ddd7c17"
      },
      "execution_count": null,
      "outputs": [
        {
          "output_type": "execute_result",
          "data": {
            "text/plain": [
              "'AnishSalvi/ImageRx/PAD-Net/vRAD_Dataset\\\\CTA_Lower_Extremity_Runoff_2022-12-13\\\\10261071/images/'"
            ]
          },
          "metadata": {},
          "execution_count": 13
        }
      ]
    },
    {
      "cell_type": "code",
      "source": [],
      "metadata": {
        "id": "1zcmsCLrHH-t"
      },
      "execution_count": null,
      "outputs": []
    },
    {
      "cell_type": "code",
      "source": [
        "#remove if patients and series are the same // will not affect file\n",
        "#this patient has different reports across the upload folder dates (addenum)\n",
        "#print(df[df['Patient'] == 278185830]['Full_Report'].iloc[0]) #1\n",
        "#print(df[df['Patient'] == 278185830]['Medcave03_Report'].iloc[0]) #1\n",
        "df2 = df.drop_duplicates(subset = ['Patient', 'Series_ID', 'Study', 'Scan', 'Series', 'Num_DICOM', 'Full_Report', 'Max_Patient_DICOM', 'Medcave03_CTA'])\n",
        "#evidence one patient had different notes\n",
        "#df2 = df.drop_duplicates(subset = ['Patient', 'Series_ID', 'Study', 'Scan', 'Series', 'Num_DICOM', 'Max_Patient_DICOM'])\n",
        "#final\n",
        "#get the duplicates//this will affect file writing//max dicom has two or more series per patient!!!\n",
        "patients = get_dupes(df2['Patient'].to_list())\n",
        "#identify the patients to remove based on patient and series name\n",
        "df2 = df2[~df2['Patient'].isin(patients)]\n",
        "#next\n",
        "df_series ="
      ],
      "metadata": {
        "id": "OjCrs7LJwmaz"
      },
      "execution_count": null,
      "outputs": []
    },
    {
      "cell_type": "code",
      "source": [],
      "metadata": {
        "id": "rWZ0serJT7Zc"
      },
      "execution_count": null,
      "outputs": []
    },
    {
      "cell_type": "code",
      "source": [
        "#iterate\n",
        "patient = patients[0]\n",
        "#subset\n",
        "df_sub = df[df['Patient'] == patient]\n",
        "#identify\n",
        "row = df_sub.iloc[1]"
      ],
      "metadata": {
        "id": "nJnGSxJ5DnIF"
      },
      "execution_count": null,
      "outputs": []
    },
    {
      "cell_type": "code",
      "source": [
        "row['Series']"
      ],
      "metadata": {
        "colab": {
          "base_uri": "https://localhost:8080/"
        },
        "id": "WXxO6C9C7TD_",
        "outputId": "29ad040c-1b3b-4b74-ab6e-0cecf2693a26"
      },
      "execution_count": null,
      "outputs": [
        {
          "output_type": "execute_result",
          "data": {
            "text/plain": [
              "'1mm venous CTA 1.0 CE  venous 1mm venous'"
            ]
          },
          "metadata": {},
          "execution_count": 213
        }
      ]
    },
    {
      "cell_type": "code",
      "source": [
        "row['Series'].upper()"
      ],
      "metadata": {
        "colab": {
          "base_uri": "https://localhost:8080/"
        },
        "id": "25a2qAWQFFxu",
        "outputId": "69e725e6-9778-4600-d73f-47cbce5bef4f"
      },
      "execution_count": null,
      "outputs": [
        {
          "output_type": "execute_result",
          "data": {
            "text/plain": [
              "'1MM VENOUS CTA 1.0 CE  VENOUS 1MM VENOUS'"
            ]
          },
          "metadata": {},
          "execution_count": 214
        }
      ]
    },
    {
      "cell_type": "code",
      "source": [
        "rm_check = ['VENOUS', 'BONE', 'LOWER LEG', 'MIPS']\n",
        "series = row['Series']"
      ],
      "metadata": {
        "id": "8U4D8BiFFUOn"
      },
      "execution_count": null,
      "outputs": []
    },
    {
      "cell_type": "code",
      "source": [],
      "metadata": {
        "colab": {
          "base_uri": "https://localhost:8080/"
        },
        "id": "sl1OYMLzFS9Z",
        "outputId": "38d81343-ef63-482d-9ee9-e5135132e803"
      },
      "execution_count": null,
      "outputs": [
        {
          "output_type": "stream",
          "name": "stdout",
          "text": [
            "False\n"
          ]
        }
      ]
    },
    {
      "cell_type": "code",
      "source": [
        "#checker\n",
        "def checker(row, rm_check = ['VENOUS', 'BONE', 'LEG', 'MIPS']):\n",
        "  #check\n",
        "  valid = True\n",
        "  for rm in rm_check:\n",
        "    if rm in str(row['Series']).upper():\n",
        "      valid = False\n",
        "  #return\n",
        "  return valid"
      ],
      "metadata": {
        "id": "QSOOSA1tGr31"
      },
      "execution_count": null,
      "outputs": []
    },
    {
      "cell_type": "code",
      "source": [
        "len(set(df_series[df_series.apply(checker, axis = 1) == False]['Patient'].to_list()))"
      ],
      "metadata": {
        "colab": {
          "base_uri": "https://localhost:8080/"
        },
        "id": "2O5NFm6jG8ik",
        "outputId": "00506797-2684-49d8-b812-0ad874d078c4"
      },
      "execution_count": null,
      "outputs": [
        {
          "output_type": "execute_result",
          "data": {
            "text/plain": [
              "49"
            ]
          },
          "metadata": {},
          "execution_count": 235
        }
      ]
    },
    {
      "cell_type": "code",
      "source": [
        "df_series[df_series['Patient'] == 1462633036]"
      ],
      "metadata": {
        "colab": {
          "base_uri": "https://localhost:8080/",
          "height": 778
        },
        "id": "y9NgdTASJzW0",
        "outputId": "0c8a4bd9-a370-407b-fad5-5dc45b0f13df"
      },
      "execution_count": null,
      "outputs": [
        {
          "output_type": "execute_result",
          "data": {
            "text/plain": [
              "         Patient                                      Medcave03_DCM  \\\n",
              "1191  1462633036  AnishSalvi/ImageRx/PAD-Net/vRAD_Dataset\\CTA_Lo...   \n",
              "1192  1462633036  AnishSalvi/ImageRx/PAD-Net/vRAD_Dataset\\CTA_Lo...   \n",
              "1193  1462633036  AnishSalvi/ImageRx/PAD-Net/vRAD_Dataset\\CTA_Lo...   \n",
              "1194  1462633036  AnishSalvi/ImageRx/PAD-Net/vRAD_Dataset\\CTA_Lo...   \n",
              "1195  1462633036  AnishSalvi/ImageRx/PAD-Net/vRAD_Dataset\\CTA_Lo...   \n",
              "1196  1462633036  AnishSalvi/ImageRx/PAD-Net/vRAD_Dataset\\CTA_Lo...   \n",
              "\n",
              "                                       Medcave03_Report  \\\n",
              "1191  AnishSalvi/ImageRx/PAD-Net/vRAD_Dataset\\CTA_Lo...   \n",
              "1192  AnishSalvi/ImageRx/PAD-Net/vRAD_Dataset\\CTA_Lo...   \n",
              "1193  AnishSalvi/ImageRx/PAD-Net/vRAD_Dataset\\CTA_Lo...   \n",
              "1194  AnishSalvi/ImageRx/PAD-Net/vRAD_Dataset\\CTA_Lo...   \n",
              "1195  AnishSalvi/ImageRx/PAD-Net/vRAD_Dataset\\CTA_Lo...   \n",
              "1196  AnishSalvi/ImageRx/PAD-Net/vRAD_Dataset\\CTA_Lo...   \n",
              "\n",
              "                                 Medcave03_Series_Files  \\\n",
              "1191  ('AnishSalvi/ImageRx/PAD-Net/vRAD_Dataset\\\\CTA...   \n",
              "1192  ('AnishSalvi/ImageRx/PAD-Net/vRAD_Dataset\\\\CTA...   \n",
              "1193  ('AnishSalvi/ImageRx/PAD-Net/vRAD_Dataset\\\\CTA...   \n",
              "1194  ('AnishSalvi/ImageRx/PAD-Net/vRAD_Dataset\\\\CTA...   \n",
              "1195  ('AnishSalvi/ImageRx/PAD-Net/vRAD_Dataset\\\\CTA...   \n",
              "1196  ('AnishSalvi/ImageRx/PAD-Net/vRAD_Dataset\\\\CTA...   \n",
              "\n",
              "                                              Series_ID  \\\n",
              "1191  1.2.40.0.13.1.17220746704661976583236389967624...   \n",
              "1192  1.2.40.0.13.1.23556615124612193628745919404618...   \n",
              "1193  1.2.40.0.13.1.28075492554474604697215796230233...   \n",
              "1194  1.2.40.0.13.1.28883217196072182034302981323641...   \n",
              "1195  1.2.40.0.13.1.32209296587863748537036527816970...   \n",
              "1196  1.2.40.0.13.1.33893996227050482297465294009411...   \n",
              "\n",
              "                                                  Study      Scan  \\\n",
              "1191  CTA Abdominal Aorta and Bilateral Iliofemoral ...  SIEMENS    \n",
              "1192  CTA Abdominal Aorta and Bilateral Iliofemoral ...  SIEMENS    \n",
              "1193  CTA Abdominal Aorta and Bilateral Iliofemoral ...  SIEMENS    \n",
              "1194  CTA Abdominal Aorta and Bilateral Iliofemoral ...  SIEMENS    \n",
              "1195  CTA Abdominal Aorta and Bilateral Iliofemoral ...  SIEMENS    \n",
              "1196  CTA Abdominal Aorta and Bilateral Iliofemoral ...  SIEMENS    \n",
              "\n",
              "                        Series  Num_DICOM  \\\n",
              "1191                  SAGITTAL        220   \n",
              "1192                  SAGITTAL        199   \n",
              "1193                  CORONAL         102   \n",
              "1194    RUN-OFF  3.0  Bv38  2         334   \n",
              "1195  LOWER LEGS  3.0  Bv38  2        336   \n",
              "1196                  CORONAL         102   \n",
              "\n",
              "                                            Full_Report  Max_Patient_DICOM  \\\n",
              "1191  PROCEDURE INFORMATION: \\nExam:?CTA Abdominal A...              False   \n",
              "1192  PROCEDURE INFORMATION: \\nExam:?CTA Abdominal A...              False   \n",
              "1193  PROCEDURE INFORMATION: \\nExam:?CTA Abdominal A...              False   \n",
              "1194  PROCEDURE INFORMATION: \\nExam:?CTA Abdominal A...              False   \n",
              "1195  PROCEDURE INFORMATION: \\nExam:?CTA Abdominal A...               True   \n",
              "1196  PROCEDURE INFORMATION: \\nExam:?CTA Abdominal A...              False   \n",
              "\n",
              "      Manual_DICOM_Selection  \n",
              "1191                     NaN  \n",
              "1192                     NaN  \n",
              "1193                     NaN  \n",
              "1194                     NaN  \n",
              "1195                     NaN  \n",
              "1196                     NaN  "
            ],
            "text/html": [
              "<div>\n",
              "<style scoped>\n",
              "    .dataframe tbody tr th:only-of-type {\n",
              "        vertical-align: middle;\n",
              "    }\n",
              "\n",
              "    .dataframe tbody tr th {\n",
              "        vertical-align: top;\n",
              "    }\n",
              "\n",
              "    .dataframe thead th {\n",
              "        text-align: right;\n",
              "    }\n",
              "</style>\n",
              "<table border=\"1\" class=\"dataframe\">\n",
              "  <thead>\n",
              "    <tr style=\"text-align: right;\">\n",
              "      <th></th>\n",
              "      <th>Patient</th>\n",
              "      <th>Medcave03_DCM</th>\n",
              "      <th>Medcave03_Report</th>\n",
              "      <th>Medcave03_Series_Files</th>\n",
              "      <th>Series_ID</th>\n",
              "      <th>Study</th>\n",
              "      <th>Scan</th>\n",
              "      <th>Series</th>\n",
              "      <th>Num_DICOM</th>\n",
              "      <th>Full_Report</th>\n",
              "      <th>Max_Patient_DICOM</th>\n",
              "      <th>Manual_DICOM_Selection</th>\n",
              "    </tr>\n",
              "  </thead>\n",
              "  <tbody>\n",
              "    <tr>\n",
              "      <th>1191</th>\n",
              "      <td>1462633036</td>\n",
              "      <td>AnishSalvi/ImageRx/PAD-Net/vRAD_Dataset\\CTA_Lo...</td>\n",
              "      <td>AnishSalvi/ImageRx/PAD-Net/vRAD_Dataset\\CTA_Lo...</td>\n",
              "      <td>('AnishSalvi/ImageRx/PAD-Net/vRAD_Dataset\\\\CTA...</td>\n",
              "      <td>1.2.40.0.13.1.17220746704661976583236389967624...</td>\n",
              "      <td>CTA Abdominal Aorta and Bilateral Iliofemoral ...</td>\n",
              "      <td>SIEMENS</td>\n",
              "      <td>SAGITTAL</td>\n",
              "      <td>220</td>\n",
              "      <td>PROCEDURE INFORMATION: \\nExam:?CTA Abdominal A...</td>\n",
              "      <td>False</td>\n",
              "      <td>NaN</td>\n",
              "    </tr>\n",
              "    <tr>\n",
              "      <th>1192</th>\n",
              "      <td>1462633036</td>\n",
              "      <td>AnishSalvi/ImageRx/PAD-Net/vRAD_Dataset\\CTA_Lo...</td>\n",
              "      <td>AnishSalvi/ImageRx/PAD-Net/vRAD_Dataset\\CTA_Lo...</td>\n",
              "      <td>('AnishSalvi/ImageRx/PAD-Net/vRAD_Dataset\\\\CTA...</td>\n",
              "      <td>1.2.40.0.13.1.23556615124612193628745919404618...</td>\n",
              "      <td>CTA Abdominal Aorta and Bilateral Iliofemoral ...</td>\n",
              "      <td>SIEMENS</td>\n",
              "      <td>SAGITTAL</td>\n",
              "      <td>199</td>\n",
              "      <td>PROCEDURE INFORMATION: \\nExam:?CTA Abdominal A...</td>\n",
              "      <td>False</td>\n",
              "      <td>NaN</td>\n",
              "    </tr>\n",
              "    <tr>\n",
              "      <th>1193</th>\n",
              "      <td>1462633036</td>\n",
              "      <td>AnishSalvi/ImageRx/PAD-Net/vRAD_Dataset\\CTA_Lo...</td>\n",
              "      <td>AnishSalvi/ImageRx/PAD-Net/vRAD_Dataset\\CTA_Lo...</td>\n",
              "      <td>('AnishSalvi/ImageRx/PAD-Net/vRAD_Dataset\\\\CTA...</td>\n",
              "      <td>1.2.40.0.13.1.28075492554474604697215796230233...</td>\n",
              "      <td>CTA Abdominal Aorta and Bilateral Iliofemoral ...</td>\n",
              "      <td>SIEMENS</td>\n",
              "      <td>CORONAL</td>\n",
              "      <td>102</td>\n",
              "      <td>PROCEDURE INFORMATION: \\nExam:?CTA Abdominal A...</td>\n",
              "      <td>False</td>\n",
              "      <td>NaN</td>\n",
              "    </tr>\n",
              "    <tr>\n",
              "      <th>1194</th>\n",
              "      <td>1462633036</td>\n",
              "      <td>AnishSalvi/ImageRx/PAD-Net/vRAD_Dataset\\CTA_Lo...</td>\n",
              "      <td>AnishSalvi/ImageRx/PAD-Net/vRAD_Dataset\\CTA_Lo...</td>\n",
              "      <td>('AnishSalvi/ImageRx/PAD-Net/vRAD_Dataset\\\\CTA...</td>\n",
              "      <td>1.2.40.0.13.1.28883217196072182034302981323641...</td>\n",
              "      <td>CTA Abdominal Aorta and Bilateral Iliofemoral ...</td>\n",
              "      <td>SIEMENS</td>\n",
              "      <td>RUN-OFF  3.0  Bv38  2</td>\n",
              "      <td>334</td>\n",
              "      <td>PROCEDURE INFORMATION: \\nExam:?CTA Abdominal A...</td>\n",
              "      <td>False</td>\n",
              "      <td>NaN</td>\n",
              "    </tr>\n",
              "    <tr>\n",
              "      <th>1195</th>\n",
              "      <td>1462633036</td>\n",
              "      <td>AnishSalvi/ImageRx/PAD-Net/vRAD_Dataset\\CTA_Lo...</td>\n",
              "      <td>AnishSalvi/ImageRx/PAD-Net/vRAD_Dataset\\CTA_Lo...</td>\n",
              "      <td>('AnishSalvi/ImageRx/PAD-Net/vRAD_Dataset\\\\CTA...</td>\n",
              "      <td>1.2.40.0.13.1.32209296587863748537036527816970...</td>\n",
              "      <td>CTA Abdominal Aorta and Bilateral Iliofemoral ...</td>\n",
              "      <td>SIEMENS</td>\n",
              "      <td>LOWER LEGS  3.0  Bv38  2</td>\n",
              "      <td>336</td>\n",
              "      <td>PROCEDURE INFORMATION: \\nExam:?CTA Abdominal A...</td>\n",
              "      <td>True</td>\n",
              "      <td>NaN</td>\n",
              "    </tr>\n",
              "    <tr>\n",
              "      <th>1196</th>\n",
              "      <td>1462633036</td>\n",
              "      <td>AnishSalvi/ImageRx/PAD-Net/vRAD_Dataset\\CTA_Lo...</td>\n",
              "      <td>AnishSalvi/ImageRx/PAD-Net/vRAD_Dataset\\CTA_Lo...</td>\n",
              "      <td>('AnishSalvi/ImageRx/PAD-Net/vRAD_Dataset\\\\CTA...</td>\n",
              "      <td>1.2.40.0.13.1.33893996227050482297465294009411...</td>\n",
              "      <td>CTA Abdominal Aorta and Bilateral Iliofemoral ...</td>\n",
              "      <td>SIEMENS</td>\n",
              "      <td>CORONAL</td>\n",
              "      <td>102</td>\n",
              "      <td>PROCEDURE INFORMATION: \\nExam:?CTA Abdominal A...</td>\n",
              "      <td>False</td>\n",
              "      <td>NaN</td>\n",
              "    </tr>\n",
              "  </tbody>\n",
              "</table>\n",
              "</div>"
            ]
          },
          "metadata": {},
          "execution_count": 227
        }
      ]
    },
    {
      "cell_type": "code",
      "source": [
        "df['Patient'].to_list()"
      ],
      "metadata": {
        "id": "2izX36G8Qj5q"
      },
      "execution_count": null,
      "outputs": []
    },
    {
      "cell_type": "code",
      "source": [],
      "metadata": {
        "id": "d5pGauIYRhpg"
      },
      "execution_count": null,
      "outputs": []
    },
    {
      "cell_type": "code",
      "source": [
        "len(df2[df2['Patient'].isin(patients)])"
      ],
      "metadata": {
        "colab": {
          "base_uri": "https://localhost:8080/"
        },
        "id": "gL420HcsB2nE",
        "outputId": "d9027c85-5876-4403-d600-436e69d6adf2"
      },
      "execution_count": null,
      "outputs": [
        {
          "output_type": "execute_result",
          "data": {
            "text/plain": [
              "18"
            ]
          },
          "metadata": {},
          "execution_count": 135
        }
      ]
    },
    {
      "cell_type": "code",
      "source": [
        "#need to process seperately\n",
        "#venous, bone, leg mips case insensitive #need to be more sensitive to the labeling scheme!!!!"
      ],
      "metadata": {
        "id": "YwC_oNcECEuC"
      },
      "execution_count": null,
      "outputs": []
    },
    {
      "cell_type": "code",
      "source": [
        "df['Series']"
      ],
      "metadata": {
        "colab": {
          "base_uri": "https://localhost:8080/"
        },
        "id": "vVQHVUiKFGBp",
        "outputId": "63038ee1-e6aa-410e-a033-e1fb527f3efb"
      },
      "execution_count": null,
      "outputs": [
        {
          "output_type": "execute_result",
          "data": {
            "text/plain": [
              "0                     CTA RUNOFF\n",
              "3           CTA Abdomen w/Runoff\n",
              "11                  AngioRunOff \n",
              "14      CTA RUNOFF  1.0  BR38  4\n",
              "19                    ABD RUNOFF\n",
              "                  ...           \n",
              "1715                        Bone\n",
              "1722      Angio RunOff  1.0 3DR \n",
              "1730                    RUNOFFS \n",
              "1733          Run Off  1.0  B26f\n",
              "1739          STD ARTERIAL 1.25 \n",
              "Name: Series, Length: 235, dtype: object"
            ]
          },
          "metadata": {},
          "execution_count": 162
        }
      ]
    },
    {
      "cell_type": "code",
      "source": [
        "df_series[df_series['Patient'] == 1083212565]['Series']"
      ],
      "metadata": {
        "colab": {
          "base_uri": "https://localhost:8080/"
        },
        "id": "Crdvur_0C_ME",
        "outputId": "4e9a64c9-4ac0-4cc8-e49c-e6419228bb42"
      },
      "execution_count": null,
      "outputs": [
        {
          "output_type": "execute_result",
          "data": {
            "text/plain": [
              "3                   CTA Abdomen w/Runoff\n",
              "4                       Venous  w/Runoff\n",
              "5       Coronal Venous Trifurcation MIPs\n",
              "6     Sagittal Venous Trifurcation MIPs \n",
              "7                     Coronal Aorta MIPs\n",
              "8                     Coronal Iliac MIPs\n",
              "9                   Sagittal Aorta MIPs \n",
              "10                  Sagittal Iliac MIPs \n",
              "Name: Series, dtype: object"
            ]
          },
          "metadata": {},
          "execution_count": 158
        }
      ]
    },
    {
      "cell_type": "code",
      "source": [
        "df_series['Patient']"
      ],
      "metadata": {
        "colab": {
          "base_uri": "https://localhost:8080/"
        },
        "id": "aS5OlREuFrqQ",
        "outputId": "484d9b80-a0c8-40b8-f23a-6f082eae30ea"
      },
      "execution_count": null,
      "outputs": [
        {
          "output_type": "execute_result",
          "data": {
            "text/plain": [
              "0         10261071\n",
              "1         10261071\n",
              "2         10261071\n",
              "3       1083212565\n",
              "4       1083212565\n",
              "           ...    \n",
              "1743     926229147\n",
              "1744     926229147\n",
              "1745     926229147\n",
              "1746     926229147\n",
              "1747     926229147\n",
              "Name: Patient, Length: 1748, dtype: int64"
            ]
          },
          "metadata": {},
          "execution_count": 164
        }
      ]
    },
    {
      "cell_type": "code",
      "source": [
        "df['Series'].to_list()"
      ],
      "metadata": {
        "colab": {
          "base_uri": "https://localhost:8080/"
        },
        "id": "MI0qjcx-F1BN",
        "outputId": "ea35a3cd-c25d-414c-db04-6c14e87c9a25"
      },
      "execution_count": null,
      "outputs": [
        {
          "output_type": "execute_result",
          "data": {
            "text/plain": [
              "['CTA RUNOFF',\n",
              " 'CTA Abdomen w/Runoff',\n",
              " 'AngioRunOff ',\n",
              " 'CTA RUNOFF  1.0  BR38  4',\n",
              " 'ABD RUNOFF',\n",
              " 'Run Off  2.0  Br38  1 ',\n",
              " 'AXIAL_W ARTERIAL',\n",
              " 'WITH',\n",
              " 'CTA RUNOFF  3.0  Br40 ',\n",
              " 'CTA ',\n",
              " 'HELICAL RUNOFF WITH ',\n",
              " 'STANDARD THIN ',\n",
              " 'CTA Lower ext ',\n",
              " 'RUNOFF-CONTRAST ',\n",
              " 'thins delay ',\n",
              " '1.25 DMPR ',\n",
              " 'STD 2.5 ANGIO ',\n",
              " '1mm cta CTA 1.0 CE  CTA 1mm cta ',\n",
              " '1mm venous CTA 1.0 CE  venous 1mm venous',\n",
              " 'CTA RUNOFF 1.25X.625 STND ',\n",
              " '3 ART THIN AX ',\n",
              " 'CTA ABD thins for reformat',\n",
              " 'Runoff Bolus',\n",
              " 'Renals-Toes  2.0  Br38  3 ',\n",
              " 'RUNOFF',\n",
              " 'THINS ',\n",
              " 'ENHANCED ISOVUE 370 150ML ',\n",
              " '0.625 STD ',\n",
              " 'CTA RUNOFF',\n",
              " 'AXIAL ',\n",
              " '2.5MM STANDARD',\n",
              " 'ART THIN AX ',\n",
              " 'CTA ABD PLV RUNOFF ART',\n",
              " 'RUNOFF-CONTRAST ',\n",
              " ' CTA 2.0 CE ',\n",
              " '1mm cta CTA 1.0 CE  CTA 1mm cta ',\n",
              " 'Thins AngioRunOff  1.0  Bv38  3 ',\n",
              " 'CTA RUNOFF',\n",
              " 'RUNOFF',\n",
              " 'AX THIN ',\n",
              " '1.25mm CTA',\n",
              " 'ART THIN AX ',\n",
              " 'AX RUNOFF, iDose (3)',\n",
              " 'THINS LEGS',\n",
              " 'CTA ',\n",
              " 'ART THIN AX ',\n",
              " 'HELICAL RUNOFF WITH ',\n",
              " 'STANDARD THIN ',\n",
              " 'CTA Runoff axial',\n",
              " 'CTA Lower ext ',\n",
              " 'RUNOFF-CONTRAST ',\n",
              " 'thins delay ',\n",
              " 'CTA RUNOFF',\n",
              " '*2.5MM STANDARD ',\n",
              " '1.25 DMPR ',\n",
              " 'STD 2.5 ANGIO ',\n",
              " '1mm cta CTA 1.0 CE  CTA 1mm cta ',\n",
              " '1mm venous CTA 1.0 CE  venous 1mm venous',\n",
              " 'WholeBody  3.0  B30s',\n",
              " 'CTA RUNOFF',\n",
              " 'CTA RUNOFF 1.25X.625 STND ',\n",
              " '3 ART THIN AX ',\n",
              " 'RUNOFF 2.5',\n",
              " 'VENOUS PHASE',\n",
              " 'AXIAL THIN A/P',\n",
              " 'HELICAL ',\n",
              " 'RUN OFF 2.5MM ',\n",
              " '5mm ',\n",
              " 'CTA ABD thins for reformat',\n",
              " 'Recon 4:',\n",
              " 'Runoff Bolus',\n",
              " 'CTA Abdomen w/Runoff',\n",
              " 'Renals-Toes  2.0  Br38  3 ',\n",
              " 'stnd 2.5',\n",
              " '2.5 Bone',\n",
              " 'CTA 3.0 CE',\n",
              " 'RUNOFF',\n",
              " 'THINS ',\n",
              " 'AXIAL WITH',\n",
              " 'ENHANCED ISOVUE 370 150ML ',\n",
              " '2.5 STND',\n",
              " '0.625 STD ',\n",
              " 'STANDARD THIN ',\n",
              " '1.25mm CTA',\n",
              " 'CTA RUNOFF',\n",
              " 'ARTERIAL',\n",
              " 'AXIAL ',\n",
              " '2.5MM STANDARD',\n",
              " 'ART THIN AX ',\n",
              " 'CTA RUNOFF',\n",
              " 'ART THIN AX ',\n",
              " ' CTA 2.000 CE ',\n",
              " 'AngioRunOff  5.0  RAD SET ',\n",
              " 'CTA AORTA RUNOFF',\n",
              " 'RUNOFF 3.00 ax A/P',\n",
              " 'CTA ABD PLV RUNOFF ART',\n",
              " 'RUNOFF-CONTRAST ',\n",
              " 'RUNOFF, iDose (2) ',\n",
              " ' CTA 2.0 CE ',\n",
              " '1mm cta CTA 1.0 CE  CTA 1mm cta ',\n",
              " 'KNEE TO TOES',\n",
              " 'RUNOFF, iDose (3) ',\n",
              " 'Thins AngioRunOff  1.0  Bv38  3 ',\n",
              " 'CTA RUNOFF',\n",
              " 'CTA RUNOFF',\n",
              " 'KIDNEYS - TOES, iDose (3) ',\n",
              " '1mm cta CTA 1.0 CE  CTA 1mm cta ',\n",
              " '1mm venous CTA 1.0 CE  venous 1mm venous',\n",
              " 'RUNOFF',\n",
              " 'axial 2.5mm, iDose (2)',\n",
              " 'AX THIN ',\n",
              " 'CTA LE RIGHT',\n",
              " 'RUNOFF-CONTRAST/CAP ',\n",
              " 'ABD/PEL WITH RUN OFF',\n",
              " '1.25mm CTA',\n",
              " '1.25 MM ',\n",
              " '*2.5MM STANDARD ',\n",
              " 'Renals-Toes  2.0  Br38  3 ',\n",
              " 'CTA ABD PLV RUNOFF',\n",
              " 'Runoff',\n",
              " 'CTA Abd w/ Runoff ',\n",
              " 'AXIAL_ARTERIAL',\n",
              " 'thins ',\n",
              " 'RUNOFF',\n",
              " 'VRT ',\n",
              " 'ART THIN AX ',\n",
              " 'CTA Runoff 7.00 ax MIP',\n",
              " 'AXIAL WITH',\n",
              " 'CTA Abd w/ Runoff ',\n",
              " '2X1.5 ',\n",
              " 'RUN-OFF  3.0  Bv38  2 ',\n",
              " 'STD ARTERIAL 1.25 ',\n",
              " 'CTA RUNOFF',\n",
              " 'CTA RUNOFF 2.5 STANDARD ',\n",
              " 'CTA RUNOFF THINS',\n",
              " '1.25mm',\n",
              " '1.25MM RUNOFF ',\n",
              " 'ANGIO RUNOFF  2.0  Br38 ',\n",
              " 'AXIAL , iDose (2) ',\n",
              " 'AXIAL WITH',\n",
              " ' CTA 3.0 CE ',\n",
              " '1.25mm',\n",
              " 'STANDARD THIN ',\n",
              " 'CTA RUNOFF',\n",
              " 'AXIAL 3X3 Axial CTA 3.0 AXIAL 3X3 ',\n",
              " 'CTV AORTA RUNOFF',\n",
              " 'CTA ABD RNF ',\n",
              " 'ARTERIAL',\n",
              " 'AngioRunOff  3.0  I31f  1 ',\n",
              " '3 MM',\n",
              " 'AXIAL ST ART, iDose (3) ',\n",
              " 'CTA 5.0 CE',\n",
              " 'AX SOFT TISSUE',\n",
              " 'TERARECON ',\n",
              " 'RUNOFF, iDose (3) ',\n",
              " 'ART THIN AX ',\n",
              " 'RUNOFF AORTA',\n",
              " 'KNEE TO TOE C+',\n",
              " 'CTA RUNOFF',\n",
              " '2.5mm RUNOFF',\n",
              " ' CTA 3.000 CE ',\n",
              " 'CTA CE  Vol ',\n",
              " 'Runoff 0.5mm CTA 1.0 CE ',\n",
              " 'STD ARTERIAL 1.25 ',\n",
              " 'LOWER LEGS  3.0  Bv38  2',\n",
              " 'CTA ABD PLV RUNOFF ART',\n",
              " 'CTA RUNOFF',\n",
              " 'THINS ART ',\n",
              " 'CTA Axial 3.0 CE',\n",
              " 'RUNOFF',\n",
              " 'ARTERIAL CTA 1.0 CE Vol FC08 ARTERIAL ',\n",
              " '5mm CTA ',\n",
              " 'ART AX 1.25 ',\n",
              " 'CTA RUNOFF 2.5 STANDARD ',\n",
              " 'ARTERIAL AXIAL, iDose (4) ',\n",
              " 'VENOUS AXIAL, iDose (4) ',\n",
              " 'Runoff 0.5mm CTA 1.0 CE ',\n",
              " 'CTA Runoff',\n",
              " ' CTA 3.0 CE ',\n",
              " '2.5mm ',\n",
              " 'Run Off  1.0  B26f',\n",
              " 'CTA ABD/PEL RUNOFF',\n",
              " 'Angio Runoff',\n",
              " 'ART ABD THIN',\n",
              " '1mm cta CTA 1.0 CE  CTA 1mm cta ',\n",
              " '1mm venous CTA 1.0 CE  venous 1mm venous',\n",
              " ',Ax-MIP,CE,Ax-MIP,10.0,Ax-MIP,, ',\n",
              " 'AX SOFT TISSUE',\n",
              " '1.25mm CTA',\n",
              " 'AXIAL_ARTERIAL',\n",
              " 'ARTERIAL Axial 3.0 ARTERIAL ',\n",
              " ' CTA 3.0 CE ',\n",
              " '1.25  runoff',\n",
              " 'abd/pelv mips ',\n",
              " 'leg mips',\n",
              " 'RunOff Upper  0.6  B31f ',\n",
              " '1mm cta CTA 1.0 CE  CTA 1mm cta ',\n",
              " 'CTA ABD thins for reformat',\n",
              " 'THINS ',\n",
              " 'CTA RUNOFF',\n",
              " 'CTA RUNOFF  1.0  BR38  4',\n",
              " '0.625 FULL ABD-TOES ',\n",
              " 'THINS ',\n",
              " '3 ART THIN AX ',\n",
              " 'RunOff  ST',\n",
              " 'AX THIN ',\n",
              " 'CTA 1.0 CE Vol. ',\n",
              " '1mm cta CTA 1.0 CE  CTA 1mm cta ',\n",
              " '2x2 Sagittal',\n",
              " 'CTA 3.0 CE',\n",
              " 'AXIALS',\n",
              " 'RUNOFF-CONTRAST ',\n",
              " 'Runoff 0.5mm CTA 1.0 CE ',\n",
              " 'AXIAL WITH',\n",
              " '2.5s EN,',\n",
              " '1.25MM RUNOFF ',\n",
              " 'STANDARD THIN ',\n",
              " 'THINS LEGS',\n",
              " 'Arterial   1.0  Br32  3 iMAR',\n",
              " 'ARTERIAL',\n",
              " 'ARTERIAL 2MM',\n",
              " 'CTA RUNOFF',\n",
              " 'STANDARD THIN ',\n",
              " 'HELICAL ',\n",
              " 'CTA ABD thins for reformat',\n",
              " 'AX ST ',\n",
              " ' CTA 3.000 CE ',\n",
              " ' CTA 3.000 CE ',\n",
              " 'CTA RUNOFF',\n",
              " 'CTA Lower ext ',\n",
              " 'Bone',\n",
              " 'Angio RunOff  1.0 3DR ',\n",
              " 'RUNOFFS ',\n",
              " 'Run Off  1.0  B26f',\n",
              " 'STD ARTERIAL 1.25 ']"
            ]
          },
          "metadata": {},
          "execution_count": 180
        }
      ]
    },
    {
      "cell_type": "code",
      "source": [
        "df_series[df_series['Series'] == 'CTA RUNOFF']"
      ],
      "metadata": {
        "colab": {
          "base_uri": "https://localhost:8080/",
          "height": 1000
        },
        "id": "XAIDC-JBIAey",
        "outputId": "b49c1014-ff0e-4397-9364-deb3f596a54a"
      },
      "execution_count": null,
      "outputs": [
        {
          "output_type": "execute_result",
          "data": {
            "text/plain": [
              "         Patient                                      Medcave03_DCM  \\\n",
              "0       10261071  AnishSalvi/ImageRx/PAD-Net/vRAD_Dataset\\CTA_Lo...   \n",
              "192   1620772926  AnishSalvi/ImageRx/PAD-Net/vRAD_Dataset\\CTA_Lo...   \n",
              "265    278877199  AnishSalvi/ImageRx/PAD-Net/vRAD_Dataset\\CTA_Lo...   \n",
              "383   1331727410  AnishSalvi/ImageRx/PAD-Net/vRAD_Dataset\\CTA_Lo...   \n",
              "421   1332645787  AnishSalvi/ImageRx/PAD-Net/vRAD_Dataset\\CTA_Lo...   \n",
              "607   1620772926  AnishSalvi/ImageRx/PAD-Net/vRAD_Dataset\\CTA_Lo...   \n",
              "656   1888719504  AnishSalvi/ImageRx/PAD-Net/vRAD_Dataset\\CTA_Lo...   \n",
              "752    278877199  AnishSalvi/ImageRx/PAD-Net/vRAD_Dataset\\CTA_Lo...   \n",
              "756    278884141  AnishSalvi/ImageRx/PAD-Net/vRAD_Dataset\\CTA_Lo...   \n",
              "944   1194280913  AnishSalvi/ImageRx/PAD-Net/vRAD_Dataset\\CTA_Lo...   \n",
              "962   1194349496  AnishSalvi/ImageRx/PAD-Net/vRAD_Dataset\\CTA_Lo...   \n",
              "1030   120917312  AnishSalvi/ImageRx/PAD-Net/vRAD_Dataset\\CTA_Lo...   \n",
              "1146  1461788451  AnishSalvi/ImageRx/PAD-Net/vRAD_Dataset\\CTA_Lo...   \n",
              "1204  1462719651  AnishSalvi/ImageRx/PAD-Net/vRAD_Dataset\\CTA_Lo...   \n",
              "1461  1999505296  AnishSalvi/ImageRx/PAD-Net/vRAD_Dataset\\CTA_Lo...   \n",
              "1642   656573205  AnishSalvi/ImageRx/PAD-Net/vRAD_Dataset\\CTA_Lo...   \n",
              "1707   657850600  AnishSalvi/ImageRx/PAD-Net/vRAD_Dataset\\CTA_Lo...   \n",
              "\n",
              "                                       Medcave03_Report  \\\n",
              "0     AnishSalvi/ImageRx/PAD-Net/vRAD_Dataset\\CTA_Lo...   \n",
              "192   AnishSalvi/ImageRx/PAD-Net/vRAD_Dataset\\CTA_Lo...   \n",
              "265   AnishSalvi/ImageRx/PAD-Net/vRAD_Dataset\\CTA_Lo...   \n",
              "383   AnishSalvi/ImageRx/PAD-Net/vRAD_Dataset\\CTA_Lo...   \n",
              "421   AnishSalvi/ImageRx/PAD-Net/vRAD_Dataset\\CTA_Lo...   \n",
              "607   AnishSalvi/ImageRx/PAD-Net/vRAD_Dataset\\CTA_Lo...   \n",
              "656   AnishSalvi/ImageRx/PAD-Net/vRAD_Dataset\\CTA_Lo...   \n",
              "752   AnishSalvi/ImageRx/PAD-Net/vRAD_Dataset\\CTA_Lo...   \n",
              "756   AnishSalvi/ImageRx/PAD-Net/vRAD_Dataset\\CTA_Lo...   \n",
              "944   AnishSalvi/ImageRx/PAD-Net/vRAD_Dataset\\CTA_Lo...   \n",
              "962   AnishSalvi/ImageRx/PAD-Net/vRAD_Dataset\\CTA_Lo...   \n",
              "1030  AnishSalvi/ImageRx/PAD-Net/vRAD_Dataset\\CTA_Lo...   \n",
              "1146  AnishSalvi/ImageRx/PAD-Net/vRAD_Dataset\\CTA_Lo...   \n",
              "1204  AnishSalvi/ImageRx/PAD-Net/vRAD_Dataset\\CTA_Lo...   \n",
              "1461  AnishSalvi/ImageRx/PAD-Net/vRAD_Dataset\\CTA_Lo...   \n",
              "1642  AnishSalvi/ImageRx/PAD-Net/vRAD_Dataset\\CTA_Lo...   \n",
              "1707  AnishSalvi/ImageRx/PAD-Net/vRAD_Dataset\\CTA_Lo...   \n",
              "\n",
              "                                 Medcave03_Series_Files  \\\n",
              "0     ('AnishSalvi/ImageRx/PAD-Net/vRAD_Dataset\\\\CTA...   \n",
              "192   ('AnishSalvi/ImageRx/PAD-Net/vRAD_Dataset\\\\CTA...   \n",
              "265   ('AnishSalvi/ImageRx/PAD-Net/vRAD_Dataset\\\\CTA...   \n",
              "383   ('AnishSalvi/ImageRx/PAD-Net/vRAD_Dataset\\\\CTA...   \n",
              "421   ('AnishSalvi/ImageRx/PAD-Net/vRAD_Dataset\\\\CTA...   \n",
              "607   ('AnishSalvi/ImageRx/PAD-Net/vRAD_Dataset\\\\CTA...   \n",
              "656   ('AnishSalvi/ImageRx/PAD-Net/vRAD_Dataset\\\\CTA...   \n",
              "752   ('AnishSalvi/ImageRx/PAD-Net/vRAD_Dataset\\\\CTA...   \n",
              "756   ('AnishSalvi/ImageRx/PAD-Net/vRAD_Dataset\\\\CTA...   \n",
              "944   ('AnishSalvi/ImageRx/PAD-Net/vRAD_Dataset\\\\CTA...   \n",
              "962   ('AnishSalvi/ImageRx/PAD-Net/vRAD_Dataset\\\\CTA...   \n",
              "1030  ('AnishSalvi/ImageRx/PAD-Net/vRAD_Dataset\\\\CTA...   \n",
              "1146  ('AnishSalvi/ImageRx/PAD-Net/vRAD_Dataset\\\\CTA...   \n",
              "1204  ('AnishSalvi/ImageRx/PAD-Net/vRAD_Dataset\\\\CTA...   \n",
              "1461  ('AnishSalvi/ImageRx/PAD-Net/vRAD_Dataset\\\\CTA...   \n",
              "1642  ('AnishSalvi/ImageRx/PAD-Net/vRAD_Dataset\\\\CTA...   \n",
              "1707  ('AnishSalvi/ImageRx/PAD-Net/vRAD_Dataset\\\\CTA...   \n",
              "\n",
              "                                              Series_ID  \\\n",
              "0     1.3.12.2.1107.5.1.4.105578.3000002212122339456...   \n",
              "192   1.2.840.113619.2.491.3.17438141.80.1671348465.163   \n",
              "265   1.3.12.2.1107.5.1.4.105578.3000002212161222440...   \n",
              "383   1.3.46.670589.33.1.63806793314615696600001.532...   \n",
              "421   1.3.46.670589.33.1.63806707949058066000001.552...   \n",
              "607   1.2.840.113619.2.491.3.17438141.80.1671348465.163   \n",
              "656   1.2.840.113619.2.278.3.587870793.548.167091197...   \n",
              "752   1.3.12.2.1107.5.1.4.105578.3000002212161222440...   \n",
              "756   1.3.46.670589.33.1.63806689592804148300001.509...   \n",
              "944   1.3.12.2.1107.5.1.4.83522.30000023010616320016...   \n",
              "962   1.3.12.2.1107.5.1.4.83522.30000023011014554571...   \n",
              "1030  1.3.12.2.1107.5.1.4.83522.30000023011014554571...   \n",
              "1146  1.3.12.2.1107.5.1.4.83522.30000023011002011409...   \n",
              "1204  1.2.840.113619.2.437.3.118103062.998.167307115...   \n",
              "1461  1.2.840.113619.2.437.3.118103062.35.1673155724...   \n",
              "1642  1.3.12.2.1107.5.1.4.83522.30000023010616320016...   \n",
              "1707  1.2.840.113619.2.438.3.2831168048.670.16734251...   \n",
              "\n",
              "                                                  Study                Scan  \\\n",
              "0     CT ANGIOGRAM ABDOMINAL AORTA AND BILATERAL ILI...            SIEMENS    \n",
              "192   CT ANGIOGRAPHY CHEST ABD AORTA W BILATERAL RUN...  GE MEDICAL SYSTEMS   \n",
              "265   CT ANGIOGRAM ABDOMINAL AORTA AND BILATERAL ILI...            SIEMENS    \n",
              "383                      CT ANGIO AORTA BIL RUN W/WO CO            Philips    \n",
              "421                      CT ANGIO AORTA BIL RUN W/WO CO            Philips    \n",
              "607   CT ANGIOGRAPHY CHEST ABD AORTA W BILATERAL RUN...  GE MEDICAL SYSTEMS   \n",
              "656                      Abd Aorta CTA w Contr + Runof   GE MEDICAL SYSTEMS   \n",
              "752   CT ANGIOGRAM ABDOMINAL AORTA AND BILATERAL ILI...            SIEMENS    \n",
              "756                      CT ANGIO AORTA BIL RUN W/WO CO            Philips    \n",
              "944                        Vascular^CTA_RUNOFF (Adult)             SIEMENS    \n",
              "962                        Vascular^CTA_RUNOFF (Adult)             SIEMENS    \n",
              "1030                       Vascular^CTA_RUNOFF (Adult)             SIEMENS    \n",
              "1146                       Vascular^CTA_RUNOFF (Adult)             SIEMENS    \n",
              "1204               CT - CTA ABD AORTA W RO W WO  75635   GE MEDICAL SYSTEMS   \n",
              "1461               CT - CTA ABD AORTA W RO W WO  75635   GE MEDICAL SYSTEMS   \n",
              "1642                       Vascular^CTA_RUNOFF (Adult)             SIEMENS    \n",
              "1707                     CTA AORTA W/RUNOFFS WW/O CONT   GE MEDICAL SYSTEMS   \n",
              "\n",
              "          Series  Num_DICOM  \\\n",
              "0     CTA RUNOFF        665   \n",
              "192   CTA RUNOFF        676   \n",
              "265   CTA RUNOFF        747   \n",
              "383   CTA RUNOFF        612   \n",
              "421   CTA RUNOFF        629   \n",
              "607   CTA RUNOFF        676   \n",
              "656   CTA RUNOFF        502   \n",
              "752   CTA RUNOFF        747   \n",
              "756   CTA RUNOFF        628   \n",
              "944   CTA RUNOFF        558   \n",
              "962   CTA RUNOFF        531   \n",
              "1030  CTA RUNOFF        526   \n",
              "1146  CTA RUNOFF        453   \n",
              "1204  CTA RUNOFF       1048   \n",
              "1461  CTA RUNOFF       1120   \n",
              "1642  CTA RUNOFF        531   \n",
              "1707  CTA RUNOFF        574   \n",
              "\n",
              "                                            Full_Report  Max_Patient_DICOM  \\\n",
              "0     PROCEDURE INFORMATION: \\nExam:?CTA Abdominal A...               True   \n",
              "192   PROCEDURE INFORMATION: \\nExam:?CTA Chest With ...               True   \n",
              "265   PROCEDURE INFORMATION: \\nExam:?CTA Abdominal A...               True   \n",
              "383   PROCEDURE INFORMATION: \\nExam:?CTA Abdominal A...               True   \n",
              "421   PROCEDURE INFORMATION: \\nExam:?CTA Abdominal A...               True   \n",
              "607   PROCEDURE INFORMATION: \\nExam:?CTA Chest With ...               True   \n",
              "656   PROCEDURE INFORMATION: \\nExam:?CTA Abdominal A...               True   \n",
              "752   PROCEDURE INFORMATION: \\nExam:?CTA Abdominal A...               True   \n",
              "756   PROCEDURE INFORMATION: \\nExam:?CTA Abdominal A...               True   \n",
              "944   PROCEDURE INFORMATION: \\nExam:?CTA Chest With ...               True   \n",
              "962   PROCEDURE INFORMATION: \\nExam:?CTA Chest With ...              False   \n",
              "1030  PROCEDURE INFORMATION: \\nExam:?CTA Abdominal A...               True   \n",
              "1146  PROCEDURE INFORMATION: \\nExam:?CTA Abdominal A...               True   \n",
              "1204  PROCEDURE INFORMATION: \\nExam:?CTA Abdominal A...               True   \n",
              "1461  PROCEDURE INFORMATION: \\nExam:?CTA Abdominal A...               True   \n",
              "1642  PROCEDURE INFORMATION: \\nExam:?CTA Chest With ...               True   \n",
              "1707  PROCEDURE INFORMATION: \\nExam:?CTA Abdominal A...               True   \n",
              "\n",
              "      Manual_DICOM_Selection  \n",
              "0                        NaN  \n",
              "192                      NaN  \n",
              "265                      NaN  \n",
              "383                      NaN  \n",
              "421                      NaN  \n",
              "607                      NaN  \n",
              "656                      NaN  \n",
              "752                      NaN  \n",
              "756                      NaN  \n",
              "944                      NaN  \n",
              "962                      NaN  \n",
              "1030                     NaN  \n",
              "1146                     NaN  \n",
              "1204                     NaN  \n",
              "1461                     NaN  \n",
              "1642                     NaN  \n",
              "1707                     NaN  "
            ],
            "text/html": [
              "<div>\n",
              "<style scoped>\n",
              "    .dataframe tbody tr th:only-of-type {\n",
              "        vertical-align: middle;\n",
              "    }\n",
              "\n",
              "    .dataframe tbody tr th {\n",
              "        vertical-align: top;\n",
              "    }\n",
              "\n",
              "    .dataframe thead th {\n",
              "        text-align: right;\n",
              "    }\n",
              "</style>\n",
              "<table border=\"1\" class=\"dataframe\">\n",
              "  <thead>\n",
              "    <tr style=\"text-align: right;\">\n",
              "      <th></th>\n",
              "      <th>Patient</th>\n",
              "      <th>Medcave03_DCM</th>\n",
              "      <th>Medcave03_Report</th>\n",
              "      <th>Medcave03_Series_Files</th>\n",
              "      <th>Series_ID</th>\n",
              "      <th>Study</th>\n",
              "      <th>Scan</th>\n",
              "      <th>Series</th>\n",
              "      <th>Num_DICOM</th>\n",
              "      <th>Full_Report</th>\n",
              "      <th>Max_Patient_DICOM</th>\n",
              "      <th>Manual_DICOM_Selection</th>\n",
              "    </tr>\n",
              "  </thead>\n",
              "  <tbody>\n",
              "    <tr>\n",
              "      <th>0</th>\n",
              "      <td>10261071</td>\n",
              "      <td>AnishSalvi/ImageRx/PAD-Net/vRAD_Dataset\\CTA_Lo...</td>\n",
              "      <td>AnishSalvi/ImageRx/PAD-Net/vRAD_Dataset\\CTA_Lo...</td>\n",
              "      <td>('AnishSalvi/ImageRx/PAD-Net/vRAD_Dataset\\\\CTA...</td>\n",
              "      <td>1.3.12.2.1107.5.1.4.105578.3000002212122339456...</td>\n",
              "      <td>CT ANGIOGRAM ABDOMINAL AORTA AND BILATERAL ILI...</td>\n",
              "      <td>SIEMENS</td>\n",
              "      <td>CTA RUNOFF</td>\n",
              "      <td>665</td>\n",
              "      <td>PROCEDURE INFORMATION: \\nExam:?CTA Abdominal A...</td>\n",
              "      <td>True</td>\n",
              "      <td>NaN</td>\n",
              "    </tr>\n",
              "    <tr>\n",
              "      <th>192</th>\n",
              "      <td>1620772926</td>\n",
              "      <td>AnishSalvi/ImageRx/PAD-Net/vRAD_Dataset\\CTA_Lo...</td>\n",
              "      <td>AnishSalvi/ImageRx/PAD-Net/vRAD_Dataset\\CTA_Lo...</td>\n",
              "      <td>('AnishSalvi/ImageRx/PAD-Net/vRAD_Dataset\\\\CTA...</td>\n",
              "      <td>1.2.840.113619.2.491.3.17438141.80.1671348465.163</td>\n",
              "      <td>CT ANGIOGRAPHY CHEST ABD AORTA W BILATERAL RUN...</td>\n",
              "      <td>GE MEDICAL SYSTEMS</td>\n",
              "      <td>CTA RUNOFF</td>\n",
              "      <td>676</td>\n",
              "      <td>PROCEDURE INFORMATION: \\nExam:?CTA Chest With ...</td>\n",
              "      <td>True</td>\n",
              "      <td>NaN</td>\n",
              "    </tr>\n",
              "    <tr>\n",
              "      <th>265</th>\n",
              "      <td>278877199</td>\n",
              "      <td>AnishSalvi/ImageRx/PAD-Net/vRAD_Dataset\\CTA_Lo...</td>\n",
              "      <td>AnishSalvi/ImageRx/PAD-Net/vRAD_Dataset\\CTA_Lo...</td>\n",
              "      <td>('AnishSalvi/ImageRx/PAD-Net/vRAD_Dataset\\\\CTA...</td>\n",
              "      <td>1.3.12.2.1107.5.1.4.105578.3000002212161222440...</td>\n",
              "      <td>CT ANGIOGRAM ABDOMINAL AORTA AND BILATERAL ILI...</td>\n",
              "      <td>SIEMENS</td>\n",
              "      <td>CTA RUNOFF</td>\n",
              "      <td>747</td>\n",
              "      <td>PROCEDURE INFORMATION: \\nExam:?CTA Abdominal A...</td>\n",
              "      <td>True</td>\n",
              "      <td>NaN</td>\n",
              "    </tr>\n",
              "    <tr>\n",
              "      <th>383</th>\n",
              "      <td>1331727410</td>\n",
              "      <td>AnishSalvi/ImageRx/PAD-Net/vRAD_Dataset\\CTA_Lo...</td>\n",
              "      <td>AnishSalvi/ImageRx/PAD-Net/vRAD_Dataset\\CTA_Lo...</td>\n",
              "      <td>('AnishSalvi/ImageRx/PAD-Net/vRAD_Dataset\\\\CTA...</td>\n",
              "      <td>1.3.46.670589.33.1.63806793314615696600001.532...</td>\n",
              "      <td>CT ANGIO AORTA BIL RUN W/WO CO</td>\n",
              "      <td>Philips</td>\n",
              "      <td>CTA RUNOFF</td>\n",
              "      <td>612</td>\n",
              "      <td>PROCEDURE INFORMATION: \\nExam:?CTA Abdominal A...</td>\n",
              "      <td>True</td>\n",
              "      <td>NaN</td>\n",
              "    </tr>\n",
              "    <tr>\n",
              "      <th>421</th>\n",
              "      <td>1332645787</td>\n",
              "      <td>AnishSalvi/ImageRx/PAD-Net/vRAD_Dataset\\CTA_Lo...</td>\n",
              "      <td>AnishSalvi/ImageRx/PAD-Net/vRAD_Dataset\\CTA_Lo...</td>\n",
              "      <td>('AnishSalvi/ImageRx/PAD-Net/vRAD_Dataset\\\\CTA...</td>\n",
              "      <td>1.3.46.670589.33.1.63806707949058066000001.552...</td>\n",
              "      <td>CT ANGIO AORTA BIL RUN W/WO CO</td>\n",
              "      <td>Philips</td>\n",
              "      <td>CTA RUNOFF</td>\n",
              "      <td>629</td>\n",
              "      <td>PROCEDURE INFORMATION: \\nExam:?CTA Abdominal A...</td>\n",
              "      <td>True</td>\n",
              "      <td>NaN</td>\n",
              "    </tr>\n",
              "    <tr>\n",
              "      <th>607</th>\n",
              "      <td>1620772926</td>\n",
              "      <td>AnishSalvi/ImageRx/PAD-Net/vRAD_Dataset\\CTA_Lo...</td>\n",
              "      <td>AnishSalvi/ImageRx/PAD-Net/vRAD_Dataset\\CTA_Lo...</td>\n",
              "      <td>('AnishSalvi/ImageRx/PAD-Net/vRAD_Dataset\\\\CTA...</td>\n",
              "      <td>1.2.840.113619.2.491.3.17438141.80.1671348465.163</td>\n",
              "      <td>CT ANGIOGRAPHY CHEST ABD AORTA W BILATERAL RUN...</td>\n",
              "      <td>GE MEDICAL SYSTEMS</td>\n",
              "      <td>CTA RUNOFF</td>\n",
              "      <td>676</td>\n",
              "      <td>PROCEDURE INFORMATION: \\nExam:?CTA Chest With ...</td>\n",
              "      <td>True</td>\n",
              "      <td>NaN</td>\n",
              "    </tr>\n",
              "    <tr>\n",
              "      <th>656</th>\n",
              "      <td>1888719504</td>\n",
              "      <td>AnishSalvi/ImageRx/PAD-Net/vRAD_Dataset\\CTA_Lo...</td>\n",
              "      <td>AnishSalvi/ImageRx/PAD-Net/vRAD_Dataset\\CTA_Lo...</td>\n",
              "      <td>('AnishSalvi/ImageRx/PAD-Net/vRAD_Dataset\\\\CTA...</td>\n",
              "      <td>1.2.840.113619.2.278.3.587870793.548.167091197...</td>\n",
              "      <td>Abd Aorta CTA w Contr + Runof</td>\n",
              "      <td>GE MEDICAL SYSTEMS</td>\n",
              "      <td>CTA RUNOFF</td>\n",
              "      <td>502</td>\n",
              "      <td>PROCEDURE INFORMATION: \\nExam:?CTA Abdominal A...</td>\n",
              "      <td>True</td>\n",
              "      <td>NaN</td>\n",
              "    </tr>\n",
              "    <tr>\n",
              "      <th>752</th>\n",
              "      <td>278877199</td>\n",
              "      <td>AnishSalvi/ImageRx/PAD-Net/vRAD_Dataset\\CTA_Lo...</td>\n",
              "      <td>AnishSalvi/ImageRx/PAD-Net/vRAD_Dataset\\CTA_Lo...</td>\n",
              "      <td>('AnishSalvi/ImageRx/PAD-Net/vRAD_Dataset\\\\CTA...</td>\n",
              "      <td>1.3.12.2.1107.5.1.4.105578.3000002212161222440...</td>\n",
              "      <td>CT ANGIOGRAM ABDOMINAL AORTA AND BILATERAL ILI...</td>\n",
              "      <td>SIEMENS</td>\n",
              "      <td>CTA RUNOFF</td>\n",
              "      <td>747</td>\n",
              "      <td>PROCEDURE INFORMATION: \\nExam:?CTA Abdominal A...</td>\n",
              "      <td>True</td>\n",
              "      <td>NaN</td>\n",
              "    </tr>\n",
              "    <tr>\n",
              "      <th>756</th>\n",
              "      <td>278884141</td>\n",
              "      <td>AnishSalvi/ImageRx/PAD-Net/vRAD_Dataset\\CTA_Lo...</td>\n",
              "      <td>AnishSalvi/ImageRx/PAD-Net/vRAD_Dataset\\CTA_Lo...</td>\n",
              "      <td>('AnishSalvi/ImageRx/PAD-Net/vRAD_Dataset\\\\CTA...</td>\n",
              "      <td>1.3.46.670589.33.1.63806689592804148300001.509...</td>\n",
              "      <td>CT ANGIO AORTA BIL RUN W/WO CO</td>\n",
              "      <td>Philips</td>\n",
              "      <td>CTA RUNOFF</td>\n",
              "      <td>628</td>\n",
              "      <td>PROCEDURE INFORMATION: \\nExam:?CTA Abdominal A...</td>\n",
              "      <td>True</td>\n",
              "      <td>NaN</td>\n",
              "    </tr>\n",
              "    <tr>\n",
              "      <th>944</th>\n",
              "      <td>1194280913</td>\n",
              "      <td>AnishSalvi/ImageRx/PAD-Net/vRAD_Dataset\\CTA_Lo...</td>\n",
              "      <td>AnishSalvi/ImageRx/PAD-Net/vRAD_Dataset\\CTA_Lo...</td>\n",
              "      <td>('AnishSalvi/ImageRx/PAD-Net/vRAD_Dataset\\\\CTA...</td>\n",
              "      <td>1.3.12.2.1107.5.1.4.83522.30000023010616320016...</td>\n",
              "      <td>Vascular^CTA_RUNOFF (Adult)</td>\n",
              "      <td>SIEMENS</td>\n",
              "      <td>CTA RUNOFF</td>\n",
              "      <td>558</td>\n",
              "      <td>PROCEDURE INFORMATION: \\nExam:?CTA Chest With ...</td>\n",
              "      <td>True</td>\n",
              "      <td>NaN</td>\n",
              "    </tr>\n",
              "    <tr>\n",
              "      <th>962</th>\n",
              "      <td>1194349496</td>\n",
              "      <td>AnishSalvi/ImageRx/PAD-Net/vRAD_Dataset\\CTA_Lo...</td>\n",
              "      <td>AnishSalvi/ImageRx/PAD-Net/vRAD_Dataset\\CTA_Lo...</td>\n",
              "      <td>('AnishSalvi/ImageRx/PAD-Net/vRAD_Dataset\\\\CTA...</td>\n",
              "      <td>1.3.12.2.1107.5.1.4.83522.30000023011014554571...</td>\n",
              "      <td>Vascular^CTA_RUNOFF (Adult)</td>\n",
              "      <td>SIEMENS</td>\n",
              "      <td>CTA RUNOFF</td>\n",
              "      <td>531</td>\n",
              "      <td>PROCEDURE INFORMATION: \\nExam:?CTA Chest With ...</td>\n",
              "      <td>False</td>\n",
              "      <td>NaN</td>\n",
              "    </tr>\n",
              "    <tr>\n",
              "      <th>1030</th>\n",
              "      <td>120917312</td>\n",
              "      <td>AnishSalvi/ImageRx/PAD-Net/vRAD_Dataset\\CTA_Lo...</td>\n",
              "      <td>AnishSalvi/ImageRx/PAD-Net/vRAD_Dataset\\CTA_Lo...</td>\n",
              "      <td>('AnishSalvi/ImageRx/PAD-Net/vRAD_Dataset\\\\CTA...</td>\n",
              "      <td>1.3.12.2.1107.5.1.4.83522.30000023011014554571...</td>\n",
              "      <td>Vascular^CTA_RUNOFF (Adult)</td>\n",
              "      <td>SIEMENS</td>\n",
              "      <td>CTA RUNOFF</td>\n",
              "      <td>526</td>\n",
              "      <td>PROCEDURE INFORMATION: \\nExam:?CTA Abdominal A...</td>\n",
              "      <td>True</td>\n",
              "      <td>NaN</td>\n",
              "    </tr>\n",
              "    <tr>\n",
              "      <th>1146</th>\n",
              "      <td>1461788451</td>\n",
              "      <td>AnishSalvi/ImageRx/PAD-Net/vRAD_Dataset\\CTA_Lo...</td>\n",
              "      <td>AnishSalvi/ImageRx/PAD-Net/vRAD_Dataset\\CTA_Lo...</td>\n",
              "      <td>('AnishSalvi/ImageRx/PAD-Net/vRAD_Dataset\\\\CTA...</td>\n",
              "      <td>1.3.12.2.1107.5.1.4.83522.30000023011002011409...</td>\n",
              "      <td>Vascular^CTA_RUNOFF (Adult)</td>\n",
              "      <td>SIEMENS</td>\n",
              "      <td>CTA RUNOFF</td>\n",
              "      <td>453</td>\n",
              "      <td>PROCEDURE INFORMATION: \\nExam:?CTA Abdominal A...</td>\n",
              "      <td>True</td>\n",
              "      <td>NaN</td>\n",
              "    </tr>\n",
              "    <tr>\n",
              "      <th>1204</th>\n",
              "      <td>1462719651</td>\n",
              "      <td>AnishSalvi/ImageRx/PAD-Net/vRAD_Dataset\\CTA_Lo...</td>\n",
              "      <td>AnishSalvi/ImageRx/PAD-Net/vRAD_Dataset\\CTA_Lo...</td>\n",
              "      <td>('AnishSalvi/ImageRx/PAD-Net/vRAD_Dataset\\\\CTA...</td>\n",
              "      <td>1.2.840.113619.2.437.3.118103062.998.167307115...</td>\n",
              "      <td>CT - CTA ABD AORTA W RO W WO  75635</td>\n",
              "      <td>GE MEDICAL SYSTEMS</td>\n",
              "      <td>CTA RUNOFF</td>\n",
              "      <td>1048</td>\n",
              "      <td>PROCEDURE INFORMATION: \\nExam:?CTA Abdominal A...</td>\n",
              "      <td>True</td>\n",
              "      <td>NaN</td>\n",
              "    </tr>\n",
              "    <tr>\n",
              "      <th>1461</th>\n",
              "      <td>1999505296</td>\n",
              "      <td>AnishSalvi/ImageRx/PAD-Net/vRAD_Dataset\\CTA_Lo...</td>\n",
              "      <td>AnishSalvi/ImageRx/PAD-Net/vRAD_Dataset\\CTA_Lo...</td>\n",
              "      <td>('AnishSalvi/ImageRx/PAD-Net/vRAD_Dataset\\\\CTA...</td>\n",
              "      <td>1.2.840.113619.2.437.3.118103062.35.1673155724...</td>\n",
              "      <td>CT - CTA ABD AORTA W RO W WO  75635</td>\n",
              "      <td>GE MEDICAL SYSTEMS</td>\n",
              "      <td>CTA RUNOFF</td>\n",
              "      <td>1120</td>\n",
              "      <td>PROCEDURE INFORMATION: \\nExam:?CTA Abdominal A...</td>\n",
              "      <td>True</td>\n",
              "      <td>NaN</td>\n",
              "    </tr>\n",
              "    <tr>\n",
              "      <th>1642</th>\n",
              "      <td>656573205</td>\n",
              "      <td>AnishSalvi/ImageRx/PAD-Net/vRAD_Dataset\\CTA_Lo...</td>\n",
              "      <td>AnishSalvi/ImageRx/PAD-Net/vRAD_Dataset\\CTA_Lo...</td>\n",
              "      <td>('AnishSalvi/ImageRx/PAD-Net/vRAD_Dataset\\\\CTA...</td>\n",
              "      <td>1.3.12.2.1107.5.1.4.83522.30000023010616320016...</td>\n",
              "      <td>Vascular^CTA_RUNOFF (Adult)</td>\n",
              "      <td>SIEMENS</td>\n",
              "      <td>CTA RUNOFF</td>\n",
              "      <td>531</td>\n",
              "      <td>PROCEDURE INFORMATION: \\nExam:?CTA Chest With ...</td>\n",
              "      <td>True</td>\n",
              "      <td>NaN</td>\n",
              "    </tr>\n",
              "    <tr>\n",
              "      <th>1707</th>\n",
              "      <td>657850600</td>\n",
              "      <td>AnishSalvi/ImageRx/PAD-Net/vRAD_Dataset\\CTA_Lo...</td>\n",
              "      <td>AnishSalvi/ImageRx/PAD-Net/vRAD_Dataset\\CTA_Lo...</td>\n",
              "      <td>('AnishSalvi/ImageRx/PAD-Net/vRAD_Dataset\\\\CTA...</td>\n",
              "      <td>1.2.840.113619.2.438.3.2831168048.670.16734251...</td>\n",
              "      <td>CTA AORTA W/RUNOFFS WW/O CONT</td>\n",
              "      <td>GE MEDICAL SYSTEMS</td>\n",
              "      <td>CTA RUNOFF</td>\n",
              "      <td>574</td>\n",
              "      <td>PROCEDURE INFORMATION: \\nExam:?CTA Abdominal A...</td>\n",
              "      <td>True</td>\n",
              "      <td>NaN</td>\n",
              "    </tr>\n",
              "  </tbody>\n",
              "</table>\n",
              "</div>"
            ]
          },
          "metadata": {},
          "execution_count": 189
        }
      ]
    },
    {
      "cell_type": "code",
      "source": [
        "df_series[df_series['Patient'] == 1194349496]['Series']"
      ],
      "metadata": {
        "colab": {
          "base_uri": "https://localhost:8080/"
        },
        "id": "aranKqAmIKBR",
        "outputId": "1628264f-0cc1-4a5d-d986-dc53fa4a06ef"
      },
      "execution_count": null,
      "outputs": [
        {
          "output_type": "execute_result",
          "data": {
            "text/plain": [
              "960    CTA RUNOFF  RTD \n",
              "961    LOWER LEGS  RTD \n",
              "962          CTA RUNOFF\n",
              "963            PROX COR\n",
              "964            PROX SAG\n",
              "965            MID COR \n",
              "966            MID SAG \n",
              "967            DIST COR\n",
              "968            DIST SAG\n",
              "969    CTA RUNOFF THINS\n",
              "Name: Series, dtype: object"
            ]
          },
          "metadata": {},
          "execution_count": 190
        }
      ]
    },
    {
      "cell_type": "code",
      "source": [
        "df_series[df_series['Patient'] == 1194349496\t]['Num_DICOM']"
      ],
      "metadata": {
        "colab": {
          "base_uri": "https://localhost:8080/"
        },
        "id": "77cdd_e4IKD-",
        "outputId": "3e5a6134-54e2-4281-b099-8502f64b69ff"
      },
      "execution_count": null,
      "outputs": [
        {
          "output_type": "execute_result",
          "data": {
            "text/plain": [
              "960     319\n",
              "961     140\n",
              "962     531\n",
              "963     142\n",
              "964     177\n",
              "965     173\n",
              "966     177\n",
              "967     173\n",
              "968     177\n",
              "969    1146\n",
              "Name: Num_DICOM, dtype: int64"
            ]
          },
          "metadata": {},
          "execution_count": 191
        }
      ]
    },
    {
      "cell_type": "code",
      "source": [
        "df['Series']"
      ],
      "metadata": {
        "colab": {
          "base_uri": "https://localhost:8080/"
        },
        "id": "YDNiHAce6bS1",
        "outputId": "6e748590-454b-4e68-e073-4bf21bc83ca6"
      },
      "execution_count": null,
      "outputs": [
        {
          "output_type": "execute_result",
          "data": {
            "text/plain": [
              "0                     CTA RUNOFF\n",
              "3           CTA Abdomen w/Runoff\n",
              "11                  AngioRunOff \n",
              "14      CTA RUNOFF  1.0  BR38  4\n",
              "19                    ABD RUNOFF\n",
              "                  ...           \n",
              "1715                        Bone\n",
              "1722      Angio RunOff  1.0 3DR \n",
              "1730                    RUNOFFS \n",
              "1733          Run Off  1.0  B26f\n",
              "1739          STD ARTERIAL 1.25 \n",
              "Name: Series, Length: 235, dtype: object"
            ]
          },
          "metadata": {},
          "execution_count": 193
        }
      ]
    },
    {
      "cell_type": "code",
      "source": [
        "# initializing substring\n",
        "subs = 'mip'\n",
        "\n",
        "# using list comprehension\n",
        "# to get string with substring\n",
        "res = [i for i in df_series['Series'].to_list() if subs in i]"
      ],
      "metadata": {
        "colab": {
          "base_uri": "https://localhost:8080/",
          "height": 336
        },
        "id": "6bLsGix4FWz0",
        "outputId": "6fc06d64-f446-4968-8fa9-544f5bfdbf94"
      },
      "execution_count": null,
      "outputs": [
        {
          "output_type": "error",
          "ename": "TypeError",
          "evalue": "ignored",
          "traceback": [
            "\u001b[1;31m---------------------------------------------------------------------------\u001b[0m",
            "\u001b[1;31mTypeError\u001b[0m                                 Traceback (most recent call last)",
            "Input \u001b[1;32mIn [165]\u001b[0m, in \u001b[0;36m<module>\u001b[1;34m\u001b[0m\n\u001b[0;32m      2\u001b[0m subs \u001b[38;5;241m=\u001b[39m \u001b[38;5;124m'\u001b[39m\u001b[38;5;124mmip\u001b[39m\u001b[38;5;124m'\u001b[39m\n\u001b[0;32m      4\u001b[0m \u001b[38;5;66;03m# using list comprehension\u001b[39;00m\n\u001b[0;32m      5\u001b[0m \u001b[38;5;66;03m# to get string with substring\u001b[39;00m\n\u001b[1;32m----> 6\u001b[0m res \u001b[38;5;241m=\u001b[39m [i \u001b[38;5;28;01mfor\u001b[39;00m i \u001b[38;5;129;01min\u001b[39;00m df_series[\u001b[38;5;124m'\u001b[39m\u001b[38;5;124mSeries\u001b[39m\u001b[38;5;124m'\u001b[39m]\u001b[38;5;241m.\u001b[39mto_list() \u001b[38;5;28;01mif\u001b[39;00m subs \u001b[38;5;129;01min\u001b[39;00m i]\n",
            "Input \u001b[1;32mIn [165]\u001b[0m, in \u001b[0;36m<listcomp>\u001b[1;34m(.0)\u001b[0m\n\u001b[0;32m      2\u001b[0m subs \u001b[38;5;241m=\u001b[39m \u001b[38;5;124m'\u001b[39m\u001b[38;5;124mmip\u001b[39m\u001b[38;5;124m'\u001b[39m\n\u001b[0;32m      4\u001b[0m \u001b[38;5;66;03m# using list comprehension\u001b[39;00m\n\u001b[0;32m      5\u001b[0m \u001b[38;5;66;03m# to get string with substring\u001b[39;00m\n\u001b[1;32m----> 6\u001b[0m res \u001b[38;5;241m=\u001b[39m [i \u001b[38;5;28;01mfor\u001b[39;00m i \u001b[38;5;129;01min\u001b[39;00m df_series[\u001b[38;5;124m'\u001b[39m\u001b[38;5;124mSeries\u001b[39m\u001b[38;5;124m'\u001b[39m]\u001b[38;5;241m.\u001b[39mto_list() \u001b[38;5;28;01mif\u001b[39;00m \u001b[43msubs\u001b[49m\u001b[43m \u001b[49m\u001b[38;5;129;43;01min\u001b[39;49;00m\u001b[43m \u001b[49m\u001b[43mi\u001b[49m]\n",
            "\u001b[1;31mTypeError\u001b[0m: argument of type 'float' is not iterable"
          ]
        }
      ]
    },
    {
      "cell_type": "code",
      "source": [
        "df_series[df_series['Patient'] == patients[7]]['Series']"
      ],
      "metadata": {
        "colab": {
          "base_uri": "https://localhost:8080/"
        },
        "id": "8xVU47FAEHRx",
        "outputId": "c7fb3a2f-5bcd-4168-aa89-e5b03213c755"
      },
      "execution_count": null,
      "outputs": [
        {
          "output_type": "execute_result",
          "data": {
            "text/plain": [
              "1409            AXIAL WO\n",
              "1410              RUNOFF\n",
              "1411      abd/pelv mips \n",
              "1412            leg mips\n",
              "1413    RUNOFF 2nd PASS \n",
              "1414            SAG 2X2 \n",
              "1415            COR 2X2 \n",
              "1416            SAG 2X2 \n",
              "1417            COR 2X2 \n",
              "1418        COR MIP 10X2\n",
              "1419        SAG MIP 10X2\n",
              "1420        COR MIP 10X2\n",
              "1421        SAG MIP 10X2\n",
              "Name: Series, dtype: object"
            ]
          },
          "metadata": {},
          "execution_count": 160
        }
      ]
    },
    {
      "cell_type": "code",
      "source": [
        "df2[df2['Patient'] == patients[7]]['Series']"
      ],
      "metadata": {
        "colab": {
          "base_uri": "https://localhost:8080/"
        },
        "id": "ecPpSUdECWdf",
        "outputId": "a45f934c-7dc5-421c-9de1-478b81e33c7a"
      },
      "execution_count": null,
      "outputs": [
        {
          "output_type": "execute_result",
          "data": {
            "text/plain": [
              "1411    abd/pelv mips \n",
              "1412          leg mips\n",
              "Name: Series, dtype: object"
            ]
          },
          "metadata": {},
          "execution_count": 159
        }
      ]
    },
    {
      "cell_type": "code",
      "source": [
        "patients[3]"
      ],
      "metadata": {
        "colab": {
          "base_uri": "https://localhost:8080/"
        },
        "id": "DcZSFGXoCExF",
        "outputId": "3a1abd66-cc61-4b45-dc78-261a5a9f6131"
      },
      "execution_count": null,
      "outputs": [
        {
          "output_type": "execute_result",
          "data": {
            "text/plain": [
              "278185830"
            ]
          },
          "metadata": {},
          "execution_count": 140
        }
      ]
    },
    {
      "cell_type": "code",
      "source": [],
      "metadata": {
        "id": "0RXZ3R-u7dIK"
      },
      "execution_count": null,
      "outputs": []
    },
    {
      "cell_type": "code",
      "source": [],
      "metadata": {
        "colab": {
          "base_uri": "https://localhost:8080/"
        },
        "id": "0TOraKWK7Hcc",
        "outputId": "cab34c9f-1014-4d3f-95ee-4923dcb22150"
      },
      "execution_count": null,
      "outputs": [
        {
          "output_type": "stream",
          "name": "stdout",
          "text": [
            "[1332482978, 1351643295, 1601022171, 278185830, 546714979, 1489963600, 1730229748, 1998587672, 924844907]\n"
          ]
        }
      ]
    },
    {
      "cell_type": "code",
      "source": [
        "l = df_meta[df_meta['Patient'] == 9511168]\n",
        "unzipped_patient = 'AnishSalvi/ImageRx/PAD-Net/vRAD_Dataset_temp/9511168/images/'\n",
        "#get the number of series and relate study description and number of slices in each patient's image series\n",
        "reader = sitk.ImageSeriesReader()\n",
        "#get the series ids\n",
        "id_names = reader.GetGDCMSeriesIDs(unzipped_patient) #file subfolder\n",
        "\n",
        "#data\n",
        "data = []\n",
        "#max dicom\n",
        "max_dicom = True\n",
        "#for each series id\n",
        "for id_name in id_names:\n",
        "  #obtain one instance of the file\n",
        "  series_file_names = sitk.ImageSeriesReader.GetGDCMSeriesFileNames(\n",
        "      unzipped_patient,\n",
        "      id_name\n",
        "      )\n",
        "  #l['Series_ID'].to_list()"
      ],
      "metadata": {
        "id": "PNpzEgtEW-vG"
      },
      "execution_count": null,
      "outputs": []
    },
    {
      "cell_type": "code",
      "source": [
        "row"
      ],
      "metadata": {
        "colab": {
          "base_uri": "https://localhost:8080/"
        },
        "id": "zil6iVLPN4QL",
        "outputId": "e4a14638-af31-4927-fba1-7e3350332703"
      },
      "execution_count": null,
      "outputs": [
        {
          "output_type": "execute_result",
          "data": {
            "text/plain": [
              "Patient                                                             9511168\n",
              "Medcave03_DCM             AnishSalvi/ImageRx/PAD-Net/vRAD_Dataset_temp/9...\n",
              "Medcave03_Series_Files    ('AnishSalvi/ImageRx/PAD-Net/vRAD_Dataset_temp...\n",
              "Medcave03_Report          AnishSalvi/ImageRx/PAD-Net/vRAD_Dataset_temp/9...\n",
              "Series_ID                 1.2.840.113619.2.358.3.3540674098.890.16711095...\n",
              "Study                                CT ANGIO AORTA ILIOFEMORAL LEG RUN OFF\n",
              "Scan                                                     GE MEDICAL SYSTEMS\n",
              "Series                                                               RUNOFF\n",
              "Num_DICOM                                                              1043\n",
              "Full_Report               PROCEDURE INFORMATION: \\nExam:?CTA Abdominal A...\n",
              "Max_Patient_DICOM                                                      True\n",
              "Manual_DICOM_Selection                                                    h\n",
              "Name: 1, dtype: object"
            ]
          },
          "metadata": {},
          "execution_count": 184
        }
      ]
    },
    {
      "cell_type": "code",
      "source": [
        "#reader\n",
        "reader = sitk.ImageSeriesReader()\n",
        "#convert to nii.gz\n",
        "dicom_names = reader.GetGDCMSeriesFileNames(row['Medcave03_Series_Files']) #file subfolder\n",
        "#set\n",
        "reader.SetFileNames(dicom_names)\n",
        "#execute\n",
        "output = reader.Execute()"
      ],
      "metadata": {
        "colab": {
          "base_uri": "https://localhost:8080/",
          "height": 391
        },
        "id": "4WzoOGllI65X",
        "outputId": "160cb792-05dd-4df9-c56c-df01203c6473"
      },
      "execution_count": null,
      "outputs": [
        {
          "output_type": "error",
          "ename": "RuntimeError",
          "evalue": "ignored",
          "traceback": [
            "\u001b[1;31m---------------------------------------------------------------------------\u001b[0m",
            "\u001b[1;31mRuntimeError\u001b[0m                              Traceback (most recent call last)",
            "Input \u001b[1;32mIn [154]\u001b[0m, in \u001b[0;36m<module>\u001b[1;34m\u001b[0m\n\u001b[0;32m      6\u001b[0m reader\u001b[38;5;241m.\u001b[39mSetFileNames(dicom_names)\n\u001b[0;32m      7\u001b[0m \u001b[38;5;66;03m#execute\u001b[39;00m\n\u001b[1;32m----> 8\u001b[0m output \u001b[38;5;241m=\u001b[39m \u001b[43mreader\u001b[49m\u001b[38;5;241;43m.\u001b[39;49m\u001b[43mExecute\u001b[49m\u001b[43m(\u001b[49m\u001b[43m)\u001b[49m\n",
            "File \u001b[1;32m~\\.conda\\envs\\data_processing\\lib\\site-packages\\SimpleITK\\SimpleITK.py:7860\u001b[0m, in \u001b[0;36mImageSeriesReader.Execute\u001b[1;34m(self)\u001b[0m\n\u001b[0;32m   7854\u001b[0m \u001b[38;5;28;01mdef\u001b[39;00m \u001b[38;5;21mExecute\u001b[39m(\u001b[38;5;28mself\u001b[39m):\n\u001b[0;32m   7855\u001b[0m     \u001b[38;5;124mr\u001b[39m\u001b[38;5;124;03m\"\"\"\u001b[39;00m\n\u001b[0;32m   7856\u001b[0m \u001b[38;5;124;03m    Execute(ImageSeriesReader self) -> Image\u001b[39;00m\n\u001b[0;32m   7857\u001b[0m \n\u001b[0;32m   7858\u001b[0m \n\u001b[0;32m   7859\u001b[0m \u001b[38;5;124;03m    \"\"\"\u001b[39;00m\n\u001b[1;32m-> 7860\u001b[0m     \u001b[38;5;28;01mreturn\u001b[39;00m \u001b[43m_SimpleITK\u001b[49m\u001b[38;5;241;43m.\u001b[39;49m\u001b[43mImageSeriesReader_Execute\u001b[49m\u001b[43m(\u001b[49m\u001b[38;5;28;43mself\u001b[39;49m\u001b[43m)\u001b[49m\n",
            "\u001b[1;31mRuntimeError\u001b[0m: Exception thrown in SimpleITK ImageSeriesReader_Execute: D:\\a\\1\\sitk\\Code\\IO\\src\\sitkImageSeriesReader.cxx:129:\nsitk::ERROR: File names information is empty. Cannot read series."
          ]
        }
      ]
    },
    {
      "cell_type": "code",
      "source": [
        "row['Series_ID']"
      ],
      "metadata": {
        "colab": {
          "base_uri": "https://localhost:8080/"
        },
        "id": "NZfXmZRXNBem",
        "outputId": "b3956489-ba5d-4ffc-cff6-e65906f04221"
      },
      "execution_count": null,
      "outputs": [
        {
          "output_type": "execute_result",
          "data": {
            "text/plain": [
              "'1.2.840.113619.2.358.3.3540674098.890.1671109505.329'"
            ]
          },
          "metadata": {},
          "execution_count": 183
        }
      ]
    },
    {
      "cell_type": "code",
      "source": [
        "row['Medcave03_Series_Files']"
      ],
      "metadata": {
        "colab": {
          "base_uri": "https://localhost:8080/"
        },
        "id": "rEkf5_NiJNWe",
        "outputId": "a7afe656-3cb8-44f5-ac42-c962a7f46728"
      },
      "execution_count": null,
      "outputs": [
        {
          "output_type": "execute_result",
          "data": {
            "text/plain": [
              "\"nishSalvi/ImageRx/PAD-Net/vRAD_Dataset_temp/9511168/images/\\\\\\\\s53018917-1.2.840.113619.2.358.3.3540674098.890.1671109505.331.1043.dcm', 'AnishSalvi/ImageRx/PAD-Net/vRAD_Dataset_temp/9511168/images/\\\\\\\\s53018917-1.2.840.113619.2.358.3.3540674098.890.1671109505.331.1042.dcm', 'AnishSalvi/ImageRx/PAD-Net/vRAD_Dataset_temp/9511168/images/\\\\\\\\s53018917-1.2.840.113619.2.358.3.3540674098.890.1671109505.331.1041.dcm', 'AnishSalvi/ImageRx/PAD-Net/vRAD_Dataset_temp/9511168/images/\\\\\\\\s53018917-1.2.840.113619.2.358.3.3540674098.890.1671109505.331.1040.dcm', 'AnishSalvi/ImageRx/PAD-Net/vRAD_Dataset_temp/9511168/images/\\\\\\\\s53018917-1.2.840.113619.2.358.3.3540674098.890.1671109505.331.1039.dcm', 'AnishSalvi/ImageRx/PAD-Net/vRAD_Dataset_temp/9511168/images/\\\\\\\\s53018917-1.2.840.113619.2.358.3.3540674098.890.1671109505.331.1038.dcm', 'AnishSalvi/ImageRx/PAD-Net/vRAD_Dataset_temp/9511168/images/\\\\\\\\s53018917-1.2.840.113619.2.358.3.3540674098.890.1671109505.331.1037.dcm', 'AnishSalvi/ImageRx/PAD-Net/vRAD_Dataset_temp/9511168/images/\\\\\\\\s53018917-1.2.840.113619.2.358.3.3540674098.890.1671109505.331.1036.dcm', 'AnishSalvi/ImageRx/PAD-Net/vRAD_Dataset_temp/9511168/images/\\\\\\\\s53018917-1.2.840.113619.2.358.3.3540674098.890.1671109505.331.1035.dcm', 'AnishSalvi/ImageRx/PAD-Net/vRAD_Dataset_temp/9511168/images/\\\\\\\\s53018917-1.2.840.113619.2.358.3.3540674098.890.1671109505.331.1034.dcm', 'AnishSalvi/ImageRx/PAD-Net/vRAD_Dataset_temp/9511168/images/\\\\\\\\s53018917-1.2.840.113619.2.358.3.3540674098.890.1671109505.331.1033.dcm', 'AnishSalvi/ImageRx/PAD-Net/vRAD_Dataset_temp/9511168/images/\\\\\\\\s53018917-1.2.840.113619.2.358.3.3540674098.890.1671109505.331.1032.dcm', 'AnishSalvi/ImageRx/PAD-Net/vRAD_Dataset_temp/9511168/images/\\\\\\\\s53018917-1.2.840.113619.2.358.3.3540674098.890.1671109505.331.1031.dcm', 'AnishSalvi/ImageRx/PAD-Net/vRAD_Dataset_temp/9511168/images/\\\\\\\\s53018917-1.2.840.113619.2.358.3.3540674098.890.1671109505.331.1030.dcm', 'AnishSalvi/ImageRx/PAD-Net/vRAD_Dataset_temp/9511168/images/\\\\\\\\s53018917-1.2.840.113619.2.358.3.3540674098.890.1671109505.331.1029.dcm', 'AnishSalvi/ImageRx/PAD-Net/vRAD_Dataset_temp/9511168/images/\\\\\\\\s53018917-1.2.840.113619.2.358.3.3540674098.890.1671109505.331.1028.dcm', 'AnishSalvi/ImageRx/PAD-Net/vRAD_Dataset_temp/9511168/images/\\\\\\\\s53018917-1.2.840.113619.2.358.3.3540674098.890.1671109505.331.1027.dcm', 'AnishSalvi/ImageRx/PAD-Net/vRAD_Dataset_temp/9511168/images/\\\\\\\\s53018917-1.2.840.113619.2.358.3.3540674098.890.1671109505.331.1026.dcm', 'AnishSalvi/ImageRx/PAD-Net/vRAD_Dataset_temp/9511168/images/\\\\\\\\s53018917-1.2.840.113619.2.358.3.3540674098.890.1671109505.331.1025.dcm', 'AnishSalvi/ImageRx/PAD-Net/vRAD_Dataset_temp/9511168/images/\\\\\\\\s53018917-1.2.840.113619.2.358.3.3540674098.890.1671109505.331.1024.dcm', 'AnishSalvi/ImageRx/PAD-Net/vRAD_Dataset_temp/9511168/images/\\\\\\\\s53018917-1.2.840.113619.2.358.3.3540674098.890.1671109505.331.1023.dcm', 'AnishSalvi/ImageRx/PAD-Net/vRAD_Dataset_temp/9511168/images/\\\\\\\\s53018917-1.2.840.113619.2.358.3.3540674098.890.1671109505.331.1022.dcm', 'AnishSalvi/ImageRx/PAD-Net/vRAD_Dataset_temp/9511168/images/\\\\\\\\s53018917-1.2.840.113619.2.358.3.3540674098.890.1671109505.331.1021.dcm', 'AnishSalvi/ImageRx/PAD-Net/vRAD_Dataset_temp/9511168/images/\\\\\\\\s53018917-1.2.840.113619.2.358.3.3540674098.890.1671109505.331.1020.dcm', 'AnishSalvi/ImageRx/PAD-Net/vRAD_Dataset_temp/9511168/images/\\\\\\\\s53018917-1.2.840.113619.2.358.3.3540674098.890.1671109505.331.1019.dcm', 'AnishSalvi/ImageRx/PAD-Net/vRAD_Dataset_temp/9511168/images/\\\\\\\\s53018917-1.2.840.113619.2.358.3.3540674098.890.1671109505.331.1018.dcm', 'AnishSalvi/ImageRx/PAD-Net/vRAD_Dataset_temp/9511168/images/\\\\\\\\s53018917-1.2.840.113619.2.358.3.3540674098.890.1671109505.331.1017.dcm', 'AnishSalvi/ImageRx/PAD-Net/vRAD_Dataset_temp/9511168/images/\\\\\\\\s53018917-1.2.840.113619.2.358.3.3540674098.890.1671109505.331.1016.dcm', 'AnishSalvi/ImageRx/PAD-Net/vRAD_Dataset_temp/9511168/images/\\\\\\\\s53018917-1.2.840.113619.2.358.3.3540674098.890.1671109505.331.1015.dcm', 'AnishSalvi/ImageRx/PAD-Net/vRAD_Dataset_temp/9511168/images/\\\\\\\\s53018917-1.2.840.113619.2.358.3.3540674098.890.1671109505.331.1014.dcm', 'AnishSalvi/ImageRx/PAD-Net/vRAD_Dataset_temp/9511168/images/\\\\\\\\s53018917-1.2.840.113619.2.358.3.3540674098.890.1671109505.331.1013.dcm', 'AnishSalvi/ImageRx/PAD-Net/vRAD_Dataset_temp/9511168/images/\\\\\\\\s53018917-1.2.840.113619.2.358.3.3540674098.890.1671109505.331.1012.dcm', 'AnishSalvi/ImageRx/PAD-Net/vRAD_Dataset_temp/9511168/images/\\\\\\\\s53018917-1.2.840.113619.2.358.3.3540674098.890.1671109505.331.1011.dcm', 'AnishSalvi/ImageRx/PAD-Net/vRAD_Dataset_temp/9511168/images/\\\\\\\\s53018917-1.2.840.113619.2.358.3.3540674098.890.1671109505.331.1010.dcm', 'AnishSalvi/ImageRx/PAD-Net/vRAD_Dataset_temp/9511168/images/\\\\\\\\s53018917-1.2.840.113619.2.358.3.3540674098.890.1671109505.331.1009.dcm', 'AnishSalvi/ImageRx/PAD-Net/vRAD_Dataset_temp/9511168/images/\\\\\\\\s53018917-1.2.840.113619.2.358.3.3540674098.890.1671109505.331.1008.dcm', 'AnishSalvi/ImageRx/PAD-Net/vRAD_Dataset_temp/9511168/images/\\\\\\\\s53018917-1.2.840.113619.2.358.3.3540674098.890.1671109505.331.1007.dcm', 'AnishSalvi/ImageRx/PAD-Net/vRAD_Dataset_temp/9511168/images/\\\\\\\\s53018917-1.2.840.113619.2.358.3.3540674098.890.1671109505.331.1006.dcm', 'AnishSalvi/ImageRx/PAD-Net/vRAD_Dataset_temp/9511168/images/\\\\\\\\s53018917-1.2.840.113619.2.358.3.3540674098.890.1671109505.331.1005.dcm', 'AnishSalvi/ImageRx/PAD-Net/vRAD_Dataset_temp/9511168/images/\\\\\\\\s53018917-1.2.840.113619.2.358.3.3540674098.890.1671109505.331.1004.dcm', 'AnishSalvi/ImageRx/PAD-Net/vRAD_Dataset_temp/9511168/images/\\\\\\\\s53018917-1.2.840.113619.2.358.3.3540674098.890.1671109505.331.1003.dcm', 'AnishSalvi/ImageRx/PAD-Net/vRAD_Dataset_temp/9511168/images/\\\\\\\\s53018917-1.2.840.113619.2.358.3.3540674098.890.1671109505.331.1002.dcm', 'AnishSalvi/ImageRx/PAD-Net/vRAD_Dataset_temp/9511168/images/\\\\\\\\s53018917-1.2.840.113619.2.358.3.3540674098.890.1671109505.331.1001.dcm', 'AnishSalvi/ImageRx/PAD-Net/vRAD_Dataset_temp/9511168/images/\\\\\\\\s53018917-1.2.840.113619.2.358.3.3540674098.890.1671109505.331.1000.dcm', 'AnishSalvi/ImageRx/PAD-Net/vRAD_Dataset_temp/9511168/images/\\\\\\\\s53018917-1.2.840.113619.2.358.3.3540674098.890.1671109505.331.999.dcm', 'AnishSalvi/ImageRx/PAD-Net/vRAD_Dataset_temp/9511168/images/\\\\\\\\s53018917-1.2.840.113619.2.358.3.3540674098.890.1671109505.331.998.dcm', 'AnishSalvi/ImageRx/PAD-Net/vRAD_Dataset_temp/9511168/images/\\\\\\\\s53018917-1.2.840.113619.2.358.3.3540674098.890.1671109505.331.997.dcm', 'AnishSalvi/ImageRx/PAD-Net/vRAD_Dataset_temp/9511168/images/\\\\\\\\s53018917-1.2.840.113619.2.358.3.3540674098.890.1671109505.331.996.dcm', 'AnishSalvi/ImageRx/PAD-Net/vRAD_Dataset_temp/9511168/images/\\\\\\\\s53018917-1.2.840.113619.2.358.3.3540674098.890.1671109505.331.995.dcm', 'AnishSalvi/ImageRx/PAD-Net/vRAD_Dataset_temp/9511168/images/\\\\\\\\s53018917-1.2.840.113619.2.358.3.3540674098.890.1671109505.331.994.dcm', 'AnishSalvi/ImageRx/PAD-Net/vRAD_Dataset_temp/9511168/images/\\\\\\\\s53018917-1.2.840.113619.2.358.3.3540674098.890.1671109505.331.993.dcm', 'AnishSalvi/ImageRx/PAD-Net/vRAD_Dataset_temp/9511168/images/\\\\\\\\s53018917-1.2.840.113619.2.358.3.3540674098.890.1671109505.331.992.dcm', 'AnishSalvi/ImageRx/PAD-Net/vRAD_Dataset_temp/9511168/images/\\\\\\\\s53018917-1.2.840.113619.2.358.3.3540674098.890.1671109505.331.991.dcm', 'AnishSalvi/ImageRx/PAD-Net/vRAD_Dataset_temp/9511168/images/\\\\\\\\s53018917-1.2.840.113619.2.358.3.3540674098.890.1671109505.331.990.dcm', 'AnishSalvi/ImageRx/PAD-Net/vRAD_Dataset_temp/9511168/images/\\\\\\\\s53018917-1.2.840.113619.2.358.3.3540674098.890.1671109505.331.989.dcm', 'AnishSalvi/ImageRx/PAD-Net/vRAD_Dataset_temp/9511168/images/\\\\\\\\s53018917-1.2.840.113619.2.358.3.3540674098.890.1671109505.331.988.dcm', 'AnishSalvi/ImageRx/PAD-Net/vRAD_Dataset_temp/9511168/images/\\\\\\\\s53018917-1.2.840.113619.2.358.3.3540674098.890.1671109505.331.987.dcm', 'AnishSalvi/ImageRx/PAD-Net/vRAD_Dataset_temp/9511168/images/\\\\\\\\s53018917-1.2.840.113619.2.358.3.3540674098.890.1671109505.331.986.dcm', 'AnishSalvi/ImageRx/PAD-Net/vRAD_Dataset_temp/9511168/images/\\\\\\\\s53018917-1.2.840.113619.2.358.3.3540674098.890.1671109505.331.985.dcm', 'AnishSalvi/ImageRx/PAD-Net/vRAD_Dataset_temp/9511168/images/\\\\\\\\s53018917-1.2.840.113619.2.358.3.3540674098.890.1671109505.331.984.dcm', 'AnishSalvi/ImageRx/PAD-Net/vRAD_Dataset_temp/9511168/images/\\\\\\\\s53018917-1.2.840.113619.2.358.3.3540674098.890.1671109505.331.983.dcm', 'AnishSalvi/ImageRx/PAD-Net/vRAD_Dataset_temp/9511168/images/\\\\\\\\s53018917-1.2.840.113619.2.358.3.3540674098.890.1671109505.331.982.dcm', 'AnishSalvi/ImageRx/PAD-Net/vRAD_Dataset_temp/9511168/images/\\\\\\\\s53018917-1.2.840.113619.2.358.3.3540674098.890.1671109505.331.981.dcm', 'AnishSalvi/ImageRx/PAD-Net/vRAD_Dataset_temp/9511168/images/\\\\\\\\s53018917-1.2.840.113619.2.358.3.3540674098.890.1671109505.331.980.dcm', 'AnishSalvi/ImageRx/PAD-Net/vRAD_Dataset_temp/9511168/images/\\\\\\\\s53018917-1.2.840.113619.2.358.3.3540674098.890.1671109505.331.979.dcm', 'AnishSalvi/ImageRx/PAD-Net/vRAD_Dataset_temp/9511168/images/\\\\\\\\s53018917-1.2.840.113619.2.358.3.3540674098.890.1671109505.331.978.dcm', 'AnishSalvi/ImageRx/PAD-Net/vRAD_Dataset_temp/9511168/images/\\\\\\\\s53018917-1.2.840.113619.2.358.3.3540674098.890.1671109505.331.977.dcm', 'AnishSalvi/ImageRx/PAD-Net/vRAD_Dataset_temp/9511168/images/\\\\\\\\s53018917-1.2.840.113619.2.358.3.3540674098.890.1671109505.331.976.dcm', 'AnishSalvi/ImageRx/PAD-Net/vRAD_Dataset_temp/9511168/images/\\\\\\\\s53018917-1.2.840.113619.2.358.3.3540674098.890.1671109505.331.975.dcm', 'AnishSalvi/ImageRx/PAD-Net/vRAD_Dataset_temp/9511168/images/\\\\\\\\s53018917-1.2.840.113619.2.358.3.3540674098.890.1671109505.331.974.dcm', 'AnishSalvi/ImageRx/PAD-Net/vRAD_Dataset_temp/9511168/images/\\\\\\\\s53018917-1.2.840.113619.2.358.3.3540674098.890.1671109505.331.973.dcm', 'AnishSalvi/ImageRx/PAD-Net/vRAD_Dataset_temp/9511168/images/\\\\\\\\s53018917-1.2.840.113619.2.358.3.3540674098.890.1671109505.331.972.dcm', 'AnishSalvi/ImageRx/PAD-Net/vRAD_Dataset_temp/9511168/images/\\\\\\\\s53018917-1.2.840.113619.2.358.3.3540674098.890.1671109505.331.971.dcm', 'AnishSalvi/ImageRx/PAD-Net/vRAD_Dataset_temp/9511168/images/\\\\\\\\s53018917-1.2.840.113619.2.358.3.3540674098.890.1671109505.331.970.dcm', 'AnishSalvi/ImageRx/PAD-Net/vRAD_Dataset_temp/9511168/images/\\\\\\\\s53018917-1.2.840.113619.2.358.3.3540674098.890.1671109505.331.969.dcm', 'AnishSalvi/ImageRx/PAD-Net/vRAD_Dataset_temp/9511168/images/\\\\\\\\s53018917-1.2.840.113619.2.358.3.3540674098.890.1671109505.331.968.dcm', 'AnishSalvi/ImageRx/PAD-Net/vRAD_Dataset_temp/9511168/images/\\\\\\\\s53018917-1.2.840.113619.2.358.3.3540674098.890.1671109505.331.967.dcm', 'AnishSalvi/ImageRx/PAD-Net/vRAD_Dataset_temp/9511168/images/\\\\\\\\s53018917-1.2.840.113619.2.358.3.3540674098.890.1671109505.331.966.dcm', 'AnishSalvi/ImageRx/PAD-Net/vRAD_Dataset_temp/9511168/images/\\\\\\\\s53018917-1.2.840.113619.2.358.3.3540674098.890.1671109505.331.965.dcm', 'AnishSalvi/ImageRx/PAD-Net/vRAD_Dataset_temp/9511168/images/\\\\\\\\s53018917-1.2.840.113619.2.358.3.3540674098.890.1671109505.331.964.dcm', 'AnishSalvi/ImageRx/PAD-Net/vRAD_Dataset_temp/9511168/images/\\\\\\\\s53018917-1.2.840.113619.2.358.3.3540674098.890.1671109505.331.963.dcm', 'AnishSalvi/ImageRx/PAD-Net/vRAD_Dataset_temp/9511168/images/\\\\\\\\s53018917-1.2.840.113619.2.358.3.3540674098.890.1671109505.331.962.dcm', 'AnishSalvi/ImageRx/PAD-Net/vRAD_Dataset_temp/9511168/images/\\\\\\\\s53018917-1.2.840.113619.2.358.3.3540674098.890.1671109505.331.961.dcm', 'AnishSalvi/ImageRx/PAD-Net/vRAD_Dataset_temp/9511168/images/\\\\\\\\s53018917-1.2.840.113619.2.358.3.3540674098.890.1671109505.331.960.dcm', 'AnishSalvi/ImageRx/PAD-Net/vRAD_Dataset_temp/9511168/images/\\\\\\\\s53018917-1.2.840.113619.2.358.3.3540674098.890.1671109505.331.959.dcm', 'AnishSalvi/ImageRx/PAD-Net/vRAD_Dataset_temp/9511168/images/\\\\\\\\s53018917-1.2.840.113619.2.358.3.3540674098.890.1671109505.331.958.dcm', 'AnishSalvi/ImageRx/PAD-Net/vRAD_Dataset_temp/9511168/images/\\\\\\\\s53018917-1.2.840.113619.2.358.3.3540674098.890.1671109505.331.957.dcm', 'AnishSalvi/ImageRx/PAD-Net/vRAD_Dataset_temp/9511168/images/\\\\\\\\s53018917-1.2.840.113619.2.358.3.3540674098.890.1671109505.331.956.dcm', 'AnishSalvi/ImageRx/PAD-Net/vRAD_Dataset_temp/9511168/images/\\\\\\\\s53018917-1.2.840.113619.2.358.3.3540674098.890.1671109505.331.955.dcm', 'AnishSalvi/ImageRx/PAD-Net/vRAD_Dataset_temp/9511168/images/\\\\\\\\s53018917-1.2.840.113619.2.358.3.3540674098.890.1671109505.331.954.dcm', 'AnishSalvi/ImageRx/PAD-Net/vRAD_Dataset_temp/9511168/images/\\\\\\\\s53018917-1.2.840.113619.2.358.3.3540674098.890.1671109505.331.953.dcm', 'AnishSalvi/ImageRx/PAD-Net/vRAD_Dataset_temp/9511168/images/\\\\\\\\s53018917-1.2.840.113619.2.358.3.3540674098.890.1671109505.331.952.dcm', 'AnishSalvi/ImageRx/PAD-Net/vRAD_Dataset_temp/9511168/images/\\\\\\\\s53018917-1.2.840.113619.2.358.3.3540674098.890.1671109505.331.951.dcm', 'AnishSalvi/ImageRx/PAD-Net/vRAD_Dataset_temp/9511168/images/\\\\\\\\s53018917-1.2.840.113619.2.358.3.3540674098.890.1671109505.331.950.dcm', 'AnishSalvi/ImageRx/PAD-Net/vRAD_Dataset_temp/9511168/images/\\\\\\\\s53018917-1.2.840.113619.2.358.3.3540674098.890.1671109505.331.949.dcm', 'AnishSalvi/ImageRx/PAD-Net/vRAD_Dataset_temp/9511168/images/\\\\\\\\s53018917-1.2.840.113619.2.358.3.3540674098.890.1671109505.331.948.dcm', 'AnishSalvi/ImageRx/PAD-Net/vRAD_Dataset_temp/9511168/images/\\\\\\\\s53018917-1.2.840.113619.2.358.3.3540674098.890.1671109505.331.947.dcm', 'AnishSalvi/ImageRx/PAD-Net/vRAD_Dataset_temp/9511168/images/\\\\\\\\s53018917-1.2.840.113619.2.358.3.3540674098.890.1671109505.331.946.dcm', 'AnishSalvi/ImageRx/PAD-Net/vRAD_Dataset_temp/9511168/images/\\\\\\\\s53018917-1.2.840.113619.2.358.3.3540674098.890.1671109505.331.945.dcm', 'AnishSalvi/ImageRx/PAD-Net/vRAD_Dataset_temp/9511168/images/\\\\\\\\s53018917-1.2.840.113619.2.358.3.3540674098.890.1671109505.331.944.dcm', 'AnishSalvi/ImageRx/PAD-Net/vRAD_Dataset_temp/9511168/images/\\\\\\\\s53018917-1.2.840.113619.2.358.3.3540674098.890.1671109505.331.943.dcm', 'AnishSalvi/ImageRx/PAD-Net/vRAD_Dataset_temp/9511168/images/\\\\\\\\s53018917-1.2.840.113619.2.358.3.3540674098.890.1671109505.331.942.dcm', 'AnishSalvi/ImageRx/PAD-Net/vRAD_Dataset_temp/9511168/images/\\\\\\\\s53018917-1.2.840.113619.2.358.3.3540674098.890.1671109505.331.941.dcm', 'AnishSalvi/ImageRx/PAD-Net/vRAD_Dataset_temp/9511168/images/\\\\\\\\s53018917-1.2.840.113619.2.358.3.3540674098.890.1671109505.331.940.dcm', 'AnishSalvi/ImageRx/PAD-Net/vRAD_Dataset_temp/9511168/images/\\\\\\\\s53018917-1.2.840.113619.2.358.3.3540674098.890.1671109505.331.939.dcm', 'AnishSalvi/ImageRx/PAD-Net/vRAD_Dataset_temp/9511168/images/\\\\\\\\s53018917-1.2.840.113619.2.358.3.3540674098.890.1671109505.331.938.dcm', 'AnishSalvi/ImageRx/PAD-Net/vRAD_Dataset_temp/9511168/images/\\\\\\\\s53018917-1.2.840.113619.2.358.3.3540674098.890.1671109505.331.937.dcm', 'AnishSalvi/ImageRx/PAD-Net/vRAD_Dataset_temp/9511168/images/\\\\\\\\s53018917-1.2.840.113619.2.358.3.3540674098.890.1671109505.331.936.dcm', 'AnishSalvi/ImageRx/PAD-Net/vRAD_Dataset_temp/9511168/images/\\\\\\\\s53018917-1.2.840.113619.2.358.3.3540674098.890.1671109505.331.935.dcm', 'AnishSalvi/ImageRx/PAD-Net/vRAD_Dataset_temp/9511168/images/\\\\\\\\s53018917-1.2.840.113619.2.358.3.3540674098.890.1671109505.331.934.dcm', 'AnishSalvi/ImageRx/PAD-Net/vRAD_Dataset_temp/9511168/images/\\\\\\\\s53018917-1.2.840.113619.2.358.3.3540674098.890.1671109505.331.933.dcm', 'AnishSalvi/ImageRx/PAD-Net/vRAD_Dataset_temp/9511168/images/\\\\\\\\s53018917-1.2.840.113619.2.358.3.3540674098.890.1671109505.331.932.dcm', 'AnishSalvi/ImageRx/PAD-Net/vRAD_Dataset_temp/9511168/images/\\\\\\\\s53018917-1.2.840.113619.2.358.3.3540674098.890.1671109505.331.931.dcm', 'AnishSalvi/ImageRx/PAD-Net/vRAD_Dataset_temp/9511168/images/\\\\\\\\s53018917-1.2.840.113619.2.358.3.3540674098.890.1671109505.331.930.dcm', 'AnishSalvi/ImageRx/PAD-Net/vRAD_Dataset_temp/9511168/images/\\\\\\\\s53018917-1.2.840.113619.2.358.3.3540674098.890.1671109505.331.929.dcm', 'AnishSalvi/ImageRx/PAD-Net/vRAD_Dataset_temp/9511168/images/\\\\\\\\s53018917-1.2.840.113619.2.358.3.3540674098.890.1671109505.331.928.dcm', 'AnishSalvi/ImageRx/PAD-Net/vRAD_Dataset_temp/9511168/images/\\\\\\\\s53018917-1.2.840.113619.2.358.3.3540674098.890.1671109505.331.927.dcm', 'AnishSalvi/ImageRx/PAD-Net/vRAD_Dataset_temp/9511168/images/\\\\\\\\s53018917-1.2.840.113619.2.358.3.3540674098.890.1671109505.331.926.dcm', 'AnishSalvi/ImageRx/PAD-Net/vRAD_Dataset_temp/9511168/images/\\\\\\\\s53018917-1.2.840.113619.2.358.3.3540674098.890.1671109505.331.925.dcm', 'AnishSalvi/ImageRx/PAD-Net/vRAD_Dataset_temp/9511168/images/\\\\\\\\s53018917-1.2.840.113619.2.358.3.3540674098.890.1671109505.331.924.dcm', 'AnishSalvi/ImageRx/PAD-Net/vRAD_Dataset_temp/9511168/images/\\\\\\\\s53018917-1.2.840.113619.2.358.3.3540674098.890.1671109505.331.923.dcm', 'AnishSalvi/ImageRx/PAD-Net/vRAD_Dataset_temp/9511168/images/\\\\\\\\s53018917-1.2.840.113619.2.358.3.3540674098.890.1671109505.331.922.dcm', 'AnishSalvi/ImageRx/PAD-Net/vRAD_Dataset_temp/9511168/images/\\\\\\\\s53018917-1.2.840.113619.2.358.3.3540674098.890.1671109505.331.921.dcm', 'AnishSalvi/ImageRx/PAD-Net/vRAD_Dataset_temp/9511168/images/\\\\\\\\s53018917-1.2.840.113619.2.358.3.3540674098.890.1671109505.331.920.dcm', 'AnishSalvi/ImageRx/PAD-Net/vRAD_Dataset_temp/9511168/images/\\\\\\\\s53018917-1.2.840.113619.2.358.3.3540674098.890.1671109505.331.919.dcm', 'AnishSalvi/ImageRx/PAD-Net/vRAD_Dataset_temp/9511168/images/\\\\\\\\s53018917-1.2.840.113619.2.358.3.3540674098.890.1671109505.331.918.dcm', 'AnishSalvi/ImageRx/PAD-Net/vRAD_Dataset_temp/9511168/images/\\\\\\\\s53018917-1.2.840.113619.2.358.3.3540674098.890.1671109505.331.917.dcm', 'AnishSalvi/ImageRx/PAD-Net/vRAD_Dataset_temp/9511168/images/\\\\\\\\s53018917-1.2.840.113619.2.358.3.3540674098.890.1671109505.331.916.dcm', 'AnishSalvi/ImageRx/PAD-Net/vRAD_Dataset_temp/9511168/images/\\\\\\\\s53018917-1.2.840.113619.2.358.3.3540674098.890.1671109505.331.915.dcm', 'AnishSalvi/ImageRx/PAD-Net/vRAD_Dataset_temp/9511168/images/\\\\\\\\s53018917-1.2.840.113619.2.358.3.3540674098.890.1671109505.331.914.dcm', 'AnishSalvi/ImageRx/PAD-Net/vRAD_Dataset_temp/9511168/images/\\\\\\\\s53018917-1.2.840.113619.2.358.3.3540674098.890.1671109505.331.913.dcm', 'AnishSalvi/ImageRx/PAD-Net/vRAD_Dataset_temp/9511168/images/\\\\\\\\s53018917-1.2.840.113619.2.358.3.3540674098.890.1671109505.331.912.dcm', 'AnishSalvi/ImageRx/PAD-Net/vRAD_Dataset_temp/9511168/images/\\\\\\\\s53018917-1.2.840.113619.2.358.3.3540674098.890.1671109505.331.911.dcm', 'AnishSalvi/ImageRx/PAD-Net/vRAD_Dataset_temp/9511168/images/\\\\\\\\s53018917-1.2.840.113619.2.358.3.3540674098.890.1671109505.331.910.dcm', 'AnishSalvi/ImageRx/PAD-Net/vRAD_Dataset_temp/9511168/images/\\\\\\\\s53018917-1.2.840.113619.2.358.3.3540674098.890.1671109505.331.909.dcm', 'AnishSalvi/ImageRx/PAD-Net/vRAD_Dataset_temp/9511168/images/\\\\\\\\s53018917-1.2.840.113619.2.358.3.3540674098.890.1671109505.331.908.dcm', 'AnishSalvi/ImageRx/PAD-Net/vRAD_Dataset_temp/9511168/images/\\\\\\\\s53018917-1.2.840.113619.2.358.3.3540674098.890.1671109505.331.907.dcm', 'AnishSalvi/ImageRx/PAD-Net/vRAD_Dataset_temp/9511168/images/\\\\\\\\s53018917-1.2.840.113619.2.358.3.3540674098.890.1671109505.331.906.dcm', 'AnishSalvi/ImageRx/PAD-Net/vRAD_Dataset_temp/9511168/images/\\\\\\\\s53018917-1.2.840.113619.2.358.3.3540674098.890.1671109505.331.905.dcm', 'AnishSalvi/ImageRx/PAD-Net/vRAD_Dataset_temp/9511168/images/\\\\\\\\s53018917-1.2.840.113619.2.358.3.3540674098.890.1671109505.331.904.dcm', 'AnishSalvi/ImageRx/PAD-Net/vRAD_Dataset_temp/9511168/images/\\\\\\\\s53018917-1.2.840.113619.2.358.3.3540674098.890.1671109505.331.903.dcm', 'AnishSalvi/ImageRx/PAD-Net/vRAD_Dataset_temp/9511168/images/\\\\\\\\s53018917-1.2.840.113619.2.358.3.3540674098.890.1671109505.331.902.dcm', 'AnishSalvi/ImageRx/PAD-Net/vRAD_Dataset_temp/9511168/images/\\\\\\\\s53018917-1.2.840.113619.2.358.3.3540674098.890.1671109505.331.901.dcm', 'AnishSalvi/ImageRx/PAD-Net/vRAD_Dataset_temp/9511168/images/\\\\\\\\s53018917-1.2.840.113619.2.358.3.3540674098.890.1671109505.331.900.dcm', 'AnishSalvi/ImageRx/PAD-Net/vRAD_Dataset_temp/9511168/images/\\\\\\\\s53018917-1.2.840.113619.2.358.3.3540674098.890.1671109505.331.899.dcm', 'AnishSalvi/ImageRx/PAD-Net/vRAD_Dataset_temp/9511168/images/\\\\\\\\s53018917-1.2.840.113619.2.358.3.3540674098.890.1671109505.331.898.dcm', 'AnishSalvi/ImageRx/PAD-Net/vRAD_Dataset_temp/9511168/images/\\\\\\\\s53018917-1.2.840.113619.2.358.3.3540674098.890.1671109505.331.897.dcm', 'AnishSalvi/ImageRx/PAD-Net/vRAD_Dataset_temp/9511168/images/\\\\\\\\s53018917-1.2.840.113619.2.358.3.3540674098.890.1671109505.331.896.dcm', 'AnishSalvi/ImageRx/PAD-Net/vRAD_Dataset_temp/9511168/images/\\\\\\\\s53018917-1.2.840.113619.2.358.3.3540674098.890.1671109505.331.895.dcm', 'AnishSalvi/ImageRx/PAD-Net/vRAD_Dataset_temp/9511168/images/\\\\\\\\s53018917-1.2.840.113619.2.358.3.3540674098.890.1671109505.331.894.dcm', 'AnishSalvi/ImageRx/PAD-Net/vRAD_Dataset_temp/9511168/images/\\\\\\\\s53018917-1.2.840.113619.2.358.3.3540674098.890.1671109505.331.893.dcm', 'AnishSalvi/ImageRx/PAD-Net/vRAD_Dataset_temp/9511168/images/\\\\\\\\s53018917-1.2.840.113619.2.358.3.3540674098.890.1671109505.331.892.dcm', 'AnishSalvi/ImageRx/PAD-Net/vRAD_Dataset_temp/9511168/images/\\\\\\\\s53018917-1.2.840.113619.2.358.3.3540674098.890.1671109505.331.891.dcm', 'AnishSalvi/ImageRx/PAD-Net/vRAD_Dataset_temp/9511168/images/\\\\\\\\s53018917-1.2.840.113619.2.358.3.3540674098.890.1671109505.331.890.dcm', 'AnishSalvi/ImageRx/PAD-Net/vRAD_Dataset_temp/9511168/images/\\\\\\\\s53018917-1.2.840.113619.2.358.3.3540674098.890.1671109505.331.889.dcm', 'AnishSalvi/ImageRx/PAD-Net/vRAD_Dataset_temp/9511168/images/\\\\\\\\s53018917-1.2.840.113619.2.358.3.3540674098.890.1671109505.331.888.dcm', 'AnishSalvi/ImageRx/PAD-Net/vRAD_Dataset_temp/9511168/images/\\\\\\\\s53018917-1.2.840.113619.2.358.3.3540674098.890.1671109505.331.887.dcm', 'AnishSalvi/ImageRx/PAD-Net/vRAD_Dataset_temp/9511168/images/\\\\\\\\s53018917-1.2.840.113619.2.358.3.3540674098.890.1671109505.331.886.dcm', 'AnishSalvi/ImageRx/PAD-Net/vRAD_Dataset_temp/9511168/images/\\\\\\\\s53018917-1.2.840.113619.2.358.3.3540674098.890.1671109505.331.885.dcm', 'AnishSalvi/ImageRx/PAD-Net/vRAD_Dataset_temp/9511168/images/\\\\\\\\s53018917-1.2.840.113619.2.358.3.3540674098.890.1671109505.331.884.dcm', 'AnishSalvi/ImageRx/PAD-Net/vRAD_Dataset_temp/9511168/images/\\\\\\\\s53018917-1.2.840.113619.2.358.3.3540674098.890.1671109505.331.883.dcm', 'AnishSalvi/ImageRx/PAD-Net/vRAD_Dataset_temp/9511168/images/\\\\\\\\s53018917-1.2.840.113619.2.358.3.3540674098.890.1671109505.331.882.dcm', 'AnishSalvi/ImageRx/PAD-Net/vRAD_Dataset_temp/9511168/images/\\\\\\\\s53018917-1.2.840.113619.2.358.3.3540674098.890.1671109505.331.881.dcm', 'AnishSalvi/ImageRx/PAD-Net/vRAD_Dataset_temp/9511168/images/\\\\\\\\s53018917-1.2.840.113619.2.358.3.3540674098.890.1671109505.331.880.dcm', 'AnishSalvi/ImageRx/PAD-Net/vRAD_Dataset_temp/9511168/images/\\\\\\\\s53018917-1.2.840.113619.2.358.3.3540674098.890.1671109505.331.879.dcm', 'AnishSalvi/ImageRx/PAD-Net/vRAD_Dataset_temp/9511168/images/\\\\\\\\s53018917-1.2.840.113619.2.358.3.3540674098.890.1671109505.331.878.dcm', 'AnishSalvi/ImageRx/PAD-Net/vRAD_Dataset_temp/9511168/images/\\\\\\\\s53018917-1.2.840.113619.2.358.3.3540674098.890.1671109505.331.877.dcm', 'AnishSalvi/ImageRx/PAD-Net/vRAD_Dataset_temp/9511168/images/\\\\\\\\s53018917-1.2.840.113619.2.358.3.3540674098.890.1671109505.331.876.dcm', 'AnishSalvi/ImageRx/PAD-Net/vRAD_Dataset_temp/9511168/images/\\\\\\\\s53018917-1.2.840.113619.2.358.3.3540674098.890.1671109505.331.875.dcm', 'AnishSalvi/ImageRx/PAD-Net/vRAD_Dataset_temp/9511168/images/\\\\\\\\s53018917-1.2.840.113619.2.358.3.3540674098.890.1671109505.331.874.dcm', 'AnishSalvi/ImageRx/PAD-Net/vRAD_Dataset_temp/9511168/images/\\\\\\\\s53018917-1.2.840.113619.2.358.3.3540674098.890.1671109505.331.873.dcm', 'AnishSalvi/ImageRx/PAD-Net/vRAD_Dataset_temp/9511168/images/\\\\\\\\s53018917-1.2.840.113619.2.358.3.3540674098.890.1671109505.331.872.dcm', 'AnishSalvi/ImageRx/PAD-Net/vRAD_Dataset_temp/9511168/images/\\\\\\\\s53018917-1.2.840.113619.2.358.3.3540674098.890.1671109505.331.871.dcm', 'AnishSalvi/ImageRx/PAD-Net/vRAD_Dataset_temp/9511168/images/\\\\\\\\s53018917-1.2.840.113619.2.358.3.3540674098.890.1671109505.331.870.dcm', 'AnishSalvi/ImageRx/PAD-Net/vRAD_Dataset_temp/9511168/images/\\\\\\\\s53018917-1.2.840.113619.2.358.3.3540674098.890.1671109505.331.869.dcm', 'AnishSalvi/ImageRx/PAD-Net/vRAD_Dataset_temp/9511168/images/\\\\\\\\s53018917-1.2.840.113619.2.358.3.3540674098.890.1671109505.331.868.dcm', 'AnishSalvi/ImageRx/PAD-Net/vRAD_Dataset_temp/9511168/images/\\\\\\\\s53018917-1.2.840.113619.2.358.3.3540674098.890.1671109505.331.867.dcm', 'AnishSalvi/ImageRx/PAD-Net/vRAD_Dataset_temp/9511168/images/\\\\\\\\s53018917-1.2.840.113619.2.358.3.3540674098.890.1671109505.331.866.dcm', 'AnishSalvi/ImageRx/PAD-Net/vRAD_Dataset_temp/9511168/images/\\\\\\\\s53018917-1.2.840.113619.2.358.3.3540674098.890.1671109505.331.865.dcm', 'AnishSalvi/ImageRx/PAD-Net/vRAD_Dataset_temp/9511168/images/\\\\\\\\s53018917-1.2.840.113619.2.358.3.3540674098.890.1671109505.331.864.dcm', 'AnishSalvi/ImageRx/PAD-Net/vRAD_Dataset_temp/9511168/images/\\\\\\\\s53018917-1.2.840.113619.2.358.3.3540674098.890.1671109505.331.863.dcm', 'AnishSalvi/ImageRx/PAD-Net/vRAD_Dataset_temp/9511168/images/\\\\\\\\s53018917-1.2.840.113619.2.358.3.3540674098.890.1671109505.331.862.dcm', 'AnishSalvi/ImageRx/PAD-Net/vRAD_Dataset_temp/9511168/images/\\\\\\\\s53018917-1.2.840.113619.2.358.3.3540674098.890.1671109505.331.861.dcm', 'AnishSalvi/ImageRx/PAD-Net/vRAD_Dataset_temp/9511168/images/\\\\\\\\s53018917-1.2.840.113619.2.358.3.3540674098.890.1671109505.331.860.dcm', 'AnishSalvi/ImageRx/PAD-Net/vRAD_Dataset_temp/9511168/images/\\\\\\\\s53018917-1.2.840.113619.2.358.3.3540674098.890.1671109505.331.859.dcm', 'AnishSalvi/ImageRx/PAD-Net/vRAD_Dataset_temp/9511168/images/\\\\\\\\s53018917-1.2.840.113619.2.358.3.3540674098.890.1671109505.331.858.dcm', 'AnishSalvi/ImageRx/PAD-Net/vRAD_Dataset_temp/9511168/images/\\\\\\\\s53018917-1.2.840.113619.2.358.3.3540674098.890.1671109505.331.857.dcm', 'AnishSalvi/ImageRx/PAD-Net/vRAD_Dataset_temp/9511168/images/\\\\\\\\s53018917-1.2.840.113619.2.358.3.3540674098.890.1671109505.331.856.dcm', 'AnishSalvi/ImageRx/PAD-Net/vRAD_Dataset_temp/9511168/images/\\\\\\\\s53018917-1.2.840.113619.2.358.3.3540674098.890.1671109505.331.855.dcm', 'AnishSalvi/ImageRx/PAD-Net/vRAD_Dataset_temp/9511168/images/\\\\\\\\s53018917-1.2.840.113619.2.358.3.3540674098.890.1671109505.331.854.dcm', 'AnishSalvi/ImageRx/PAD-Net/vRAD_Dataset_temp/9511168/images/\\\\\\\\s53018917-1.2.840.113619.2.358.3.3540674098.890.1671109505.331.853.dcm', 'AnishSalvi/ImageRx/PAD-Net/vRAD_Dataset_temp/9511168/images/\\\\\\\\s53018917-1.2.840.113619.2.358.3.3540674098.890.1671109505.331.852.dcm', 'AnishSalvi/ImageRx/PAD-Net/vRAD_Dataset_temp/9511168/images/\\\\\\\\s53018917-1.2.840.113619.2.358.3.3540674098.890.1671109505.331.851.dcm', 'AnishSalvi/ImageRx/PAD-Net/vRAD_Dataset_temp/9511168/images/\\\\\\\\s53018917-1.2.840.113619.2.358.3.3540674098.890.1671109505.331.850.dcm', 'AnishSalvi/ImageRx/PAD-Net/vRAD_Dataset_temp/9511168/images/\\\\\\\\s53018917-1.2.840.113619.2.358.3.3540674098.890.1671109505.331.849.dcm', 'AnishSalvi/ImageRx/PAD-Net/vRAD_Dataset_temp/9511168/images/\\\\\\\\s53018917-1.2.840.113619.2.358.3.3540674098.890.1671109505.331.848.dcm', 'AnishSalvi/ImageRx/PAD-Net/vRAD_Dataset_temp/9511168/images/\\\\\\\\s53018917-1.2.840.113619.2.358.3.3540674098.890.1671109505.331.847.dcm', 'AnishSalvi/ImageRx/PAD-Net/vRAD_Dataset_temp/9511168/images/\\\\\\\\s53018917-1.2.840.113619.2.358.3.3540674098.890.1671109505.331.846.dcm', 'AnishSalvi/ImageRx/PAD-Net/vRAD_Dataset_temp/9511168/images/\\\\\\\\s53018917-1.2.840.113619.2.358.3.3540674098.890.1671109505.331.845.dcm', 'AnishSalvi/ImageRx/PAD-Net/vRAD_Dataset_temp/9511168/images/\\\\\\\\s53018917-1.2.840.113619.2.358.3.3540674098.890.1671109505.331.844.dcm', 'AnishSalvi/ImageRx/PAD-Net/vRAD_Dataset_temp/9511168/images/\\\\\\\\s53018917-1.2.840.113619.2.358.3.3540674098.890.1671109505.331.843.dcm', 'AnishSalvi/ImageRx/PAD-Net/vRAD_Dataset_temp/9511168/images/\\\\\\\\s53018917-1.2.840.113619.2.358.3.3540674098.890.1671109505.331.842.dcm', 'AnishSalvi/ImageRx/PAD-Net/vRAD_Dataset_temp/9511168/images/\\\\\\\\s53018917-1.2.840.113619.2.358.3.3540674098.890.1671109505.331.841.dcm', 'AnishSalvi/ImageRx/PAD-Net/vRAD_Dataset_temp/9511168/images/\\\\\\\\s53018917-1.2.840.113619.2.358.3.3540674098.890.1671109505.331.840.dcm', 'AnishSalvi/ImageRx/PAD-Net/vRAD_Dataset_temp/9511168/images/\\\\\\\\s53018917-1.2.840.113619.2.358.3.3540674098.890.1671109505.331.839.dcm', 'AnishSalvi/ImageRx/PAD-Net/vRAD_Dataset_temp/9511168/images/\\\\\\\\s53018917-1.2.840.113619.2.358.3.3540674098.890.1671109505.331.838.dcm', 'AnishSalvi/ImageRx/PAD-Net/vRAD_Dataset_temp/9511168/images/\\\\\\\\s53018917-1.2.840.113619.2.358.3.3540674098.890.1671109505.331.837.dcm', 'AnishSalvi/ImageRx/PAD-Net/vRAD_Dataset_temp/9511168/images/\\\\\\\\s53018917-1.2.840.113619.2.358.3.3540674098.890.1671109505.331.836.dcm', 'AnishSalvi/ImageRx/PAD-Net/vRAD_Dataset_temp/9511168/images/\\\\\\\\s53018917-1.2.840.113619.2.358.3.3540674098.890.1671109505.331.835.dcm', 'AnishSalvi/ImageRx/PAD-Net/vRAD_Dataset_temp/9511168/images/\\\\\\\\s53018917-1.2.840.113619.2.358.3.3540674098.890.1671109505.331.834.dcm', 'AnishSalvi/ImageRx/PAD-Net/vRAD_Dataset_temp/9511168/images/\\\\\\\\s53018917-1.2.840.113619.2.358.3.3540674098.890.1671109505.331.833.dcm', 'AnishSalvi/ImageRx/PAD-Net/vRAD_Dataset_temp/9511168/images/\\\\\\\\s53018917-1.2.840.113619.2.358.3.3540674098.890.1671109505.331.832.dcm', 'AnishSalvi/ImageRx/PAD-Net/vRAD_Dataset_temp/9511168/images/\\\\\\\\s53018917-1.2.840.113619.2.358.3.3540674098.890.1671109505.331.831.dcm', 'AnishSalvi/ImageRx/PAD-Net/vRAD_Dataset_temp/9511168/images/\\\\\\\\s53018917-1.2.840.113619.2.358.3.3540674098.890.1671109505.331.830.dcm', 'AnishSalvi/ImageRx/PAD-Net/vRAD_Dataset_temp/9511168/images/\\\\\\\\s53018917-1.2.840.113619.2.358.3.3540674098.890.1671109505.331.829.dcm', 'AnishSalvi/ImageRx/PAD-Net/vRAD_Dataset_temp/9511168/images/\\\\\\\\s53018917-1.2.840.113619.2.358.3.3540674098.890.1671109505.331.828.dcm', 'AnishSalvi/ImageRx/PAD-Net/vRAD_Dataset_temp/9511168/images/\\\\\\\\s53018917-1.2.840.113619.2.358.3.3540674098.890.1671109505.331.827.dcm', 'AnishSalvi/ImageRx/PAD-Net/vRAD_Dataset_temp/9511168/images/\\\\\\\\s53018917-1.2.840.113619.2.358.3.3540674098.890.1671109505.331.826.dcm', 'AnishSalvi/ImageRx/PAD-Net/vRAD_Dataset_temp/9511168/images/\\\\\\\\s53018917-1.2.840.113619.2.358.3.3540674098.890.1671109505.331.825.dcm', 'AnishSalvi/ImageRx/PAD-Net/vRAD_Dataset_temp/9511168/images/\\\\\\\\s53018917-1.2.840.113619.2.358.3.3540674098.890.1671109505.331.824.dcm', 'AnishSalvi/ImageRx/PAD-Net/vRAD_Dataset_temp/9511168/images/\\\\\\\\s53018917-1.2.840.113619.2.358.3.3540674098.890.1671109505.331.823.dcm', 'AnishSalvi/ImageRx/PAD-Net/vRAD_Dataset_temp/9511168/images/\\\\\\\\s53018917-1.2.840.113619.2.358.3.3540674098.890.1671109505.331.822.dcm', 'AnishSalvi/ImageRx/PAD-Net/vRAD_Dataset_temp/9511168/images/\\\\\\\\s53018917-1.2.840.113619.2.358.3.3540674098.890.1671109505.331.821.dcm', 'AnishSalvi/ImageRx/PAD-Net/vRAD_Dataset_temp/9511168/images/\\\\\\\\s53018917-1.2.840.113619.2.358.3.3540674098.890.1671109505.331.820.dcm', 'AnishSalvi/ImageRx/PAD-Net/vRAD_Dataset_temp/9511168/images/\\\\\\\\s53018917-1.2.840.113619.2.358.3.3540674098.890.1671109505.331.819.dcm', 'AnishSalvi/ImageRx/PAD-Net/vRAD_Dataset_temp/9511168/images/\\\\\\\\s53018917-1.2.840.113619.2.358.3.3540674098.890.1671109505.331.818.dcm', 'AnishSalvi/ImageRx/PAD-Net/vRAD_Dataset_temp/9511168/images/\\\\\\\\s53018917-1.2.840.113619.2.358.3.3540674098.890.1671109505.331.817.dcm', 'AnishSalvi/ImageRx/PAD-Net/vRAD_Dataset_temp/9511168/images/\\\\\\\\s53018917-1.2.840.113619.2.358.3.3540674098.890.1671109505.331.816.dcm', 'AnishSalvi/ImageRx/PAD-Net/vRAD_Dataset_temp/9511168/images/\\\\\\\\s53018917-1.2.840.113619.2.358.3.3540674098.890.1671109505.331.815.dcm', 'AnishSalvi/ImageRx/PAD-Net/vRAD_Dataset_temp/9511168/images/\\\\\\\\s53018917-1.2.840.113619.2.358.3.3540674098.890.1671109505.331.814.dcm', 'AnishSalvi/ImageRx/PAD-Net/vRAD_Dataset_temp/9511168/images/\\\\\\\\s53018917-1.2.840.113619.2.358.3.3540674098.890.1671109505.331.813.dcm', 'AnishSalvi/ImageRx/PAD-Net/vRAD_Dataset_temp/9511168/images/\\\\\\\\s53018917-1.2.840.113619.2.358.3.3540674098.890.1671109505.331.812.dcm', 'AnishSalvi/ImageRx/PAD-Net/vRAD_Dataset_temp/9511168/images/\\\\\\\\s53018917-1.2.840.113619.2.358.3.3540674098.890.1671109505.331.811.dcm', 'AnishSalvi/ImageRx/PAD-Net/vRAD_Dataset_temp/9511168/images/\\\\\\\\s53018917-1.2.840.113619.2.358.3.3540674098.890.1671109505.331.810.dcm', 'AnishSalvi/ImageRx/PAD-Net/vRAD_Dataset_temp/9511168/images/\\\\\\\\s53018917-1.2.840.113619.2.358.3.3540674098.890.1671109505.331.809.dcm', 'AnishSalvi/ImageRx/PAD-Net/vRAD_Dataset_temp/9511168/images/\\\\\\\\s53018917-1.2.840.113619.2.358.3.3540674098.890.1671109505.331.808.dcm', 'AnishSalvi/ImageRx/PAD-Net/vRAD_Dataset_temp/9511168/images/\\\\\\\\s53018917-1.2.840.113619.2.358.3.3540674098.890.1671109505.331.807.dcm', 'AnishSalvi/ImageRx/PAD-Net/vRAD_Dataset_temp/9511168/images/\\\\\\\\s53018917-1.2.840.113619.2.358.3.3540674098.890.1671109505.331.806.dcm', 'AnishSalvi/ImageRx/PAD-Net/vRAD_Dataset_temp/9511168/images/\\\\\\\\s53018917-1.2.840.113619.2.358.3.3540674098.890.1671109505.331.805.dcm', 'AnishSalvi/ImageRx/PAD-Net/vRAD_Dataset_temp/9511168/images/\\\\\\\\s53018917-1.2.840.113619.2.358.3.3540674098.890.1671109505.331.804.dcm', 'AnishSalvi/ImageRx/PAD-Net/vRAD_Dataset_temp/9511168/images/\\\\\\\\s53018917-1.2.840.1\""
            ]
          },
          "metadata": {},
          "execution_count": 163
        }
      ]
    },
    {
      "cell_type": "code",
      "source": [
        "res = tuple(map(str, ))"
      ],
      "metadata": {
        "id": "_xRwiAMbI-Il"
      },
      "execution_count": null,
      "outputs": []
    },
    {
      "cell_type": "code",
      "source": [
        "res = list(map(str, row['Medcave03_Series_Files'].split(', ')))"
      ],
      "metadata": {
        "id": "5SWlbBvaKmbc"
      },
      "execution_count": null,
      "outputs": []
    },
    {
      "cell_type": "code",
      "source": [
        "#convert to nii.gz\n",
        "dicom_names = reader.GetGDCMSeriesFileNames(res) #file subfolder\n",
        "#set\n",
        "reader.SetFileNames(dicom_names)\n",
        "#execute\n",
        "output = reader.Execute()"
      ],
      "metadata": {
        "colab": {
          "base_uri": "https://localhost:8080/",
          "height": 354
        },
        "id": "yDEj4UBpKr8a",
        "outputId": "0582d5d6-d8c3-4194-8442-8bb46a162b63"
      },
      "execution_count": null,
      "outputs": [
        {
          "output_type": "error",
          "ename": "TypeError",
          "evalue": "ignored",
          "traceback": [
            "\u001b[1;31m---------------------------------------------------------------------------\u001b[0m",
            "\u001b[1;31mTypeError\u001b[0m                                 Traceback (most recent call last)",
            "Input \u001b[1;32mIn [181]\u001b[0m, in \u001b[0;36m<module>\u001b[1;34m\u001b[0m\n\u001b[0;32m      1\u001b[0m \u001b[38;5;66;03m#convert to nii.gz\u001b[39;00m\n\u001b[1;32m----> 2\u001b[0m dicom_names \u001b[38;5;241m=\u001b[39m \u001b[43mreader\u001b[49m\u001b[38;5;241;43m.\u001b[39;49m\u001b[43mGetGDCMSeriesFileNames\u001b[49m\u001b[43m(\u001b[49m\u001b[43mres\u001b[49m\u001b[43m)\u001b[49m \u001b[38;5;66;03m#file subfolder\u001b[39;00m\n\u001b[0;32m      3\u001b[0m \u001b[38;5;66;03m#set\u001b[39;00m\n\u001b[0;32m      4\u001b[0m reader\u001b[38;5;241m.\u001b[39mSetFileNames(dicom_names)\n",
            "File \u001b[1;32m~\\.conda\\envs\\data_processing\\lib\\site-packages\\SimpleITK\\SimpleITK.py:7831\u001b[0m, in \u001b[0;36mImageSeriesReader.GetGDCMSeriesFileNames\u001b[1;34m(*args, **kwargs)\u001b[0m\n\u001b[0;32m   7828\u001b[0m \u001b[38;5;129m@staticmethod\u001b[39m\n\u001b[0;32m   7829\u001b[0m \u001b[38;5;28;01mdef\u001b[39;00m \u001b[38;5;21mGetGDCMSeriesFileNames\u001b[39m(\u001b[38;5;241m*\u001b[39margs, \u001b[38;5;241m*\u001b[39m\u001b[38;5;241m*\u001b[39mkwargs):\n\u001b[0;32m   7830\u001b[0m     \u001b[38;5;124mr\u001b[39m\u001b[38;5;124;03m\"\"\"GetGDCMSeriesFileNames(std::string const & directory, std::string const & seriesID=\"\", bool useSeriesDetails=False, bool recursive=False, bool loadSequences=False) -> VectorString\"\"\"\u001b[39;00m\n\u001b[1;32m-> 7831\u001b[0m     \u001b[38;5;28;01mreturn\u001b[39;00m _SimpleITK\u001b[38;5;241m.\u001b[39mImageSeriesReader_GetGDCMSeriesFileNames(\u001b[38;5;241m*\u001b[39margs, \u001b[38;5;241m*\u001b[39m\u001b[38;5;241m*\u001b[39mkwargs)\n",
            "\u001b[1;31mTypeError\u001b[0m: in method 'ImageSeriesReader_GetGDCMSeriesFileNames', argument 1 of type 'std::string const &'"
          ]
        }
      ]
    },
    {
      "cell_type": "code",
      "source": [
        "res = [ele.replace('(', '') for ele in res]"
      ],
      "metadata": {
        "id": "LVCh5gajL1Nm"
      },
      "execution_count": null,
      "outputs": []
    },
    {
      "cell_type": "code",
      "source": [
        "res"
      ],
      "metadata": {
        "colab": {
          "base_uri": "https://localhost:8080/"
        },
        "id": "P1ZqEnILKRJG",
        "outputId": "e50e95b5-447a-45be-ce5d-47b864f62088"
      },
      "execution_count": null,
      "outputs": [
        {
          "output_type": "execute_result",
          "data": {
            "text/plain": [
              "[\"'AnishSalvi/ImageRx/PAD-Net/vRAD_Dataset_temp/9511168/images/\\\\\\\\s53018917-1.2.840.113619.2.358.3.3540674098.890.1671109505.331.1043.dcm'\",\n",
              " \"'AnishSalvi/ImageRx/PAD-Net/vRAD_Dataset_temp/9511168/images/\\\\\\\\s53018917-1.2.840.113619.2.358.3.3540674098.890.1671109505.331.1042.dcm'\",\n",
              " \"'AnishSalvi/ImageRx/PAD-Net/vRAD_Dataset_temp/9511168/images/\\\\\\\\s53018917-1.2.840.113619.2.358.3.3540674098.890.1671109505.331.1041.dcm'\",\n",
              " \"'AnishSalvi/ImageRx/PAD-Net/vRAD_Dataset_temp/9511168/images/\\\\\\\\s53018917-1.2.840.113619.2.358.3.3540674098.890.1671109505.331.1040.dcm'\",\n",
              " \"'AnishSalvi/ImageRx/PAD-Net/vRAD_Dataset_temp/9511168/images/\\\\\\\\s53018917-1.2.840.113619.2.358.3.3540674098.890.1671109505.331.1039.dcm'\",\n",
              " \"'AnishSalvi/ImageRx/PAD-Net/vRAD_Dataset_temp/9511168/images/\\\\\\\\s53018917-1.2.840.113619.2.358.3.3540674098.890.1671109505.331.1038.dcm'\",\n",
              " \"'AnishSalvi/ImageRx/PAD-Net/vRAD_Dataset_temp/9511168/images/\\\\\\\\s53018917-1.2.840.113619.2.358.3.3540674098.890.1671109505.331.1037.dcm'\",\n",
              " \"'AnishSalvi/ImageRx/PAD-Net/vRAD_Dataset_temp/9511168/images/\\\\\\\\s53018917-1.2.840.113619.2.358.3.3540674098.890.1671109505.331.1036.dcm'\",\n",
              " \"'AnishSalvi/ImageRx/PAD-Net/vRAD_Dataset_temp/9511168/images/\\\\\\\\s53018917-1.2.840.113619.2.358.3.3540674098.890.1671109505.331.1035.dcm'\",\n",
              " \"'AnishSalvi/ImageRx/PAD-Net/vRAD_Dataset_temp/9511168/images/\\\\\\\\s53018917-1.2.840.113619.2.358.3.3540674098.890.1671109505.331.1034.dcm'\",\n",
              " \"'AnishSalvi/ImageRx/PAD-Net/vRAD_Dataset_temp/9511168/images/\\\\\\\\s53018917-1.2.840.113619.2.358.3.3540674098.890.1671109505.331.1033.dcm'\",\n",
              " \"'AnishSalvi/ImageRx/PAD-Net/vRAD_Dataset_temp/9511168/images/\\\\\\\\s53018917-1.2.840.113619.2.358.3.3540674098.890.1671109505.331.1032.dcm'\",\n",
              " \"'AnishSalvi/ImageRx/PAD-Net/vRAD_Dataset_temp/9511168/images/\\\\\\\\s53018917-1.2.840.113619.2.358.3.3540674098.890.1671109505.331.1031.dcm'\",\n",
              " \"'AnishSalvi/ImageRx/PAD-Net/vRAD_Dataset_temp/9511168/images/\\\\\\\\s53018917-1.2.840.113619.2.358.3.3540674098.890.1671109505.331.1030.dcm'\",\n",
              " \"'AnishSalvi/ImageRx/PAD-Net/vRAD_Dataset_temp/9511168/images/\\\\\\\\s53018917-1.2.840.113619.2.358.3.3540674098.890.1671109505.331.1029.dcm'\",\n",
              " \"'AnishSalvi/ImageRx/PAD-Net/vRAD_Dataset_temp/9511168/images/\\\\\\\\s53018917-1.2.840.113619.2.358.3.3540674098.890.1671109505.331.1028.dcm'\",\n",
              " \"'AnishSalvi/ImageRx/PAD-Net/vRAD_Dataset_temp/9511168/images/\\\\\\\\s53018917-1.2.840.113619.2.358.3.3540674098.890.1671109505.331.1027.dcm'\",\n",
              " \"'AnishSalvi/ImageRx/PAD-Net/vRAD_Dataset_temp/9511168/images/\\\\\\\\s53018917-1.2.840.113619.2.358.3.3540674098.890.1671109505.331.1026.dcm'\",\n",
              " \"'AnishSalvi/ImageRx/PAD-Net/vRAD_Dataset_temp/9511168/images/\\\\\\\\s53018917-1.2.840.113619.2.358.3.3540674098.890.1671109505.331.1025.dcm'\",\n",
              " \"'AnishSalvi/ImageRx/PAD-Net/vRAD_Dataset_temp/9511168/images/\\\\\\\\s53018917-1.2.840.113619.2.358.3.3540674098.890.1671109505.331.1024.dcm'\",\n",
              " \"'AnishSalvi/ImageRx/PAD-Net/vRAD_Dataset_temp/9511168/images/\\\\\\\\s53018917-1.2.840.113619.2.358.3.3540674098.890.1671109505.331.1023.dcm'\",\n",
              " \"'AnishSalvi/ImageRx/PAD-Net/vRAD_Dataset_temp/9511168/images/\\\\\\\\s53018917-1.2.840.113619.2.358.3.3540674098.890.1671109505.331.1022.dcm'\",\n",
              " \"'AnishSalvi/ImageRx/PAD-Net/vRAD_Dataset_temp/9511168/images/\\\\\\\\s53018917-1.2.840.113619.2.358.3.3540674098.890.1671109505.331.1021.dcm'\",\n",
              " \"'AnishSalvi/ImageRx/PAD-Net/vRAD_Dataset_temp/9511168/images/\\\\\\\\s53018917-1.2.840.113619.2.358.3.3540674098.890.1671109505.331.1020.dcm'\",\n",
              " \"'AnishSalvi/ImageRx/PAD-Net/vRAD_Dataset_temp/9511168/images/\\\\\\\\s53018917-1.2.840.113619.2.358.3.3540674098.890.1671109505.331.1019.dcm'\",\n",
              " \"'AnishSalvi/ImageRx/PAD-Net/vRAD_Dataset_temp/9511168/images/\\\\\\\\s53018917-1.2.840.113619.2.358.3.3540674098.890.1671109505.331.1018.dcm'\",\n",
              " \"'AnishSalvi/ImageRx/PAD-Net/vRAD_Dataset_temp/9511168/images/\\\\\\\\s53018917-1.2.840.113619.2.358.3.3540674098.890.1671109505.331.1017.dcm'\",\n",
              " \"'AnishSalvi/ImageRx/PAD-Net/vRAD_Dataset_temp/9511168/images/\\\\\\\\s53018917-1.2.840.113619.2.358.3.3540674098.890.1671109505.331.1016.dcm'\",\n",
              " \"'AnishSalvi/ImageRx/PAD-Net/vRAD_Dataset_temp/9511168/images/\\\\\\\\s53018917-1.2.840.113619.2.358.3.3540674098.890.1671109505.331.1015.dcm'\",\n",
              " \"'AnishSalvi/ImageRx/PAD-Net/vRAD_Dataset_temp/9511168/images/\\\\\\\\s53018917-1.2.840.113619.2.358.3.3540674098.890.1671109505.331.1014.dcm'\",\n",
              " \"'AnishSalvi/ImageRx/PAD-Net/vRAD_Dataset_temp/9511168/images/\\\\\\\\s53018917-1.2.840.113619.2.358.3.3540674098.890.1671109505.331.1013.dcm'\",\n",
              " \"'AnishSalvi/ImageRx/PAD-Net/vRAD_Dataset_temp/9511168/images/\\\\\\\\s53018917-1.2.840.113619.2.358.3.3540674098.890.1671109505.331.1012.dcm'\",\n",
              " \"'AnishSalvi/ImageRx/PAD-Net/vRAD_Dataset_temp/9511168/images/\\\\\\\\s53018917-1.2.840.113619.2.358.3.3540674098.890.1671109505.331.1011.dcm'\",\n",
              " \"'AnishSalvi/ImageRx/PAD-Net/vRAD_Dataset_temp/9511168/images/\\\\\\\\s53018917-1.2.840.113619.2.358.3.3540674098.890.1671109505.331.1010.dcm'\",\n",
              " \"'AnishSalvi/ImageRx/PAD-Net/vRAD_Dataset_temp/9511168/images/\\\\\\\\s53018917-1.2.840.113619.2.358.3.3540674098.890.1671109505.331.1009.dcm'\",\n",
              " \"'AnishSalvi/ImageRx/PAD-Net/vRAD_Dataset_temp/9511168/images/\\\\\\\\s53018917-1.2.840.113619.2.358.3.3540674098.890.1671109505.331.1008.dcm'\",\n",
              " \"'AnishSalvi/ImageRx/PAD-Net/vRAD_Dataset_temp/9511168/images/\\\\\\\\s53018917-1.2.840.113619.2.358.3.3540674098.890.1671109505.331.1007.dcm'\",\n",
              " \"'AnishSalvi/ImageRx/PAD-Net/vRAD_Dataset_temp/9511168/images/\\\\\\\\s53018917-1.2.840.113619.2.358.3.3540674098.890.1671109505.331.1006.dcm'\",\n",
              " \"'AnishSalvi/ImageRx/PAD-Net/vRAD_Dataset_temp/9511168/images/\\\\\\\\s53018917-1.2.840.113619.2.358.3.3540674098.890.1671109505.331.1005.dcm'\",\n",
              " \"'AnishSalvi/ImageRx/PAD-Net/vRAD_Dataset_temp/9511168/images/\\\\\\\\s53018917-1.2.840.113619.2.358.3.3540674098.890.1671109505.331.1004.dcm'\",\n",
              " \"'AnishSalvi/ImageRx/PAD-Net/vRAD_Dataset_temp/9511168/images/\\\\\\\\s53018917-1.2.840.113619.2.358.3.3540674098.890.1671109505.331.1003.dcm'\",\n",
              " \"'AnishSalvi/ImageRx/PAD-Net/vRAD_Dataset_temp/9511168/images/\\\\\\\\s53018917-1.2.840.113619.2.358.3.3540674098.890.1671109505.331.1002.dcm'\",\n",
              " \"'AnishSalvi/ImageRx/PAD-Net/vRAD_Dataset_temp/9511168/images/\\\\\\\\s53018917-1.2.840.113619.2.358.3.3540674098.890.1671109505.331.1001.dcm'\",\n",
              " \"'AnishSalvi/ImageRx/PAD-Net/vRAD_Dataset_temp/9511168/images/\\\\\\\\s53018917-1.2.840.113619.2.358.3.3540674098.890.1671109505.331.1000.dcm'\",\n",
              " \"'AnishSalvi/ImageRx/PAD-Net/vRAD_Dataset_temp/9511168/images/\\\\\\\\s53018917-1.2.840.113619.2.358.3.3540674098.890.1671109505.331.999.dcm'\",\n",
              " \"'AnishSalvi/ImageRx/PAD-Net/vRAD_Dataset_temp/9511168/images/\\\\\\\\s53018917-1.2.840.113619.2.358.3.3540674098.890.1671109505.331.998.dcm'\",\n",
              " \"'AnishSalvi/ImageRx/PAD-Net/vRAD_Dataset_temp/9511168/images/\\\\\\\\s53018917-1.2.840.113619.2.358.3.3540674098.890.1671109505.331.997.dcm'\",\n",
              " \"'AnishSalvi/ImageRx/PAD-Net/vRAD_Dataset_temp/9511168/images/\\\\\\\\s53018917-1.2.840.113619.2.358.3.3540674098.890.1671109505.331.996.dcm'\",\n",
              " \"'AnishSalvi/ImageRx/PAD-Net/vRAD_Dataset_temp/9511168/images/\\\\\\\\s53018917-1.2.840.113619.2.358.3.3540674098.890.1671109505.331.995.dcm'\",\n",
              " \"'AnishSalvi/ImageRx/PAD-Net/vRAD_Dataset_temp/9511168/images/\\\\\\\\s53018917-1.2.840.113619.2.358.3.3540674098.890.1671109505.331.994.dcm'\",\n",
              " \"'AnishSalvi/ImageRx/PAD-Net/vRAD_Dataset_temp/9511168/images/\\\\\\\\s53018917-1.2.840.113619.2.358.3.3540674098.890.1671109505.331.993.dcm'\",\n",
              " \"'AnishSalvi/ImageRx/PAD-Net/vRAD_Dataset_temp/9511168/images/\\\\\\\\s53018917-1.2.840.113619.2.358.3.3540674098.890.1671109505.331.992.dcm'\",\n",
              " \"'AnishSalvi/ImageRx/PAD-Net/vRAD_Dataset_temp/9511168/images/\\\\\\\\s53018917-1.2.840.113619.2.358.3.3540674098.890.1671109505.331.991.dcm'\",\n",
              " \"'AnishSalvi/ImageRx/PAD-Net/vRAD_Dataset_temp/9511168/images/\\\\\\\\s53018917-1.2.840.113619.2.358.3.3540674098.890.1671109505.331.990.dcm'\",\n",
              " \"'AnishSalvi/ImageRx/PAD-Net/vRAD_Dataset_temp/9511168/images/\\\\\\\\s53018917-1.2.840.113619.2.358.3.3540674098.890.1671109505.331.989.dcm'\",\n",
              " \"'AnishSalvi/ImageRx/PAD-Net/vRAD_Dataset_temp/9511168/images/\\\\\\\\s53018917-1.2.840.113619.2.358.3.3540674098.890.1671109505.331.988.dcm'\",\n",
              " \"'AnishSalvi/ImageRx/PAD-Net/vRAD_Dataset_temp/9511168/images/\\\\\\\\s53018917-1.2.840.113619.2.358.3.3540674098.890.1671109505.331.987.dcm'\",\n",
              " \"'AnishSalvi/ImageRx/PAD-Net/vRAD_Dataset_temp/9511168/images/\\\\\\\\s53018917-1.2.840.113619.2.358.3.3540674098.890.1671109505.331.986.dcm'\",\n",
              " \"'AnishSalvi/ImageRx/PAD-Net/vRAD_Dataset_temp/9511168/images/\\\\\\\\s53018917-1.2.840.113619.2.358.3.3540674098.890.1671109505.331.985.dcm'\",\n",
              " \"'AnishSalvi/ImageRx/PAD-Net/vRAD_Dataset_temp/9511168/images/\\\\\\\\s53018917-1.2.840.113619.2.358.3.3540674098.890.1671109505.331.984.dcm'\",\n",
              " \"'AnishSalvi/ImageRx/PAD-Net/vRAD_Dataset_temp/9511168/images/\\\\\\\\s53018917-1.2.840.113619.2.358.3.3540674098.890.1671109505.331.983.dcm'\",\n",
              " \"'AnishSalvi/ImageRx/PAD-Net/vRAD_Dataset_temp/9511168/images/\\\\\\\\s53018917-1.2.840.113619.2.358.3.3540674098.890.1671109505.331.982.dcm'\",\n",
              " \"'AnishSalvi/ImageRx/PAD-Net/vRAD_Dataset_temp/9511168/images/\\\\\\\\s53018917-1.2.840.113619.2.358.3.3540674098.890.1671109505.331.981.dcm'\",\n",
              " \"'AnishSalvi/ImageRx/PAD-Net/vRAD_Dataset_temp/9511168/images/\\\\\\\\s53018917-1.2.840.113619.2.358.3.3540674098.890.1671109505.331.980.dcm'\",\n",
              " \"'AnishSalvi/ImageRx/PAD-Net/vRAD_Dataset_temp/9511168/images/\\\\\\\\s53018917-1.2.840.113619.2.358.3.3540674098.890.1671109505.331.979.dcm'\",\n",
              " \"'AnishSalvi/ImageRx/PAD-Net/vRAD_Dataset_temp/9511168/images/\\\\\\\\s53018917-1.2.840.113619.2.358.3.3540674098.890.1671109505.331.978.dcm'\",\n",
              " \"'AnishSalvi/ImageRx/PAD-Net/vRAD_Dataset_temp/9511168/images/\\\\\\\\s53018917-1.2.840.113619.2.358.3.3540674098.890.1671109505.331.977.dcm'\",\n",
              " \"'AnishSalvi/ImageRx/PAD-Net/vRAD_Dataset_temp/9511168/images/\\\\\\\\s53018917-1.2.840.113619.2.358.3.3540674098.890.1671109505.331.976.dcm'\",\n",
              " \"'AnishSalvi/ImageRx/PAD-Net/vRAD_Dataset_temp/9511168/images/\\\\\\\\s53018917-1.2.840.113619.2.358.3.3540674098.890.1671109505.331.975.dcm'\",\n",
              " \"'AnishSalvi/ImageRx/PAD-Net/vRAD_Dataset_temp/9511168/images/\\\\\\\\s53018917-1.2.840.113619.2.358.3.3540674098.890.1671109505.331.974.dcm'\",\n",
              " \"'AnishSalvi/ImageRx/PAD-Net/vRAD_Dataset_temp/9511168/images/\\\\\\\\s53018917-1.2.840.113619.2.358.3.3540674098.890.1671109505.331.973.dcm'\",\n",
              " \"'AnishSalvi/ImageRx/PAD-Net/vRAD_Dataset_temp/9511168/images/\\\\\\\\s53018917-1.2.840.113619.2.358.3.3540674098.890.1671109505.331.972.dcm'\",\n",
              " \"'AnishSalvi/ImageRx/PAD-Net/vRAD_Dataset_temp/9511168/images/\\\\\\\\s53018917-1.2.840.113619.2.358.3.3540674098.890.1671109505.331.971.dcm'\",\n",
              " \"'AnishSalvi/ImageRx/PAD-Net/vRAD_Dataset_temp/9511168/images/\\\\\\\\s53018917-1.2.840.113619.2.358.3.3540674098.890.1671109505.331.970.dcm'\",\n",
              " \"'AnishSalvi/ImageRx/PAD-Net/vRAD_Dataset_temp/9511168/images/\\\\\\\\s53018917-1.2.840.113619.2.358.3.3540674098.890.1671109505.331.969.dcm'\",\n",
              " \"'AnishSalvi/ImageRx/PAD-Net/vRAD_Dataset_temp/9511168/images/\\\\\\\\s53018917-1.2.840.113619.2.358.3.3540674098.890.1671109505.331.968.dcm'\",\n",
              " \"'AnishSalvi/ImageRx/PAD-Net/vRAD_Dataset_temp/9511168/images/\\\\\\\\s53018917-1.2.840.113619.2.358.3.3540674098.890.1671109505.331.967.dcm'\",\n",
              " \"'AnishSalvi/ImageRx/PAD-Net/vRAD_Dataset_temp/9511168/images/\\\\\\\\s53018917-1.2.840.113619.2.358.3.3540674098.890.1671109505.331.966.dcm'\",\n",
              " \"'AnishSalvi/ImageRx/PAD-Net/vRAD_Dataset_temp/9511168/images/\\\\\\\\s53018917-1.2.840.113619.2.358.3.3540674098.890.1671109505.331.965.dcm'\",\n",
              " \"'AnishSalvi/ImageRx/PAD-Net/vRAD_Dataset_temp/9511168/images/\\\\\\\\s53018917-1.2.840.113619.2.358.3.3540674098.890.1671109505.331.964.dcm'\",\n",
              " \"'AnishSalvi/ImageRx/PAD-Net/vRAD_Dataset_temp/9511168/images/\\\\\\\\s53018917-1.2.840.113619.2.358.3.3540674098.890.1671109505.331.963.dcm'\",\n",
              " \"'AnishSalvi/ImageRx/PAD-Net/vRAD_Dataset_temp/9511168/images/\\\\\\\\s53018917-1.2.840.113619.2.358.3.3540674098.890.1671109505.331.962.dcm'\",\n",
              " \"'AnishSalvi/ImageRx/PAD-Net/vRAD_Dataset_temp/9511168/images/\\\\\\\\s53018917-1.2.840.113619.2.358.3.3540674098.890.1671109505.331.961.dcm'\",\n",
              " \"'AnishSalvi/ImageRx/PAD-Net/vRAD_Dataset_temp/9511168/images/\\\\\\\\s53018917-1.2.840.113619.2.358.3.3540674098.890.1671109505.331.960.dcm'\",\n",
              " \"'AnishSalvi/ImageRx/PAD-Net/vRAD_Dataset_temp/9511168/images/\\\\\\\\s53018917-1.2.840.113619.2.358.3.3540674098.890.1671109505.331.959.dcm'\",\n",
              " \"'AnishSalvi/ImageRx/PAD-Net/vRAD_Dataset_temp/9511168/images/\\\\\\\\s53018917-1.2.840.113619.2.358.3.3540674098.890.1671109505.331.958.dcm'\",\n",
              " \"'AnishSalvi/ImageRx/PAD-Net/vRAD_Dataset_temp/9511168/images/\\\\\\\\s53018917-1.2.840.113619.2.358.3.3540674098.890.1671109505.331.957.dcm'\",\n",
              " \"'AnishSalvi/ImageRx/PAD-Net/vRAD_Dataset_temp/9511168/images/\\\\\\\\s53018917-1.2.840.113619.2.358.3.3540674098.890.1671109505.331.956.dcm'\",\n",
              " \"'AnishSalvi/ImageRx/PAD-Net/vRAD_Dataset_temp/9511168/images/\\\\\\\\s53018917-1.2.840.113619.2.358.3.3540674098.890.1671109505.331.955.dcm'\",\n",
              " \"'AnishSalvi/ImageRx/PAD-Net/vRAD_Dataset_temp/9511168/images/\\\\\\\\s53018917-1.2.840.113619.2.358.3.3540674098.890.1671109505.331.954.dcm'\",\n",
              " \"'AnishSalvi/ImageRx/PAD-Net/vRAD_Dataset_temp/9511168/images/\\\\\\\\s53018917-1.2.840.113619.2.358.3.3540674098.890.1671109505.331.953.dcm'\",\n",
              " \"'AnishSalvi/ImageRx/PAD-Net/vRAD_Dataset_temp/9511168/images/\\\\\\\\s53018917-1.2.840.113619.2.358.3.3540674098.890.1671109505.331.952.dcm'\",\n",
              " \"'AnishSalvi/ImageRx/PAD-Net/vRAD_Dataset_temp/9511168/images/\\\\\\\\s53018917-1.2.840.113619.2.358.3.3540674098.890.1671109505.331.951.dcm'\",\n",
              " \"'AnishSalvi/ImageRx/PAD-Net/vRAD_Dataset_temp/9511168/images/\\\\\\\\s53018917-1.2.840.113619.2.358.3.3540674098.890.1671109505.331.950.dcm'\",\n",
              " \"'AnishSalvi/ImageRx/PAD-Net/vRAD_Dataset_temp/9511168/images/\\\\\\\\s53018917-1.2.840.113619.2.358.3.3540674098.890.1671109505.331.949.dcm'\",\n",
              " \"'AnishSalvi/ImageRx/PAD-Net/vRAD_Dataset_temp/9511168/images/\\\\\\\\s53018917-1.2.840.113619.2.358.3.3540674098.890.1671109505.331.948.dcm'\",\n",
              " \"'AnishSalvi/ImageRx/PAD-Net/vRAD_Dataset_temp/9511168/images/\\\\\\\\s53018917-1.2.840.113619.2.358.3.3540674098.890.1671109505.331.947.dcm'\",\n",
              " \"'AnishSalvi/ImageRx/PAD-Net/vRAD_Dataset_temp/9511168/images/\\\\\\\\s53018917-1.2.840.113619.2.358.3.3540674098.890.1671109505.331.946.dcm'\",\n",
              " \"'AnishSalvi/ImageRx/PAD-Net/vRAD_Dataset_temp/9511168/images/\\\\\\\\s53018917-1.2.840.113619.2.358.3.3540674098.890.1671109505.331.945.dcm'\",\n",
              " \"'AnishSalvi/ImageRx/PAD-Net/vRAD_Dataset_temp/9511168/images/\\\\\\\\s53018917-1.2.840.113619.2.358.3.3540674098.890.1671109505.331.944.dcm'\",\n",
              " \"'AnishSalvi/ImageRx/PAD-Net/vRAD_Dataset_temp/9511168/images/\\\\\\\\s53018917-1.2.840.113619.2.358.3.3540674098.890.1671109505.331.943.dcm'\",\n",
              " \"'AnishSalvi/ImageRx/PAD-Net/vRAD_Dataset_temp/9511168/images/\\\\\\\\s53018917-1.2.840.113619.2.358.3.3540674098.890.1671109505.331.942.dcm'\",\n",
              " \"'AnishSalvi/ImageRx/PAD-Net/vRAD_Dataset_temp/9511168/images/\\\\\\\\s53018917-1.2.840.113619.2.358.3.3540674098.890.1671109505.331.941.dcm'\",\n",
              " \"'AnishSalvi/ImageRx/PAD-Net/vRAD_Dataset_temp/9511168/images/\\\\\\\\s53018917-1.2.840.113619.2.358.3.3540674098.890.1671109505.331.940.dcm'\",\n",
              " \"'AnishSalvi/ImageRx/PAD-Net/vRAD_Dataset_temp/9511168/images/\\\\\\\\s53018917-1.2.840.113619.2.358.3.3540674098.890.1671109505.331.939.dcm'\",\n",
              " \"'AnishSalvi/ImageRx/PAD-Net/vRAD_Dataset_temp/9511168/images/\\\\\\\\s53018917-1.2.840.113619.2.358.3.3540674098.890.1671109505.331.938.dcm'\",\n",
              " \"'AnishSalvi/ImageRx/PAD-Net/vRAD_Dataset_temp/9511168/images/\\\\\\\\s53018917-1.2.840.113619.2.358.3.3540674098.890.1671109505.331.937.dcm'\",\n",
              " \"'AnishSalvi/ImageRx/PAD-Net/vRAD_Dataset_temp/9511168/images/\\\\\\\\s53018917-1.2.840.113619.2.358.3.3540674098.890.1671109505.331.936.dcm'\",\n",
              " \"'AnishSalvi/ImageRx/PAD-Net/vRAD_Dataset_temp/9511168/images/\\\\\\\\s53018917-1.2.840.113619.2.358.3.3540674098.890.1671109505.331.935.dcm'\",\n",
              " \"'AnishSalvi/ImageRx/PAD-Net/vRAD_Dataset_temp/9511168/images/\\\\\\\\s53018917-1.2.840.113619.2.358.3.3540674098.890.1671109505.331.934.dcm'\",\n",
              " \"'AnishSalvi/ImageRx/PAD-Net/vRAD_Dataset_temp/9511168/images/\\\\\\\\s53018917-1.2.840.113619.2.358.3.3540674098.890.1671109505.331.933.dcm'\",\n",
              " \"'AnishSalvi/ImageRx/PAD-Net/vRAD_Dataset_temp/9511168/images/\\\\\\\\s53018917-1.2.840.113619.2.358.3.3540674098.890.1671109505.331.932.dcm'\",\n",
              " \"'AnishSalvi/ImageRx/PAD-Net/vRAD_Dataset_temp/9511168/images/\\\\\\\\s53018917-1.2.840.113619.2.358.3.3540674098.890.1671109505.331.931.dcm'\",\n",
              " \"'AnishSalvi/ImageRx/PAD-Net/vRAD_Dataset_temp/9511168/images/\\\\\\\\s53018917-1.2.840.113619.2.358.3.3540674098.890.1671109505.331.930.dcm'\",\n",
              " \"'AnishSalvi/ImageRx/PAD-Net/vRAD_Dataset_temp/9511168/images/\\\\\\\\s53018917-1.2.840.113619.2.358.3.3540674098.890.1671109505.331.929.dcm'\",\n",
              " \"'AnishSalvi/ImageRx/PAD-Net/vRAD_Dataset_temp/9511168/images/\\\\\\\\s53018917-1.2.840.113619.2.358.3.3540674098.890.1671109505.331.928.dcm'\",\n",
              " \"'AnishSalvi/ImageRx/PAD-Net/vRAD_Dataset_temp/9511168/images/\\\\\\\\s53018917-1.2.840.113619.2.358.3.3540674098.890.1671109505.331.927.dcm'\",\n",
              " \"'AnishSalvi/ImageRx/PAD-Net/vRAD_Dataset_temp/9511168/images/\\\\\\\\s53018917-1.2.840.113619.2.358.3.3540674098.890.1671109505.331.926.dcm'\",\n",
              " \"'AnishSalvi/ImageRx/PAD-Net/vRAD_Dataset_temp/9511168/images/\\\\\\\\s53018917-1.2.840.113619.2.358.3.3540674098.890.1671109505.331.925.dcm'\",\n",
              " \"'AnishSalvi/ImageRx/PAD-Net/vRAD_Dataset_temp/9511168/images/\\\\\\\\s53018917-1.2.840.113619.2.358.3.3540674098.890.1671109505.331.924.dcm'\",\n",
              " \"'AnishSalvi/ImageRx/PAD-Net/vRAD_Dataset_temp/9511168/images/\\\\\\\\s53018917-1.2.840.113619.2.358.3.3540674098.890.1671109505.331.923.dcm'\",\n",
              " \"'AnishSalvi/ImageRx/PAD-Net/vRAD_Dataset_temp/9511168/images/\\\\\\\\s53018917-1.2.840.113619.2.358.3.3540674098.890.1671109505.331.922.dcm'\",\n",
              " \"'AnishSalvi/ImageRx/PAD-Net/vRAD_Dataset_temp/9511168/images/\\\\\\\\s53018917-1.2.840.113619.2.358.3.3540674098.890.1671109505.331.921.dcm'\",\n",
              " \"'AnishSalvi/ImageRx/PAD-Net/vRAD_Dataset_temp/9511168/images/\\\\\\\\s53018917-1.2.840.113619.2.358.3.3540674098.890.1671109505.331.920.dcm'\",\n",
              " \"'AnishSalvi/ImageRx/PAD-Net/vRAD_Dataset_temp/9511168/images/\\\\\\\\s53018917-1.2.840.113619.2.358.3.3540674098.890.1671109505.331.919.dcm'\",\n",
              " \"'AnishSalvi/ImageRx/PAD-Net/vRAD_Dataset_temp/9511168/images/\\\\\\\\s53018917-1.2.840.113619.2.358.3.3540674098.890.1671109505.331.918.dcm'\",\n",
              " \"'AnishSalvi/ImageRx/PAD-Net/vRAD_Dataset_temp/9511168/images/\\\\\\\\s53018917-1.2.840.113619.2.358.3.3540674098.890.1671109505.331.917.dcm'\",\n",
              " \"'AnishSalvi/ImageRx/PAD-Net/vRAD_Dataset_temp/9511168/images/\\\\\\\\s53018917-1.2.840.113619.2.358.3.3540674098.890.1671109505.331.916.dcm'\",\n",
              " \"'AnishSalvi/ImageRx/PAD-Net/vRAD_Dataset_temp/9511168/images/\\\\\\\\s53018917-1.2.840.113619.2.358.3.3540674098.890.1671109505.331.915.dcm'\",\n",
              " \"'AnishSalvi/ImageRx/PAD-Net/vRAD_Dataset_temp/9511168/images/\\\\\\\\s53018917-1.2.840.113619.2.358.3.3540674098.890.1671109505.331.914.dcm'\",\n",
              " \"'AnishSalvi/ImageRx/PAD-Net/vRAD_Dataset_temp/9511168/images/\\\\\\\\s53018917-1.2.840.113619.2.358.3.3540674098.890.1671109505.331.913.dcm'\",\n",
              " \"'AnishSalvi/ImageRx/PAD-Net/vRAD_Dataset_temp/9511168/images/\\\\\\\\s53018917-1.2.840.113619.2.358.3.3540674098.890.1671109505.331.912.dcm'\",\n",
              " \"'AnishSalvi/ImageRx/PAD-Net/vRAD_Dataset_temp/9511168/images/\\\\\\\\s53018917-1.2.840.113619.2.358.3.3540674098.890.1671109505.331.911.dcm'\",\n",
              " \"'AnishSalvi/ImageRx/PAD-Net/vRAD_Dataset_temp/9511168/images/\\\\\\\\s53018917-1.2.840.113619.2.358.3.3540674098.890.1671109505.331.910.dcm'\",\n",
              " \"'AnishSalvi/ImageRx/PAD-Net/vRAD_Dataset_temp/9511168/images/\\\\\\\\s53018917-1.2.840.113619.2.358.3.3540674098.890.1671109505.331.909.dcm'\",\n",
              " \"'AnishSalvi/ImageRx/PAD-Net/vRAD_Dataset_temp/9511168/images/\\\\\\\\s53018917-1.2.840.113619.2.358.3.3540674098.890.1671109505.331.908.dcm'\",\n",
              " \"'AnishSalvi/ImageRx/PAD-Net/vRAD_Dataset_temp/9511168/images/\\\\\\\\s53018917-1.2.840.113619.2.358.3.3540674098.890.1671109505.331.907.dcm'\",\n",
              " \"'AnishSalvi/ImageRx/PAD-Net/vRAD_Dataset_temp/9511168/images/\\\\\\\\s53018917-1.2.840.113619.2.358.3.3540674098.890.1671109505.331.906.dcm'\",\n",
              " \"'AnishSalvi/ImageRx/PAD-Net/vRAD_Dataset_temp/9511168/images/\\\\\\\\s53018917-1.2.840.113619.2.358.3.3540674098.890.1671109505.331.905.dcm'\",\n",
              " \"'AnishSalvi/ImageRx/PAD-Net/vRAD_Dataset_temp/9511168/images/\\\\\\\\s53018917-1.2.840.113619.2.358.3.3540674098.890.1671109505.331.904.dcm'\",\n",
              " \"'AnishSalvi/ImageRx/PAD-Net/vRAD_Dataset_temp/9511168/images/\\\\\\\\s53018917-1.2.840.113619.2.358.3.3540674098.890.1671109505.331.903.dcm'\",\n",
              " \"'AnishSalvi/ImageRx/PAD-Net/vRAD_Dataset_temp/9511168/images/\\\\\\\\s53018917-1.2.840.113619.2.358.3.3540674098.890.1671109505.331.902.dcm'\",\n",
              " \"'AnishSalvi/ImageRx/PAD-Net/vRAD_Dataset_temp/9511168/images/\\\\\\\\s53018917-1.2.840.113619.2.358.3.3540674098.890.1671109505.331.901.dcm'\",\n",
              " \"'AnishSalvi/ImageRx/PAD-Net/vRAD_Dataset_temp/9511168/images/\\\\\\\\s53018917-1.2.840.113619.2.358.3.3540674098.890.1671109505.331.900.dcm'\",\n",
              " \"'AnishSalvi/ImageRx/PAD-Net/vRAD_Dataset_temp/9511168/images/\\\\\\\\s53018917-1.2.840.113619.2.358.3.3540674098.890.1671109505.331.899.dcm'\",\n",
              " \"'AnishSalvi/ImageRx/PAD-Net/vRAD_Dataset_temp/9511168/images/\\\\\\\\s53018917-1.2.840.113619.2.358.3.3540674098.890.1671109505.331.898.dcm'\",\n",
              " \"'AnishSalvi/ImageRx/PAD-Net/vRAD_Dataset_temp/9511168/images/\\\\\\\\s53018917-1.2.840.113619.2.358.3.3540674098.890.1671109505.331.897.dcm'\",\n",
              " \"'AnishSalvi/ImageRx/PAD-Net/vRAD_Dataset_temp/9511168/images/\\\\\\\\s53018917-1.2.840.113619.2.358.3.3540674098.890.1671109505.331.896.dcm'\",\n",
              " \"'AnishSalvi/ImageRx/PAD-Net/vRAD_Dataset_temp/9511168/images/\\\\\\\\s53018917-1.2.840.113619.2.358.3.3540674098.890.1671109505.331.895.dcm'\",\n",
              " \"'AnishSalvi/ImageRx/PAD-Net/vRAD_Dataset_temp/9511168/images/\\\\\\\\s53018917-1.2.840.113619.2.358.3.3540674098.890.1671109505.331.894.dcm'\",\n",
              " \"'AnishSalvi/ImageRx/PAD-Net/vRAD_Dataset_temp/9511168/images/\\\\\\\\s53018917-1.2.840.113619.2.358.3.3540674098.890.1671109505.331.893.dcm'\",\n",
              " \"'AnishSalvi/ImageRx/PAD-Net/vRAD_Dataset_temp/9511168/images/\\\\\\\\s53018917-1.2.840.113619.2.358.3.3540674098.890.1671109505.331.892.dcm'\",\n",
              " \"'AnishSalvi/ImageRx/PAD-Net/vRAD_Dataset_temp/9511168/images/\\\\\\\\s53018917-1.2.840.113619.2.358.3.3540674098.890.1671109505.331.891.dcm'\",\n",
              " \"'AnishSalvi/ImageRx/PAD-Net/vRAD_Dataset_temp/9511168/images/\\\\\\\\s53018917-1.2.840.113619.2.358.3.3540674098.890.1671109505.331.890.dcm'\",\n",
              " \"'AnishSalvi/ImageRx/PAD-Net/vRAD_Dataset_temp/9511168/images/\\\\\\\\s53018917-1.2.840.113619.2.358.3.3540674098.890.1671109505.331.889.dcm'\",\n",
              " \"'AnishSalvi/ImageRx/PAD-Net/vRAD_Dataset_temp/9511168/images/\\\\\\\\s53018917-1.2.840.113619.2.358.3.3540674098.890.1671109505.331.888.dcm'\",\n",
              " \"'AnishSalvi/ImageRx/PAD-Net/vRAD_Dataset_temp/9511168/images/\\\\\\\\s53018917-1.2.840.113619.2.358.3.3540674098.890.1671109505.331.887.dcm'\",\n",
              " \"'AnishSalvi/ImageRx/PAD-Net/vRAD_Dataset_temp/9511168/images/\\\\\\\\s53018917-1.2.840.113619.2.358.3.3540674098.890.1671109505.331.886.dcm'\",\n",
              " \"'AnishSalvi/ImageRx/PAD-Net/vRAD_Dataset_temp/9511168/images/\\\\\\\\s53018917-1.2.840.113619.2.358.3.3540674098.890.1671109505.331.885.dcm'\",\n",
              " \"'AnishSalvi/ImageRx/PAD-Net/vRAD_Dataset_temp/9511168/images/\\\\\\\\s53018917-1.2.840.113619.2.358.3.3540674098.890.1671109505.331.884.dcm'\",\n",
              " \"'AnishSalvi/ImageRx/PAD-Net/vRAD_Dataset_temp/9511168/images/\\\\\\\\s53018917-1.2.840.113619.2.358.3.3540674098.890.1671109505.331.883.dcm'\",\n",
              " \"'AnishSalvi/ImageRx/PAD-Net/vRAD_Dataset_temp/9511168/images/\\\\\\\\s53018917-1.2.840.113619.2.358.3.3540674098.890.1671109505.331.882.dcm'\",\n",
              " \"'AnishSalvi/ImageRx/PAD-Net/vRAD_Dataset_temp/9511168/images/\\\\\\\\s53018917-1.2.840.113619.2.358.3.3540674098.890.1671109505.331.881.dcm'\",\n",
              " \"'AnishSalvi/ImageRx/PAD-Net/vRAD_Dataset_temp/9511168/images/\\\\\\\\s53018917-1.2.840.113619.2.358.3.3540674098.890.1671109505.331.880.dcm'\",\n",
              " \"'AnishSalvi/ImageRx/PAD-Net/vRAD_Dataset_temp/9511168/images/\\\\\\\\s53018917-1.2.840.113619.2.358.3.3540674098.890.1671109505.331.879.dcm'\",\n",
              " \"'AnishSalvi/ImageRx/PAD-Net/vRAD_Dataset_temp/9511168/images/\\\\\\\\s53018917-1.2.840.113619.2.358.3.3540674098.890.1671109505.331.878.dcm'\",\n",
              " \"'AnishSalvi/ImageRx/PAD-Net/vRAD_Dataset_temp/9511168/images/\\\\\\\\s53018917-1.2.840.113619.2.358.3.3540674098.890.1671109505.331.877.dcm'\",\n",
              " \"'AnishSalvi/ImageRx/PAD-Net/vRAD_Dataset_temp/9511168/images/\\\\\\\\s53018917-1.2.840.113619.2.358.3.3540674098.890.1671109505.331.876.dcm'\",\n",
              " \"'AnishSalvi/ImageRx/PAD-Net/vRAD_Dataset_temp/9511168/images/\\\\\\\\s53018917-1.2.840.113619.2.358.3.3540674098.890.1671109505.331.875.dcm'\",\n",
              " \"'AnishSalvi/ImageRx/PAD-Net/vRAD_Dataset_temp/9511168/images/\\\\\\\\s53018917-1.2.840.113619.2.358.3.3540674098.890.1671109505.331.874.dcm'\",\n",
              " \"'AnishSalvi/ImageRx/PAD-Net/vRAD_Dataset_temp/9511168/images/\\\\\\\\s53018917-1.2.840.113619.2.358.3.3540674098.890.1671109505.331.873.dcm'\",\n",
              " \"'AnishSalvi/ImageRx/PAD-Net/vRAD_Dataset_temp/9511168/images/\\\\\\\\s53018917-1.2.840.113619.2.358.3.3540674098.890.1671109505.331.872.dcm'\",\n",
              " \"'AnishSalvi/ImageRx/PAD-Net/vRAD_Dataset_temp/9511168/images/\\\\\\\\s53018917-1.2.840.113619.2.358.3.3540674098.890.1671109505.331.871.dcm'\",\n",
              " \"'AnishSalvi/ImageRx/PAD-Net/vRAD_Dataset_temp/9511168/images/\\\\\\\\s53018917-1.2.840.113619.2.358.3.3540674098.890.1671109505.331.870.dcm'\",\n",
              " \"'AnishSalvi/ImageRx/PAD-Net/vRAD_Dataset_temp/9511168/images/\\\\\\\\s53018917-1.2.840.113619.2.358.3.3540674098.890.1671109505.331.869.dcm'\",\n",
              " \"'AnishSalvi/ImageRx/PAD-Net/vRAD_Dataset_temp/9511168/images/\\\\\\\\s53018917-1.2.840.113619.2.358.3.3540674098.890.1671109505.331.868.dcm'\",\n",
              " \"'AnishSalvi/ImageRx/PAD-Net/vRAD_Dataset_temp/9511168/images/\\\\\\\\s53018917-1.2.840.113619.2.358.3.3540674098.890.1671109505.331.867.dcm'\",\n",
              " \"'AnishSalvi/ImageRx/PAD-Net/vRAD_Dataset_temp/9511168/images/\\\\\\\\s53018917-1.2.840.113619.2.358.3.3540674098.890.1671109505.331.866.dcm'\",\n",
              " \"'AnishSalvi/ImageRx/PAD-Net/vRAD_Dataset_temp/9511168/images/\\\\\\\\s53018917-1.2.840.113619.2.358.3.3540674098.890.1671109505.331.865.dcm'\",\n",
              " \"'AnishSalvi/ImageRx/PAD-Net/vRAD_Dataset_temp/9511168/images/\\\\\\\\s53018917-1.2.840.113619.2.358.3.3540674098.890.1671109505.331.864.dcm'\",\n",
              " \"'AnishSalvi/ImageRx/PAD-Net/vRAD_Dataset_temp/9511168/images/\\\\\\\\s53018917-1.2.840.113619.2.358.3.3540674098.890.1671109505.331.863.dcm'\",\n",
              " \"'AnishSalvi/ImageRx/PAD-Net/vRAD_Dataset_temp/9511168/images/\\\\\\\\s53018917-1.2.840.113619.2.358.3.3540674098.890.1671109505.331.862.dcm'\",\n",
              " \"'AnishSalvi/ImageRx/PAD-Net/vRAD_Dataset_temp/9511168/images/\\\\\\\\s53018917-1.2.840.113619.2.358.3.3540674098.890.1671109505.331.861.dcm'\",\n",
              " \"'AnishSalvi/ImageRx/PAD-Net/vRAD_Dataset_temp/9511168/images/\\\\\\\\s53018917-1.2.840.113619.2.358.3.3540674098.890.1671109505.331.860.dcm'\",\n",
              " \"'AnishSalvi/ImageRx/PAD-Net/vRAD_Dataset_temp/9511168/images/\\\\\\\\s53018917-1.2.840.113619.2.358.3.3540674098.890.1671109505.331.859.dcm'\",\n",
              " \"'AnishSalvi/ImageRx/PAD-Net/vRAD_Dataset_temp/9511168/images/\\\\\\\\s53018917-1.2.840.113619.2.358.3.3540674098.890.1671109505.331.858.dcm'\",\n",
              " \"'AnishSalvi/ImageRx/PAD-Net/vRAD_Dataset_temp/9511168/images/\\\\\\\\s53018917-1.2.840.113619.2.358.3.3540674098.890.1671109505.331.857.dcm'\",\n",
              " \"'AnishSalvi/ImageRx/PAD-Net/vRAD_Dataset_temp/9511168/images/\\\\\\\\s53018917-1.2.840.113619.2.358.3.3540674098.890.1671109505.331.856.dcm'\",\n",
              " \"'AnishSalvi/ImageRx/PAD-Net/vRAD_Dataset_temp/9511168/images/\\\\\\\\s53018917-1.2.840.113619.2.358.3.3540674098.890.1671109505.331.855.dcm'\",\n",
              " \"'AnishSalvi/ImageRx/PAD-Net/vRAD_Dataset_temp/9511168/images/\\\\\\\\s53018917-1.2.840.113619.2.358.3.3540674098.890.1671109505.331.854.dcm'\",\n",
              " \"'AnishSalvi/ImageRx/PAD-Net/vRAD_Dataset_temp/9511168/images/\\\\\\\\s53018917-1.2.840.113619.2.358.3.3540674098.890.1671109505.331.853.dcm'\",\n",
              " \"'AnishSalvi/ImageRx/PAD-Net/vRAD_Dataset_temp/9511168/images/\\\\\\\\s53018917-1.2.840.113619.2.358.3.3540674098.890.1671109505.331.852.dcm'\",\n",
              " \"'AnishSalvi/ImageRx/PAD-Net/vRAD_Dataset_temp/9511168/images/\\\\\\\\s53018917-1.2.840.113619.2.358.3.3540674098.890.1671109505.331.851.dcm'\",\n",
              " \"'AnishSalvi/ImageRx/PAD-Net/vRAD_Dataset_temp/9511168/images/\\\\\\\\s53018917-1.2.840.113619.2.358.3.3540674098.890.1671109505.331.850.dcm'\",\n",
              " \"'AnishSalvi/ImageRx/PAD-Net/vRAD_Dataset_temp/9511168/images/\\\\\\\\s53018917-1.2.840.113619.2.358.3.3540674098.890.1671109505.331.849.dcm'\",\n",
              " \"'AnishSalvi/ImageRx/PAD-Net/vRAD_Dataset_temp/9511168/images/\\\\\\\\s53018917-1.2.840.113619.2.358.3.3540674098.890.1671109505.331.848.dcm'\",\n",
              " \"'AnishSalvi/ImageRx/PAD-Net/vRAD_Dataset_temp/9511168/images/\\\\\\\\s53018917-1.2.840.113619.2.358.3.3540674098.890.1671109505.331.847.dcm'\",\n",
              " \"'AnishSalvi/ImageRx/PAD-Net/vRAD_Dataset_temp/9511168/images/\\\\\\\\s53018917-1.2.840.113619.2.358.3.3540674098.890.1671109505.331.846.dcm'\",\n",
              " \"'AnishSalvi/ImageRx/PAD-Net/vRAD_Dataset_temp/9511168/images/\\\\\\\\s53018917-1.2.840.113619.2.358.3.3540674098.890.1671109505.331.845.dcm'\",\n",
              " \"'AnishSalvi/ImageRx/PAD-Net/vRAD_Dataset_temp/9511168/images/\\\\\\\\s53018917-1.2.840.113619.2.358.3.3540674098.890.1671109505.331.844.dcm'\",\n",
              " \"'AnishSalvi/ImageRx/PAD-Net/vRAD_Dataset_temp/9511168/images/\\\\\\\\s53018917-1.2.840.113619.2.358.3.3540674098.890.1671109505.331.843.dcm'\",\n",
              " \"'AnishSalvi/ImageRx/PAD-Net/vRAD_Dataset_temp/9511168/images/\\\\\\\\s53018917-1.2.840.113619.2.358.3.3540674098.890.1671109505.331.842.dcm'\",\n",
              " \"'AnishSalvi/ImageRx/PAD-Net/vRAD_Dataset_temp/9511168/images/\\\\\\\\s53018917-1.2.840.113619.2.358.3.3540674098.890.1671109505.331.841.dcm'\",\n",
              " \"'AnishSalvi/ImageRx/PAD-Net/vRAD_Dataset_temp/9511168/images/\\\\\\\\s53018917-1.2.840.113619.2.358.3.3540674098.890.1671109505.331.840.dcm'\",\n",
              " \"'AnishSalvi/ImageRx/PAD-Net/vRAD_Dataset_temp/9511168/images/\\\\\\\\s53018917-1.2.840.113619.2.358.3.3540674098.890.1671109505.331.839.dcm'\",\n",
              " \"'AnishSalvi/ImageRx/PAD-Net/vRAD_Dataset_temp/9511168/images/\\\\\\\\s53018917-1.2.840.113619.2.358.3.3540674098.890.1671109505.331.838.dcm'\",\n",
              " \"'AnishSalvi/ImageRx/PAD-Net/vRAD_Dataset_temp/9511168/images/\\\\\\\\s53018917-1.2.840.113619.2.358.3.3540674098.890.1671109505.331.837.dcm'\",\n",
              " \"'AnishSalvi/ImageRx/PAD-Net/vRAD_Dataset_temp/9511168/images/\\\\\\\\s53018917-1.2.840.113619.2.358.3.3540674098.890.1671109505.331.836.dcm'\",\n",
              " \"'AnishSalvi/ImageRx/PAD-Net/vRAD_Dataset_temp/9511168/images/\\\\\\\\s53018917-1.2.840.113619.2.358.3.3540674098.890.1671109505.331.835.dcm'\",\n",
              " \"'AnishSalvi/ImageRx/PAD-Net/vRAD_Dataset_temp/9511168/images/\\\\\\\\s53018917-1.2.840.113619.2.358.3.3540674098.890.1671109505.331.834.dcm'\",\n",
              " \"'AnishSalvi/ImageRx/PAD-Net/vRAD_Dataset_temp/9511168/images/\\\\\\\\s53018917-1.2.840.113619.2.358.3.3540674098.890.1671109505.331.833.dcm'\",\n",
              " \"'AnishSalvi/ImageRx/PAD-Net/vRAD_Dataset_temp/9511168/images/\\\\\\\\s53018917-1.2.840.113619.2.358.3.3540674098.890.1671109505.331.832.dcm'\",\n",
              " \"'AnishSalvi/ImageRx/PAD-Net/vRAD_Dataset_temp/9511168/images/\\\\\\\\s53018917-1.2.840.113619.2.358.3.3540674098.890.1671109505.331.831.dcm'\",\n",
              " \"'AnishSalvi/ImageRx/PAD-Net/vRAD_Dataset_temp/9511168/images/\\\\\\\\s53018917-1.2.840.113619.2.358.3.3540674098.890.1671109505.331.830.dcm'\",\n",
              " \"'AnishSalvi/ImageRx/PAD-Net/vRAD_Dataset_temp/9511168/images/\\\\\\\\s53018917-1.2.840.113619.2.358.3.3540674098.890.1671109505.331.829.dcm'\",\n",
              " \"'AnishSalvi/ImageRx/PAD-Net/vRAD_Dataset_temp/9511168/images/\\\\\\\\s53018917-1.2.840.113619.2.358.3.3540674098.890.1671109505.331.828.dcm'\",\n",
              " \"'AnishSalvi/ImageRx/PAD-Net/vRAD_Dataset_temp/9511168/images/\\\\\\\\s53018917-1.2.840.113619.2.358.3.3540674098.890.1671109505.331.827.dcm'\",\n",
              " \"'AnishSalvi/ImageRx/PAD-Net/vRAD_Dataset_temp/9511168/images/\\\\\\\\s53018917-1.2.840.113619.2.358.3.3540674098.890.1671109505.331.826.dcm'\",\n",
              " \"'AnishSalvi/ImageRx/PAD-Net/vRAD_Dataset_temp/9511168/images/\\\\\\\\s53018917-1.2.840.113619.2.358.3.3540674098.890.1671109505.331.825.dcm'\",\n",
              " \"'AnishSalvi/ImageRx/PAD-Net/vRAD_Dataset_temp/9511168/images/\\\\\\\\s53018917-1.2.840.113619.2.358.3.3540674098.890.1671109505.331.824.dcm'\",\n",
              " \"'AnishSalvi/ImageRx/PAD-Net/vRAD_Dataset_temp/9511168/images/\\\\\\\\s53018917-1.2.840.113619.2.358.3.3540674098.890.1671109505.331.823.dcm'\",\n",
              " \"'AnishSalvi/ImageRx/PAD-Net/vRAD_Dataset_temp/9511168/images/\\\\\\\\s53018917-1.2.840.113619.2.358.3.3540674098.890.1671109505.331.822.dcm'\",\n",
              " \"'AnishSalvi/ImageRx/PAD-Net/vRAD_Dataset_temp/9511168/images/\\\\\\\\s53018917-1.2.840.113619.2.358.3.3540674098.890.1671109505.331.821.dcm'\",\n",
              " \"'AnishSalvi/ImageRx/PAD-Net/vRAD_Dataset_temp/9511168/images/\\\\\\\\s53018917-1.2.840.113619.2.358.3.3540674098.890.1671109505.331.820.dcm'\",\n",
              " \"'AnishSalvi/ImageRx/PAD-Net/vRAD_Dataset_temp/9511168/images/\\\\\\\\s53018917-1.2.840.113619.2.358.3.3540674098.890.1671109505.331.819.dcm'\",\n",
              " \"'AnishSalvi/ImageRx/PAD-Net/vRAD_Dataset_temp/9511168/images/\\\\\\\\s53018917-1.2.840.113619.2.358.3.3540674098.890.1671109505.331.818.dcm'\",\n",
              " \"'AnishSalvi/ImageRx/PAD-Net/vRAD_Dataset_temp/9511168/images/\\\\\\\\s53018917-1.2.840.113619.2.358.3.3540674098.890.1671109505.331.817.dcm'\",\n",
              " \"'AnishSalvi/ImageRx/PAD-Net/vRAD_Dataset_temp/9511168/images/\\\\\\\\s53018917-1.2.840.113619.2.358.3.3540674098.890.1671109505.331.816.dcm'\",\n",
              " \"'AnishSalvi/ImageRx/PAD-Net/vRAD_Dataset_temp/9511168/images/\\\\\\\\s53018917-1.2.840.113619.2.358.3.3540674098.890.1671109505.331.815.dcm'\",\n",
              " \"'AnishSalvi/ImageRx/PAD-Net/vRAD_Dataset_temp/9511168/images/\\\\\\\\s53018917-1.2.840.113619.2.358.3.3540674098.890.1671109505.331.814.dcm'\",\n",
              " \"'AnishSalvi/ImageRx/PAD-Net/vRAD_Dataset_temp/9511168/images/\\\\\\\\s53018917-1.2.840.113619.2.358.3.3540674098.890.1671109505.331.813.dcm'\",\n",
              " \"'AnishSalvi/ImageRx/PAD-Net/vRAD_Dataset_temp/9511168/images/\\\\\\\\s53018917-1.2.840.113619.2.358.3.3540674098.890.1671109505.331.812.dcm'\",\n",
              " \"'AnishSalvi/ImageRx/PAD-Net/vRAD_Dataset_temp/9511168/images/\\\\\\\\s53018917-1.2.840.113619.2.358.3.3540674098.890.1671109505.331.811.dcm'\",\n",
              " \"'AnishSalvi/ImageRx/PAD-Net/vRAD_Dataset_temp/9511168/images/\\\\\\\\s53018917-1.2.840.113619.2.358.3.3540674098.890.1671109505.331.810.dcm'\",\n",
              " \"'AnishSalvi/ImageRx/PAD-Net/vRAD_Dataset_temp/9511168/images/\\\\\\\\s53018917-1.2.840.113619.2.358.3.3540674098.890.1671109505.331.809.dcm'\",\n",
              " \"'AnishSalvi/ImageRx/PAD-Net/vRAD_Dataset_temp/9511168/images/\\\\\\\\s53018917-1.2.840.113619.2.358.3.3540674098.890.1671109505.331.808.dcm'\",\n",
              " \"'AnishSalvi/ImageRx/PAD-Net/vRAD_Dataset_temp/9511168/images/\\\\\\\\s53018917-1.2.840.113619.2.358.3.3540674098.890.1671109505.331.807.dcm'\",\n",
              " \"'AnishSalvi/ImageRx/PAD-Net/vRAD_Dataset_temp/9511168/images/\\\\\\\\s53018917-1.2.840.113619.2.358.3.3540674098.890.1671109505.331.806.dcm'\",\n",
              " \"'AnishSalvi/ImageRx/PAD-Net/vRAD_Dataset_temp/9511168/images/\\\\\\\\s53018917-1.2.840.113619.2.358.3.3540674098.890.1671109505.331.805.dcm'\",\n",
              " \"'AnishSalvi/ImageRx/PAD-Net/vRAD_Dataset_temp/9511168/images/\\\\\\\\s53018917-1.2.840.113619.2.358.3.3540674098.890.1671109505.331.804.dcm'\",\n",
              " \"'AnishSalvi/ImageRx/PAD-Net/vRAD_Dataset_temp/9511168/images/\\\\\\\\s53018917-1.2.840.1\"]"
            ]
          },
          "metadata": {},
          "execution_count": 180
        }
      ]
    },
    {
      "cell_type": "code",
      "source": [
        "\n",
        "\n",
        "  #get the MedCave03 path (can vary)\n",
        "  patient_folder = base_path + row['Patient'] + '/'\n",
        "\n",
        "  #the zipped dicom path\n",
        "  dcm_path = patient_folder + 'images.zip'\n",
        "\n",
        "  #the report path\n",
        "  report_path = patient_folder + 'report.txt'\n",
        "\n",
        "  #save path MedCave03\n",
        "  save_path = patient_folder + 'CTA_' + row['Patient'] + '.nii.gz'\n",
        "\n",
        "  #create temporary directroy\n",
        "  unzipped_patient = patient_folder + 'images/'\n",
        "\n",
        "  #only if the CTA does not already exist (should remove!)\n",
        "  if os.path.isdir(unzipped_patient) == False:\n",
        "    #create\n",
        "    os.mkdir(unzipped_patient)\n",
        "\n",
        "    #now unzip the images (temporary)\n",
        "    unzip(dcm_path, unzipped_patient)\n",
        "\n",
        "    #read in the full report (can modify later)\n",
        "    with open(report_path, 'r') as f:\n",
        "      full_report = f.read()\n",
        "\n",
        "    #get the number of series and relate study description and number of slices in each patient's image series\n",
        "    reader = sitk.ImageSeriesReader()\n",
        "\n",
        "    #get the series ids\n",
        "    id_names = reader.GetGDCMSeriesIDs(unzipped_patient) #file subfolder\n",
        "\n",
        "    #data\n",
        "    data = []\n",
        "\n",
        "    #max dicom\n",
        "    max_dicom = True\n",
        "\n",
        "    #for each series id\n",
        "    for id_name in id_names:\n",
        "\n",
        "      #obtain one instance of the file\n",
        "      series_file_names = sitk.ImageSeriesReader.GetGDCMSeriesFileNames(\n",
        "          unzipped_patient,\n",
        "          id_name\n",
        "          )\n",
        "\n",
        "      #specify\n",
        "      reader_file = sitk.ImageFileReader()\n",
        "      reader_file.SetFileName(series_file_names[0])\n",
        "      reader_file.LoadPrivateTagsOn()\n",
        "      reader_file.ReadImageInformation()\n",
        "      #get\n",
        "      study_des = reader_file.GetMetaData('0008|1030')\n",
        "      series_des = reader_file.GetMetaData('0008|103e')\n",
        "      scan_des = reader_file.GetMetaData('0008|0070')\n",
        "      num_dicom = len(series_file_names)\n",
        "\n",
        "      #collect all the relevant info\n",
        "      data.append([row['Patient'], dcm_path, series_file_names, report_path, save_path, id_name, study_des, scan_des, series_des, num_dicom, full_report])\n",
        "\n",
        "    #delete the temporary folder\n",
        "    shutil.rmtree(unzipped_patient)\n",
        "\n",
        "    #prepare the individual pandas to later be concatenated (reorder)\n",
        "    patient_info = pd.DataFrame(data, columns = ['Patient', 'Medcave03_DCM', 'Medcave03_Series_Files', 'Medcave03_Report', 'Medcave03_CTA', 'Series_ID', 'Study', 'Scan', 'Series', 'Num_DICOM', 'Full_Report'])\n",
        "\n",
        "    #maximize\n",
        "    patient_info['Max_Patient_DICOM'] = np.where(patient_info['Num_DICOM'] == patient_info['Num_DICOM'].max(), True, False)\n",
        "\n",
        "    #add the annotation columns\n",
        "    patient_info = patient_info.reindex(columns = patient_info.columns.tolist() + add_columns)\n",
        "\n",
        "    #return\n",
        "    patient_info\n"
      ],
      "metadata": {
        "colab": {
          "base_uri": "https://localhost:8080/",
          "height": 135
        },
        "id": "OY0EE6ATMK07",
        "outputId": "b59411c7-e950-4c21-c724-115e51fab4b8"
      },
      "execution_count": null,
      "outputs": [
        {
          "output_type": "error",
          "ename": "SyntaxError",
          "evalue": "ignored",
          "traceback": [
            "\u001b[1;36m  Input \u001b[1;32mIn [30]\u001b[1;36m\u001b[0m\n\u001b[1;33m    if row['Patient'] is not in df_refer['Patient'].to_list():\u001b[0m\n\u001b[1;37m                             ^\u001b[0m\n\u001b[1;31mSyntaxError\u001b[0m\u001b[1;31m:\u001b[0m invalid syntax\n"
          ]
        }
      ]
    },
    {
      "cell_type": "code",
      "source": [
        "patient_info"
      ],
      "metadata": {
        "colab": {
          "base_uri": "https://localhost:8080/",
          "height": 424
        },
        "id": "8UdNFZDy_-sI",
        "outputId": "0f485615-9c10-41ec-ffb6-edb2c4cb4b60"
      },
      "execution_count": null,
      "outputs": [
        {
          "output_type": "execute_result",
          "data": {
            "text/plain": [
              "    Patient                                      Medcave03_DCM  \\\n",
              "0  10261071  AnishSalvi/ImageRx/PAD-Net/vRAD_Dataset/102610...   \n",
              "1  10261071  AnishSalvi/ImageRx/PAD-Net/vRAD_Dataset/102610...   \n",
              "2  10261071  AnishSalvi/ImageRx/PAD-Net/vRAD_Dataset/102610...   \n",
              "\n",
              "                              Medcave03_Series_Files  \\\n",
              "0  (AnishSalvi/ImageRx/PAD-Net/vRAD_Dataset/10261...   \n",
              "1  (AnishSalvi/ImageRx/PAD-Net/vRAD_Dataset/10261...   \n",
              "2  (AnishSalvi/ImageRx/PAD-Net/vRAD_Dataset/10261...   \n",
              "\n",
              "                                    Medcave03_Report  \\\n",
              "0  AnishSalvi/ImageRx/PAD-Net/vRAD_Dataset/102610...   \n",
              "1  AnishSalvi/ImageRx/PAD-Net/vRAD_Dataset/102610...   \n",
              "2  AnishSalvi/ImageRx/PAD-Net/vRAD_Dataset/102610...   \n",
              "\n",
              "                                       Medcave03_CTA  \\\n",
              "0  AnishSalvi/ImageRx/PAD-Net/vRAD_Dataset/102610...   \n",
              "1  AnishSalvi/ImageRx/PAD-Net/vRAD_Dataset/102610...   \n",
              "2  AnishSalvi/ImageRx/PAD-Net/vRAD_Dataset/102610...   \n",
              "\n",
              "                                           Series_ID  \\\n",
              "0  1.3.12.2.1107.5.1.4.105578.3000002212122339456...   \n",
              "1  1.3.12.2.1107.5.1.4.105578.3000002212122339456...   \n",
              "2  1.3.12.2.1107.5.1.4.105578.3000002212122339456...   \n",
              "\n",
              "                                               Study      Scan      Series  \\\n",
              "0  CT ANGIOGRAM ABDOMINAL AORTA AND BILATERAL ILI...  SIEMENS   CTA RUNOFF   \n",
              "1  CT ANGIOGRAM ABDOMINAL AORTA AND BILATERAL ILI...  SIEMENS         COR    \n",
              "2  CT ANGIOGRAM ABDOMINAL AORTA AND BILATERAL ILI...  SIEMENS         SAG    \n",
              "\n",
              "   Num_DICOM                                        Full_Report  \\\n",
              "0        665  PROCEDURE INFORMATION: \\nExam:?CTA Abdominal A...   \n",
              "1        191  PROCEDURE INFORMATION: \\nExam:?CTA Abdominal A...   \n",
              "2        211  PROCEDURE INFORMATION: \\nExam:?CTA Abdominal A...   \n",
              "\n",
              "   Max_Patient_DICOM  Manual_DICOM_Selection  PAD_50_Annotation  \\\n",
              "0               True                     NaN                NaN   \n",
              "1              False                     NaN                NaN   \n",
              "2              False                     NaN                NaN   \n",
              "\n",
              "   PAD_50_Annotation_Notes  \n",
              "0                      NaN  \n",
              "1                      NaN  \n",
              "2                      NaN  "
            ],
            "text/html": [
              "<div>\n",
              "<style scoped>\n",
              "    .dataframe tbody tr th:only-of-type {\n",
              "        vertical-align: middle;\n",
              "    }\n",
              "\n",
              "    .dataframe tbody tr th {\n",
              "        vertical-align: top;\n",
              "    }\n",
              "\n",
              "    .dataframe thead th {\n",
              "        text-align: right;\n",
              "    }\n",
              "</style>\n",
              "<table border=\"1\" class=\"dataframe\">\n",
              "  <thead>\n",
              "    <tr style=\"text-align: right;\">\n",
              "      <th></th>\n",
              "      <th>Patient</th>\n",
              "      <th>Medcave03_DCM</th>\n",
              "      <th>Medcave03_Series_Files</th>\n",
              "      <th>Medcave03_Report</th>\n",
              "      <th>Medcave03_CTA</th>\n",
              "      <th>Series_ID</th>\n",
              "      <th>Study</th>\n",
              "      <th>Scan</th>\n",
              "      <th>Series</th>\n",
              "      <th>Num_DICOM</th>\n",
              "      <th>Full_Report</th>\n",
              "      <th>Max_Patient_DICOM</th>\n",
              "      <th>Manual_DICOM_Selection</th>\n",
              "      <th>PAD_50_Annotation</th>\n",
              "      <th>PAD_50_Annotation_Notes</th>\n",
              "    </tr>\n",
              "  </thead>\n",
              "  <tbody>\n",
              "    <tr>\n",
              "      <th>0</th>\n",
              "      <td>10261071</td>\n",
              "      <td>AnishSalvi/ImageRx/PAD-Net/vRAD_Dataset/102610...</td>\n",
              "      <td>(AnishSalvi/ImageRx/PAD-Net/vRAD_Dataset/10261...</td>\n",
              "      <td>AnishSalvi/ImageRx/PAD-Net/vRAD_Dataset/102610...</td>\n",
              "      <td>AnishSalvi/ImageRx/PAD-Net/vRAD_Dataset/102610...</td>\n",
              "      <td>1.3.12.2.1107.5.1.4.105578.3000002212122339456...</td>\n",
              "      <td>CT ANGIOGRAM ABDOMINAL AORTA AND BILATERAL ILI...</td>\n",
              "      <td>SIEMENS</td>\n",
              "      <td>CTA RUNOFF</td>\n",
              "      <td>665</td>\n",
              "      <td>PROCEDURE INFORMATION: \\nExam:?CTA Abdominal A...</td>\n",
              "      <td>True</td>\n",
              "      <td>NaN</td>\n",
              "      <td>NaN</td>\n",
              "      <td>NaN</td>\n",
              "    </tr>\n",
              "    <tr>\n",
              "      <th>1</th>\n",
              "      <td>10261071</td>\n",
              "      <td>AnishSalvi/ImageRx/PAD-Net/vRAD_Dataset/102610...</td>\n",
              "      <td>(AnishSalvi/ImageRx/PAD-Net/vRAD_Dataset/10261...</td>\n",
              "      <td>AnishSalvi/ImageRx/PAD-Net/vRAD_Dataset/102610...</td>\n",
              "      <td>AnishSalvi/ImageRx/PAD-Net/vRAD_Dataset/102610...</td>\n",
              "      <td>1.3.12.2.1107.5.1.4.105578.3000002212122339456...</td>\n",
              "      <td>CT ANGIOGRAM ABDOMINAL AORTA AND BILATERAL ILI...</td>\n",
              "      <td>SIEMENS</td>\n",
              "      <td>COR</td>\n",
              "      <td>191</td>\n",
              "      <td>PROCEDURE INFORMATION: \\nExam:?CTA Abdominal A...</td>\n",
              "      <td>False</td>\n",
              "      <td>NaN</td>\n",
              "      <td>NaN</td>\n",
              "      <td>NaN</td>\n",
              "    </tr>\n",
              "    <tr>\n",
              "      <th>2</th>\n",
              "      <td>10261071</td>\n",
              "      <td>AnishSalvi/ImageRx/PAD-Net/vRAD_Dataset/102610...</td>\n",
              "      <td>(AnishSalvi/ImageRx/PAD-Net/vRAD_Dataset/10261...</td>\n",
              "      <td>AnishSalvi/ImageRx/PAD-Net/vRAD_Dataset/102610...</td>\n",
              "      <td>AnishSalvi/ImageRx/PAD-Net/vRAD_Dataset/102610...</td>\n",
              "      <td>1.3.12.2.1107.5.1.4.105578.3000002212122339456...</td>\n",
              "      <td>CT ANGIOGRAM ABDOMINAL AORTA AND BILATERAL ILI...</td>\n",
              "      <td>SIEMENS</td>\n",
              "      <td>SAG</td>\n",
              "      <td>211</td>\n",
              "      <td>PROCEDURE INFORMATION: \\nExam:?CTA Abdominal A...</td>\n",
              "      <td>False</td>\n",
              "      <td>NaN</td>\n",
              "      <td>NaN</td>\n",
              "      <td>NaN</td>\n",
              "    </tr>\n",
              "  </tbody>\n",
              "</table>\n",
              "</div>"
            ]
          },
          "metadata": {},
          "execution_count": 26
        }
      ]
    },
    {
      "cell_type": "code",
      "source": [
        "#if there is reference then do following\n",
        "\n",
        "#if the patient row already exists // then update that csv with his information\n",
        "\n",
        "#else use the above script and insert where required\n",
        "\n",
        "#else skip over and execute the rest None case\n",
        "\n",
        "#can update row-wise but not columns\n",
        "\n",
        "#implement for selection of the runoff sequence then annotation (x2)\n"
      ],
      "metadata": {
        "id": "hky6btwKXn8k"
      },
      "execution_count": null,
      "outputs": []
    },
    {
      "cell_type": "code",
      "source": [
        "ls = (patient_info, patient_info)"
      ],
      "metadata": {
        "id": "mq7eP41UdQSk"
      },
      "execution_count": null,
      "outputs": []
    },
    {
      "cell_type": "code",
      "source": [
        "pd.concat(ls, ignore_index = True)"
      ],
      "metadata": {
        "colab": {
          "base_uri": "https://localhost:8080/",
          "height": 446
        },
        "id": "-539NBljdrH6",
        "outputId": "0bd99d43-62b2-4c85-e6c6-fa2c4c03dea7"
      },
      "execution_count": null,
      "outputs": [
        {
          "output_type": "execute_result",
          "data": {
            "text/plain": [
              "                                       Medcave03_DCM  \\\n",
              "0  AnishSalvi/ImageRx/PAD-Net/vRAD_Dataset/102610...   \n",
              "1  AnishSalvi/ImageRx/PAD-Net/vRAD_Dataset/102610...   \n",
              "2  AnishSalvi/ImageRx/PAD-Net/vRAD_Dataset/102610...   \n",
              "3  AnishSalvi/ImageRx/PAD-Net/vRAD_Dataset/102610...   \n",
              "4  AnishSalvi/ImageRx/PAD-Net/vRAD_Dataset/102610...   \n",
              "5  AnishSalvi/ImageRx/PAD-Net/vRAD_Dataset/102610...   \n",
              "\n",
              "                              Medcave03_Series_Files   Patient  \\\n",
              "0  (AnishSalvi/ImageRx/PAD-Net/vRAD_Dataset/10261...  10261071   \n",
              "1  (AnishSalvi/ImageRx/PAD-Net/vRAD_Dataset/10261...  10261071   \n",
              "2  (AnishSalvi/ImageRx/PAD-Net/vRAD_Dataset/10261...  10261071   \n",
              "3  (AnishSalvi/ImageRx/PAD-Net/vRAD_Dataset/10261...  10261071   \n",
              "4  (AnishSalvi/ImageRx/PAD-Net/vRAD_Dataset/10261...  10261071   \n",
              "5  (AnishSalvi/ImageRx/PAD-Net/vRAD_Dataset/10261...  10261071   \n",
              "\n",
              "                                           Series_ID  \\\n",
              "0  1.3.12.2.1107.5.1.4.105578.3000002212122339456...   \n",
              "1  1.3.12.2.1107.5.1.4.105578.3000002212122339456...   \n",
              "2  1.3.12.2.1107.5.1.4.105578.3000002212122339456...   \n",
              "3  1.3.12.2.1107.5.1.4.105578.3000002212122339456...   \n",
              "4  1.3.12.2.1107.5.1.4.105578.3000002212122339456...   \n",
              "5  1.3.12.2.1107.5.1.4.105578.3000002212122339456...   \n",
              "\n",
              "                                               Study      Scan      Series  \\\n",
              "0  CT ANGIOGRAM ABDOMINAL AORTA AND BILATERAL ILI...  SIEMENS   CTA RUNOFF   \n",
              "1  CT ANGIOGRAM ABDOMINAL AORTA AND BILATERAL ILI...  SIEMENS         COR    \n",
              "2  CT ANGIOGRAM ABDOMINAL AORTA AND BILATERAL ILI...  SIEMENS         SAG    \n",
              "3  CT ANGIOGRAM ABDOMINAL AORTA AND BILATERAL ILI...  SIEMENS   CTA RUNOFF   \n",
              "4  CT ANGIOGRAM ABDOMINAL AORTA AND BILATERAL ILI...  SIEMENS         COR    \n",
              "5  CT ANGIOGRAM ABDOMINAL AORTA AND BILATERAL ILI...  SIEMENS         SAG    \n",
              "\n",
              "   Num_DICOM  \n",
              "0        665  \n",
              "1        191  \n",
              "2        211  \n",
              "3        665  \n",
              "4        191  \n",
              "5        211  "
            ],
            "text/html": [
              "<div>\n",
              "<style scoped>\n",
              "    .dataframe tbody tr th:only-of-type {\n",
              "        vertical-align: middle;\n",
              "    }\n",
              "\n",
              "    .dataframe tbody tr th {\n",
              "        vertical-align: top;\n",
              "    }\n",
              "\n",
              "    .dataframe thead th {\n",
              "        text-align: right;\n",
              "    }\n",
              "</style>\n",
              "<table border=\"1\" class=\"dataframe\">\n",
              "  <thead>\n",
              "    <tr style=\"text-align: right;\">\n",
              "      <th></th>\n",
              "      <th>Medcave03_DCM</th>\n",
              "      <th>Medcave03_Series_Files</th>\n",
              "      <th>Patient</th>\n",
              "      <th>Series_ID</th>\n",
              "      <th>Study</th>\n",
              "      <th>Scan</th>\n",
              "      <th>Series</th>\n",
              "      <th>Num_DICOM</th>\n",
              "    </tr>\n",
              "  </thead>\n",
              "  <tbody>\n",
              "    <tr>\n",
              "      <th>0</th>\n",
              "      <td>AnishSalvi/ImageRx/PAD-Net/vRAD_Dataset/102610...</td>\n",
              "      <td>(AnishSalvi/ImageRx/PAD-Net/vRAD_Dataset/10261...</td>\n",
              "      <td>10261071</td>\n",
              "      <td>1.3.12.2.1107.5.1.4.105578.3000002212122339456...</td>\n",
              "      <td>CT ANGIOGRAM ABDOMINAL AORTA AND BILATERAL ILI...</td>\n",
              "      <td>SIEMENS</td>\n",
              "      <td>CTA RUNOFF</td>\n",
              "      <td>665</td>\n",
              "    </tr>\n",
              "    <tr>\n",
              "      <th>1</th>\n",
              "      <td>AnishSalvi/ImageRx/PAD-Net/vRAD_Dataset/102610...</td>\n",
              "      <td>(AnishSalvi/ImageRx/PAD-Net/vRAD_Dataset/10261...</td>\n",
              "      <td>10261071</td>\n",
              "      <td>1.3.12.2.1107.5.1.4.105578.3000002212122339456...</td>\n",
              "      <td>CT ANGIOGRAM ABDOMINAL AORTA AND BILATERAL ILI...</td>\n",
              "      <td>SIEMENS</td>\n",
              "      <td>COR</td>\n",
              "      <td>191</td>\n",
              "    </tr>\n",
              "    <tr>\n",
              "      <th>2</th>\n",
              "      <td>AnishSalvi/ImageRx/PAD-Net/vRAD_Dataset/102610...</td>\n",
              "      <td>(AnishSalvi/ImageRx/PAD-Net/vRAD_Dataset/10261...</td>\n",
              "      <td>10261071</td>\n",
              "      <td>1.3.12.2.1107.5.1.4.105578.3000002212122339456...</td>\n",
              "      <td>CT ANGIOGRAM ABDOMINAL AORTA AND BILATERAL ILI...</td>\n",
              "      <td>SIEMENS</td>\n",
              "      <td>SAG</td>\n",
              "      <td>211</td>\n",
              "    </tr>\n",
              "    <tr>\n",
              "      <th>3</th>\n",
              "      <td>AnishSalvi/ImageRx/PAD-Net/vRAD_Dataset/102610...</td>\n",
              "      <td>(AnishSalvi/ImageRx/PAD-Net/vRAD_Dataset/10261...</td>\n",
              "      <td>10261071</td>\n",
              "      <td>1.3.12.2.1107.5.1.4.105578.3000002212122339456...</td>\n",
              "      <td>CT ANGIOGRAM ABDOMINAL AORTA AND BILATERAL ILI...</td>\n",
              "      <td>SIEMENS</td>\n",
              "      <td>CTA RUNOFF</td>\n",
              "      <td>665</td>\n",
              "    </tr>\n",
              "    <tr>\n",
              "      <th>4</th>\n",
              "      <td>AnishSalvi/ImageRx/PAD-Net/vRAD_Dataset/102610...</td>\n",
              "      <td>(AnishSalvi/ImageRx/PAD-Net/vRAD_Dataset/10261...</td>\n",
              "      <td>10261071</td>\n",
              "      <td>1.3.12.2.1107.5.1.4.105578.3000002212122339456...</td>\n",
              "      <td>CT ANGIOGRAM ABDOMINAL AORTA AND BILATERAL ILI...</td>\n",
              "      <td>SIEMENS</td>\n",
              "      <td>COR</td>\n",
              "      <td>191</td>\n",
              "    </tr>\n",
              "    <tr>\n",
              "      <th>5</th>\n",
              "      <td>AnishSalvi/ImageRx/PAD-Net/vRAD_Dataset/102610...</td>\n",
              "      <td>(AnishSalvi/ImageRx/PAD-Net/vRAD_Dataset/10261...</td>\n",
              "      <td>10261071</td>\n",
              "      <td>1.3.12.2.1107.5.1.4.105578.3000002212122339456...</td>\n",
              "      <td>CT ANGIOGRAM ABDOMINAL AORTA AND BILATERAL ILI...</td>\n",
              "      <td>SIEMENS</td>\n",
              "      <td>SAG</td>\n",
              "      <td>211</td>\n",
              "    </tr>\n",
              "  </tbody>\n",
              "</table>\n",
              "</div>"
            ]
          },
          "metadata": {},
          "execution_count": 29
        }
      ]
    },
    {
      "cell_type": "code",
      "source": [
        "%%time\n",
        "\n",
        "#main script\n",
        "\n",
        "#specify the basepath (this can be changed depending on which cd into at start)\n",
        "base_path = 'AnishSalvi/ImageRx/PAD-Net/vRAD_Dataset/'\n",
        "\n",
        "#need to get all the patient folder names\n",
        "patient_name = [name for name in sorted(os.listdir(base_path)) if os.path.isdir(os.path.join(base_path, name))]\n",
        "\n",
        "#place inside the pandas dataframe\n",
        "df = pd.DataFrame(patient_name, columns = ['Patient'])\n",
        "\n",
        "#specify the reference csv if it exists\n",
        "#df_refer = pd.read_csv('')"
      ],
      "metadata": {
        "colab": {
          "base_uri": "https://localhost:8080/"
        },
        "id": "wFvId_RlND5H",
        "outputId": "01292efc-0106-4e26-c5ba-19b7ea989a4c"
      },
      "execution_count": null,
      "outputs": [
        {
          "output_type": "stream",
          "name": "stdout",
          "text": [
            "CPU times: total: 0 ns\n",
            "Wall time: 6 ms\n"
          ]
        }
      ]
    },
    {
      "cell_type": "code",
      "source": [],
      "metadata": {
        "id": "EjSuTFdr1pMT"
      },
      "execution_count": null,
      "outputs": []
    }
  ]
}