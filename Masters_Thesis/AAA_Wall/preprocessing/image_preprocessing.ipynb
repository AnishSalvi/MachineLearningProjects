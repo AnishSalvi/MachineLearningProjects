{
  "nbformat": 4,
  "nbformat_minor": 0,
  "metadata": {
    "colab": {
      "provenance": []
    },
    "kernelspec": {
      "name": "python3",
      "display_name": "Python 3"
    },
    "language_info": {
      "name": "python"
    },
    "gpuClass": "standard"
  },
  "cells": [
    {
      "cell_type": "code",
      "execution_count": null,
      "metadata": {
        "colab": {
          "base_uri": "https://localhost:8080/"
        },
        "id": "DddT10Ekqf7E",
        "outputId": "4adf4ece-d2d0-400c-ad3e-c6ea9cd59625"
      },
      "outputs": [
        {
          "output_type": "stream",
          "name": "stdout",
          "text": [
            "Mounted at /content/gdrive/\n"
          ]
        }
      ],
      "source": [
        "#mount\n",
        "from google.colab import drive\n",
        "drive.mount('/content/gdrive/', force_remount=True)\n",
        "from google.colab import auth\n",
        "auth.authenticate_user()\n",
        "import gspread\n",
        "from google.auth import default\n",
        "creds, _ = default()\n",
        "gc = gspread.authorize(creds)"
      ]
    },
    {
      "cell_type": "code",
      "source": [
        "#pip installations\n",
        "!pip install --quiet SimpleITK"
      ],
      "metadata": {
        "id": "x95w0aYOrpk7",
        "colab": {
          "base_uri": "https://localhost:8080/"
        },
        "outputId": "fbcb0f3a-f3d5-480b-ff9a-415a5f1c8ce5"
      },
      "execution_count": null,
      "outputs": [
        {
          "output_type": "stream",
          "name": "stdout",
          "text": [
            "\u001b[K     |████████████████████████████████| 52.8 MB 16.8 MB/s \n",
            "\u001b[?25h"
          ]
        }
      ]
    },
    {
      "cell_type": "code",
      "source": [
        "#imports\n",
        "import SimpleITK as sitk\n",
        "import numpy as np\n",
        "import os\n",
        "import sklearn\n",
        "import pandas as pd\n",
        "import sklearn\n",
        "from sklearn.model_selection import train_test_split\n",
        "import matplotlib.pyplot as plt"
      ],
      "metadata": {
        "id": "tlq7JWCnrw8D"
      },
      "execution_count": null,
      "outputs": []
    },
    {
      "cell_type": "code",
      "source": [
        "#functions\n",
        "#resampling\n",
        "def resample_image_standardize_3D(itk_image, out_size = (64,64,64), is_label = False):\n",
        "  original_spacing = itk_image.GetSpacing()\n",
        "  original_size = itk_image.GetSize()\n",
        "  out_spacing = [original_size[0] * (original_spacing[0] / out_size[0]),\n",
        "                 original_size[1] * (original_spacing[1] / out_size[1]),\n",
        "                 original_size[2] * (original_spacing[2] / out_size[2])]\n",
        "\n",
        "  resample = sitk.ResampleImageFilter()\n",
        "  resample.SetOutputSpacing(out_spacing)\n",
        "  resample.SetOutputOrigin(itk_image.GetOrigin())\n",
        "  resample.SetSize(out_size)\n",
        "  resample.SetOutputDirection(itk_image.GetDirection())\n",
        "  resample.SetTransform(sitk.Transform())\n",
        "  #resample.SetDefaultPixelValue(itk_image.GetPixelIDValue())\n",
        "  if is_label:\n",
        "      resample.SetInterpolator(sitk.sitkNearestNeighbor)\n",
        "  else:\n",
        "      resample.SetInterpolator(sitk.sitkBSpline)\n",
        "  return resample.Execute(itk_image)\n",
        "\n",
        "#get the SegGT and CTA folders\n",
        "def getListOfFiles(dirName):\n",
        "    # create a list of file and sub directories\n",
        "    # names in the given directory\n",
        "    listOfFile = os.listdir(dirName)\n",
        "    allFiles = list()\n",
        "    # Iterate over all the entries\n",
        "    for entry in listOfFile:\n",
        "        # Create full path\n",
        "        fullPath = os.path.join(dirName, entry)\n",
        "        # If entry is a directory then get the list of files in this directory\n",
        "        if os.path.isdir(fullPath):\n",
        "            allFiles = allFiles + getListOfFiles(fullPath)\n",
        "        else:\n",
        "            allFiles.append(fullPath)\n",
        "\n",
        "    return sorted(allFiles)\n",
        "\n",
        "#image resampling\n",
        "def resample_image_standardize(itk_image, out_size=(512, 512), is_label=False):\n",
        "    original_spacing = itk_image.GetSpacing()\n",
        "    original_size = itk_image.GetSize()\n",
        "    out_spacing = [\n",
        "                   original_size[0] * (original_spacing[0] / out_size[0]),\n",
        "                   original_size[1] * (original_spacing[1] / out_size[1])\n",
        "                   ]\n",
        "    resample = sitk.ResampleImageFilter()\n",
        "    resample.SetOutputSpacing(out_spacing)\n",
        "    resample.SetOutputOrigin(itk_image.GetOrigin())\n",
        "    resample.SetSize(out_size)\n",
        "    resample.SetOutputDirection(itk_image.GetDirection())\n",
        "    resample.SetTransform(sitk.Transform())\n",
        "    if is_label:\n",
        "        resample.SetInterpolator(sitk.sitkNearestNeighbor)\n",
        "    else:\n",
        "        resample.SetInterpolator(sitk.sitkBSpline)\n",
        "    return resample.Execute(itk_image)\n",
        "\n",
        "#prepare the asymtomatic data\n",
        "def get_ad(dataset_path):\n",
        "  #init\n",
        "  data = []\n",
        "  #from the dataset path read in the condition for asymtomatic for now\n",
        "  class_name = 'Asymptomatic'\n",
        "  #get the corresponding name\n",
        "  patient_paths = dataset_path + class_name + '/'\n",
        "  #get all the patient ids\n",
        "  for patient in sorted(os.listdir(patient_paths)):\n",
        "    #for each patient folder read in the get the CT folder and Mask\n",
        "    CT, Mask = sorted(os.listdir(patient_paths + patient))\n",
        "    CT_path = patient_paths + patient + '/' + CT + '/'\n",
        "    Mask_path = patient_paths + patient + '/' + Mask + '/'\n",
        "    #iterate through each and collect the relvant paths\n",
        "    for patient_CT, patient_Mask in zip(getListOfFiles(CT_path), getListOfFiles(Mask_path)):\n",
        "      #specific to each image\n",
        "      CT_im = patient_CT.split('/')[-1].split('.')[0]\n",
        "      Mask_im = patient_Mask.split('/')[-1].split('.')[0]\n",
        "      #append\n",
        "      data.append([class_name, 0, 'NA', 0, patient, CT_im, Mask_im, patient_CT, patient_Mask])\n",
        "  #get df\n",
        "  df = pd.DataFrame(data, columns = ['Class', 'Class_Label', 'Wall', 'Wall_Label', 'Patient', 'CT_im', 'GT_im', 'CT', 'GT'])\n",
        "  #return\n",
        "  return df\n",
        "\n",
        "#preapre the symptomatic data\n",
        "def get_sd(dataset_path):\n",
        "  #init\n",
        "  data = []\n",
        "  #from the dataset path read in the condition for the symtomatic data\n",
        "  class_name = 'Symptomatic'\n",
        "  #get the corresponding name\n",
        "  patient_paths = dataset_path + class_name + '/'\n",
        "\n",
        "  #iterate for the walls\n",
        "  for wall in sorted(os.listdir(patient_paths)):\n",
        "    #specify the wall\n",
        "    if wall == 'Unruptred Wall':\n",
        "      patient_paths1 = patient_paths + wall + '/'\n",
        "      wall_label = 'Unruptured'\n",
        "      wall_encode = 1\n",
        "    else:\n",
        "      patient_paths1 = patient_paths + wall + '/Ruptured_1/'\n",
        "      wall_label = 'Ruptured'\n",
        "      wall_encode = 2\n",
        "\n",
        "    #get all the patient ids\n",
        "    for patient in sorted(os.listdir(patient_paths1)):\n",
        "      #for each patient folder read in the get the CT folder and Mask\n",
        "      CT, Mask = sorted(os.listdir(patient_paths1 + patient))\n",
        "      CT_path = patient_paths1 + patient + '/' + CT + '/'\n",
        "      Mask_path = patient_paths1 + patient + '/' + Mask + '/'\n",
        "      #iterate through each and collect the relvant paths\n",
        "      for patient_CT, patient_Mask in zip(getListOfFiles(CT_path), getListOfFiles(Mask_path)):\n",
        "        #specific to each image\n",
        "        CT_im = patient_CT.split('/')[-1].split('.')[0]\n",
        "        Mask_im = patient_Mask.split('/')[-1].split('.')[0]\n",
        "        #append\n",
        "        data.append([class_name, 1, wall_label, wall_encode, patient, CT_im, Mask_im, patient_CT, patient_Mask])\n",
        "  #get df\n",
        "  df = pd.DataFrame(data, columns = ['Class', 'Class_Label', 'Wall', 'Wall_Label', 'Patient', 'CT_im', 'GT_im', 'CT', 'GT'])\n",
        "  #return\n",
        "  return df\n",
        "\n",
        "#generate a binary mask\n",
        "def binarize(lower, upper, image, binary_filter):\n",
        "  binary_filter.SetLowerThreshold(lower)\n",
        "  binary_filter.SetUpperThreshold(upper)\n",
        "  return binary_filter.Execute(image)\n",
        "\n",
        "#prepare 2d image\n",
        "def prepare_image_2d(image, mode, resample_size = (512, 512)):\n",
        "  # resample\n",
        "  if resample_size != image.GetSize():\n",
        "    image = resample_image_standardize(image, resample_size)\n",
        "  #CTA\n",
        "  if mode == 'CTA':\n",
        "    #norm\n",
        "    z = sitk.NormalizeImageFilter()\n",
        "    image = z.Execute(image)\n",
        "    #return\n",
        "    return image\n",
        "  #GT\n",
        "  if mode == 'GT':\n",
        "    #binarize\n",
        "    binary_filter = sitk.BinaryThresholdImageFilter()\n",
        "    #different components\n",
        "    #wall 1 (84)\n",
        "    #intraluminal thrombus 2 (168)\n",
        "    #aneurysm 3 (255)\n",
        "    mask_wall = binarize(83, 85, image, binary_filter)\n",
        "    mask_ILT = binarize(167, 169, image, binary_filter)\n",
        "    mask_AAA = binarize(254, 256, image, binary_filter)\n",
        "    mask_all = mask_wall + sitk.Multiply(mask_ILT, 2) + sitk.Multiply(mask_AAA, 3)\n",
        "    #return\n",
        "    return mask_wall, mask_ILT, mask_AAA, mask_all\n",
        "\n",
        "#crop the data\n",
        "def cropper(CTA, GT_wall, GT_ILT, GT_AAA, GT_all):\n",
        "  #filter\n",
        "  label_shape_filter = sitk.LabelShapeStatisticsImageFilter()\n",
        "  #binarize\n",
        "  GT = GT_wall + GT_ILT + GT_AAA\n",
        "  #apply\n",
        "  label_shape_filter.Execute(GT)\n",
        "  #get bbox\n",
        "  bbox = label_shape_filter.GetBoundingBox(1) #in pixel coordinates\n",
        "  #get ROI\n",
        "  CTA = sitk.RegionOfInterest(CTA, bbox[int(len(bbox)/2):], bbox[0:int(len(bbox)/2)])\n",
        "  GT_wall = sitk.RegionOfInterest(GT_wall, bbox[int(len(bbox)/2):], bbox[0:int(len(bbox)/2)])\n",
        "  GT_ILT = sitk.RegionOfInterest(GT_ILT, bbox[int(len(bbox)/2):], bbox[0:int(len(bbox)/2)])\n",
        "  GT_AAA = sitk.RegionOfInterest(GT_AAA, bbox[int(len(bbox)/2):], bbox[0:int(len(bbox)/2)])\n",
        "  GT_all = sitk.RegionOfInterest(GT_all, bbox[int(len(bbox)/2):], bbox[0:int(len(bbox)/2)])\n",
        "  #standardize\n",
        "  CTA = resample_image_standardize(CTA)\n",
        "  GT_wall = resample_image_standardize(GT_wall, is_label = True)\n",
        "  GT_ILT = resample_image_standardize(GT_ILT, is_label = True)\n",
        "  GT_AAA = resample_image_standardize(GT_AAA, is_label = True)\n",
        "  GT_all = resample_image_standardize(GT_all, is_label = True)\n",
        "\n",
        "#crpo the data in 3D\n",
        "def cropper_3D(CTA_3D, GT_wall_3D, GT_ILT_3D, GT_AAA_3D, GT_all_3D):\n",
        "  #filter\n",
        "  label_shape_filter = sitk.LabelShapeStatisticsImageFilter()\n",
        "  #binarize\n",
        "  GT = GT_wall_3D + GT_ILT_3D + GT_AAA_3D\n",
        "  #apply\n",
        "  label_shape_filter.Execute(GT)\n",
        "  #get bbox\n",
        "  bbox = label_shape_filter.GetBoundingBox(1) #in pixel coordinates\n",
        "  #get ROI\n",
        "  CTA_3D = sitk.RegionOfInterest(CTA_3D, bbox[int(len(bbox)/2):], bbox[0:int(len(bbox)/2)])\n",
        "  GT_wall_3D = sitk.RegionOfInterest(GT_wall_3D, bbox[int(len(bbox)/2):], bbox[0:int(len(bbox)/2)])\n",
        "  GT_ILT_3D = sitk.RegionOfInterest(GT_ILT_3D, bbox[int(len(bbox)/2):], bbox[0:int(len(bbox)/2)])\n",
        "  GT_AAA_3D = sitk.RegionOfInterest(GT_AAA_3D, bbox[int(len(bbox)/2):], bbox[0:int(len(bbox)/2)])\n",
        "  GT_all_3D = sitk.RegionOfInterest(GT_all_3D, bbox[int(len(bbox)/2):], bbox[0:int(len(bbox)/2)])\n",
        "  #return\n",
        "  return CTA_3D, GT_wall_3D, GT_ILT_3D, GT_AAA_3D, GT_all_3D\n",
        "\n",
        "  return CTA, GT_wall, GT_ILT, GT_AAA, GT_all\n",
        "\n",
        "#save image\n",
        "def save_image(path, type_name, patient, tag, image):\n",
        "  #save file\n",
        "  if os.path.isdir(path + type_name) == False:\n",
        "    os.mkdir(path + type_name)\n",
        "  #save file\n",
        "  save_path = path + type_name + '/' + patient + '-' + tag + '.nii.gz'\n",
        "  #write\n",
        "  sitk.WriteImage(image, save_path)\n",
        "  #return\n",
        "  return save_path\n",
        "\n",
        "def preprocess_2D(row, path = '/content/gdrive/MyDrive/AAA_Project/Masters-Thesis/AAA-Wall/data/2D/'):\n",
        "  #generate all the differenet masks and prepare the corresponding CT images\n",
        "  #read in the CTA\n",
        "  CTA = sitk.ReadImage(row['CT']) #tiff\n",
        "  #save the spacinf info\n",
        "  CTA_Spacing = CTA.GetSpacing()\n",
        "  #read in the SegGT\n",
        "  GT = sitk.ReadImage(row['GT']) #png\n",
        "  #save the spacin info\n",
        "  #GT_Spacing = GT.GetSpacing()\n",
        "  #convert\n",
        "  CTA = sitk.GetArrayFromImage(CTA).astype(float)\n",
        "  GT = sitk.GetArrayFromImage(GT).astype(float)[:,:,0]\n",
        "  #convert back\n",
        "  CTA = sitk.GetImageFromArray(CTA)\n",
        "  GT = sitk.GetImageFromArray(GT)\n",
        "  #preprocess\n",
        "  CTA = prepare_image_2d(CTA, mode = 'CTA')\n",
        "  GT_wall, GT_ILT, GT_AAA, GT_all = prepare_image_2d(GT, mode = 'GT')\n",
        "  #save the data to a folder for use\n",
        "  #spacing keep consistent for image-mask\n",
        "  CTA.SetSpacing(CTA_Spacing)\n",
        "  GT_wall.SetSpacing(CTA_Spacing)\n",
        "  GT_ILT.SetSpacing(CTA_Spacing)\n",
        "  GT_AAA.SetSpacing(CTA_Spacing)\n",
        "  GT_all.SetSpacing(CTA_Spacing)\n",
        "\n",
        "  #CTA\n",
        "  CTA_path = save_image(path, 'Norm-CTA', row['Patient'], row['CT_im'], CTA)\n",
        "  #Mask-Wall\n",
        "  Wall_path = save_image(path, 'Mask-Wall', row['Patient'], row['GT_im'], GT_wall)\n",
        "  #Mask-ILT\n",
        "  ILT_path = save_image(path, 'Mask-ILT', row['Patient'], row['GT_im'], GT_ILT)\n",
        "  #Mask-AAA\n",
        "  AAA_path = save_image(path, 'Mask-AAA', row['Patient'], row['GT_im'], GT_AAA)\n",
        "  #GT-wall\n",
        "  All_path = save_image(path, 'Mask-All', row['Patient'], row['GT_im'], GT_all)\n",
        "\n",
        "  #cropped data\n",
        "  #CTA, GT_wall, GT_ILT, GT_AAA, GT_all = cropper(CTA, GT_wall, GT_ILT, GT_AAA, GT_all)\n",
        "\n",
        "  #save the data to a folder for use\n",
        "  #CTA\n",
        "  #Cropped_CTA_path = save_image(path, 'Norm-CTA-Cropped', row['Patient'], row['CT_im'], CTA)\n",
        "  #Mask-Wall\n",
        "  #Cropped_Wall_path = save_image(path, 'Mask-Wall-Cropped', row['Patient'], row['GT_im'], GT_wall)\n",
        "  #Mask-ILT\n",
        "  #Cropped_ILT_path = save_image(path, 'Mask-ILT-Cropped', row['Patient'], row['GT_im'], GT_ILT)\n",
        "  #Mask-AAA\n",
        "  #Cropped_AAA_path = save_image(path, 'Mask-AAA-Cropped', row['Patient'], row['GT_im'], GT_AAA)\n",
        "  #GT-wall\n",
        "  #Cropped_All_path = save_image(path, 'Mask-All-Cropped', row['Patient'], row['GT_im'], GT_all)\n",
        "\n",
        "  #return\n",
        "  return CTA_path, Wall_path, ILT_path, AAA_path, All_path #, Cropped_CTA_path, Cropped_Wall_path, Cropped_ILT_path, Cropped_AAA_path, Cropped_All_path\n",
        "\n",
        "#get all the 2D data\n",
        "def get_2D(row):\n",
        "  return sitk.GetArrayFromImage(sitk.ReadImage(row['Norm-CTA'])), sitk.GetArrayFromImage(sitk.ReadImage(row['Mask-Wall'])), sitk.GetArrayFromImage(sitk.ReadImage(row['Mask-ILT'])), sitk.GetArrayFromImage(sitk.ReadImage(row['Mask-AAA'])), sitk.GetArrayFromImage(sitk.ReadImage(row['Mask-All']))\n",
        "\n",
        "#save image\n",
        "def save_image_3D(path, type_name, patient, image):\n",
        "  #save file\n",
        "  if os.path.isdir(path + type_name) == False:\n",
        "    os.mkdir(path + type_name)\n",
        "  #save file\n",
        "  save_path = path + type_name + '/' + patient + '.nii.gz'\n",
        "  #write\n",
        "  sitk.WriteImage(image, save_path)\n",
        "  #return\n",
        "  return save_path\n",
        "\n",
        "#process 3d\n",
        "def process_3D(df, path = '/content/gdrive/MyDrive/AAA_Project/Masters-Thesis/AAA-Wall/data/3D/', spacing = (0.935546875, 0.935546875, 3.5)): #retry with 3.5 mm 0.9355 mm is what was displayed in the CT or the mask?\n",
        "\n",
        "  #get the 3D data\n",
        "  df_3D = df.drop(['CT_im', 'GT_im', 'CT', 'GT', 'Norm-CTA', 'Mask-Wall', 'Mask-ILT', 'Mask-AAA', 'Mask-All'], axis = 1).drop_duplicates()\n",
        "\n",
        "  #get all the patients this caused major issues (major revision)!\n",
        "  class_list = df_3D['Class'].to_list()\n",
        "  class_label_list = df_3D['Class_Label'].to_list()\n",
        "  wall_list = df_3D['Wall'].to_list()\n",
        "  wall_label_list = df_3D['Wall_Label'].to_list()\n",
        "  patient_list = df_3D['Patient'].to_list()\n",
        "\n",
        "  #collect\n",
        "  ls = []\n",
        "  #z\n",
        "  z = sitk.NormalizeImageFilter()\n",
        "  #iterate\n",
        "  for class_ls, class_label, wall, wall_label, patient in zip(class_list, class_label_list, wall_list, wall_label_list, patient_list):\n",
        "    #subset\n",
        "    df_temp = df[df['Patient'] == patient]\n",
        "    #apply the 2d\n",
        "    CTA, GT_wall, GT_ILT, GT_AAA, GT_all = zip(*df_temp.apply(get_2D, axis = 1))\n",
        "    #stack (in order!)\n",
        "    CTA_3D = np.stack(CTA)\n",
        "    GT_wall_3D = np.stack(GT_wall)\n",
        "    GT_ILT_3D = np.stack(GT_ILT)\n",
        "    GT_AAA_3D = np.stack(GT_AAA)\n",
        "    GT_all_3D = np.stack(GT_all)\n",
        "\n",
        "    #convert\n",
        "    CTA_3D = sitk.GetImageFromArray(CTA_3D)\n",
        "    GT_wall_3D = sitk.GetImageFromArray(GT_wall_3D)\n",
        "    GT_ILT_3D = sitk.GetImageFromArray(GT_ILT_3D)\n",
        "    GT_AAA_3D = sitk.GetImageFromArray(GT_AAA_3D)\n",
        "    GT_all_3D = sitk.GetImageFromArray(GT_all_3D)\n",
        "\n",
        "    #preserve spacing (copied and pasted from the CTA-2D; same spacing for all, 1 is the placeholder)\n",
        "    CTA_3D.SetSpacing(spacing)\n",
        "    GT_wall_3D.SetSpacing(spacing)\n",
        "    GT_ILT_3D.SetSpacing(spacing)\n",
        "    GT_AAA_3D.SetSpacing(spacing)\n",
        "    GT_all_3D.SetSpacing(spacing)\n",
        "\n",
        "    #norm\n",
        "    CTA_3D = z.Execute(CTA_3D)\n",
        "    #save\n",
        "    CTA_path = save_image_3D(path, 'Norm-CTA', patient, CTA_3D)\n",
        "    Wall_path = save_image_3D(path, 'Mask-Wall', patient, GT_wall_3D)\n",
        "    ILT_path = save_image_3D(path, 'Mask-ILT', patient, GT_ILT_3D)\n",
        "    AAA_path = save_image_3D(path, 'Mask-AAA', patient, GT_AAA_3D)\n",
        "    All_path = save_image_3D(path, 'Mask-All', patient, GT_all_3D)\n",
        "\n",
        "    #resample\n",
        "    CTA_3D_64 = resample_image_standardize_3D(CTA_3D, out_size = (64, 64, 64), is_label = False)\n",
        "    #norm\n",
        "    CTA_3D_64 = z.Execute(CTA_3D_64)\n",
        "    #resample\n",
        "    GT_wall_3D_64 = resample_image_standardize_3D(GT_wall_3D, out_size = (64, 64, 64), is_label = True)\n",
        "    #resample\n",
        "    GT_ILT_3D_64 = resample_image_standardize_3D(GT_ILT_3D, out_size = (64, 64, 64), is_label = True)\n",
        "    #resample\n",
        "    GT_AAA_3D_64 = resample_image_standardize_3D(GT_AAA_3D, out_size = (64, 64, 64), is_label = True)\n",
        "    #resample\n",
        "    GT_all_3D_64 = resample_image_standardize_3D(GT_all_3D, out_size = (64, 64, 64), is_label = True)\n",
        "\n",
        "    #save\n",
        "    CTA_path_64 = save_image_3D(path, 'Norm-CTA-64', patient, CTA_3D_64)\n",
        "    Wall_path_64 = save_image_3D(path, 'Mask-Wall-64', patient, GT_wall_3D_64)\n",
        "    ILT_path_64 = save_image_3D(path, 'Mask-ILT-64', patient, GT_ILT_3D_64)\n",
        "    AAA_path_64 = save_image_3D(path, 'Mask-AAA-64', patient, GT_AAA_3D_64)\n",
        "    All_path_64 = save_image_3D(path, 'Mask-All-64', patient, GT_all_3D_64)\n",
        "\n",
        "    #cropped data\n",
        "    CTA_3D, GT_wall_3D, GT_ILT_3D, GT_AAA_3D, GT_all_3D = cropper_3D(CTA_3D, GT_wall_3D, GT_ILT_3D, GT_AAA_3D, GT_all_3D)\n",
        "    #save the data to a folder for use\n",
        "    #norm\n",
        "    CTA_3D = z.Execute(CTA_3D)\n",
        "    #CTA\n",
        "    Cropped_CTA_path = save_image_3D(path, 'Norm-CTA-Cropped', patient, CTA_3D)\n",
        "    #Mask-Wall\n",
        "    Cropped_Wall_path = save_image_3D(path, 'Mask-Wall-Cropped', patient, GT_wall_3D)\n",
        "    #Mask-ILT\n",
        "    Cropped_ILT_path = save_image_3D(path, 'Mask-ILT-Cropped', patient, GT_ILT_3D)\n",
        "    #Mask-AAA\n",
        "    Cropped_AAA_path = save_image_3D(path, 'Mask-AAA-Cropped', patient, GT_AAA_3D)\n",
        "    #GT-wall\n",
        "    Cropped_All_path = save_image_3D(path, 'Mask-All-Cropped', patient, GT_all_3D)\n",
        "\n",
        "    #resample crop\n",
        "    CTA_3D_64 = resample_image_standardize_3D(CTA_3D, out_size = (64, 64, 64), is_label = False)\n",
        "    #norm\n",
        "    CTA_3D_64 = z.Execute(CTA_3D_64)\n",
        "    #resample crop\n",
        "    GT_wall_3D_64 = resample_image_standardize_3D(GT_wall_3D, out_size = (64, 64, 64), is_label = True)\n",
        "    #resample crop\n",
        "    GT_ILT_3D_64 = resample_image_standardize_3D(GT_ILT_3D, out_size = (64, 64, 64), is_label = True)\n",
        "    #resample crop\n",
        "    GT_AAA_3D_64 = resample_image_standardize_3D(GT_AAA_3D, out_size = (64, 64, 64), is_label = True)\n",
        "    #resample\n",
        "    GT_all_3D_64 = resample_image_standardize_3D(GT_all_3D, out_size = (64, 64, 64), is_label = True)\n",
        "    #save the data to a folder\n",
        "    #crop resample\n",
        "    Cropped_CTA_64_path = save_image_3D(path, 'Norm-CTA-Cropped-64', patient, CTA_3D_64)\n",
        "    #crop resample\n",
        "    Cropped_Wall_64_path = save_image_3D(path, 'Mask-Wall-Cropped-64', patient, GT_wall_3D_64)\n",
        "    #crop resample\n",
        "    Cropped_ILT_64_path = save_image_3D(path, 'Mask-ILT-Cropped-64', patient, GT_ILT_3D_64)\n",
        "    #crop resample\n",
        "    Cropped_AAA_64_path = save_image_3D(path, 'Mask-AAA-Cropped-64', patient, GT_AAA_3D_64)\n",
        "    #crop resample\n",
        "    Cropped_All_64_path = save_image_3D(path, 'Mask-All-Cropped-64', patient, GT_all_3D_64)\n",
        "\n",
        "    #return\n",
        "    ls.append([class_ls, class_label, wall, wall_label, patient,\n",
        "               CTA_path, Wall_path, ILT_path, AAA_path, All_path,\n",
        "               CTA_path_64, Wall_path_64, ILT_path_64, AAA_path_64, All_path_64,\n",
        "               Cropped_CTA_path, Cropped_Wall_path, Cropped_ILT_path, Cropped_AAA_path, Cropped_All_path,\n",
        "               Cropped_CTA_64_path, Cropped_Wall_64_path, Cropped_ILT_64_path, Cropped_AAA_64_path, Cropped_All_64_path\n",
        "               ])\n",
        "  #set\n",
        "  visualize = pd.DataFrame(ls, columns = ['Class', 'Class_Label', 'Wall', 'Wall_Label', 'Patient',\n",
        "                                          'Norm-CTA', 'Mask-Wall', 'Mask-ILT', 'Mask-AAA', 'Mask-All',\n",
        "                                          'Norm-CTA-64', 'Mask-Wall-64', 'Mask-ILT-64', 'Mask-AAA-64', 'Mask-All-64',\n",
        "                                          'Norm-CTA-Cropped', 'Mask-Wall-Cropped', 'Mask-ILT-Cropped', 'Mask-AAA-Cropped', 'Mask-All-Cropped',\n",
        "                                          'Norm-CTA-Cropped-64', 'Mask-Wall-Cropped-64', 'Mask-ILT-Cropped-64', 'Mask-AAA-Cropped-64', 'Mask-All-Cropped-64'\n",
        "                                          ])\n",
        "\n",
        "  #append\n",
        "  #df_3D = pd.concat([df_3D.reset_index(drop = True), visualize.reset_index(drop = True)], axis = 1)\n",
        "\n",
        "  df_3D = visualize.reset_index(drop = True)\n",
        "\n",
        "  #return\n",
        "  return df_3D\n",
        "\n",
        "#get the quality check sheet\n",
        "def quality_check_sheet(url, sheet):\n",
        "  wb = gc.open_by_url(url)\n",
        "  sheet = wb.worksheet(sheet)\n",
        "  data = sheet.get_all_values()\n",
        "  df = pd.DataFrame(data[1:])\n",
        "  df.columns = data[0]\n",
        "  return df\n",
        "\n",
        "#perform the quality check\n",
        "def perform_quality_check(df_quality, df_2D, df_3D, status = 'Filter Status'):\n",
        "\n",
        "  #none\n",
        "  if status is not None:\n",
        "    #get the good samples only\n",
        "    ls = df_quality[df_quality[status] == 'Good']['Patient'].to_list()\n",
        "    #2D\n",
        "    df_2D = df_2D[df_2D['Patient'].isin(ls)]\n",
        "    #3D\n",
        "    df_3D = df_3D[df_3D['Patient'].isin(ls)]\n",
        "  #return\n",
        "  return df_2D, df_3D\n",
        "\n",
        "#label the dataframes\n",
        "def df_label_split(df, train_patients, test_patients):\n",
        "  #specify the training and validation sets\n",
        "  df_train = df[df['Patient'].isin(train_patients)]\n",
        "  df_test = df[df['Patient'].isin(test_patients)]\n",
        "  #encode\n",
        "  df_train['DATA'] = 'TRAIN'\n",
        "  df_test['DATA'] = 'TEST'\n",
        "  #return\n",
        "  return pd.concat([df_train, df_test])\n"
      ],
      "metadata": {
        "id": "_YCTG9LfsUgE"
      },
      "execution_count": null,
      "outputs": []
    },
    {
      "cell_type": "code",
      "source": [
        "%%time\n",
        "#generate all the 2D data (~54 min)\n",
        "\n",
        "#get asymtomatic\n",
        "df_ad = get_ad('/content/gdrive/MyDrive/AAA_Project/Masters-Thesis/AAA-Wall/dataset/')\n",
        "#get symtomatic\n",
        "df_sd = get_sd('/content/gdrive/MyDrive/AAA_Project/Masters-Thesis/AAA-Wall/dataset/')\n",
        "#get all the data\n",
        "df = pd.concat([df_ad, df_sd])\n",
        "#get all the data\n",
        "#df['Norm-CTA'], df['Mask-Wall'], df['Mask-ILT'], df['Mask-AAA'], df['Mask-All'], df['Norm-CTA-Cropped'], df['Mask-Wall-Cropped'], df['Mask-ILT-Cropped'], df['Mask-AAA-Cropped'], df['Mask-All-Cropped'] = zip(*df.apply(preprocess_2D, axis = 1))\n",
        "df['Norm-CTA'], df['Mask-Wall'], df['Mask-ILT'], df['Mask-AAA'], df['Mask-All'] = zip(*df.apply(preprocess_2D, axis = 1))\n",
        "#save\n",
        "df.to_pickle('/content/gdrive/MyDrive/AAA_Project/Masters-Thesis/AAA-Wall/data/2D/data.pkl')"
      ],
      "metadata": {
        "id": "r46Np1PDsg7s",
        "colab": {
          "base_uri": "https://localhost:8080/"
        },
        "outputId": "5b775207-643f-4451-9bd4-43a086f451a5"
      },
      "execution_count": null,
      "outputs": [
        {
          "output_type": "stream",
          "name": "stdout",
          "text": [
            "CPU times: user 6min 39s, sys: 1min 16s, total: 7min 55s\n",
            "Wall time: 2h 26min 40s\n"
          ]
        }
      ]
    },
    {
      "cell_type": "code",
      "source": [
        "#select patients were missing?\n",
        "#df[df['Patient'] == 'GU001'].apply(preprocess_2D, axis = 1)"
      ],
      "metadata": {
        "id": "KROxKBtO3pw0"
      },
      "execution_count": null,
      "outputs": []
    },
    {
      "cell_type": "code",
      "source": [
        "#read in the pkl file\n",
        "df = pd.read_pickle('/content/gdrive/MyDrive/AAA_Project/Masters-Thesis/AAA-Wall/data/2D/data.pkl')"
      ],
      "metadata": {
        "id": "PN_3W9bLR_iF"
      },
      "execution_count": null,
      "outputs": []
    },
    {
      "cell_type": "code",
      "source": [
        "df_3D = pd.read_pickle('/content/gdrive/MyDrive/AAA_Project/Masters-Thesis/AAA-Wall/data/3D/data.pkl')"
      ],
      "metadata": {
        "id": "YSwsx95fSOCp"
      },
      "execution_count": null,
      "outputs": []
    },
    {
      "cell_type": "code",
      "source": [
        "%%time\n",
        "# 2 hours\n",
        "#go from the 2D dataset to the 3D dataset (includes the cropped versions) need to debug this section of the script (2 h)\n",
        "\n",
        "#read in the pkl file\n",
        "df = pd.read_pickle('/content/gdrive/MyDrive/AAA_Project/Masters-Thesis/AAA-Wall/data/2D/data.pkl')\n",
        "#get the corresponding 3D\n",
        "df_3D = process_3D(df)\n",
        "#save\n",
        "df_3D.to_pickle('/content/gdrive/MyDrive/AAA_Project/Masters-Thesis/AAA-Wall/data/3D/data.pkl')"
      ],
      "metadata": {
        "id": "7DSWShvMTm6K",
        "colab": {
          "base_uri": "https://localhost:8080/"
        },
        "outputId": "2808f018-7f23-4df1-d08a-690437d7861e"
      },
      "execution_count": null,
      "outputs": [
        {
          "output_type": "stream",
          "name": "stdout",
          "text": [
            "CPU times: user 11min 34s, sys: 2min 46s, total: 14min 21s\n",
            "Wall time: 1h 55min 3s\n"
          ]
        }
      ]
    },
    {
      "cell_type": "code",
      "source": [
        "#check\n",
        "patient_list = df_3D['Norm-CTA']\n",
        "for patient1, patient2 in zip(df_3D['Patient'].to_list(), patient_list):\n",
        "  if patient1 not in patient2:\n",
        "    print(patient1)\n"
      ],
      "metadata": {
        "id": "h5nUf20bVoaX"
      },
      "execution_count": null,
      "outputs": []
    },
    {
      "cell_type": "code",
      "source": [
        "#from the cropped 3d data generate the cropped 2d data (ensures the same frame of reference)\n",
        "#df_2D = pd.read_pickle('/content/gdrive/MyDrive/AAA_Project/Masters-Thesis/AAA-Wall/data/2D/data.pkl')\n",
        "#df_3D = pd.read_pickle('/content/gdrive/MyDrive/AAA_Project/Masters-Thesis/AAA-Wall/data/3D/data.pkl')"
      ],
      "metadata": {
        "id": "OJ59Yx1qiKvX"
      },
      "execution_count": null,
      "outputs": []
    },
    {
      "cell_type": "code",
      "source": [
        "#for 1 row\n",
        "#row = df_3D.iloc[0]\n",
        "#get z\n",
        "#z = sitk.NormalizeImageFilter()\n",
        "#get the image\n",
        "#image = sitk.GetArrayFromImage(sitk.ReadImage(row['Norm-CTA-Cropped']))\n",
        "#convert to ls\n",
        "#ls_image = np.split(image, indices_or_sections=image.shape[0], axis = 0)"
      ],
      "metadata": {
        "id": "cqUrbpZA6hVR"
      },
      "execution_count": null,
      "outputs": []
    },
    {
      "cell_type": "code",
      "source": [
        "def process_CTA(ls_image, path, type_name, patient, tag, df):\n",
        "  #prepare\n",
        "  df_temp = df[df['Patient'] == patient]\n",
        "  #list\n",
        "  tags = df_temp[tag].to_list()\n",
        "  #iterate\n",
        "  for image, tag in zip(ls_image, tags):\n",
        "    #get the image\n",
        "    im = sitk.GetImageFromArray(image[0])\n",
        "    #convert\n",
        "    im = resample_image_standardize(im, (512, 512), is_label = False)\n",
        "    #norm\n",
        "    im = z.Execute(im)\n",
        "    #save\n",
        "    return save_image(path, type_name, patient, tag, image)\n"
      ],
      "metadata": {
        "id": "dc6SwWCE9Qqd"
      },
      "execution_count": null,
      "outputs": []
    },
    {
      "cell_type": "code",
      "source": [
        "#some comments\n",
        "\n",
        "#DATA is for actual model inputs (z-normalized as well)\n",
        "#2d images of size 512x512 belong in there, including cropped must be 512x512 based off the 3d frame of reference\n",
        "#3d images of 64x64x64 belong in there as do the same for the cropped 64x64x64\n",
        "#but also have 3d for the original input dimensions and the original for the uncropped as well --> TorchIO\n",
        "\n",
        "#DATASET\n",
        "#belongs to configurations of data that cannot be directly used for model training\n",
        "#though TorchIO is a potential avenue from which this could be remedied"
      ],
      "metadata": {
        "id": "Qqqmak1qX0Dq"
      },
      "execution_count": null,
      "outputs": []
    },
    {
      "cell_type": "code",
      "source": [
        "#get new sizes\n",
        "def get_new_sizes(row, input_size = (128, 128, 64), path = '/content/gdrive/MyDrive/AAA_Project/Masters-Thesis/AAA-Wall/data/3D/', cropped = True):\n",
        "  #on each row\n",
        "  CTA = sitk.ReadImage(row['Norm-CTA'])\n",
        "  GT = sitk.ReadImage(row['Mask-Wall'])\n",
        "  #resize\n",
        "  CTA, GT = process_image_sizes(CTA, GT, input_size)\n",
        "  #save\n",
        "  CTA_path = save_image_3D(path, 'Norm-CTA-128-128-64', row['Patient'], CTA)\n",
        "  GT_path = save_image_3D(path, 'Mask-Wall-128-128-64', row['Patient'], GT)\n",
        "\n",
        "  if cropped:\n",
        "    #for each row\n",
        "    CTA = sitk.ReadImage(row['Norm-CTA-Cropped'])\n",
        "    GT = sitk.ReadImage(row['Mask-Wall-Cropped'])\n",
        "    #resize\n",
        "    CTA, GT = process_image_sizes(CTA, GT, input_size)\n",
        "    #save\n",
        "    cropped_CTA_path = save_image_3D(path, 'Norm-CTA-Cropped-128-128-64', row['Patient'], CTA)\n",
        "    cropped_GT_path = save_image_3D(path, 'Mask-Cropped-Wall-128-128-64', row['Patient'], GT)\n",
        "\n",
        "    return CTA_path, GT_path, cropped_CTA_path, cropped_GT_path\n",
        "  else:\n",
        "    return CTA_path, GT_path\n",
        "\n",
        "#proces image sizes\n",
        "def process_image_sizes(CTA, GT, GT_all, input_size, z = sitk.NormalizeImageFilter()):\n",
        "  #resample to 3D\n",
        "  CTA = resample_image_standardize_3D(CTA, out_size = input_size, is_label = False)\n",
        "  GT = resample_image_standardize_3D(GT, out_size = input_size, is_label = True)\n",
        "  GT_all = resample_image_standardize_3D(GT_all, out_size = input_size, is_label = True)\n",
        "  #for the CTA\n",
        "  CTA = z.Execute(CTA)\n",
        "  new_CTA = sitk.Cast(CTA, sitk.sitkFloat32) #important for torchio!!!\n",
        "  new_CTA.CopyInformation(CTA)\n",
        "  #return\n",
        "  return new_CTA, GT, GT_all\n",
        "\n",
        "#get new sizes\n",
        "def get_new_sizes2(row, input_size = (128, 128, 64), path = '/content/gdrive/MyDrive/AAA_Project/Masters-Thesis/AAA-Wall/data/3D/', cropped = True):\n",
        "  #on each row\n",
        "  CTA = sitk.ReadImage(row['Norm-CTA'])\n",
        "  GT = sitk.ReadImage(row['Mask-All'])\n",
        "  #resize\n",
        "  CTA, GT = process_image_sizes(CTA, GT, input_size)\n",
        "  #save\n",
        "  CTA_path = save_image_3D(path, 'Norm-CTA-128-128-64', row['Patient'], CTA)\n",
        "  GT_path = save_image_3D(path, 'Mask-All-128-128-64', row['Patient'], GT)\n",
        "\n",
        "  if cropped:\n",
        "    #for each row\n",
        "    CTA = sitk.ReadImage(row['Norm-CTA-Cropped'])\n",
        "    GT = sitk.ReadImage(row['Mask-All-Cropped'])\n",
        "    #resize\n",
        "    CTA, GT = process_image_sizes(CTA, GT, input_size)\n",
        "    #save\n",
        "    cropped_CTA_path = save_image_3D(path, 'Norm-CTA-Cropped-128-128-64', row['Patient'], CTA)\n",
        "    cropped_GT_path = save_image_3D(path, 'Mask-Cropped-All-128-128-64', row['Patient'], GT)\n",
        "\n",
        "    return CTA_path, GT_path, cropped_CTA_path, cropped_GT_path\n",
        "  else:\n",
        "    return CTA_path, GT_path\n",
        "\n",
        "#get new sizes\n",
        "def get_new_sizes3(row, input_size = (128, 128, 64), path = '/content/gdrive/MyDrive/AAA_Project/Masters-Thesis/AAA-Wall/data/3D/', cropped = False):\n",
        "  #on each row\n",
        "  CTA = sitk.ReadImage(row['Norm-CTA'])\n",
        "  GT = sitk.ReadImage(row['Mask-Wall'])\n",
        "  #resize\n",
        "  CTA, GT = process_image_sizes(CTA, GT, input_size)\n",
        "  #save\n",
        "  GT_path = save_image_3D(path, 'Mask-Wall-128-128-64', row['Patient'], GT)\n",
        "  #return\n",
        "  return GT_path\n",
        "\n",
        "#get new sizes dont want any cropping\n",
        "def get_new_sizes4(row, input_size = (512, 512, 64), path = '/content/gdrive/MyDrive/AAA_Project/Masters-Thesis/AAA-Wall/data/3D/'):\n",
        "  #on each row\n",
        "  CTA = sitk.ReadImage(row['Norm-CTA'])\n",
        "  GT = sitk.ReadImage(row['Mask-Wall'])\n",
        "  GT_all = sitk.ReadImage(row['Mask-All'])\n",
        "  #resize\n",
        "  CTA, GT, GT_all = process_image_sizes(CTA, GT, GT_all, input_size)\n",
        "  #save\n",
        "  CTA_path = save_image_3D(path, 'Norm-CTA-512-512-64', row['Patient'], CTA)\n",
        "  GT_path = save_image_3D(path, 'Mask-Wall-512-512-64', row['Patient'], GT)\n",
        "  GT_all_path = save_image_3D(path, 'Mask-All-512-512-64', row['Patient'], GT_all)\n",
        "\n",
        "  return CTA_path, GT_path, GT_all_path\n",
        "\n",
        "#get new sizes dont want any cropping\n",
        "def get_new_sizes5(row, input_size = (256, 256, 64), path = '/content/gdrive/MyDrive/AAA_Project/Masters-Thesis/AAA-Wall/data/3D/'):\n",
        "  #on each row\n",
        "  CTA = sitk.ReadImage(row['Norm-CTA'])\n",
        "  GT = sitk.ReadImage(row['Mask-Wall'])\n",
        "  GT_all = sitk.ReadImage(row['Mask-All'])\n",
        "  #resize\n",
        "  CTA, GT, GT_all = process_image_sizes(CTA, GT, GT_all, input_size)\n",
        "  #save\n",
        "  CTA_path = save_image_3D(path, 'Norm-CTA-256-256-64', row['Patient'], CTA)\n",
        "  GT_path = save_image_3D(path, 'Mask-Wall-256-256-64', row['Patient'], GT)\n",
        "  GT_all_path = save_image_3D(path, 'Mask-All-256-56-64', row['Patient'], GT_all)\n",
        "\n",
        "  return CTA_path, GT_path, GT_all_path"
      ],
      "metadata": {
        "id": "8RZhigSQxivx"
      },
      "execution_count": null,
      "outputs": []
    },
    {
      "cell_type": "code",
      "source": [
        "%%time\n",
        "#resized (add some additional sizes)\n",
        "#df_3d = pd.read_pickle('/content/gdrive/MyDrive/AAA_Project/Masters-Thesis/AAA-Wall/data/3D/data.pkl')\n",
        "#get new sizes and save in the data file\n",
        "#df_3d['Norm-CTA-128-128-64'], df_3d['Mask-Wall-128-128-64'], df_3d['Norm-CTA-Cropped-128-128-64'], df_3d['Mask-Cropped-Wall-128-128-64']  = zip(*df_3d.apply(get_new_sizes, axis = 1))\n",
        "#save\n",
        "#df_3d.to_pickle('/content/gdrive/MyDrive/AAA_Project/Masters-Thesis/AAA-Wall/data/3D/data.pkl')"
      ],
      "metadata": {
        "id": "Ht111doNxcSh",
        "colab": {
          "base_uri": "https://localhost:8080/"
        },
        "outputId": "e06e2c8a-9801-4e85-d423-127691c76bd1"
      },
      "execution_count": null,
      "outputs": [
        {
          "output_type": "stream",
          "name": "stdout",
          "text": [
            "CPU times: user 4 µs, sys: 1e+03 ns, total: 5 µs\n",
            "Wall time: 10.7 µs\n"
          ]
        }
      ]
    },
    {
      "cell_type": "code",
      "source": [
        "%%time\n",
        "#resized (add some additional sizes)/ some redundancy\n",
        "df_3d = pd.read_pickle('/content/gdrive/MyDrive/AAA_Project/Masters-Thesis/AAA-Wall/data/3D/data.pkl')\n",
        "#get new sizes and save in the data file\n",
        "df_3d['Norm-CTA-128-128-64'], df_3d['Mask-All-128-128-64'], df_3d['Norm-CTA-Cropped-128-128-64'], df_3d['Mask-Cropped-All-128-128-64']  = zip(*df_3d.apply(get_new_sizes2, axis = 1))\n",
        "#save\n",
        "df_3d.to_pickle('/content/gdrive/MyDrive/AAA_Project/Masters-Thesis/AAA-Wall/data/3D/data.pkl')"
      ],
      "metadata": {
        "id": "tphfoN1zcZlD",
        "colab": {
          "base_uri": "https://localhost:8080/"
        },
        "outputId": "22e32f3f-d4e9-41d3-98a2-99348925f55e"
      },
      "execution_count": null,
      "outputs": [
        {
          "output_type": "stream",
          "name": "stdout",
          "text": [
            "CPU times: user 6min 54s, sys: 5.5 s, total: 6min 59s\n",
            "Wall time: 7min 48s\n"
          ]
        }
      ]
    },
    {
      "cell_type": "code",
      "source": [
        "#other did not update previously\n",
        "df_3d = pd.read_pickle('/content/gdrive/MyDrive/AAA_Project/Masters-Thesis/AAA-Wall/data/3D/data.pkl')\n",
        "df_3d['Mask-Wall-128-128-64'] = df_3d.apply(get_new_sizes3, axis = 1)\n",
        "df_3d.to_pickle('/content/gdrive/MyDrive/AAA_Project/Masters-Thesis/AAA-Wall/data/3D/data.pkl')"
      ],
      "metadata": {
        "id": "8ySArhNVXCyJ"
      },
      "execution_count": null,
      "outputs": []
    },
    {
      "cell_type": "code",
      "source": [
        "#bigger data 23 min\n",
        "df_3d = pd.read_pickle('/content/gdrive/MyDrive/AAA_Project/Masters-Thesis/AAA-Wall/data/3D/data.pkl')\n",
        "df_3d['Norm-CTA-512-512-64'], df_3d['Mask-Wall-512-512-64'], df_3d['Mask-All-512-512-64'] = zip(*df_3d.apply(get_new_sizes4, axis = 1))\n",
        "df_3d.to_pickle('/content/gdrive/MyDrive/AAA_Project/Masters-Thesis/AAA-Wall/data/3D/data.pkl')"
      ],
      "metadata": {
        "id": "v91GnVuUivEw"
      },
      "execution_count": null,
      "outputs": []
    },
    {
      "cell_type": "code",
      "source": [
        "#more medium data\n",
        "df_3d = pd.read_pickle('/content/gdrive/MyDrive/AAA_Project/Masters-Thesis/AAA-Wall/data/3D/data.pkl')\n",
        "df_3d['Norm-CTA-256-256-64'], df_3d['Mask-Wall-256-256-64'], df_3d['Mask-All-256-256-64'] = zip(*df_3d.apply(get_new_sizes5, axis = 1))\n",
        "df_3d.to_pickle('/content/gdrive/MyDrive/AAA_Project/Masters-Thesis/AAA-Wall/data/3D/data.pkl')"
      ],
      "metadata": {
        "id": "Czfef1zqyshK"
      },
      "execution_count": null,
      "outputs": []
    },
    {
      "cell_type": "code",
      "source": [
        "#do not delete this!\n",
        "random_state = 24 #set to random state 24 fo final round of experiments"
      ],
      "metadata": {
        "id": "fIpPrLqaUS4L"
      },
      "execution_count": null,
      "outputs": []
    },
    {
      "cell_type": "code",
      "source": [
        "#generate the 3 different datasets (can rerun assuming same stratification inputs & data order & random state)/ do not alter!!\n",
        "\n",
        "#perform the quality check (if desired)\n",
        "df_quality = quality_check_sheet('https://docs.google.com/spreadsheets/d/10TMbEwcVMtO6Ly3U1pIzpaxRiPrdTrI7YNm-Bxsi5YU/edit#gid=0', 'Final')\n",
        "df_2d = pd.read_pickle('/content/gdrive/MyDrive/AAA_Project/Masters-Thesis/AAA-Wall/data/2D/data.pkl')\n",
        "df_3d = pd.read_pickle('/content/gdrive/MyDrive/AAA_Project/Masters-Thesis/AAA-Wall/data/3D/data.pkl')\n",
        "\n",
        "df_2d, df_3d = perform_quality_check(df_quality, df_2d, df_3d, status = None) #status changes\n",
        "\n",
        "#split at the patient-level\n",
        "train_patients, test_patients = train_test_split(\n",
        "    df_3d['Patient'].to_list(),\n",
        "    train_size = 0.6,\n",
        "    stratify = df_3d[['Class_Label', 'Wall_Label']],\n",
        "    random_state = random_state,\n",
        "    shuffle = True\n",
        "    )\n",
        "\n",
        "#encode\n",
        "df_2d = df_label_split(df_2d, train_patients, test_patients)\n",
        "df_3d = df_label_split(df_3d, train_patients, test_patients)\n",
        "\n",
        "#save the splits somewhere\n",
        "df_2d.to_pickle('/content/gdrive/MyDrive/AAA_Project/Masters-Thesis/AAA-Wall/data/2D/data_split.pkl')\n",
        "df_3d.to_pickle('/content/gdrive/MyDrive/AAA_Project/Masters-Thesis/AAA-Wall/data/3D/data_split.pkl')"
      ],
      "metadata": {
        "id": "k7vcavmngStD",
        "colab": {
          "base_uri": "https://localhost:8080/"
        },
        "outputId": "c8e72ae8-b7f7-46e2-ea6c-f808d4df21ab"
      },
      "execution_count": null,
      "outputs": [
        {
          "output_type": "stream",
          "name": "stderr",
          "text": [
            "/usr/local/lib/python3.7/dist-packages/ipykernel_launcher.py:452: SettingWithCopyWarning: \n",
            "A value is trying to be set on a copy of a slice from a DataFrame.\n",
            "Try using .loc[row_indexer,col_indexer] = value instead\n",
            "\n",
            "See the caveats in the documentation: https://pandas.pydata.org/pandas-docs/stable/user_guide/indexing.html#returning-a-view-versus-a-copy\n",
            "/usr/local/lib/python3.7/dist-packages/ipykernel_launcher.py:453: SettingWithCopyWarning: \n",
            "A value is trying to be set on a copy of a slice from a DataFrame.\n",
            "Try using .loc[row_indexer,col_indexer] = value instead\n",
            "\n",
            "See the caveats in the documentation: https://pandas.pydata.org/pandas-docs/stable/user_guide/indexing.html#returning-a-view-versus-a-copy\n"
          ]
        }
      ]
    },
    {
      "cell_type": "code",
      "source": [
        "#generate the 3 different datasets\n",
        "\n",
        "#perform the quality check (if desired)\n",
        "df_quality = quality_check_sheet('https://docs.google.com/spreadsheets/d/10TMbEwcVMtO6Ly3U1pIzpaxRiPrdTrI7YNm-Bxsi5YU/edit#gid=0', 'Final')\n",
        "df_2d = pd.read_pickle('/content/gdrive/MyDrive/AAA_Project/Masters-Thesis/AAA-Wall/data/2D/data.pkl')\n",
        "df_3d = pd.read_pickle('/content/gdrive/MyDrive/AAA_Project/Masters-Thesis/AAA-Wall/data/3D/data.pkl')\n",
        "\n",
        "df_2d, df_3d = perform_quality_check(df_quality, df_2d, df_3d, status = 'Status') #status changes\n",
        "\n",
        "#split at the patient-level\n",
        "train_patients, test_patients = train_test_split(\n",
        "    df_3d['Patient'].to_list(),\n",
        "    train_size = 0.54,\n",
        "    stratify = df_3d[['Class_Label', 'Wall_Label']],\n",
        "    random_state = random_state,\n",
        "    shuffle = True\n",
        "    )\n",
        "\n",
        "#encode\n",
        "df_2d = df_label_split(df_2d, train_patients, test_patients)\n",
        "df_3d = df_label_split(df_3d, train_patients, test_patients)\n",
        "\n",
        "#save the splits somewhere\n",
        "df_2d.to_pickle('/content/gdrive/MyDrive/AAA_Project/Masters-Thesis/AAA-Wall/data/2D/data_status_split.pkl')\n",
        "df_3d.to_pickle('/content/gdrive/MyDrive/AAA_Project/Masters-Thesis/AAA-Wall/data/3D/data_status_split.pkl')"
      ],
      "metadata": {
        "colab": {
          "base_uri": "https://localhost:8080/"
        },
        "id": "unMdKBxTsWE0",
        "outputId": "5a40c03d-9c07-4908-c0ce-26064e0aebd6"
      },
      "execution_count": null,
      "outputs": [
        {
          "output_type": "stream",
          "name": "stderr",
          "text": [
            "/usr/local/lib/python3.7/dist-packages/ipykernel_launcher.py:452: SettingWithCopyWarning: \n",
            "A value is trying to be set on a copy of a slice from a DataFrame.\n",
            "Try using .loc[row_indexer,col_indexer] = value instead\n",
            "\n",
            "See the caveats in the documentation: https://pandas.pydata.org/pandas-docs/stable/user_guide/indexing.html#returning-a-view-versus-a-copy\n",
            "/usr/local/lib/python3.7/dist-packages/ipykernel_launcher.py:453: SettingWithCopyWarning: \n",
            "A value is trying to be set on a copy of a slice from a DataFrame.\n",
            "Try using .loc[row_indexer,col_indexer] = value instead\n",
            "\n",
            "See the caveats in the documentation: https://pandas.pydata.org/pandas-docs/stable/user_guide/indexing.html#returning-a-view-versus-a-copy\n"
          ]
        }
      ]
    },
    {
      "cell_type": "code",
      "source": [
        "#generate the 3 different datasets\n",
        "\n",
        "#perform the quality check (if desired)\n",
        "df_quality = quality_check_sheet('https://docs.google.com/spreadsheets/d/10TMbEwcVMtO6Ly3U1pIzpaxRiPrdTrI7YNm-Bxsi5YU/edit#gid=0', 'Final')\n",
        "df_2d = pd.read_pickle('/content/gdrive/MyDrive/AAA_Project/Masters-Thesis/AAA-Wall/data/2D/data.pkl')\n",
        "df_3d = pd.read_pickle('/content/gdrive/MyDrive/AAA_Project/Masters-Thesis/AAA-Wall/data/3D/data.pkl')\n",
        "\n",
        "df_2d, df_3d = perform_quality_check(df_quality, df_2d, df_3d, status = 'Filter Status') #status changes\n",
        "\n",
        "#split at the patient-level\n",
        "train_patients, test_patients = train_test_split(\n",
        "    df_3d['Patient'].to_list(),\n",
        "    train_size = 0.55,\n",
        "    stratify = df_3d[['Class_Label', 'Wall_Label']],\n",
        "    random_state = random_state,\n",
        "    shuffle = True\n",
        "    )\n",
        "\n",
        "#encode\n",
        "df_2d = df_label_split(df_2d, train_patients, test_patients)\n",
        "df_3d = df_label_split(df_3d, train_patients, test_patients)\n",
        "\n",
        "#save the splits somewhere\n",
        "df_2d.to_pickle('/content/gdrive/MyDrive/AAA_Project/Masters-Thesis/AAA-Wall/data/2D/data_filter_status_split.pkl')\n",
        "df_3d.to_pickle('/content/gdrive/MyDrive/AAA_Project/Masters-Thesis/AAA-Wall/data/3D/data_filter_status_split.pkl')"
      ],
      "metadata": {
        "colab": {
          "base_uri": "https://localhost:8080/"
        },
        "id": "UcR84uzvs3Bi",
        "outputId": "34952f6c-1bcb-48a8-b207-d2f6cafc4eaa"
      },
      "execution_count": null,
      "outputs": [
        {
          "output_type": "stream",
          "name": "stderr",
          "text": [
            "/usr/local/lib/python3.7/dist-packages/ipykernel_launcher.py:452: SettingWithCopyWarning: \n",
            "A value is trying to be set on a copy of a slice from a DataFrame.\n",
            "Try using .loc[row_indexer,col_indexer] = value instead\n",
            "\n",
            "See the caveats in the documentation: https://pandas.pydata.org/pandas-docs/stable/user_guide/indexing.html#returning-a-view-versus-a-copy\n",
            "/usr/local/lib/python3.7/dist-packages/ipykernel_launcher.py:453: SettingWithCopyWarning: \n",
            "A value is trying to be set on a copy of a slice from a DataFrame.\n",
            "Try using .loc[row_indexer,col_indexer] = value instead\n",
            "\n",
            "See the caveats in the documentation: https://pandas.pydata.org/pandas-docs/stable/user_guide/indexing.html#returning-a-view-versus-a-copy\n"
          ]
        }
      ]
    },
    {
      "cell_type": "code",
      "source": [
        "#get more image resolutions of the wall and original CTA\n",
        "#read in the 3d\n",
        "df = pd.read_pickle('/content/gdrive/MyDrive/AAA_Project/Masters-Thesis/AAA-Wall/data/3D/data_split.pkl')"
      ],
      "metadata": {
        "id": "RRZbMXtoxMrB"
      },
      "execution_count": null,
      "outputs": []
    },
    {
      "cell_type": "code",
      "source": [
        "df.columns"
      ],
      "metadata": {
        "colab": {
          "base_uri": "https://localhost:8080/"
        },
        "id": "PxIMg2UVCQga",
        "outputId": "34803c9b-39d5-4b6c-97ea-f10e0255dd8b"
      },
      "execution_count": null,
      "outputs": [
        {
          "output_type": "execute_result",
          "data": {
            "text/plain": [
              "Index(['Class', 'Class_Label', 'Wall', 'Wall_Label', 'Patient', 'Norm-CTA',\n",
              "       'Mask-Wall', 'Mask-ILT', 'Mask-AAA', 'Mask-All', 'Norm-CTA-64',\n",
              "       'Mask-Wall-64', 'Mask-ILT-64', 'Mask-AAA-64', 'Mask-All-64',\n",
              "       'Norm-CTA-Cropped', 'Mask-Wall-Cropped', 'Mask-ILT-Cropped',\n",
              "       'Mask-AAA-Cropped', 'Mask-All-Cropped', 'Norm-CTA-Cropped-64',\n",
              "       'Mask-Wall-Cropped-64', 'Mask-ILT-Cropped-64', 'Mask-AAA-Cropped-64',\n",
              "       'Mask-All-Cropped-64', 'Norm-CTA-128-128-64', 'Mask-All-128-128-64',\n",
              "       'Norm-CTA-Cropped-128-128-64', 'Mask-Cropped-All-128-128-64',\n",
              "       'Mask-Wall-128-128-64', 'Norm-CTA-512-512-64', 'Mask-Wall-512-512-64',\n",
              "       'Mask-All-512-512-64', 'Norm-CTA-256-256-64', 'Mask-Wall-256-256-64',\n",
              "       'Mask-All-256-256-64', 'DATA'],\n",
              "      dtype='object')"
            ]
          },
          "metadata": {},
          "execution_count": 12
        }
      ]
    },
    {
      "cell_type": "code",
      "source": [
        "df[df['DATA'] == 'TEST']['Wall_Label'].value_counts()"
      ],
      "metadata": {
        "id": "ghqQRXQsxVoi",
        "colab": {
          "base_uri": "https://localhost:8080/"
        },
        "outputId": "b6bf0617-e92f-4814-8999-d7e98a16b4d6"
      },
      "execution_count": null,
      "outputs": [
        {
          "output_type": "execute_result",
          "data": {
            "text/plain": [
              "0    25\n",
              "1    21\n",
              "2     4\n",
              "Name: Wall_Label, dtype: int64"
            ]
          },
          "metadata": {},
          "execution_count": 30
        }
      ]
    },
    {
      "cell_type": "code",
      "source": [
        "#check\n",
        "patient_list = df['Norm-CTA-128-128-64']\n",
        "for patient1, patient2 in zip(df['Patient'].to_list(), patient_list):\n",
        "  if patient1 not in patient2:\n",
        "    print(patient1)"
      ],
      "metadata": {
        "id": "-mvOnPUZZHJm"
      },
      "execution_count": null,
      "outputs": []
    },
    {
      "cell_type": "code",
      "source": [
        "64*64*64"
      ],
      "metadata": {
        "colab": {
          "base_uri": "https://localhost:8080/"
        },
        "id": "deWGSkNDxROS",
        "outputId": "09f3cfd4-9657-4a20-8bb4-13548b3fdfd9"
      },
      "execution_count": null,
      "outputs": [
        {
          "output_type": "execute_result",
          "data": {
            "text/plain": [
              "262144"
            ]
          },
          "metadata": {},
          "execution_count": 13
        }
      ]
    },
    {
      "cell_type": "code",
      "source": [
        "512*512/(64*64)"
      ],
      "metadata": {
        "colab": {
          "base_uri": "https://localhost:8080/"
        },
        "id": "An5GqbtsxTZa",
        "outputId": "7bdf386a-4915-4a0b-c19d-313283569f1f"
      },
      "execution_count": null,
      "outputs": [
        {
          "output_type": "execute_result",
          "data": {
            "text/plain": [
              "64.0"
            ]
          },
          "metadata": {},
          "execution_count": 16
        }
      ]
    }
  ]
}
